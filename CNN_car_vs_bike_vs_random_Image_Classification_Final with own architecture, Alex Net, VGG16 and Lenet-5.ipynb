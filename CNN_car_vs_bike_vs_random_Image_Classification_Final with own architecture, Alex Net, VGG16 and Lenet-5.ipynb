{
  "nbformat": 4,
  "nbformat_minor": 0,
  "metadata": {
    "colab": {
      "name": "CNN car vs bike vs random Image Classification_Final.ipynb",
      "provenance": [],
      "collapsed_sections": [],
      "include_colab_link": true
    },
    "kernelspec": {
      "name": "python3",
      "display_name": "Python 3"
    },
    "accelerator": "GPU"
  },
  "cells": [
    {
      "cell_type": "markdown",
      "metadata": {
        "id": "view-in-github",
        "colab_type": "text"
      },
      "source": [
        "<a href=\"https://colab.research.google.com/github/Shuvamjoy34/NumberCrunchers/blob/master/CNN_car_vs_bike_vs_random_Image_Classification_Final%20with%20own%20architecture%2C%20Alex%20Net%2C%20VGG16%20and%20Lenet-5.ipynb\" target=\"_parent\"><img src=\"https://colab.research.google.com/assets/colab-badge.svg\" alt=\"Open In Colab\"/></a>"
      ]
    },
    {
      "cell_type": "markdown",
      "metadata": {
        "id": "anIWn3g4IiBr"
      },
      "source": [
        "# **Convolutional Neural Network Based Car vs Bike vs Random Images Multi Class Classification**(Own Architechture,AlexNet,VGG16 and LeNet-5)\n"
      ]
    },
    {
      "cell_type": "markdown",
      "metadata": {
        "id": "vHQrsv4mJQSW"
      },
      "source": [
        "**Importing required python packages**"
      ]
    },
    {
      "cell_type": "code",
      "metadata": {
        "id": "1IwzPSB_5BdE"
      },
      "source": [
        "from PIL import Image\n",
        "import numpy as np\n",
        "import os\n",
        "import cv2\n",
        "import keras\n",
        "from keras.utils import np_utils\n",
        "from keras.models import Sequential\n",
        "from keras.layers import Conv2D,MaxPooling2D,Dense,Flatten,Dropout\n",
        "import numpy as np # linear algebra\n",
        "import pandas as pd # data processing, CSV file I/O (e.g. pd.read_csv)\n",
        "import os\n",
        "import matplotlib.pyplot as plt\n",
        "%matplotlib inline\n",
        "from keras.preprocessing.image import ImageDataGenerator\n",
        "from sklearn.model_selection import train_test_split\n",
        "import seaborn as sns\n",
        "from keras.utils.data_utils import Sequence\n",
        "from imblearn.over_sampling import RandomOverSampler\n",
        "from imblearn.keras import balanced_batch_generator\n",
        "import numpy as np # linear algebra\n",
        "import pandas as pd # data processing, CSV file I/O (e.g. pd.read_csv)\n",
        "import keras \n",
        "\n",
        "from tqdm import tqdm\n",
        "import os\n",
        "from sklearn.model_selection import train_test_split\n",
        "from cv2 import cv2\n",
        "from PIL import Image\n",
        "import tensorflow as tf\n",
        "from matplotlib import pyplot as plt\n",
        "\n",
        "from keras.layers import Dense, Dropout, Flatten, Input, ZeroPadding2D\n",
        "from keras.layers.normalization import BatchNormalization\n",
        "from keras.preprocessing.image import ImageDataGenerator, array_to_img, img_to_array, load_img\n",
        "from keras.preprocessing import image\n",
        "from keras.utils import plot_model\n",
        "from keras.models import Model\n",
        "from keras.layers.convolutional import Conv2D\n",
        "from keras.layers.pooling import MaxPooling2D\n",
        "from numpy import array \n",
        "from keras import regularizers\n",
        "from keras import optimizers\n",
        "from keras.models import load_model\n",
        "from keras.callbacks import EarlyStopping, ReduceLROnPlateau, ModelCheckpoint\n",
        "from PIL import ImageFile\n",
        "ImageFile.LOAD_TRUNCATED_IMAGES = True\n",
        "\n",
        "#config = tf.ConfigProto()\n",
        "#config.gpu_options.allow_growth = True\n",
        "#sess = tf.Session(config=config)"
      ],
      "execution_count": null,
      "outputs": []
    },
    {
      "cell_type": "markdown",
      "metadata": {
        "id": "49hqPMWwL2gC"
      },
      "source": [
        "**Connecting google colab notebook to my google drive**"
      ]
    },
    {
      "cell_type": "code",
      "metadata": {
        "id": "Ws4O_ErfJ2Dh",
        "outputId": "f332eea8-e21a-4618-c4cf-5ad1705e967b",
        "colab": {
          "base_uri": "https://localhost:8080/",
          "height": 35
        }
      },
      "source": [
        "from google.colab import drive\n",
        "drive.mount('/content/drive')"
      ],
      "execution_count": null,
      "outputs": [
        {
          "output_type": "stream",
          "text": [
            "Drive already mounted at /content/drive; to attempt to forcibly remount, call drive.mount(\"/content/drive\", force_remount=True).\n"
          ],
          "name": "stdout"
        }
      ]
    },
    {
      "cell_type": "markdown",
      "metadata": {
        "id": "V4vi8xaKMvbj"
      },
      "source": [
        "**Importing the image files with JPG format**\n",
        "\n",
        "\n",
        "**Resizing and Labelling the images**\n",
        "\n",
        "\n"
      ]
    },
    {
      "cell_type": "code",
      "metadata": {
        "id": "xvMbsJ3t5Pec"
      },
      "source": [
        "data=[]\n",
        "labels=[]\n",
        "car=os.listdir(\"/content/drive/My Drive/Images/car/\")\n",
        "for cars in car:\n",
        "    try:\n",
        "        image=cv2.imread(\"/content/drive/My Drive/Images/car/\"+ cars)\n",
        "        image_from_array = Image.fromarray(image, 'RGB')\n",
        "        size_image = image_from_array.resize((128,128))\n",
        "        data.append(np.array(size_image))\n",
        "        labels.append(0)\n",
        "    except AttributeError:\n",
        "        print(\"\")\n",
        "\n",
        "bike=os.listdir(\"/content/drive/My Drive/Images/bike/\")\n",
        "for bikes in bike:\n",
        "    try:\n",
        "        image=cv2.imread(\"/content/drive/My Drive/Images/bike/\"+ bikes)\n",
        "        image_from_array = Image.fromarray(image, 'RGB')\n",
        "        size_image = image_from_array.resize((128,128))\n",
        "        data.append(np.array(size_image))\n",
        "        labels.append(1)\n",
        "    except AttributeError:\n",
        "        print(\"\")\n",
        "random=os.listdir(\"/content/drive/My Drive/Images/random/\")\n",
        "for randoms in random:\n",
        "    try:\n",
        "        image=cv2.imread(\"/content/drive/My Drive/Images/random/\"+ randoms)\n",
        "        image_from_array = Image.fromarray(image, 'RGB')\n",
        "        size_image = image_from_array.resize((128,128))\n",
        "        data.append(np.array(size_image))\n",
        "        labels.append(2)\n",
        "    except AttributeError:\n",
        "        print(\"\")"
      ],
      "execution_count": null,
      "outputs": []
    },
    {
      "cell_type": "code",
      "metadata": {
        "id": "e5VbX_iG5tDU"
      },
      "source": [
        "images=np.array(data)\n",
        "labels=np.array(labels)"
      ],
      "execution_count": null,
      "outputs": []
    },
    {
      "cell_type": "code",
      "metadata": {
        "id": "BpIgw9cX7Brg"
      },
      "source": [
        "s=np.arange(images.shape[0])\n",
        "np.random.shuffle(s)\n",
        "images=images[s]\n",
        "labels=labels[s]\n",
        "num_classes=len(np.unique(labels))\n",
        "len_data=len(images)"
      ],
      "execution_count": null,
      "outputs": []
    },
    {
      "cell_type": "markdown",
      "metadata": {
        "id": "2Ul0FTN2OW71"
      },
      "source": [
        "**Diving the image dataset into training, validation and testing dataset**"
      ]
    },
    {
      "cell_type": "code",
      "metadata": {
        "id": "8KuERdWF7C2h",
        "outputId": "6fb0090b-b51c-4ade-9c31-d0b632e1c3c7",
        "colab": {
          "base_uri": "https://localhost:8080/",
          "height": 336
        }
      },
      "source": [
        "images =images.astype(np.float32)\n",
        "images = images/255\n",
        "\n",
        "train_x , x , train_y , y = train_test_split(images , labels , \n",
        "                                            test_size = 0.2 ,\n",
        "                                            random_state = 111)\n",
        "\n",
        "eval_x , test_x , eval_y , test_y = train_test_split(x , y , \n",
        "                                                    test_size = 0.5 , \n",
        "                                                    random_state = 111)\n",
        "\n",
        "plt.figure(1 , figsize = (15 ,5))\n",
        "n = 0 \n",
        "for z , j in zip([train_y , eval_y , test_y] , ['train labels','eval labels','test labels']):\n",
        "    n += 1\n",
        "    plt.subplot(1 , 3  , n)\n",
        "    sns.countplot(x = z )\n",
        "    plt.title(j)\n",
        "plt.show()"
      ],
      "execution_count": null,
      "outputs": [
        {
          "output_type": "display_data",
          "data": {
            "image/png": "[encoded data removed]",
            "text/plain": [
              "<Figure size 1080x360 with 3 Axes>"
            ]
          },
          "metadata": {
            "tags": [],
            "needs_background": "light"
          }
        }
      ]
    },
    {
      "cell_type": "code",
      "metadata": {
        "id": "m7FXYtXDRP6d"
      },
      "source": [
        "x=x.reshape(x.shape[0], -1)\n",
        "y=y.reshape(y.shape[0], -1)\n",
        "\n",
        "train_x=train_x.reshape(train_x.shape[0], -1)\n",
        "train_y=train_y.reshape(train_y.shape[0], -1)\n",
        "eval_x=eval_x.reshape(eval_x.shape[0], -1)\n",
        "eval_y=eval_y.reshape(eval_y.shape[0], -1)\n"
      ],
      "execution_count": null,
      "outputs": []
    },
    {
      "cell_type": "code",
      "metadata": {
        "id": "e4WA6XozR4RF",
        "outputId": "4a56bd61-32f3-4be1-8eae-e8ba2b2a32a3",
        "colab": {
          "base_uri": "https://localhost:8080/",
          "height": 126
        }
      },
      "source": [
        "\n",
        "#from imblearn.over_sampling import SMOTE\n",
        "#Over-sampling: SMOTE\n",
        "#SMOTE (Synthetic Minority Oversampling TEchnique) consists of synthesizing elements for the minority class, \n",
        "#based on those that already exist. It works randomly picking a point from the minority class and computing \n",
        "#the k-nearest neighbors for this point.The synthetic points are added between the chosen point and its neighbors.\n",
        "#We'll use ratio='minority' to resample the minority class.\n",
        "smote = SMOTE('minority',kind='regular',k_neighbors=2)\n",
        "\n",
        "#train_x_sm, train_y_sm = smote.fit_sample(train_x,train_y)\n",
        "#print(train_x_sm.shape, train_y_sm.shape)"
      ],
      "execution_count": null,
      "outputs": [
        {
          "output_type": "stream",
          "text": [
            "(102, 49152) (102,)\n"
          ],
          "name": "stdout"
        },
        {
          "output_type": "stream",
          "text": [
            "/usr/local/lib/python3.6/dist-packages/sklearn/utils/validation.py:760: DataConversionWarning: A column-vector y was passed when a 1d array was expected. Please change the shape of y to (n_samples, ), for example using ravel().\n",
            "  y = column_or_1d(y, warn=True)\n",
            "/usr/local/lib/python3.6/dist-packages/sklearn/utils/deprecation.py:87: FutureWarning: Function safe_indexing is deprecated; safe_indexing is deprecated in version 0.22 and will be removed in version 0.24.\n",
            "  warnings.warn(msg, category=FutureWarning)\n"
          ],
          "name": "stderr"
        }
      ]
    },
    {
      "cell_type": "markdown",
      "metadata": {
        "id": "4GuPx6wdTv3Y"
      },
      "source": [
        "**Encoding the labels of the target class of training,validation and testing dataset from(0,1,2) to (0,1) where 1 pops up when there is a class in the array else 0 pops up**"
      ]
    },
    {
      "cell_type": "code",
      "metadata": {
        "id": "OqGsbD8a_DsY"
      },
      "source": [
        "from sklearn.preprocessing import LabelBinarizer\n",
        "lb = LabelBinarizer()\n",
        "train_y = lb.fit_transform(train_y)\n",
        "test_y = lb.transform(test_y)\n",
        "eval_y = lb.transform(eval_y)\n"
      ],
      "execution_count": null,
      "outputs": []
    },
    {
      "cell_type": "code",
      "metadata": {
        "id": "_QuZ9pYQLquy"
      },
      "source": [
        "from tensorflow.python.keras import regularizers\n",
        "from keras.layers.normalization import BatchNormalization\n",
        "#kernel_regularizer=regularizers.l2(0.05)\n"
      ],
      "execution_count": null,
      "outputs": []
    },
    {
      "cell_type": "markdown",
      "metadata": {
        "id": "ACWg91qrU_Qf"
      },
      "source": [
        "**Creating a basic Convolutional Neural Network architecture and using Random Search and Grid Search to find the best Hyper Parameters**"
      ]
    },
    {
      "cell_type": "code",
      "metadata": {
        "id": "RTaPHgBu_ULu"
      },
      "source": [
        "from sklearn.model_selection import GridSearchCV\n",
        "from keras.models import Sequential\n",
        "from keras.layers import Dense\n",
        "from keras.wrappers.scikit_learn import KerasClassifier\n",
        "\n",
        "def create_classifier(activation,dropout_rate_opts,optimizer='adam'):\n",
        "\n",
        "#BasicConvNet\n",
        "    classifier = Sequential()\n",
        "\n",
        "    classifier.add(Conv2D(filters=32,kernel_size=(3,3),padding='same',activation=activation, input_shape=(128,128,3)))\n",
        "    keras.layers.BatchNormalization()\n",
        "    classifier.add(MaxPooling2D(pool_size=(2,2)))\n",
        "\n",
        "    classifier.add(Conv2D(filters=48,kernel_size=(3,3),padding='valid',activation=activation, kernel_regularizer=regularizers.l2(0.05)))\n",
        "    keras.layers.BatchNormalization()\n",
        "    classifier.add(MaxPooling2D(pool_size=(2,2)))\n",
        "\n",
        "    classifier.add(Conv2D(filters=256,kernel_size=(3,3),padding='valid',activation=activation, kernel_regularizer=regularizers.l2(0.05)))\n",
        "    keras.layers.BatchNormalization()\n",
        "    classifier.add(MaxPooling2D(pool_size=(2,2)))\n",
        "\n",
        "    classifier.add(Dropout(dropout_rate_opts))\n",
        "\n",
        "\n",
        "    classifier.add(Flatten())# Flattening the \n",
        "\n",
        "    #classifier.add(Dense(200,activation=\"relu\")) #200 is the number of nuerons in hidden layers\n",
        "    classifier.add(Dense(256,activation=activation))\n",
        "    classifier.add(Dense(84,activation=activation))\n",
        "    #classifier.add(Dense(32,activation=activation))  \n",
        "\n",
        "    classifier.add(Dropout(dropout_rate_opts))\n",
        "\n",
        "\n",
        "\n",
        "    classifier.add(Dense(3,activation=\"softmax\"))  #3 represent output layer neurons for three different classes \n",
        "\n",
        "    classifier.summary()\n",
        "    classifier.compile(loss='categorical_crossentropy', optimizer=\"adam\", metrics=['accuracy'])\n",
        "\n",
        "    return classifier"
      ],
      "execution_count": null,
      "outputs": []
    },
    {
      "cell_type": "code",
      "metadata": {
        "id": "FdAM3WSHNyEV"
      },
      "source": [
        "from tensorflow.keras.wrappers.scikit_learn import KerasClassifier\n",
        "from sklearn.model_selection import RandomizedSearchCV"
      ],
      "execution_count": null,
      "outputs": []
    },
    {
      "cell_type": "code",
      "metadata": {
        "id": "KqrIJvn2Og0O",
        "outputId": "163ec931-aa8c-4f3d-e746-91c6a8f9266a",
        "colab": {
          "base_uri": "https://localhost:8080/",
          "height": 35
        }
      },
      "source": [
        "_activations=['tanh','relu','selu']\n",
        "_optimizers=['sgd', 'adam']\n",
        "dropout_rate_opts  = [0,  0.2,  0.5]\n",
        "_batch_size=[16,32,64]\n",
        "\n",
        "params=dict(activation=_activations,\n",
        "            optimizer=_optimizers,\n",
        "            batch_size=_batch_size,\n",
        "            dropout_rate_opts=dropout_rate_opts\n",
        "            )\n",
        "print(params)"
      ],
      "execution_count": null,
      "outputs": [
        {
          "output_type": "stream",
          "text": [
            "{'activation': ['tanh', 'relu', 'selu'], 'optimizer': ['sgd', 'adam'], 'batch_size': [16, 32, 64], 'dropout_rate_opts': [0, 0.2, 0.5]}\n"
          ],
          "name": "stdout"
        }
      ]
    },
    {
      "cell_type": "code",
      "metadata": {
        "id": "Un-Pv1-XHvBQ",
        "outputId": "eae69a44-440a-49d1-ed3e-351f5c869848",
        "colab": {
          "base_uri": "https://localhost:8080/",
          "height": 35
        }
      },
      "source": [
        "classifier = KerasClassifier(build_fn=create_classifier,epochs=100,batch_size=16)\n",
        "classifier"
      ],
      "execution_count": null,
      "outputs": [
        {
          "output_type": "execute_result",
          "data": {
            "text/plain": [
              "<tensorflow.python.keras.wrappers.scikit_learn.KerasClassifier at 0x7fcb5780cfd0>"
            ]
          },
          "metadata": {
            "tags": []
          },
          "execution_count": 26
        }
      ]
    },
    {
      "cell_type": "code",
      "metadata": {
        "id": "H47ucQsgIvj_",
        "outputId": "04ee3432-f416-48be-82ab-048dc01f634f",
        "colab": {
          "base_uri": "https://localhost:8080/",
          "height": 1000
        }
      },
      "source": [
        "from tensorflow.keras.wrappers.scikit_learn import KerasClassifier\n",
        "from sklearn.model_selection import RandomizedSearchCV\n",
        "np.random.seed(42)\n",
        "rscv = RandomizedSearchCV(classifier, param_distributions=params, cv=3,   n_iter=10)\n",
        "rscv_results = rscv.fit(train_x_sm,train_y_sm)\n",
        "print('Best score is: {} using {}'.format(rscv_results.best_score_,\n",
        "rscv_results.best_params_))"
      ],
      "execution_count": null,
      "outputs": [
        {
          "output_type": "stream",
          "text": [
            "Model: \"sequential_4\"\n",
            "_________________________________________________________________\n",
            "Layer (type)                 Output Shape              Param #   \n",
            "=================================================================\n",
            "conv2d_12 (Conv2D)           (None, 128, 128, 32)      896       \n",
            "_________________________________________________________________\n",
            "max_pooling2d_12 (MaxPooling (None, 64, 64, 32)        0         \n",
            "_________________________________________________________________\n",
            "conv2d_13 (Conv2D)           (None, 62, 62, 48)        13872     \n",
            "_________________________________________________________________\n",
            "max_pooling2d_13 (MaxPooling (None, 31, 31, 48)        0         \n",
            "_________________________________________________________________\n",
            "conv2d_14 (Conv2D)           (None, 29, 29, 256)       110848    \n",
            "_________________________________________________________________\n",
            "max_pooling2d_14 (MaxPooling (None, 14, 14, 256)       0         \n",
            "_________________________________________________________________\n",
            "dropout_8 (Dropout)          (None, 14, 14, 256)       0         \n",
            "_________________________________________________________________\n",
            "flatten_4 (Flatten)          (None, 50176)             0         \n",
            "_________________________________________________________________\n",
            "dense_12 (Dense)             (None, 256)               12845312  \n",
            "_________________________________________________________________\n",
            "dense_13 (Dense)             (None, 84)                21588     \n",
            "_________________________________________________________________\n",
            "dropout_9 (Dropout)          (None, 84)                0         \n",
            "_________________________________________________________________\n",
            "dense_14 (Dense)             (None, 3)                 255       \n",
            "=================================================================\n",
            "Total params: 12,992,771\n",
            "Trainable params: 12,992,771\n",
            "Non-trainable params: 0\n",
            "_________________________________________________________________\n",
            "Epoch 1/100\n",
            "4/4 [==============================] - 1s 360ms/step - loss: 6.7329 - accuracy: 0.3962\n",
            "Epoch 2/100\n",
            "4/4 [==============================] - 1s 361ms/step - loss: 5.5912 - accuracy: 0.4528\n",
            "Epoch 3/100\n",
            "4/4 [==============================] - 1s 354ms/step - loss: 4.6466 - accuracy: 0.4528\n",
            "Epoch 4/100\n",
            "4/4 [==============================] - 1s 361ms/step - loss: 3.8708 - accuracy: 0.4528\n",
            "Epoch 5/100\n",
            "4/4 [==============================] - 1s 365ms/step - loss: 3.2380 - accuracy: 0.4528\n",
            "Epoch 6/100\n",
            "1/4 [======>.......................] - ETA: 0s - loss: 2.9028 - accuracy: 0.3750"
          ],
          "name": "stdout"
        },
        {
          "output_type": "error",
          "ename": "KeyboardInterrupt",
          "evalue": "ignored",
          "traceback": [
            "\u001b[0;31m---------------------------------------------------------------------------\u001b[0m",
            "\u001b[0;31mKeyboardInterrupt\u001b[0m                         Traceback (most recent call last)",
            "\u001b[0;32m<ipython-input-27-e8e722513ad3>\u001b[0m in \u001b[0;36m<module>\u001b[0;34m()\u001b[0m\n\u001b[1;32m      3\u001b[0m \u001b[0mnp\u001b[0m\u001b[0;34m.\u001b[0m\u001b[0mrandom\u001b[0m\u001b[0;34m.\u001b[0m\u001b[0mseed\u001b[0m\u001b[0;34m(\u001b[0m\u001b[0;36m42\u001b[0m\u001b[0;34m)\u001b[0m\u001b[0;34m\u001b[0m\u001b[0;34m\u001b[0m\u001b[0m\n\u001b[1;32m      4\u001b[0m \u001b[0mrscv\u001b[0m \u001b[0;34m=\u001b[0m \u001b[0mRandomizedSearchCV\u001b[0m\u001b[0;34m(\u001b[0m\u001b[0mclassifier\u001b[0m\u001b[0;34m,\u001b[0m \u001b[0mparam_distributions\u001b[0m\u001b[0;34m=\u001b[0m\u001b[0mparams\u001b[0m\u001b[0;34m,\u001b[0m \u001b[0mcv\u001b[0m\u001b[0;34m=\u001b[0m\u001b[0;36m3\u001b[0m\u001b[0;34m,\u001b[0m   \u001b[0mn_iter\u001b[0m\u001b[0;34m=\u001b[0m\u001b[0;36m10\u001b[0m\u001b[0;34m)\u001b[0m\u001b[0;34m\u001b[0m\u001b[0;34m\u001b[0m\u001b[0m\n\u001b[0;32m----> 5\u001b[0;31m \u001b[0mrscv_results\u001b[0m \u001b[0;34m=\u001b[0m \u001b[0mrscv\u001b[0m\u001b[0;34m.\u001b[0m\u001b[0mfit\u001b[0m\u001b[0;34m(\u001b[0m\u001b[0mtrain_x_sm\u001b[0m\u001b[0;34m,\u001b[0m\u001b[0mtrain_y_sm\u001b[0m\u001b[0;34m)\u001b[0m\u001b[0;34m\u001b[0m\u001b[0;34m\u001b[0m\u001b[0m\n\u001b[0m\u001b[1;32m      6\u001b[0m print('Best score is: {} using {}'.format(rscv_results.best_score_,\n\u001b[1;32m      7\u001b[0m rscv_results.best_params_))\n",
            "\u001b[0;32m/usr/local/lib/python3.6/dist-packages/sklearn/model_selection/_search.py\u001b[0m in \u001b[0;36mfit\u001b[0;34m(self, X, y, groups, **fit_params)\u001b[0m\n\u001b[1;32m    708\u001b[0m                 \u001b[0;32mreturn\u001b[0m \u001b[0mresults\u001b[0m\u001b[0;34m\u001b[0m\u001b[0;34m\u001b[0m\u001b[0m\n\u001b[1;32m    709\u001b[0m \u001b[0;34m\u001b[0m\u001b[0m\n\u001b[0;32m--> 710\u001b[0;31m             \u001b[0mself\u001b[0m\u001b[0;34m.\u001b[0m\u001b[0m_run_search\u001b[0m\u001b[0;34m(\u001b[0m\u001b[0mevaluate_candidates\u001b[0m\u001b[0;34m)\u001b[0m\u001b[0;34m\u001b[0m\u001b[0;34m\u001b[0m\u001b[0m\n\u001b[0m\u001b[1;32m    711\u001b[0m \u001b[0;34m\u001b[0m\u001b[0m\n\u001b[1;32m    712\u001b[0m         \u001b[0;31m# For multi-metric evaluation, store the best_index_, best_params_ and\u001b[0m\u001b[0;34m\u001b[0m\u001b[0;34m\u001b[0m\u001b[0;34m\u001b[0m\u001b[0m\n",
            "\u001b[0;32m/usr/local/lib/python3.6/dist-packages/sklearn/model_selection/_search.py\u001b[0m in \u001b[0;36m_run_search\u001b[0;34m(self, evaluate_candidates)\u001b[0m\n\u001b[1;32m   1482\u001b[0m         evaluate_candidates(ParameterSampler(\n\u001b[1;32m   1483\u001b[0m             \u001b[0mself\u001b[0m\u001b[0;34m.\u001b[0m\u001b[0mparam_distributions\u001b[0m\u001b[0;34m,\u001b[0m \u001b[0mself\u001b[0m\u001b[0;34m.\u001b[0m\u001b[0mn_iter\u001b[0m\u001b[0;34m,\u001b[0m\u001b[0;34m\u001b[0m\u001b[0;34m\u001b[0m\u001b[0m\n\u001b[0;32m-> 1484\u001b[0;31m             random_state=self.random_state))\n\u001b[0m",
            "\u001b[0;32m/usr/local/lib/python3.6/dist-packages/sklearn/model_selection/_search.py\u001b[0m in \u001b[0;36mevaluate_candidates\u001b[0;34m(candidate_params)\u001b[0m\n\u001b[1;32m    687\u001b[0m                                \u001b[0;32mfor\u001b[0m \u001b[0mparameters\u001b[0m\u001b[0;34m,\u001b[0m \u001b[0;34m(\u001b[0m\u001b[0mtrain\u001b[0m\u001b[0;34m,\u001b[0m \u001b[0mtest\u001b[0m\u001b[0;34m)\u001b[0m\u001b[0;34m\u001b[0m\u001b[0;34m\u001b[0m\u001b[0m\n\u001b[1;32m    688\u001b[0m                                in product(candidate_params,\n\u001b[0;32m--> 689\u001b[0;31m                                           cv.split(X, y, groups)))\n\u001b[0m\u001b[1;32m    690\u001b[0m \u001b[0;34m\u001b[0m\u001b[0m\n\u001b[1;32m    691\u001b[0m                 \u001b[0;32mif\u001b[0m \u001b[0mlen\u001b[0m\u001b[0;34m(\u001b[0m\u001b[0mout\u001b[0m\u001b[0;34m)\u001b[0m \u001b[0;34m<\u001b[0m \u001b[0;36m1\u001b[0m\u001b[0;34m:\u001b[0m\u001b[0;34m\u001b[0m\u001b[0;34m\u001b[0m\u001b[0m\n",
            "\u001b[0;32m/usr/local/lib/python3.6/dist-packages/joblib/parallel.py\u001b[0m in \u001b[0;36m__call__\u001b[0;34m(self, iterable)\u001b[0m\n\u001b[1;32m   1027\u001b[0m             \u001b[0;31m# remaining jobs.\u001b[0m\u001b[0;34m\u001b[0m\u001b[0;34m\u001b[0m\u001b[0;34m\u001b[0m\u001b[0m\n\u001b[1;32m   1028\u001b[0m             \u001b[0mself\u001b[0m\u001b[0;34m.\u001b[0m\u001b[0m_iterating\u001b[0m \u001b[0;34m=\u001b[0m \u001b[0;32mFalse\u001b[0m\u001b[0;34m\u001b[0m\u001b[0;34m\u001b[0m\u001b[0m\n\u001b[0;32m-> 1029\u001b[0;31m             \u001b[0;32mif\u001b[0m \u001b[0mself\u001b[0m\u001b[0;34m.\u001b[0m\u001b[0mdispatch_one_batch\u001b[0m\u001b[0;34m(\u001b[0m\u001b[0miterator\u001b[0m\u001b[0;34m)\u001b[0m\u001b[0;34m:\u001b[0m\u001b[0;34m\u001b[0m\u001b[0;34m\u001b[0m\u001b[0m\n\u001b[0m\u001b[1;32m   1030\u001b[0m                 \u001b[0mself\u001b[0m\u001b[0;34m.\u001b[0m\u001b[0m_iterating\u001b[0m \u001b[0;34m=\u001b[0m \u001b[0mself\u001b[0m\u001b[0;34m.\u001b[0m\u001b[0m_original_iterator\u001b[0m \u001b[0;32mis\u001b[0m \u001b[0;32mnot\u001b[0m \u001b[0;32mNone\u001b[0m\u001b[0;34m\u001b[0m\u001b[0;34m\u001b[0m\u001b[0m\n\u001b[1;32m   1031\u001b[0m \u001b[0;34m\u001b[0m\u001b[0m\n",
            "\u001b[0;32m/usr/local/lib/python3.6/dist-packages/joblib/parallel.py\u001b[0m in \u001b[0;36mdispatch_one_batch\u001b[0;34m(self, iterator)\u001b[0m\n\u001b[1;32m    845\u001b[0m                 \u001b[0;32mreturn\u001b[0m \u001b[0;32mFalse\u001b[0m\u001b[0;34m\u001b[0m\u001b[0;34m\u001b[0m\u001b[0m\n\u001b[1;32m    846\u001b[0m             \u001b[0;32melse\u001b[0m\u001b[0;34m:\u001b[0m\u001b[0;34m\u001b[0m\u001b[0;34m\u001b[0m\u001b[0m\n\u001b[0;32m--> 847\u001b[0;31m                 \u001b[0mself\u001b[0m\u001b[0;34m.\u001b[0m\u001b[0m_dispatch\u001b[0m\u001b[0;34m(\u001b[0m\u001b[0mtasks\u001b[0m\u001b[0;34m)\u001b[0m\u001b[0;34m\u001b[0m\u001b[0;34m\u001b[0m\u001b[0m\n\u001b[0m\u001b[1;32m    848\u001b[0m                 \u001b[0;32mreturn\u001b[0m \u001b[0;32mTrue\u001b[0m\u001b[0;34m\u001b[0m\u001b[0;34m\u001b[0m\u001b[0m\n\u001b[1;32m    849\u001b[0m \u001b[0;34m\u001b[0m\u001b[0m\n",
            "\u001b[0;32m/usr/local/lib/python3.6/dist-packages/joblib/parallel.py\u001b[0m in \u001b[0;36m_dispatch\u001b[0;34m(self, batch)\u001b[0m\n\u001b[1;32m    763\u001b[0m         \u001b[0;32mwith\u001b[0m \u001b[0mself\u001b[0m\u001b[0;34m.\u001b[0m\u001b[0m_lock\u001b[0m\u001b[0;34m:\u001b[0m\u001b[0;34m\u001b[0m\u001b[0;34m\u001b[0m\u001b[0m\n\u001b[1;32m    764\u001b[0m             \u001b[0mjob_idx\u001b[0m \u001b[0;34m=\u001b[0m \u001b[0mlen\u001b[0m\u001b[0;34m(\u001b[0m\u001b[0mself\u001b[0m\u001b[0;34m.\u001b[0m\u001b[0m_jobs\u001b[0m\u001b[0;34m)\u001b[0m\u001b[0;34m\u001b[0m\u001b[0;34m\u001b[0m\u001b[0m\n\u001b[0;32m--> 765\u001b[0;31m             \u001b[0mjob\u001b[0m \u001b[0;34m=\u001b[0m \u001b[0mself\u001b[0m\u001b[0;34m.\u001b[0m\u001b[0m_backend\u001b[0m\u001b[0;34m.\u001b[0m\u001b[0mapply_async\u001b[0m\u001b[0;34m(\u001b[0m\u001b[0mbatch\u001b[0m\u001b[0;34m,\u001b[0m \u001b[0mcallback\u001b[0m\u001b[0;34m=\u001b[0m\u001b[0mcb\u001b[0m\u001b[0;34m)\u001b[0m\u001b[0;34m\u001b[0m\u001b[0;34m\u001b[0m\u001b[0m\n\u001b[0m\u001b[1;32m    766\u001b[0m             \u001b[0;31m# A job can complete so quickly than its callback is\u001b[0m\u001b[0;34m\u001b[0m\u001b[0;34m\u001b[0m\u001b[0;34m\u001b[0m\u001b[0m\n\u001b[1;32m    767\u001b[0m             \u001b[0;31m# called before we get here, causing self._jobs to\u001b[0m\u001b[0;34m\u001b[0m\u001b[0;34m\u001b[0m\u001b[0;34m\u001b[0m\u001b[0m\n",
            "\u001b[0;32m/usr/local/lib/python3.6/dist-packages/joblib/_parallel_backends.py\u001b[0m in \u001b[0;36mapply_async\u001b[0;34m(self, func, callback)\u001b[0m\n\u001b[1;32m    206\u001b[0m     \u001b[0;32mdef\u001b[0m \u001b[0mapply_async\u001b[0m\u001b[0;34m(\u001b[0m\u001b[0mself\u001b[0m\u001b[0;34m,\u001b[0m \u001b[0mfunc\u001b[0m\u001b[0;34m,\u001b[0m \u001b[0mcallback\u001b[0m\u001b[0;34m=\u001b[0m\u001b[0;32mNone\u001b[0m\u001b[0;34m)\u001b[0m\u001b[0;34m:\u001b[0m\u001b[0;34m\u001b[0m\u001b[0;34m\u001b[0m\u001b[0m\n\u001b[1;32m    207\u001b[0m         \u001b[0;34m\"\"\"Schedule a func to be run\"\"\"\u001b[0m\u001b[0;34m\u001b[0m\u001b[0;34m\u001b[0m\u001b[0m\n\u001b[0;32m--> 208\u001b[0;31m         \u001b[0mresult\u001b[0m \u001b[0;34m=\u001b[0m \u001b[0mImmediateResult\u001b[0m\u001b[0;34m(\u001b[0m\u001b[0mfunc\u001b[0m\u001b[0;34m)\u001b[0m\u001b[0;34m\u001b[0m\u001b[0;34m\u001b[0m\u001b[0m\n\u001b[0m\u001b[1;32m    209\u001b[0m         \u001b[0;32mif\u001b[0m \u001b[0mcallback\u001b[0m\u001b[0;34m:\u001b[0m\u001b[0;34m\u001b[0m\u001b[0;34m\u001b[0m\u001b[0m\n\u001b[1;32m    210\u001b[0m             \u001b[0mcallback\u001b[0m\u001b[0;34m(\u001b[0m\u001b[0mresult\u001b[0m\u001b[0;34m)\u001b[0m\u001b[0;34m\u001b[0m\u001b[0;34m\u001b[0m\u001b[0m\n",
            "\u001b[0;32m/usr/local/lib/python3.6/dist-packages/joblib/_parallel_backends.py\u001b[0m in \u001b[0;36m__init__\u001b[0;34m(self, batch)\u001b[0m\n\u001b[1;32m    570\u001b[0m         \u001b[0;31m# Don't delay the application, to avoid keeping the input\u001b[0m\u001b[0;34m\u001b[0m\u001b[0;34m\u001b[0m\u001b[0;34m\u001b[0m\u001b[0m\n\u001b[1;32m    571\u001b[0m         \u001b[0;31m# arguments in memory\u001b[0m\u001b[0;34m\u001b[0m\u001b[0;34m\u001b[0m\u001b[0;34m\u001b[0m\u001b[0m\n\u001b[0;32m--> 572\u001b[0;31m         \u001b[0mself\u001b[0m\u001b[0;34m.\u001b[0m\u001b[0mresults\u001b[0m \u001b[0;34m=\u001b[0m \u001b[0mbatch\u001b[0m\u001b[0;34m(\u001b[0m\u001b[0;34m)\u001b[0m\u001b[0;34m\u001b[0m\u001b[0;34m\u001b[0m\u001b[0m\n\u001b[0m\u001b[1;32m    573\u001b[0m \u001b[0;34m\u001b[0m\u001b[0m\n\u001b[1;32m    574\u001b[0m     \u001b[0;32mdef\u001b[0m \u001b[0mget\u001b[0m\u001b[0;34m(\u001b[0m\u001b[0mself\u001b[0m\u001b[0;34m)\u001b[0m\u001b[0;34m:\u001b[0m\u001b[0;34m\u001b[0m\u001b[0;34m\u001b[0m\u001b[0m\n",
            "\u001b[0;32m/usr/local/lib/python3.6/dist-packages/joblib/parallel.py\u001b[0m in \u001b[0;36m__call__\u001b[0;34m(self)\u001b[0m\n\u001b[1;32m    251\u001b[0m         \u001b[0;32mwith\u001b[0m \u001b[0mparallel_backend\u001b[0m\u001b[0;34m(\u001b[0m\u001b[0mself\u001b[0m\u001b[0;34m.\u001b[0m\u001b[0m_backend\u001b[0m\u001b[0;34m,\u001b[0m \u001b[0mn_jobs\u001b[0m\u001b[0;34m=\u001b[0m\u001b[0mself\u001b[0m\u001b[0;34m.\u001b[0m\u001b[0m_n_jobs\u001b[0m\u001b[0;34m)\u001b[0m\u001b[0;34m:\u001b[0m\u001b[0;34m\u001b[0m\u001b[0;34m\u001b[0m\u001b[0m\n\u001b[1;32m    252\u001b[0m             return [func(*args, **kwargs)\n\u001b[0;32m--> 253\u001b[0;31m                     for func, args, kwargs in self.items]\n\u001b[0m\u001b[1;32m    254\u001b[0m \u001b[0;34m\u001b[0m\u001b[0m\n\u001b[1;32m    255\u001b[0m     \u001b[0;32mdef\u001b[0m \u001b[0m__reduce__\u001b[0m\u001b[0;34m(\u001b[0m\u001b[0mself\u001b[0m\u001b[0;34m)\u001b[0m\u001b[0;34m:\u001b[0m\u001b[0;34m\u001b[0m\u001b[0;34m\u001b[0m\u001b[0m\n",
            "\u001b[0;32m/usr/local/lib/python3.6/dist-packages/joblib/parallel.py\u001b[0m in \u001b[0;36m<listcomp>\u001b[0;34m(.0)\u001b[0m\n\u001b[1;32m    251\u001b[0m         \u001b[0;32mwith\u001b[0m \u001b[0mparallel_backend\u001b[0m\u001b[0;34m(\u001b[0m\u001b[0mself\u001b[0m\u001b[0;34m.\u001b[0m\u001b[0m_backend\u001b[0m\u001b[0;34m,\u001b[0m \u001b[0mn_jobs\u001b[0m\u001b[0;34m=\u001b[0m\u001b[0mself\u001b[0m\u001b[0;34m.\u001b[0m\u001b[0m_n_jobs\u001b[0m\u001b[0;34m)\u001b[0m\u001b[0;34m:\u001b[0m\u001b[0;34m\u001b[0m\u001b[0;34m\u001b[0m\u001b[0m\n\u001b[1;32m    252\u001b[0m             return [func(*args, **kwargs)\n\u001b[0;32m--> 253\u001b[0;31m                     for func, args, kwargs in self.items]\n\u001b[0m\u001b[1;32m    254\u001b[0m \u001b[0;34m\u001b[0m\u001b[0m\n\u001b[1;32m    255\u001b[0m     \u001b[0;32mdef\u001b[0m \u001b[0m__reduce__\u001b[0m\u001b[0;34m(\u001b[0m\u001b[0mself\u001b[0m\u001b[0;34m)\u001b[0m\u001b[0;34m:\u001b[0m\u001b[0;34m\u001b[0m\u001b[0;34m\u001b[0m\u001b[0m\n",
            "\u001b[0;32m/usr/local/lib/python3.6/dist-packages/sklearn/model_selection/_validation.py\u001b[0m in \u001b[0;36m_fit_and_score\u001b[0;34m(estimator, X, y, scorer, train, test, verbose, parameters, fit_params, return_train_score, return_parameters, return_n_test_samples, return_times, return_estimator, error_score)\u001b[0m\n\u001b[1;32m    513\u001b[0m             \u001b[0mestimator\u001b[0m\u001b[0;34m.\u001b[0m\u001b[0mfit\u001b[0m\u001b[0;34m(\u001b[0m\u001b[0mX_train\u001b[0m\u001b[0;34m,\u001b[0m \u001b[0;34m**\u001b[0m\u001b[0mfit_params\u001b[0m\u001b[0;34m)\u001b[0m\u001b[0;34m\u001b[0m\u001b[0;34m\u001b[0m\u001b[0m\n\u001b[1;32m    514\u001b[0m         \u001b[0;32melse\u001b[0m\u001b[0;34m:\u001b[0m\u001b[0;34m\u001b[0m\u001b[0;34m\u001b[0m\u001b[0m\n\u001b[0;32m--> 515\u001b[0;31m             \u001b[0mestimator\u001b[0m\u001b[0;34m.\u001b[0m\u001b[0mfit\u001b[0m\u001b[0;34m(\u001b[0m\u001b[0mX_train\u001b[0m\u001b[0;34m,\u001b[0m \u001b[0my_train\u001b[0m\u001b[0;34m,\u001b[0m \u001b[0;34m**\u001b[0m\u001b[0mfit_params\u001b[0m\u001b[0;34m)\u001b[0m\u001b[0;34m\u001b[0m\u001b[0;34m\u001b[0m\u001b[0m\n\u001b[0m\u001b[1;32m    516\u001b[0m \u001b[0;34m\u001b[0m\u001b[0m\n\u001b[1;32m    517\u001b[0m     \u001b[0;32mexcept\u001b[0m \u001b[0mException\u001b[0m \u001b[0;32mas\u001b[0m \u001b[0me\u001b[0m\u001b[0;34m:\u001b[0m\u001b[0;34m\u001b[0m\u001b[0;34m\u001b[0m\u001b[0m\n",
            "\u001b[0;32m/usr/local/lib/python3.6/dist-packages/tensorflow/python/keras/wrappers/scikit_learn.py\u001b[0m in \u001b[0;36mfit\u001b[0;34m(self, x, y, **kwargs)\u001b[0m\n\u001b[1;32m    221\u001b[0m       \u001b[0;32mraise\u001b[0m \u001b[0mValueError\u001b[0m\u001b[0;34m(\u001b[0m\u001b[0;34m'Invalid shape for y: '\u001b[0m \u001b[0;34m+\u001b[0m \u001b[0mstr\u001b[0m\u001b[0;34m(\u001b[0m\u001b[0my\u001b[0m\u001b[0;34m.\u001b[0m\u001b[0mshape\u001b[0m\u001b[0;34m)\u001b[0m\u001b[0;34m)\u001b[0m\u001b[0;34m\u001b[0m\u001b[0;34m\u001b[0m\u001b[0m\n\u001b[1;32m    222\u001b[0m     \u001b[0mself\u001b[0m\u001b[0;34m.\u001b[0m\u001b[0mn_classes_\u001b[0m \u001b[0;34m=\u001b[0m \u001b[0mlen\u001b[0m\u001b[0;34m(\u001b[0m\u001b[0mself\u001b[0m\u001b[0;34m.\u001b[0m\u001b[0mclasses_\u001b[0m\u001b[0;34m)\u001b[0m\u001b[0;34m\u001b[0m\u001b[0;34m\u001b[0m\u001b[0m\n\u001b[0;32m--> 223\u001b[0;31m     \u001b[0;32mreturn\u001b[0m \u001b[0msuper\u001b[0m\u001b[0;34m(\u001b[0m\u001b[0mKerasClassifier\u001b[0m\u001b[0;34m,\u001b[0m \u001b[0mself\u001b[0m\u001b[0;34m)\u001b[0m\u001b[0;34m.\u001b[0m\u001b[0mfit\u001b[0m\u001b[0;34m(\u001b[0m\u001b[0mx\u001b[0m\u001b[0;34m,\u001b[0m \u001b[0my\u001b[0m\u001b[0;34m,\u001b[0m \u001b[0;34m**\u001b[0m\u001b[0mkwargs\u001b[0m\u001b[0;34m)\u001b[0m\u001b[0;34m\u001b[0m\u001b[0;34m\u001b[0m\u001b[0m\n\u001b[0m\u001b[1;32m    224\u001b[0m \u001b[0;34m\u001b[0m\u001b[0m\n\u001b[1;32m    225\u001b[0m   \u001b[0;32mdef\u001b[0m \u001b[0mpredict\u001b[0m\u001b[0;34m(\u001b[0m\u001b[0mself\u001b[0m\u001b[0;34m,\u001b[0m \u001b[0mx\u001b[0m\u001b[0;34m,\u001b[0m \u001b[0;34m**\u001b[0m\u001b[0mkwargs\u001b[0m\u001b[0;34m)\u001b[0m\u001b[0;34m:\u001b[0m\u001b[0;34m\u001b[0m\u001b[0;34m\u001b[0m\u001b[0m\n",
            "\u001b[0;32m/usr/local/lib/python3.6/dist-packages/tensorflow/python/keras/wrappers/scikit_learn.py\u001b[0m in \u001b[0;36mfit\u001b[0;34m(self, x, y, **kwargs)\u001b[0m\n\u001b[1;32m    164\u001b[0m     \u001b[0mfit_args\u001b[0m\u001b[0;34m.\u001b[0m\u001b[0mupdate\u001b[0m\u001b[0;34m(\u001b[0m\u001b[0mkwargs\u001b[0m\u001b[0;34m)\u001b[0m\u001b[0;34m\u001b[0m\u001b[0;34m\u001b[0m\u001b[0m\n\u001b[1;32m    165\u001b[0m \u001b[0;34m\u001b[0m\u001b[0m\n\u001b[0;32m--> 166\u001b[0;31m     \u001b[0mhistory\u001b[0m \u001b[0;34m=\u001b[0m \u001b[0mself\u001b[0m\u001b[0;34m.\u001b[0m\u001b[0mmodel\u001b[0m\u001b[0;34m.\u001b[0m\u001b[0mfit\u001b[0m\u001b[0;34m(\u001b[0m\u001b[0mx\u001b[0m\u001b[0;34m,\u001b[0m \u001b[0my\u001b[0m\u001b[0;34m,\u001b[0m \u001b[0;34m**\u001b[0m\u001b[0mfit_args\u001b[0m\u001b[0;34m)\u001b[0m\u001b[0;34m\u001b[0m\u001b[0;34m\u001b[0m\u001b[0m\n\u001b[0m\u001b[1;32m    167\u001b[0m \u001b[0;34m\u001b[0m\u001b[0m\n\u001b[1;32m    168\u001b[0m     \u001b[0;32mreturn\u001b[0m \u001b[0mhistory\u001b[0m\u001b[0;34m\u001b[0m\u001b[0;34m\u001b[0m\u001b[0m\n",
            "\u001b[0;32m/usr/local/lib/python3.6/dist-packages/tensorflow/python/keras/engine/training.py\u001b[0m in \u001b[0;36m_method_wrapper\u001b[0;34m(self, *args, **kwargs)\u001b[0m\n\u001b[1;32m    106\u001b[0m   \u001b[0;32mdef\u001b[0m \u001b[0m_method_wrapper\u001b[0m\u001b[0;34m(\u001b[0m\u001b[0mself\u001b[0m\u001b[0;34m,\u001b[0m \u001b[0;34m*\u001b[0m\u001b[0margs\u001b[0m\u001b[0;34m,\u001b[0m \u001b[0;34m**\u001b[0m\u001b[0mkwargs\u001b[0m\u001b[0;34m)\u001b[0m\u001b[0;34m:\u001b[0m\u001b[0;34m\u001b[0m\u001b[0;34m\u001b[0m\u001b[0m\n\u001b[1;32m    107\u001b[0m     \u001b[0;32mif\u001b[0m \u001b[0;32mnot\u001b[0m \u001b[0mself\u001b[0m\u001b[0;34m.\u001b[0m\u001b[0m_in_multi_worker_mode\u001b[0m\u001b[0;34m(\u001b[0m\u001b[0;34m)\u001b[0m\u001b[0;34m:\u001b[0m  \u001b[0;31m# pylint: disable=protected-access\u001b[0m\u001b[0;34m\u001b[0m\u001b[0;34m\u001b[0m\u001b[0m\n\u001b[0;32m--> 108\u001b[0;31m       \u001b[0;32mreturn\u001b[0m \u001b[0mmethod\u001b[0m\u001b[0;34m(\u001b[0m\u001b[0mself\u001b[0m\u001b[0;34m,\u001b[0m \u001b[0;34m*\u001b[0m\u001b[0margs\u001b[0m\u001b[0;34m,\u001b[0m \u001b[0;34m**\u001b[0m\u001b[0mkwargs\u001b[0m\u001b[0;34m)\u001b[0m\u001b[0;34m\u001b[0m\u001b[0;34m\u001b[0m\u001b[0m\n\u001b[0m\u001b[1;32m    109\u001b[0m \u001b[0;34m\u001b[0m\u001b[0m\n\u001b[1;32m    110\u001b[0m     \u001b[0;31m# Running inside `run_distribute_coordinator` already.\u001b[0m\u001b[0;34m\u001b[0m\u001b[0;34m\u001b[0m\u001b[0;34m\u001b[0m\u001b[0m\n",
            "\u001b[0;32m/usr/local/lib/python3.6/dist-packages/tensorflow/python/keras/engine/training.py\u001b[0m in \u001b[0;36mfit\u001b[0;34m(self, x, y, batch_size, epochs, verbose, callbacks, validation_split, validation_data, shuffle, class_weight, sample_weight, initial_epoch, steps_per_epoch, validation_steps, validation_batch_size, validation_freq, max_queue_size, workers, use_multiprocessing)\u001b[0m\n\u001b[1;32m   1096\u001b[0m                 batch_size=batch_size):\n\u001b[1;32m   1097\u001b[0m               \u001b[0mcallbacks\u001b[0m\u001b[0;34m.\u001b[0m\u001b[0mon_train_batch_begin\u001b[0m\u001b[0;34m(\u001b[0m\u001b[0mstep\u001b[0m\u001b[0;34m)\u001b[0m\u001b[0;34m\u001b[0m\u001b[0;34m\u001b[0m\u001b[0m\n\u001b[0;32m-> 1098\u001b[0;31m               \u001b[0mtmp_logs\u001b[0m \u001b[0;34m=\u001b[0m \u001b[0mtrain_function\u001b[0m\u001b[0;34m(\u001b[0m\u001b[0miterator\u001b[0m\u001b[0;34m)\u001b[0m\u001b[0;34m\u001b[0m\u001b[0;34m\u001b[0m\u001b[0m\n\u001b[0m\u001b[1;32m   1099\u001b[0m               \u001b[0;32mif\u001b[0m \u001b[0mdata_handler\u001b[0m\u001b[0;34m.\u001b[0m\u001b[0mshould_sync\u001b[0m\u001b[0;34m:\u001b[0m\u001b[0;34m\u001b[0m\u001b[0;34m\u001b[0m\u001b[0m\n\u001b[1;32m   1100\u001b[0m                 \u001b[0mcontext\u001b[0m\u001b[0;34m.\u001b[0m\u001b[0masync_wait\u001b[0m\u001b[0;34m(\u001b[0m\u001b[0;34m)\u001b[0m\u001b[0;34m\u001b[0m\u001b[0;34m\u001b[0m\u001b[0m\n",
            "\u001b[0;32m/usr/local/lib/python3.6/dist-packages/tensorflow/python/eager/def_function.py\u001b[0m in \u001b[0;36m__call__\u001b[0;34m(self, *args, **kwds)\u001b[0m\n\u001b[1;32m    778\u001b[0m       \u001b[0;32melse\u001b[0m\u001b[0;34m:\u001b[0m\u001b[0;34m\u001b[0m\u001b[0;34m\u001b[0m\u001b[0m\n\u001b[1;32m    779\u001b[0m         \u001b[0mcompiler\u001b[0m \u001b[0;34m=\u001b[0m \u001b[0;34m\"nonXla\"\u001b[0m\u001b[0;34m\u001b[0m\u001b[0;34m\u001b[0m\u001b[0m\n\u001b[0;32m--> 780\u001b[0;31m         \u001b[0mresult\u001b[0m \u001b[0;34m=\u001b[0m \u001b[0mself\u001b[0m\u001b[0;34m.\u001b[0m\u001b[0m_call\u001b[0m\u001b[0;34m(\u001b[0m\u001b[0;34m*\u001b[0m\u001b[0margs\u001b[0m\u001b[0;34m,\u001b[0m \u001b[0;34m**\u001b[0m\u001b[0mkwds\u001b[0m\u001b[0;34m)\u001b[0m\u001b[0;34m\u001b[0m\u001b[0;34m\u001b[0m\u001b[0m\n\u001b[0m\u001b[1;32m    781\u001b[0m \u001b[0;34m\u001b[0m\u001b[0m\n\u001b[1;32m    782\u001b[0m       \u001b[0mnew_tracing_count\u001b[0m \u001b[0;34m=\u001b[0m \u001b[0mself\u001b[0m\u001b[0;34m.\u001b[0m\u001b[0m_get_tracing_count\u001b[0m\u001b[0;34m(\u001b[0m\u001b[0;34m)\u001b[0m\u001b[0;34m\u001b[0m\u001b[0;34m\u001b[0m\u001b[0m\n",
            "\u001b[0;32m/usr/local/lib/python3.6/dist-packages/tensorflow/python/eager/def_function.py\u001b[0m in \u001b[0;36m_call\u001b[0;34m(self, *args, **kwds)\u001b[0m\n\u001b[1;32m    805\u001b[0m       \u001b[0;31m# In this case we have created variables on the first call, so we run the\u001b[0m\u001b[0;34m\u001b[0m\u001b[0;34m\u001b[0m\u001b[0;34m\u001b[0m\u001b[0m\n\u001b[1;32m    806\u001b[0m       \u001b[0;31m# defunned version which is guaranteed to never create variables.\u001b[0m\u001b[0;34m\u001b[0m\u001b[0;34m\u001b[0m\u001b[0;34m\u001b[0m\u001b[0m\n\u001b[0;32m--> 807\u001b[0;31m       \u001b[0;32mreturn\u001b[0m \u001b[0mself\u001b[0m\u001b[0;34m.\u001b[0m\u001b[0m_stateless_fn\u001b[0m\u001b[0;34m(\u001b[0m\u001b[0;34m*\u001b[0m\u001b[0margs\u001b[0m\u001b[0;34m,\u001b[0m \u001b[0;34m**\u001b[0m\u001b[0mkwds\u001b[0m\u001b[0;34m)\u001b[0m  \u001b[0;31m# pylint: disable=not-callable\u001b[0m\u001b[0;34m\u001b[0m\u001b[0;34m\u001b[0m\u001b[0m\n\u001b[0m\u001b[1;32m    808\u001b[0m     \u001b[0;32melif\u001b[0m \u001b[0mself\u001b[0m\u001b[0;34m.\u001b[0m\u001b[0m_stateful_fn\u001b[0m \u001b[0;32mis\u001b[0m \u001b[0;32mnot\u001b[0m \u001b[0;32mNone\u001b[0m\u001b[0;34m:\u001b[0m\u001b[0;34m\u001b[0m\u001b[0;34m\u001b[0m\u001b[0m\n\u001b[1;32m    809\u001b[0m       \u001b[0;31m# Release the lock early so that multiple threads can perform the call\u001b[0m\u001b[0;34m\u001b[0m\u001b[0;34m\u001b[0m\u001b[0;34m\u001b[0m\u001b[0m\n",
            "\u001b[0;32m/usr/local/lib/python3.6/dist-packages/tensorflow/python/eager/function.py\u001b[0m in \u001b[0;36m__call__\u001b[0;34m(self, *args, **kwargs)\u001b[0m\n\u001b[1;32m   2827\u001b[0m     \u001b[0;32mwith\u001b[0m \u001b[0mself\u001b[0m\u001b[0;34m.\u001b[0m\u001b[0m_lock\u001b[0m\u001b[0;34m:\u001b[0m\u001b[0;34m\u001b[0m\u001b[0;34m\u001b[0m\u001b[0m\n\u001b[1;32m   2828\u001b[0m       \u001b[0mgraph_function\u001b[0m\u001b[0;34m,\u001b[0m \u001b[0margs\u001b[0m\u001b[0;34m,\u001b[0m \u001b[0mkwargs\u001b[0m \u001b[0;34m=\u001b[0m \u001b[0mself\u001b[0m\u001b[0;34m.\u001b[0m\u001b[0m_maybe_define_function\u001b[0m\u001b[0;34m(\u001b[0m\u001b[0margs\u001b[0m\u001b[0;34m,\u001b[0m \u001b[0mkwargs\u001b[0m\u001b[0;34m)\u001b[0m\u001b[0;34m\u001b[0m\u001b[0;34m\u001b[0m\u001b[0m\n\u001b[0;32m-> 2829\u001b[0;31m     \u001b[0;32mreturn\u001b[0m \u001b[0mgraph_function\u001b[0m\u001b[0;34m.\u001b[0m\u001b[0m_filtered_call\u001b[0m\u001b[0;34m(\u001b[0m\u001b[0margs\u001b[0m\u001b[0;34m,\u001b[0m \u001b[0mkwargs\u001b[0m\u001b[0;34m)\u001b[0m  \u001b[0;31m# pylint: disable=protected-access\u001b[0m\u001b[0;34m\u001b[0m\u001b[0;34m\u001b[0m\u001b[0m\n\u001b[0m\u001b[1;32m   2830\u001b[0m \u001b[0;34m\u001b[0m\u001b[0m\n\u001b[1;32m   2831\u001b[0m   \u001b[0;34m@\u001b[0m\u001b[0mproperty\u001b[0m\u001b[0;34m\u001b[0m\u001b[0;34m\u001b[0m\u001b[0m\n",
            "\u001b[0;32m/usr/local/lib/python3.6/dist-packages/tensorflow/python/eager/function.py\u001b[0m in \u001b[0;36m_filtered_call\u001b[0;34m(self, args, kwargs, cancellation_manager)\u001b[0m\n\u001b[1;32m   1846\u001b[0m                            resource_variable_ops.BaseResourceVariable))],\n\u001b[1;32m   1847\u001b[0m         \u001b[0mcaptured_inputs\u001b[0m\u001b[0;34m=\u001b[0m\u001b[0mself\u001b[0m\u001b[0;34m.\u001b[0m\u001b[0mcaptured_inputs\u001b[0m\u001b[0;34m,\u001b[0m\u001b[0;34m\u001b[0m\u001b[0;34m\u001b[0m\u001b[0m\n\u001b[0;32m-> 1848\u001b[0;31m         cancellation_manager=cancellation_manager)\n\u001b[0m\u001b[1;32m   1849\u001b[0m \u001b[0;34m\u001b[0m\u001b[0m\n\u001b[1;32m   1850\u001b[0m   \u001b[0;32mdef\u001b[0m \u001b[0m_call_flat\u001b[0m\u001b[0;34m(\u001b[0m\u001b[0mself\u001b[0m\u001b[0;34m,\u001b[0m \u001b[0margs\u001b[0m\u001b[0;34m,\u001b[0m \u001b[0mcaptured_inputs\u001b[0m\u001b[0;34m,\u001b[0m \u001b[0mcancellation_manager\u001b[0m\u001b[0;34m=\u001b[0m\u001b[0;32mNone\u001b[0m\u001b[0;34m)\u001b[0m\u001b[0;34m:\u001b[0m\u001b[0;34m\u001b[0m\u001b[0;34m\u001b[0m\u001b[0m\n",
            "\u001b[0;32m/usr/local/lib/python3.6/dist-packages/tensorflow/python/eager/function.py\u001b[0m in \u001b[0;36m_call_flat\u001b[0;34m(self, args, captured_inputs, cancellation_manager)\u001b[0m\n\u001b[1;32m   1922\u001b[0m       \u001b[0;31m# No tape is watching; skip to running the function.\u001b[0m\u001b[0;34m\u001b[0m\u001b[0;34m\u001b[0m\u001b[0;34m\u001b[0m\u001b[0m\n\u001b[1;32m   1923\u001b[0m       return self._build_call_outputs(self._inference_function.call(\n\u001b[0;32m-> 1924\u001b[0;31m           ctx, args, cancellation_manager=cancellation_manager))\n\u001b[0m\u001b[1;32m   1925\u001b[0m     forward_backward = self._select_forward_and_backward_functions(\n\u001b[1;32m   1926\u001b[0m         \u001b[0margs\u001b[0m\u001b[0;34m,\u001b[0m\u001b[0;34m\u001b[0m\u001b[0;34m\u001b[0m\u001b[0m\n",
            "\u001b[0;32m/usr/local/lib/python3.6/dist-packages/tensorflow/python/eager/function.py\u001b[0m in \u001b[0;36mcall\u001b[0;34m(self, ctx, args, cancellation_manager)\u001b[0m\n\u001b[1;32m    548\u001b[0m               \u001b[0minputs\u001b[0m\u001b[0;34m=\u001b[0m\u001b[0margs\u001b[0m\u001b[0;34m,\u001b[0m\u001b[0;34m\u001b[0m\u001b[0;34m\u001b[0m\u001b[0m\n\u001b[1;32m    549\u001b[0m               \u001b[0mattrs\u001b[0m\u001b[0;34m=\u001b[0m\u001b[0mattrs\u001b[0m\u001b[0;34m,\u001b[0m\u001b[0;34m\u001b[0m\u001b[0;34m\u001b[0m\u001b[0m\n\u001b[0;32m--> 550\u001b[0;31m               ctx=ctx)\n\u001b[0m\u001b[1;32m    551\u001b[0m         \u001b[0;32melse\u001b[0m\u001b[0;34m:\u001b[0m\u001b[0;34m\u001b[0m\u001b[0;34m\u001b[0m\u001b[0m\n\u001b[1;32m    552\u001b[0m           outputs = execute.execute_with_cancellation(\n",
            "\u001b[0;32m/usr/local/lib/python3.6/dist-packages/tensorflow/python/eager/execute.py\u001b[0m in \u001b[0;36mquick_execute\u001b[0;34m(op_name, num_outputs, inputs, attrs, ctx, name)\u001b[0m\n\u001b[1;32m     58\u001b[0m     \u001b[0mctx\u001b[0m\u001b[0;34m.\u001b[0m\u001b[0mensure_initialized\u001b[0m\u001b[0;34m(\u001b[0m\u001b[0;34m)\u001b[0m\u001b[0;34m\u001b[0m\u001b[0;34m\u001b[0m\u001b[0m\n\u001b[1;32m     59\u001b[0m     tensors = pywrap_tfe.TFE_Py_Execute(ctx._handle, device_name, op_name,\n\u001b[0;32m---> 60\u001b[0;31m                                         inputs, attrs, num_outputs)\n\u001b[0m\u001b[1;32m     61\u001b[0m   \u001b[0;32mexcept\u001b[0m \u001b[0mcore\u001b[0m\u001b[0;34m.\u001b[0m\u001b[0m_NotOkStatusException\u001b[0m \u001b[0;32mas\u001b[0m \u001b[0me\u001b[0m\u001b[0;34m:\u001b[0m\u001b[0;34m\u001b[0m\u001b[0;34m\u001b[0m\u001b[0m\n\u001b[1;32m     62\u001b[0m     \u001b[0;32mif\u001b[0m \u001b[0mname\u001b[0m \u001b[0;32mis\u001b[0m \u001b[0;32mnot\u001b[0m \u001b[0;32mNone\u001b[0m\u001b[0;34m:\u001b[0m\u001b[0;34m\u001b[0m\u001b[0;34m\u001b[0m\u001b[0m\n",
            "\u001b[0;31mKeyboardInterrupt\u001b[0m: "
          ]
        }
      ]
    },
    {
      "cell_type": "code",
      "metadata": {
        "id": "aJeljKDG5hjo"
      },
      "source": [
        "from sklearn.model_selection import GridSearchCV\n",
        "from keras.models import Sequential\n",
        "from keras.layers import Dense\n",
        "from keras.wrappers.scikit_learn import KerasClassifier\n",
        "def create_classifier():\n",
        "\n",
        "#BasicConvNet\n",
        "    classifier = Sequential()\n",
        "\n",
        "    classifier.add(Conv2D(filters=64,kernel_size=(3,3),padding='valid',activation=\"relu\", input_shape=(256,256,3)))\n",
        "#keras.layers.BatchNormalization()\n",
        "    classifier.add(MaxPooling2D(pool_size=(2,2)))\n",
        "\n",
        "    classifier.add(Conv2D(filters=64,kernel_size=(3,3),padding='valid',activation=\"relu\", kernel_regularizer=regularizers.l2(0.05)))\n",
        "#keras.layers.BatchNormalization()\n",
        "    classifier.add(MaxPooling2D(pool_size=(2,2)))\n",
        "\n",
        "    classifier.add(Conv2D(filters=64,kernel_size=(3,3),padding='valid',activation=\"relu\", kernel_regularizer=regularizers.l2(0.05)))\n",
        "    #keras.layers.BatchNormalization()\n",
        "    classifier.add(MaxPooling2D(pool_size=(2,2)))\n",
        "\n",
        "    #classifier.add(Dropout(dropout_rate_opts))\n",
        "\n",
        "\n",
        "    classifier.add(Flatten())# Flattening the \n",
        "\n",
        "    #classifier.add(Dense(200,activation=\"relu\")) #200 is the number of nuerons in hidden layers\n",
        "    classifier.add(Dense(128,activation=\"relu\"))\n",
        "    classifier.add(Dense(64,activation=\"relu\"))\n",
        "    classifier.add(Dense(32,activation=\"relu\"))  \n",
        "\n",
        "    #classifier.add(Dropout(dropout_rate_opts))\n",
        "\n",
        "\n",
        "\n",
        "    classifier.add(Dense(3,activation=\"softmax\"))  #3 represent output layer neurons for three different classes \n",
        "\n",
        "    classifier.summary()\n",
        "    classifier.compile(loss='categorical_crossentropy', optimizer=\"adam\", metrics=['accuracy'])\n",
        "\n",
        "    return classifier"
      ],
      "execution_count": null,
      "outputs": []
    },
    {
      "cell_type": "code",
      "metadata": {
        "id": "20l9gZwspu_6",
        "outputId": "10c5b549-96a2-4a86-9438-abb9d5889c56",
        "colab": {
          "base_uri": "https://localhost:8080/",
          "height": 443
        }
      },
      "source": [
        "# create model\n",
        "classifier = KerasClassifier(build_fn=create_classifier, verbose=0)\n",
        "# define the grid search parameters\n",
        "batch_size = [10, 20, 30, 40, 50]\n",
        "epochs = [10, 50, 100, 150, 200]\n",
        "param_grid = dict(batch_size=batch_size, epochs=epochs)\n",
        "grid = GridSearchCV(estimator=classifier, param_grid=param_grid, n_jobs=-1, cv=3)\n",
        "grid_result = grid.fit(x,y)\n",
        "# summarize results\n",
        "print(\"Best: %f using %s\" % (grid_result.best_score_, grid_result.best_params_))\n",
        "means = grid_result.cv_results_['mean_test_score']\n",
        "stds = grid_result.cv_results_['std_test_score']\n",
        "params = grid_result.cv_results_['params']\n",
        "for mean, stdev, param in zip(means, stds, params):\n",
        "    print(\"%f (%f) with: %r\" % (mean, stdev, param))"
      ],
      "execution_count": null,
      "outputs": [
        {
          "output_type": "stream",
          "text": [
            "/usr/local/lib/python3.6/dist-packages/joblib/externals/loky/process_executor.py:691: UserWarning: A worker stopped while some jobs were given to the executor. This can be caused by a too short worker timeout or by a memory leak.\n",
            "  \"timeout or by a memory leak.\", UserWarning\n"
          ],
          "name": "stderr"
        },
        {
          "output_type": "error",
          "ename": "KeyboardInterrupt",
          "evalue": "ignored",
          "traceback": [
            "\u001b[0;31m---------------------------------------------------------------------------\u001b[0m",
            "\u001b[0;31mKeyboardInterrupt\u001b[0m                         Traceback (most recent call last)",
            "\u001b[0;32m<ipython-input-70-158358a724b8>\u001b[0m in \u001b[0;36m<module>\u001b[0;34m()\u001b[0m\n\u001b[1;32m      6\u001b[0m \u001b[0mparam_grid\u001b[0m \u001b[0;34m=\u001b[0m \u001b[0mdict\u001b[0m\u001b[0;34m(\u001b[0m\u001b[0mbatch_size\u001b[0m\u001b[0;34m=\u001b[0m\u001b[0mbatch_size\u001b[0m\u001b[0;34m,\u001b[0m \u001b[0mepochs\u001b[0m\u001b[0;34m=\u001b[0m\u001b[0mepochs\u001b[0m\u001b[0;34m)\u001b[0m\u001b[0;34m\u001b[0m\u001b[0;34m\u001b[0m\u001b[0m\n\u001b[1;32m      7\u001b[0m \u001b[0mgrid\u001b[0m \u001b[0;34m=\u001b[0m \u001b[0mGridSearchCV\u001b[0m\u001b[0;34m(\u001b[0m\u001b[0mestimator\u001b[0m\u001b[0;34m=\u001b[0m\u001b[0mclassifier\u001b[0m\u001b[0;34m,\u001b[0m \u001b[0mparam_grid\u001b[0m\u001b[0;34m=\u001b[0m\u001b[0mparam_grid\u001b[0m\u001b[0;34m,\u001b[0m \u001b[0mn_jobs\u001b[0m\u001b[0;34m=\u001b[0m\u001b[0;34m-\u001b[0m\u001b[0;36m1\u001b[0m\u001b[0;34m,\u001b[0m \u001b[0mcv\u001b[0m\u001b[0;34m=\u001b[0m\u001b[0;36m3\u001b[0m\u001b[0;34m)\u001b[0m\u001b[0;34m\u001b[0m\u001b[0;34m\u001b[0m\u001b[0m\n\u001b[0;32m----> 8\u001b[0;31m \u001b[0mgrid_result\u001b[0m \u001b[0;34m=\u001b[0m \u001b[0mgrid\u001b[0m\u001b[0;34m.\u001b[0m\u001b[0mfit\u001b[0m\u001b[0;34m(\u001b[0m\u001b[0mx\u001b[0m\u001b[0;34m,\u001b[0m\u001b[0my\u001b[0m\u001b[0;34m)\u001b[0m\u001b[0;34m\u001b[0m\u001b[0;34m\u001b[0m\u001b[0m\n\u001b[0m\u001b[1;32m      9\u001b[0m \u001b[0;31m# summarize results\u001b[0m\u001b[0;34m\u001b[0m\u001b[0;34m\u001b[0m\u001b[0;34m\u001b[0m\u001b[0m\n\u001b[1;32m     10\u001b[0m \u001b[0mprint\u001b[0m\u001b[0;34m(\u001b[0m\u001b[0;34m\"Best: %f using %s\"\u001b[0m \u001b[0;34m%\u001b[0m \u001b[0;34m(\u001b[0m\u001b[0mgrid_result\u001b[0m\u001b[0;34m.\u001b[0m\u001b[0mbest_score_\u001b[0m\u001b[0;34m,\u001b[0m \u001b[0mgrid_result\u001b[0m\u001b[0;34m.\u001b[0m\u001b[0mbest_params_\u001b[0m\u001b[0;34m)\u001b[0m\u001b[0;34m)\u001b[0m\u001b[0;34m\u001b[0m\u001b[0;34m\u001b[0m\u001b[0m\n",
            "\u001b[0;32m/usr/local/lib/python3.6/dist-packages/sklearn/model_selection/_search.py\u001b[0m in \u001b[0;36mfit\u001b[0;34m(self, X, y, groups, **fit_params)\u001b[0m\n\u001b[1;32m    708\u001b[0m                 \u001b[0;32mreturn\u001b[0m \u001b[0mresults\u001b[0m\u001b[0;34m\u001b[0m\u001b[0;34m\u001b[0m\u001b[0m\n\u001b[1;32m    709\u001b[0m \u001b[0;34m\u001b[0m\u001b[0m\n\u001b[0;32m--> 710\u001b[0;31m             \u001b[0mself\u001b[0m\u001b[0;34m.\u001b[0m\u001b[0m_run_search\u001b[0m\u001b[0;34m(\u001b[0m\u001b[0mevaluate_candidates\u001b[0m\u001b[0;34m)\u001b[0m\u001b[0;34m\u001b[0m\u001b[0;34m\u001b[0m\u001b[0m\n\u001b[0m\u001b[1;32m    711\u001b[0m \u001b[0;34m\u001b[0m\u001b[0m\n\u001b[1;32m    712\u001b[0m         \u001b[0;31m# For multi-metric evaluation, store the best_index_, best_params_ and\u001b[0m\u001b[0;34m\u001b[0m\u001b[0;34m\u001b[0m\u001b[0;34m\u001b[0m\u001b[0m\n",
            "\u001b[0;32m/usr/local/lib/python3.6/dist-packages/sklearn/model_selection/_search.py\u001b[0m in \u001b[0;36m_run_search\u001b[0;34m(self, evaluate_candidates)\u001b[0m\n\u001b[1;32m   1149\u001b[0m     \u001b[0;32mdef\u001b[0m \u001b[0m_run_search\u001b[0m\u001b[0;34m(\u001b[0m\u001b[0mself\u001b[0m\u001b[0;34m,\u001b[0m \u001b[0mevaluate_candidates\u001b[0m\u001b[0;34m)\u001b[0m\u001b[0;34m:\u001b[0m\u001b[0;34m\u001b[0m\u001b[0;34m\u001b[0m\u001b[0m\n\u001b[1;32m   1150\u001b[0m         \u001b[0;34m\"\"\"Search all candidates in param_grid\"\"\"\u001b[0m\u001b[0;34m\u001b[0m\u001b[0;34m\u001b[0m\u001b[0m\n\u001b[0;32m-> 1151\u001b[0;31m         \u001b[0mevaluate_candidates\u001b[0m\u001b[0;34m(\u001b[0m\u001b[0mParameterGrid\u001b[0m\u001b[0;34m(\u001b[0m\u001b[0mself\u001b[0m\u001b[0;34m.\u001b[0m\u001b[0mparam_grid\u001b[0m\u001b[0;34m)\u001b[0m\u001b[0;34m)\u001b[0m\u001b[0;34m\u001b[0m\u001b[0;34m\u001b[0m\u001b[0m\n\u001b[0m\u001b[1;32m   1152\u001b[0m \u001b[0;34m\u001b[0m\u001b[0m\n\u001b[1;32m   1153\u001b[0m \u001b[0;34m\u001b[0m\u001b[0m\n",
            "\u001b[0;32m/usr/local/lib/python3.6/dist-packages/sklearn/model_selection/_search.py\u001b[0m in \u001b[0;36mevaluate_candidates\u001b[0;34m(candidate_params)\u001b[0m\n\u001b[1;32m    687\u001b[0m                                \u001b[0;32mfor\u001b[0m \u001b[0mparameters\u001b[0m\u001b[0;34m,\u001b[0m \u001b[0;34m(\u001b[0m\u001b[0mtrain\u001b[0m\u001b[0;34m,\u001b[0m \u001b[0mtest\u001b[0m\u001b[0;34m)\u001b[0m\u001b[0;34m\u001b[0m\u001b[0;34m\u001b[0m\u001b[0m\n\u001b[1;32m    688\u001b[0m                                in product(candidate_params,\n\u001b[0;32m--> 689\u001b[0;31m                                           cv.split(X, y, groups)))\n\u001b[0m\u001b[1;32m    690\u001b[0m \u001b[0;34m\u001b[0m\u001b[0m\n\u001b[1;32m    691\u001b[0m                 \u001b[0;32mif\u001b[0m \u001b[0mlen\u001b[0m\u001b[0;34m(\u001b[0m\u001b[0mout\u001b[0m\u001b[0;34m)\u001b[0m \u001b[0;34m<\u001b[0m \u001b[0;36m1\u001b[0m\u001b[0;34m:\u001b[0m\u001b[0;34m\u001b[0m\u001b[0;34m\u001b[0m\u001b[0m\n",
            "\u001b[0;32m/usr/local/lib/python3.6/dist-packages/joblib/parallel.py\u001b[0m in \u001b[0;36m__call__\u001b[0;34m(self, iterable)\u001b[0m\n\u001b[1;32m   1040\u001b[0m \u001b[0;34m\u001b[0m\u001b[0m\n\u001b[1;32m   1041\u001b[0m             \u001b[0;32mwith\u001b[0m \u001b[0mself\u001b[0m\u001b[0;34m.\u001b[0m\u001b[0m_backend\u001b[0m\u001b[0;34m.\u001b[0m\u001b[0mretrieval_context\u001b[0m\u001b[0;34m(\u001b[0m\u001b[0;34m)\u001b[0m\u001b[0;34m:\u001b[0m\u001b[0;34m\u001b[0m\u001b[0;34m\u001b[0m\u001b[0m\n\u001b[0;32m-> 1042\u001b[0;31m                 \u001b[0mself\u001b[0m\u001b[0;34m.\u001b[0m\u001b[0mretrieve\u001b[0m\u001b[0;34m(\u001b[0m\u001b[0;34m)\u001b[0m\u001b[0;34m\u001b[0m\u001b[0;34m\u001b[0m\u001b[0m\n\u001b[0m\u001b[1;32m   1043\u001b[0m             \u001b[0;31m# Make sure that we get a last message telling us we are done\u001b[0m\u001b[0;34m\u001b[0m\u001b[0;34m\u001b[0m\u001b[0;34m\u001b[0m\u001b[0m\n\u001b[1;32m   1044\u001b[0m             \u001b[0melapsed_time\u001b[0m \u001b[0;34m=\u001b[0m \u001b[0mtime\u001b[0m\u001b[0;34m.\u001b[0m\u001b[0mtime\u001b[0m\u001b[0;34m(\u001b[0m\u001b[0;34m)\u001b[0m \u001b[0;34m-\u001b[0m \u001b[0mself\u001b[0m\u001b[0;34m.\u001b[0m\u001b[0m_start_time\u001b[0m\u001b[0;34m\u001b[0m\u001b[0;34m\u001b[0m\u001b[0m\n",
            "\u001b[0;32m/usr/local/lib/python3.6/dist-packages/joblib/parallel.py\u001b[0m in \u001b[0;36mretrieve\u001b[0;34m(self)\u001b[0m\n\u001b[1;32m    919\u001b[0m             \u001b[0;32mtry\u001b[0m\u001b[0;34m:\u001b[0m\u001b[0;34m\u001b[0m\u001b[0;34m\u001b[0m\u001b[0m\n\u001b[1;32m    920\u001b[0m                 \u001b[0;32mif\u001b[0m \u001b[0mgetattr\u001b[0m\u001b[0;34m(\u001b[0m\u001b[0mself\u001b[0m\u001b[0;34m.\u001b[0m\u001b[0m_backend\u001b[0m\u001b[0;34m,\u001b[0m \u001b[0;34m'supports_timeout'\u001b[0m\u001b[0;34m,\u001b[0m \u001b[0;32mFalse\u001b[0m\u001b[0;34m)\u001b[0m\u001b[0;34m:\u001b[0m\u001b[0;34m\u001b[0m\u001b[0;34m\u001b[0m\u001b[0m\n\u001b[0;32m--> 921\u001b[0;31m                     \u001b[0mself\u001b[0m\u001b[0;34m.\u001b[0m\u001b[0m_output\u001b[0m\u001b[0;34m.\u001b[0m\u001b[0mextend\u001b[0m\u001b[0;34m(\u001b[0m\u001b[0mjob\u001b[0m\u001b[0;34m.\u001b[0m\u001b[0mget\u001b[0m\u001b[0;34m(\u001b[0m\u001b[0mtimeout\u001b[0m\u001b[0;34m=\u001b[0m\u001b[0mself\u001b[0m\u001b[0;34m.\u001b[0m\u001b[0mtimeout\u001b[0m\u001b[0;34m)\u001b[0m\u001b[0;34m)\u001b[0m\u001b[0;34m\u001b[0m\u001b[0;34m\u001b[0m\u001b[0m\n\u001b[0m\u001b[1;32m    922\u001b[0m                 \u001b[0;32melse\u001b[0m\u001b[0;34m:\u001b[0m\u001b[0;34m\u001b[0m\u001b[0;34m\u001b[0m\u001b[0m\n\u001b[1;32m    923\u001b[0m                     \u001b[0mself\u001b[0m\u001b[0;34m.\u001b[0m\u001b[0m_output\u001b[0m\u001b[0;34m.\u001b[0m\u001b[0mextend\u001b[0m\u001b[0;34m(\u001b[0m\u001b[0mjob\u001b[0m\u001b[0;34m.\u001b[0m\u001b[0mget\u001b[0m\u001b[0;34m(\u001b[0m\u001b[0;34m)\u001b[0m\u001b[0;34m)\u001b[0m\u001b[0;34m\u001b[0m\u001b[0;34m\u001b[0m\u001b[0m\n",
            "\u001b[0;32m/usr/local/lib/python3.6/dist-packages/joblib/_parallel_backends.py\u001b[0m in \u001b[0;36mwrap_future_result\u001b[0;34m(future, timeout)\u001b[0m\n\u001b[1;32m    540\u001b[0m         AsyncResults.get from multiprocessing.\"\"\"\n\u001b[1;32m    541\u001b[0m         \u001b[0;32mtry\u001b[0m\u001b[0;34m:\u001b[0m\u001b[0;34m\u001b[0m\u001b[0;34m\u001b[0m\u001b[0m\n\u001b[0;32m--> 542\u001b[0;31m             \u001b[0;32mreturn\u001b[0m \u001b[0mfuture\u001b[0m\u001b[0;34m.\u001b[0m\u001b[0mresult\u001b[0m\u001b[0;34m(\u001b[0m\u001b[0mtimeout\u001b[0m\u001b[0;34m=\u001b[0m\u001b[0mtimeout\u001b[0m\u001b[0;34m)\u001b[0m\u001b[0;34m\u001b[0m\u001b[0;34m\u001b[0m\u001b[0m\n\u001b[0m\u001b[1;32m    543\u001b[0m         \u001b[0;32mexcept\u001b[0m \u001b[0mCfTimeoutError\u001b[0m \u001b[0;32mas\u001b[0m \u001b[0me\u001b[0m\u001b[0;34m:\u001b[0m\u001b[0;34m\u001b[0m\u001b[0;34m\u001b[0m\u001b[0m\n\u001b[1;32m    544\u001b[0m             \u001b[0;32mraise\u001b[0m \u001b[0mTimeoutError\u001b[0m \u001b[0;32mfrom\u001b[0m \u001b[0me\u001b[0m\u001b[0;34m\u001b[0m\u001b[0;34m\u001b[0m\u001b[0m\n",
            "\u001b[0;32m/usr/lib/python3.6/concurrent/futures/_base.py\u001b[0m in \u001b[0;36mresult\u001b[0;34m(self, timeout)\u001b[0m\n\u001b[1;32m    425\u001b[0m                 \u001b[0;32mreturn\u001b[0m \u001b[0mself\u001b[0m\u001b[0;34m.\u001b[0m\u001b[0m__get_result\u001b[0m\u001b[0;34m(\u001b[0m\u001b[0;34m)\u001b[0m\u001b[0;34m\u001b[0m\u001b[0;34m\u001b[0m\u001b[0m\n\u001b[1;32m    426\u001b[0m \u001b[0;34m\u001b[0m\u001b[0m\n\u001b[0;32m--> 427\u001b[0;31m             \u001b[0mself\u001b[0m\u001b[0;34m.\u001b[0m\u001b[0m_condition\u001b[0m\u001b[0;34m.\u001b[0m\u001b[0mwait\u001b[0m\u001b[0;34m(\u001b[0m\u001b[0mtimeout\u001b[0m\u001b[0;34m)\u001b[0m\u001b[0;34m\u001b[0m\u001b[0;34m\u001b[0m\u001b[0m\n\u001b[0m\u001b[1;32m    428\u001b[0m \u001b[0;34m\u001b[0m\u001b[0m\n\u001b[1;32m    429\u001b[0m             \u001b[0;32mif\u001b[0m \u001b[0mself\u001b[0m\u001b[0;34m.\u001b[0m\u001b[0m_state\u001b[0m \u001b[0;32min\u001b[0m \u001b[0;34m[\u001b[0m\u001b[0mCANCELLED\u001b[0m\u001b[0;34m,\u001b[0m \u001b[0mCANCELLED_AND_NOTIFIED\u001b[0m\u001b[0;34m]\u001b[0m\u001b[0;34m:\u001b[0m\u001b[0;34m\u001b[0m\u001b[0;34m\u001b[0m\u001b[0m\n",
            "\u001b[0;32m/usr/lib/python3.6/threading.py\u001b[0m in \u001b[0;36mwait\u001b[0;34m(self, timeout)\u001b[0m\n\u001b[1;32m    293\u001b[0m         \u001b[0;32mtry\u001b[0m\u001b[0;34m:\u001b[0m    \u001b[0;31m# restore state no matter what (e.g., KeyboardInterrupt)\u001b[0m\u001b[0;34m\u001b[0m\u001b[0;34m\u001b[0m\u001b[0m\n\u001b[1;32m    294\u001b[0m             \u001b[0;32mif\u001b[0m \u001b[0mtimeout\u001b[0m \u001b[0;32mis\u001b[0m \u001b[0;32mNone\u001b[0m\u001b[0;34m:\u001b[0m\u001b[0;34m\u001b[0m\u001b[0;34m\u001b[0m\u001b[0m\n\u001b[0;32m--> 295\u001b[0;31m                 \u001b[0mwaiter\u001b[0m\u001b[0;34m.\u001b[0m\u001b[0macquire\u001b[0m\u001b[0;34m(\u001b[0m\u001b[0;34m)\u001b[0m\u001b[0;34m\u001b[0m\u001b[0;34m\u001b[0m\u001b[0m\n\u001b[0m\u001b[1;32m    296\u001b[0m                 \u001b[0mgotit\u001b[0m \u001b[0;34m=\u001b[0m \u001b[0;32mTrue\u001b[0m\u001b[0;34m\u001b[0m\u001b[0;34m\u001b[0m\u001b[0m\n\u001b[1;32m    297\u001b[0m             \u001b[0;32melse\u001b[0m\u001b[0;34m:\u001b[0m\u001b[0;34m\u001b[0m\u001b[0;34m\u001b[0m\u001b[0m\n",
            "\u001b[0;31mKeyboardInterrupt\u001b[0m: "
          ]
        }
      ]
    },
    {
      "cell_type": "code",
      "metadata": {
        "id": "K7RnJ1QXrtcY"
      },
      "source": [
        "def create_classifier(optimizer='adam'):\n",
        "\n",
        "#BasicConvNet\n",
        "    classifier = Sequential()\n",
        "\n",
        "    classifier.add(Conv2D(filters=64,kernel_size=(3,3),padding='valid',activation='relu',input_shape=(256,256,3)))\n",
        "#keras.layers.BatchNormalization()\n",
        "    classifier.add(MaxPooling2D(pool_size=(2,2)))\n",
        "\n",
        "    classifier.add(Conv2D(filters=64,kernel_size=(3,3),padding='valid',activation='relu',kernel_regularizer=regularizers.l2(0.05)))\n",
        "#keras.layers.BatchNormalization()\n",
        "    classifier.add(MaxPooling2D(pool_size=(2,2)))\n",
        "\n",
        "    classifier.add(Conv2D(filters=64,kernel_size=(3,3),padding='valid',activation='relu',kernel_regularizer=regularizers.l2(0.05)))\n",
        "    #keras.layers.BatchNormalization()\n",
        "    classifier.add(MaxPooling2D(pool_size=(2,2)))\n",
        "\n",
        "    #classifier.add(Dropout(0.5))\n",
        "\n",
        "\n",
        "    classifier.add(Flatten())# Flattening the \n",
        "\n",
        "    #classifier.add(Dense(200,activation=\"relu\")) #200 is the number of nuerons in hidden layers\n",
        "    classifier.add(Dense(128,activation=\"relu\"))\n",
        "    classifier.add(Dense(64,activation=\"relu\"))\n",
        "    classifier.add(Dense(32,activation=\"relu\"))  \n",
        "\n",
        "    #classifier.add(Dropout(0.5))\n",
        "\n",
        "\n",
        "\n",
        "    classifier.add(Dense(3,activation=\"softmax\"))  #3 represent output layer neurons for three different classes \n",
        "\n",
        "    classifier.summary()\n",
        "    classifier.compile(loss='categorical_crossentropy', optimizer=optimizer, metrics=['accuracy'])\n",
        "\n",
        "    return classifier"
      ],
      "execution_count": null,
      "outputs": []
    },
    {
      "cell_type": "code",
      "metadata": {
        "id": "0kBKxU63sABc",
        "outputId": "91fcf788-cadd-4847-866e-277e87367f63",
        "colab": {
          "base_uri": "https://localhost:8080/",
          "height": 692
        }
      },
      "source": [
        "classifier = KerasClassifier(build_fn=create_classifier, epochs=50, batch_size=10, verbose=0)\n",
        "# define the grid search parameters\n",
        "optimizer = ['SGD', 'RMSprop', 'Adagrad', 'Adadelta', 'Adam', 'Adamax', 'Nadam']\n",
        "param_grid = dict(optimizer=optimizer)\n",
        "grid = GridSearchCV(estimator=classifier, param_grid=param_grid, n_jobs=-1, cv=3)\n",
        "grid_result = grid.fit(x,y)\n",
        "# summarize results\n",
        "print(\"Best: %f using %s\" % (grid_result.best_score_, grid_result.best_params_))\n",
        "means = grid_result.cv_results_['mean_test_score']\n",
        "stds = grid_result.cv_results_['std_test_score']\n",
        "params = grid_result.cv_results_['params']\n",
        "for mean, stdev, param in zip(means, stds, params):\n",
        "    print(\"%f (%f) with: %r\" % (mean, stdev, param))"
      ],
      "execution_count": null,
      "outputs": [
        {
          "output_type": "stream",
          "text": [
            "Model: \"sequential_32\"\n",
            "_________________________________________________________________\n",
            "Layer (type)                 Output Shape              Param #   \n",
            "=================================================================\n",
            "conv2d_96 (Conv2D)           (None, 254, 254, 64)      1792      \n",
            "_________________________________________________________________\n",
            "max_pooling2d_96 (MaxPooling (None, 127, 127, 64)      0         \n",
            "_________________________________________________________________\n",
            "conv2d_97 (Conv2D)           (None, 125, 125, 64)      36928     \n",
            "_________________________________________________________________\n",
            "max_pooling2d_97 (MaxPooling (None, 62, 62, 64)        0         \n",
            "_________________________________________________________________\n",
            "conv2d_98 (Conv2D)           (None, 60, 60, 64)        36928     \n",
            "_________________________________________________________________\n",
            "max_pooling2d_98 (MaxPooling (None, 30, 30, 64)        0         \n",
            "_________________________________________________________________\n",
            "flatten_32 (Flatten)         (None, 57600)             0         \n",
            "_________________________________________________________________\n",
            "dense_128 (Dense)            (None, 128)               7372928   \n",
            "_________________________________________________________________\n",
            "dense_129 (Dense)            (None, 64)                8256      \n",
            "_________________________________________________________________\n",
            "dense_130 (Dense)            (None, 32)                2080      \n",
            "_________________________________________________________________\n",
            "dense_131 (Dense)            (None, 3)                 99        \n",
            "=================================================================\n",
            "Total params: 7,459,011\n",
            "Trainable params: 7,459,011\n",
            "Non-trainable params: 0\n",
            "_________________________________________________________________\n",
            "Best: 0.857143 using {'optimizer': 'Adamax'}\n",
            "nan (nan) with: {'optimizer': 'SGD'}\n",
            "nan (nan) with: {'optimizer': 'RMSprop'}\n",
            "0.309524 (0.146772) with: {'optimizer': 'Adagrad'}\n",
            "nan (nan) with: {'optimizer': 'Adadelta'}\n",
            "nan (nan) with: {'optimizer': 'Adam'}\n",
            "0.857143 (0.116642) with: {'optimizer': 'Adamax'}\n",
            "nan (nan) with: {'optimizer': 'Nadam'}\n"
          ],
          "name": "stdout"
        }
      ]
    },
    {
      "cell_type": "code",
      "metadata": {
        "id": "pfTCoSnxtDxF"
      },
      "source": [
        "from keras.optimizers import Adamax\n",
        "def create_classifier(learn_rate=0.01, beta_1=0):\n",
        "\n",
        "#BasicConvNet\n",
        "    classifier = Sequential()\n",
        "\n",
        "    classifier.add(Conv2D(filters=64,kernel_size=(3,3),padding='valid',activation='relu',input_shape=(256,256,3)))\n",
        "#keras.layers.BatchNormalization()\n",
        "    classifier.add(MaxPooling2D(pool_size=(2,2)))\n",
        "\n",
        "    classifier.add(Conv2D(filters=64,kernel_size=(3,3),padding='valid',activation='relu',kernel_regularizer=regularizers.l2(0.05)))\n",
        "#keras.layers.BatchNormalization()\n",
        "    classifier.add(MaxPooling2D(pool_size=(2,2)))\n",
        "\n",
        "    classifier.add(Conv2D(filters=64,kernel_size=(3,3),padding='valid',activation='relu',kernel_regularizer=regularizers.l2(0.05)))\n",
        "    #keras.layers.BatchNormalization()\n",
        "    classifier.add(MaxPooling2D(pool_size=(2,2)))\n",
        "\n",
        "    #classifier.add(Dropout(0.5))\n",
        "\n",
        "\n",
        "    classifier.add(Flatten())# Flattening the \n",
        "\n",
        "    #classifier.add(Dense(200,activation=\"relu\")) #200 is the number of nuerons in hidden layers\n",
        "    classifier.add(Dense(128,activation=\"relu\"))\n",
        "    classifier.add(Dense(64,activation=\"relu\"))\n",
        "    classifier.add(Dense(32,activation=\"relu\"))  \n",
        "\n",
        "    #classifier.add(Dropout(0.5))\n",
        "\n",
        "\n",
        "\n",
        "    classifier.add(Dense(3,activation=\"softmax\"))  #3 represent output layer neurons for three different classes \n",
        "\n",
        "    classifier.summary()\n",
        "    optimizer = Adamax(lr=learn_rate, beta_1=beta_1)\n",
        "    classifier.compile(loss='categorical_crossentropy', optimizer=optimizer, metrics=['accuracy'])\n",
        "\n",
        "    return classifier\n",
        "\n"
      ],
      "execution_count": null,
      "outputs": []
    },
    {
      "cell_type": "code",
      "metadata": {
        "id": "_M-zBULS0adN",
        "outputId": "85067b23-980d-440d-c54e-6bd0553ecc07",
        "colab": {
          "base_uri": "https://localhost:8080/",
          "height": 1000
        }
      },
      "source": [
        "from sklearn.model_selection import GridSearchCV\n",
        "from keras.models import Sequential\n",
        "from keras.layers import Dense\n",
        "from keras.wrappers.scikit_learn import KerasClassifier\n",
        "classifier = KerasClassifier(build_fn=create_classifier, epochs=50, batch_size=10, verbose=0)\n",
        "# define the grid search parameters\n",
        "learn_rate = [0.001, 0.01, 0.1, 0.2, 0.3]\n",
        "beta_1 = [0.0, 0.2, 0.4, 0.6, 0.8, 0.9]\n",
        "param_grid = dict(learn_rate=learn_rate, beta_1=beta_1)\n",
        "grid = GridSearchCV(estimator=classifier, param_grid=param_grid, n_jobs=1, cv=3)\n",
        "grid_result = grid.fit(x,y)\n",
        "# summarize results\n",
        "print(\"Best: %f using %s\" % (grid_result.best_score_, grid_result.best_params_))\n",
        "means = grid_result.cv_results_['mean_test_score']\n",
        "stds = grid_result.cv_results_['std_test_score']\n",
        "params = grid_result.cv_results_['params']\n",
        "for mean, stdev, param in zip(means, stds, params):\n",
        "    print(\"%f (%f) with: %r\" % (mean, stdev, param))"
      ],
      "execution_count": null,
      "outputs": [
        {
          "output_type": "stream",
          "text": [
            "Model: \"sequential_35\"\n",
            "_________________________________________________________________\n",
            "Layer (type)                 Output Shape              Param #   \n",
            "=================================================================\n",
            "conv2d_105 (Conv2D)          (None, 254, 254, 64)      1792      \n",
            "_________________________________________________________________\n",
            "max_pooling2d_105 (MaxPoolin (None, 127, 127, 64)      0         \n",
            "_________________________________________________________________\n",
            "conv2d_106 (Conv2D)          (None, 125, 125, 64)      36928     \n",
            "_________________________________________________________________\n",
            "max_pooling2d_106 (MaxPoolin (None, 62, 62, 64)        0         \n",
            "_________________________________________________________________\n",
            "conv2d_107 (Conv2D)          (None, 60, 60, 64)        36928     \n",
            "_________________________________________________________________\n",
            "max_pooling2d_107 (MaxPoolin (None, 30, 30, 64)        0         \n",
            "_________________________________________________________________\n",
            "flatten_35 (Flatten)         (None, 57600)             0         \n",
            "_________________________________________________________________\n",
            "dense_140 (Dense)            (None, 128)               7372928   \n",
            "_________________________________________________________________\n",
            "dense_141 (Dense)            (None, 64)                8256      \n",
            "_________________________________________________________________\n",
            "dense_142 (Dense)            (None, 32)                2080      \n",
            "_________________________________________________________________\n",
            "dense_143 (Dense)            (None, 3)                 99        \n",
            "=================================================================\n",
            "Total params: 7,459,011\n",
            "Trainable params: 7,459,011\n",
            "Non-trainable params: 0\n",
            "_________________________________________________________________\n",
            "Model: \"sequential_36\"\n",
            "_________________________________________________________________\n",
            "Layer (type)                 Output Shape              Param #   \n",
            "=================================================================\n",
            "conv2d_108 (Conv2D)          (None, 254, 254, 64)      1792      \n",
            "_________________________________________________________________\n",
            "max_pooling2d_108 (MaxPoolin (None, 127, 127, 64)      0         \n",
            "_________________________________________________________________\n",
            "conv2d_109 (Conv2D)          (None, 125, 125, 64)      36928     \n",
            "_________________________________________________________________\n",
            "max_pooling2d_109 (MaxPoolin (None, 62, 62, 64)        0         \n",
            "_________________________________________________________________\n",
            "conv2d_110 (Conv2D)          (None, 60, 60, 64)        36928     \n",
            "_________________________________________________________________\n",
            "max_pooling2d_110 (MaxPoolin (None, 30, 30, 64)        0         \n",
            "_________________________________________________________________\n",
            "flatten_36 (Flatten)         (None, 57600)             0         \n",
            "_________________________________________________________________\n",
            "dense_144 (Dense)            (None, 128)               7372928   \n",
            "_________________________________________________________________\n",
            "dense_145 (Dense)            (None, 64)                8256      \n",
            "_________________________________________________________________\n",
            "dense_146 (Dense)            (None, 32)                2080      \n",
            "_________________________________________________________________\n",
            "dense_147 (Dense)            (None, 3)                 99        \n",
            "=================================================================\n",
            "Total params: 7,459,011\n",
            "Trainable params: 7,459,011\n",
            "Non-trainable params: 0\n",
            "_________________________________________________________________\n",
            "Model: \"sequential_37\"\n",
            "_________________________________________________________________\n",
            "Layer (type)                 Output Shape              Param #   \n",
            "=================================================================\n",
            "conv2d_111 (Conv2D)          (None, 254, 254, 64)      1792      \n",
            "_________________________________________________________________\n",
            "max_pooling2d_111 (MaxPoolin (None, 127, 127, 64)      0         \n",
            "_________________________________________________________________\n",
            "conv2d_112 (Conv2D)          (None, 125, 125, 64)      36928     \n",
            "_________________________________________________________________\n",
            "max_pooling2d_112 (MaxPoolin (None, 62, 62, 64)        0         \n",
            "_________________________________________________________________\n",
            "conv2d_113 (Conv2D)          (None, 60, 60, 64)        36928     \n",
            "_________________________________________________________________\n",
            "max_pooling2d_113 (MaxPoolin (None, 30, 30, 64)        0         \n",
            "_________________________________________________________________\n",
            "flatten_37 (Flatten)         (None, 57600)             0         \n",
            "_________________________________________________________________\n",
            "dense_148 (Dense)            (None, 128)               7372928   \n",
            "_________________________________________________________________\n",
            "dense_149 (Dense)            (None, 64)                8256      \n",
            "_________________________________________________________________\n",
            "dense_150 (Dense)            (None, 32)                2080      \n",
            "_________________________________________________________________\n",
            "dense_151 (Dense)            (None, 3)                 99        \n",
            "=================================================================\n",
            "Total params: 7,459,011\n",
            "Trainable params: 7,459,011\n",
            "Non-trainable params: 0\n",
            "_________________________________________________________________\n",
            "Model: \"sequential_38\"\n",
            "_________________________________________________________________\n",
            "Layer (type)                 Output Shape              Param #   \n",
            "=================================================================\n",
            "conv2d_114 (Conv2D)          (None, 254, 254, 64)      1792      \n",
            "_________________________________________________________________\n",
            "max_pooling2d_114 (MaxPoolin (None, 127, 127, 64)      0         \n",
            "_________________________________________________________________\n",
            "conv2d_115 (Conv2D)          (None, 125, 125, 64)      36928     \n",
            "_________________________________________________________________\n",
            "max_pooling2d_115 (MaxPoolin (None, 62, 62, 64)        0         \n",
            "_________________________________________________________________\n",
            "conv2d_116 (Conv2D)          (None, 60, 60, 64)        36928     \n",
            "_________________________________________________________________\n",
            "max_pooling2d_116 (MaxPoolin (None, 30, 30, 64)        0         \n",
            "_________________________________________________________________\n",
            "flatten_38 (Flatten)         (None, 57600)             0         \n",
            "_________________________________________________________________\n",
            "dense_152 (Dense)            (None, 128)               7372928   \n",
            "_________________________________________________________________\n",
            "dense_153 (Dense)            (None, 64)                8256      \n",
            "_________________________________________________________________\n",
            "dense_154 (Dense)            (None, 32)                2080      \n",
            "_________________________________________________________________\n",
            "dense_155 (Dense)            (None, 3)                 99        \n",
            "=================================================================\n",
            "Total params: 7,459,011\n",
            "Trainable params: 7,459,011\n",
            "Non-trainable params: 0\n",
            "_________________________________________________________________\n",
            "WARNING:tensorflow:5 out of the last 26 calls to <function Model.make_test_function.<locals>.test_function at 0x7f82b76ebbf8> triggered tf.function retracing. Tracing is expensive and the excessive number of tracings could be due to (1) creating @tf.function repeatedly in a loop, (2) passing tensors with different shapes, (3) passing Python objects instead of tensors. For (1), please define your @tf.function outside of the loop. For (2), @tf.function has experimental_relax_shapes=True option that relaxes argument shapes that can avoid unnecessary retracing. For (3), please refer to https://www.tensorflow.org/tutorials/customization/performance#python_or_tensor_args and https://www.tensorflow.org/api_docs/python/tf/function for  more details.\n",
            "Model: \"sequential_39\"\n",
            "_________________________________________________________________\n",
            "Layer (type)                 Output Shape              Param #   \n",
            "=================================================================\n",
            "conv2d_117 (Conv2D)          (None, 254, 254, 64)      1792      \n",
            "_________________________________________________________________\n",
            "max_pooling2d_117 (MaxPoolin (None, 127, 127, 64)      0         \n",
            "_________________________________________________________________\n",
            "conv2d_118 (Conv2D)          (None, 125, 125, 64)      36928     \n",
            "_________________________________________________________________\n",
            "max_pooling2d_118 (MaxPoolin (None, 62, 62, 64)        0         \n",
            "_________________________________________________________________\n",
            "conv2d_119 (Conv2D)          (None, 60, 60, 64)        36928     \n",
            "_________________________________________________________________\n",
            "max_pooling2d_119 (MaxPoolin (None, 30, 30, 64)        0         \n",
            "_________________________________________________________________\n",
            "flatten_39 (Flatten)         (None, 57600)             0         \n",
            "_________________________________________________________________\n",
            "dense_156 (Dense)            (None, 128)               7372928   \n",
            "_________________________________________________________________\n",
            "dense_157 (Dense)            (None, 64)                8256      \n",
            "_________________________________________________________________\n",
            "dense_158 (Dense)            (None, 32)                2080      \n",
            "_________________________________________________________________\n",
            "dense_159 (Dense)            (None, 3)                 99        \n",
            "=================================================================\n",
            "Total params: 7,459,011\n",
            "Trainable params: 7,459,011\n",
            "Non-trainable params: 0\n",
            "_________________________________________________________________\n"
          ],
          "name": "stdout"
        },
        {
          "output_type": "error",
          "ename": "KeyboardInterrupt",
          "evalue": "ignored",
          "traceback": [
            "\u001b[0;31m---------------------------------------------------------------------------\u001b[0m",
            "\u001b[0;31mKeyboardInterrupt\u001b[0m                         Traceback (most recent call last)",
            "\u001b[0;32m<ipython-input-73-6f1ac13f39f6>\u001b[0m in \u001b[0;36m<module>\u001b[0;34m()\u001b[0m\n\u001b[1;32m      9\u001b[0m \u001b[0mparam_grid\u001b[0m \u001b[0;34m=\u001b[0m \u001b[0mdict\u001b[0m\u001b[0;34m(\u001b[0m\u001b[0mlearn_rate\u001b[0m\u001b[0;34m=\u001b[0m\u001b[0mlearn_rate\u001b[0m\u001b[0;34m,\u001b[0m \u001b[0mbeta_1\u001b[0m\u001b[0;34m=\u001b[0m\u001b[0mbeta_1\u001b[0m\u001b[0;34m)\u001b[0m\u001b[0;34m\u001b[0m\u001b[0;34m\u001b[0m\u001b[0m\n\u001b[1;32m     10\u001b[0m \u001b[0mgrid\u001b[0m \u001b[0;34m=\u001b[0m \u001b[0mGridSearchCV\u001b[0m\u001b[0;34m(\u001b[0m\u001b[0mestimator\u001b[0m\u001b[0;34m=\u001b[0m\u001b[0mclassifier\u001b[0m\u001b[0;34m,\u001b[0m \u001b[0mparam_grid\u001b[0m\u001b[0;34m=\u001b[0m\u001b[0mparam_grid\u001b[0m\u001b[0;34m,\u001b[0m \u001b[0mn_jobs\u001b[0m\u001b[0;34m=\u001b[0m\u001b[0;36m1\u001b[0m\u001b[0;34m,\u001b[0m \u001b[0mcv\u001b[0m\u001b[0;34m=\u001b[0m\u001b[0;36m3\u001b[0m\u001b[0;34m)\u001b[0m\u001b[0;34m\u001b[0m\u001b[0;34m\u001b[0m\u001b[0m\n\u001b[0;32m---> 11\u001b[0;31m \u001b[0mgrid_result\u001b[0m \u001b[0;34m=\u001b[0m \u001b[0mgrid\u001b[0m\u001b[0;34m.\u001b[0m\u001b[0mfit\u001b[0m\u001b[0;34m(\u001b[0m\u001b[0mx\u001b[0m\u001b[0;34m,\u001b[0m\u001b[0my\u001b[0m\u001b[0;34m)\u001b[0m\u001b[0;34m\u001b[0m\u001b[0;34m\u001b[0m\u001b[0m\n\u001b[0m\u001b[1;32m     12\u001b[0m \u001b[0;31m# summarize results\u001b[0m\u001b[0;34m\u001b[0m\u001b[0;34m\u001b[0m\u001b[0;34m\u001b[0m\u001b[0m\n\u001b[1;32m     13\u001b[0m \u001b[0mprint\u001b[0m\u001b[0;34m(\u001b[0m\u001b[0;34m\"Best: %f using %s\"\u001b[0m \u001b[0;34m%\u001b[0m \u001b[0;34m(\u001b[0m\u001b[0mgrid_result\u001b[0m\u001b[0;34m.\u001b[0m\u001b[0mbest_score_\u001b[0m\u001b[0;34m,\u001b[0m \u001b[0mgrid_result\u001b[0m\u001b[0;34m.\u001b[0m\u001b[0mbest_params_\u001b[0m\u001b[0;34m)\u001b[0m\u001b[0;34m)\u001b[0m\u001b[0;34m\u001b[0m\u001b[0;34m\u001b[0m\u001b[0m\n",
            "\u001b[0;32m/usr/local/lib/python3.6/dist-packages/sklearn/model_selection/_search.py\u001b[0m in \u001b[0;36mfit\u001b[0;34m(self, X, y, groups, **fit_params)\u001b[0m\n\u001b[1;32m    708\u001b[0m                 \u001b[0;32mreturn\u001b[0m \u001b[0mresults\u001b[0m\u001b[0;34m\u001b[0m\u001b[0;34m\u001b[0m\u001b[0m\n\u001b[1;32m    709\u001b[0m \u001b[0;34m\u001b[0m\u001b[0m\n\u001b[0;32m--> 710\u001b[0;31m             \u001b[0mself\u001b[0m\u001b[0;34m.\u001b[0m\u001b[0m_run_search\u001b[0m\u001b[0;34m(\u001b[0m\u001b[0mevaluate_candidates\u001b[0m\u001b[0;34m)\u001b[0m\u001b[0;34m\u001b[0m\u001b[0;34m\u001b[0m\u001b[0m\n\u001b[0m\u001b[1;32m    711\u001b[0m \u001b[0;34m\u001b[0m\u001b[0m\n\u001b[1;32m    712\u001b[0m         \u001b[0;31m# For multi-metric evaluation, store the best_index_, best_params_ and\u001b[0m\u001b[0;34m\u001b[0m\u001b[0;34m\u001b[0m\u001b[0;34m\u001b[0m\u001b[0m\n",
            "\u001b[0;32m/usr/local/lib/python3.6/dist-packages/sklearn/model_selection/_search.py\u001b[0m in \u001b[0;36m_run_search\u001b[0;34m(self, evaluate_candidates)\u001b[0m\n\u001b[1;32m   1149\u001b[0m     \u001b[0;32mdef\u001b[0m \u001b[0m_run_search\u001b[0m\u001b[0;34m(\u001b[0m\u001b[0mself\u001b[0m\u001b[0;34m,\u001b[0m \u001b[0mevaluate_candidates\u001b[0m\u001b[0;34m)\u001b[0m\u001b[0;34m:\u001b[0m\u001b[0;34m\u001b[0m\u001b[0;34m\u001b[0m\u001b[0m\n\u001b[1;32m   1150\u001b[0m         \u001b[0;34m\"\"\"Search all candidates in param_grid\"\"\"\u001b[0m\u001b[0;34m\u001b[0m\u001b[0;34m\u001b[0m\u001b[0m\n\u001b[0;32m-> 1151\u001b[0;31m         \u001b[0mevaluate_candidates\u001b[0m\u001b[0;34m(\u001b[0m\u001b[0mParameterGrid\u001b[0m\u001b[0;34m(\u001b[0m\u001b[0mself\u001b[0m\u001b[0;34m.\u001b[0m\u001b[0mparam_grid\u001b[0m\u001b[0;34m)\u001b[0m\u001b[0;34m)\u001b[0m\u001b[0;34m\u001b[0m\u001b[0;34m\u001b[0m\u001b[0m\n\u001b[0m\u001b[1;32m   1152\u001b[0m \u001b[0;34m\u001b[0m\u001b[0m\n\u001b[1;32m   1153\u001b[0m \u001b[0;34m\u001b[0m\u001b[0m\n",
            "\u001b[0;32m/usr/local/lib/python3.6/dist-packages/sklearn/model_selection/_search.py\u001b[0m in \u001b[0;36mevaluate_candidates\u001b[0;34m(candidate_params)\u001b[0m\n\u001b[1;32m    687\u001b[0m                                \u001b[0;32mfor\u001b[0m \u001b[0mparameters\u001b[0m\u001b[0;34m,\u001b[0m \u001b[0;34m(\u001b[0m\u001b[0mtrain\u001b[0m\u001b[0;34m,\u001b[0m \u001b[0mtest\u001b[0m\u001b[0;34m)\u001b[0m\u001b[0;34m\u001b[0m\u001b[0;34m\u001b[0m\u001b[0m\n\u001b[1;32m    688\u001b[0m                                in product(candidate_params,\n\u001b[0;32m--> 689\u001b[0;31m                                           cv.split(X, y, groups)))\n\u001b[0m\u001b[1;32m    690\u001b[0m \u001b[0;34m\u001b[0m\u001b[0m\n\u001b[1;32m    691\u001b[0m                 \u001b[0;32mif\u001b[0m \u001b[0mlen\u001b[0m\u001b[0;34m(\u001b[0m\u001b[0mout\u001b[0m\u001b[0;34m)\u001b[0m \u001b[0;34m<\u001b[0m \u001b[0;36m1\u001b[0m\u001b[0;34m:\u001b[0m\u001b[0;34m\u001b[0m\u001b[0;34m\u001b[0m\u001b[0m\n",
            "\u001b[0;32m/usr/local/lib/python3.6/dist-packages/joblib/parallel.py\u001b[0m in \u001b[0;36m__call__\u001b[0;34m(self, iterable)\u001b[0m\n\u001b[1;32m   1030\u001b[0m                 \u001b[0mself\u001b[0m\u001b[0;34m.\u001b[0m\u001b[0m_iterating\u001b[0m \u001b[0;34m=\u001b[0m \u001b[0mself\u001b[0m\u001b[0;34m.\u001b[0m\u001b[0m_original_iterator\u001b[0m \u001b[0;32mis\u001b[0m \u001b[0;32mnot\u001b[0m \u001b[0;32mNone\u001b[0m\u001b[0;34m\u001b[0m\u001b[0;34m\u001b[0m\u001b[0m\n\u001b[1;32m   1031\u001b[0m \u001b[0;34m\u001b[0m\u001b[0m\n\u001b[0;32m-> 1032\u001b[0;31m             \u001b[0;32mwhile\u001b[0m \u001b[0mself\u001b[0m\u001b[0;34m.\u001b[0m\u001b[0mdispatch_one_batch\u001b[0m\u001b[0;34m(\u001b[0m\u001b[0miterator\u001b[0m\u001b[0;34m)\u001b[0m\u001b[0;34m:\u001b[0m\u001b[0;34m\u001b[0m\u001b[0;34m\u001b[0m\u001b[0m\n\u001b[0m\u001b[1;32m   1033\u001b[0m                 \u001b[0;32mpass\u001b[0m\u001b[0;34m\u001b[0m\u001b[0;34m\u001b[0m\u001b[0m\n\u001b[1;32m   1034\u001b[0m \u001b[0;34m\u001b[0m\u001b[0m\n",
            "\u001b[0;32m/usr/local/lib/python3.6/dist-packages/joblib/parallel.py\u001b[0m in \u001b[0;36mdispatch_one_batch\u001b[0;34m(self, iterator)\u001b[0m\n\u001b[1;32m    845\u001b[0m                 \u001b[0;32mreturn\u001b[0m \u001b[0;32mFalse\u001b[0m\u001b[0;34m\u001b[0m\u001b[0;34m\u001b[0m\u001b[0m\n\u001b[1;32m    846\u001b[0m             \u001b[0;32melse\u001b[0m\u001b[0;34m:\u001b[0m\u001b[0;34m\u001b[0m\u001b[0;34m\u001b[0m\u001b[0m\n\u001b[0;32m--> 847\u001b[0;31m                 \u001b[0mself\u001b[0m\u001b[0;34m.\u001b[0m\u001b[0m_dispatch\u001b[0m\u001b[0;34m(\u001b[0m\u001b[0mtasks\u001b[0m\u001b[0;34m)\u001b[0m\u001b[0;34m\u001b[0m\u001b[0;34m\u001b[0m\u001b[0m\n\u001b[0m\u001b[1;32m    848\u001b[0m                 \u001b[0;32mreturn\u001b[0m \u001b[0;32mTrue\u001b[0m\u001b[0;34m\u001b[0m\u001b[0;34m\u001b[0m\u001b[0m\n\u001b[1;32m    849\u001b[0m \u001b[0;34m\u001b[0m\u001b[0m\n",
            "\u001b[0;32m/usr/local/lib/python3.6/dist-packages/joblib/parallel.py\u001b[0m in \u001b[0;36m_dispatch\u001b[0;34m(self, batch)\u001b[0m\n\u001b[1;32m    763\u001b[0m         \u001b[0;32mwith\u001b[0m \u001b[0mself\u001b[0m\u001b[0;34m.\u001b[0m\u001b[0m_lock\u001b[0m\u001b[0;34m:\u001b[0m\u001b[0;34m\u001b[0m\u001b[0;34m\u001b[0m\u001b[0m\n\u001b[1;32m    764\u001b[0m             \u001b[0mjob_idx\u001b[0m \u001b[0;34m=\u001b[0m \u001b[0mlen\u001b[0m\u001b[0;34m(\u001b[0m\u001b[0mself\u001b[0m\u001b[0;34m.\u001b[0m\u001b[0m_jobs\u001b[0m\u001b[0;34m)\u001b[0m\u001b[0;34m\u001b[0m\u001b[0;34m\u001b[0m\u001b[0m\n\u001b[0;32m--> 765\u001b[0;31m             \u001b[0mjob\u001b[0m \u001b[0;34m=\u001b[0m \u001b[0mself\u001b[0m\u001b[0;34m.\u001b[0m\u001b[0m_backend\u001b[0m\u001b[0;34m.\u001b[0m\u001b[0mapply_async\u001b[0m\u001b[0;34m(\u001b[0m\u001b[0mbatch\u001b[0m\u001b[0;34m,\u001b[0m \u001b[0mcallback\u001b[0m\u001b[0;34m=\u001b[0m\u001b[0mcb\u001b[0m\u001b[0;34m)\u001b[0m\u001b[0;34m\u001b[0m\u001b[0;34m\u001b[0m\u001b[0m\n\u001b[0m\u001b[1;32m    766\u001b[0m             \u001b[0;31m# A job can complete so quickly than its callback is\u001b[0m\u001b[0;34m\u001b[0m\u001b[0;34m\u001b[0m\u001b[0;34m\u001b[0m\u001b[0m\n\u001b[1;32m    767\u001b[0m             \u001b[0;31m# called before we get here, causing self._jobs to\u001b[0m\u001b[0;34m\u001b[0m\u001b[0;34m\u001b[0m\u001b[0;34m\u001b[0m\u001b[0m\n",
            "\u001b[0;32m/usr/local/lib/python3.6/dist-packages/joblib/_parallel_backends.py\u001b[0m in \u001b[0;36mapply_async\u001b[0;34m(self, func, callback)\u001b[0m\n\u001b[1;32m    206\u001b[0m     \u001b[0;32mdef\u001b[0m \u001b[0mapply_async\u001b[0m\u001b[0;34m(\u001b[0m\u001b[0mself\u001b[0m\u001b[0;34m,\u001b[0m \u001b[0mfunc\u001b[0m\u001b[0;34m,\u001b[0m \u001b[0mcallback\u001b[0m\u001b[0;34m=\u001b[0m\u001b[0;32mNone\u001b[0m\u001b[0;34m)\u001b[0m\u001b[0;34m:\u001b[0m\u001b[0;34m\u001b[0m\u001b[0;34m\u001b[0m\u001b[0m\n\u001b[1;32m    207\u001b[0m         \u001b[0;34m\"\"\"Schedule a func to be run\"\"\"\u001b[0m\u001b[0;34m\u001b[0m\u001b[0;34m\u001b[0m\u001b[0m\n\u001b[0;32m--> 208\u001b[0;31m         \u001b[0mresult\u001b[0m \u001b[0;34m=\u001b[0m \u001b[0mImmediateResult\u001b[0m\u001b[0;34m(\u001b[0m\u001b[0mfunc\u001b[0m\u001b[0;34m)\u001b[0m\u001b[0;34m\u001b[0m\u001b[0;34m\u001b[0m\u001b[0m\n\u001b[0m\u001b[1;32m    209\u001b[0m         \u001b[0;32mif\u001b[0m \u001b[0mcallback\u001b[0m\u001b[0;34m:\u001b[0m\u001b[0;34m\u001b[0m\u001b[0;34m\u001b[0m\u001b[0m\n\u001b[1;32m    210\u001b[0m             \u001b[0mcallback\u001b[0m\u001b[0;34m(\u001b[0m\u001b[0mresult\u001b[0m\u001b[0;34m)\u001b[0m\u001b[0;34m\u001b[0m\u001b[0;34m\u001b[0m\u001b[0m\n",
            "\u001b[0;32m/usr/local/lib/python3.6/dist-packages/joblib/_parallel_backends.py\u001b[0m in \u001b[0;36m__init__\u001b[0;34m(self, batch)\u001b[0m\n\u001b[1;32m    570\u001b[0m         \u001b[0;31m# Don't delay the application, to avoid keeping the input\u001b[0m\u001b[0;34m\u001b[0m\u001b[0;34m\u001b[0m\u001b[0;34m\u001b[0m\u001b[0m\n\u001b[1;32m    571\u001b[0m         \u001b[0;31m# arguments in memory\u001b[0m\u001b[0;34m\u001b[0m\u001b[0;34m\u001b[0m\u001b[0;34m\u001b[0m\u001b[0m\n\u001b[0;32m--> 572\u001b[0;31m         \u001b[0mself\u001b[0m\u001b[0;34m.\u001b[0m\u001b[0mresults\u001b[0m \u001b[0;34m=\u001b[0m \u001b[0mbatch\u001b[0m\u001b[0;34m(\u001b[0m\u001b[0;34m)\u001b[0m\u001b[0;34m\u001b[0m\u001b[0;34m\u001b[0m\u001b[0m\n\u001b[0m\u001b[1;32m    573\u001b[0m \u001b[0;34m\u001b[0m\u001b[0m\n\u001b[1;32m    574\u001b[0m     \u001b[0;32mdef\u001b[0m \u001b[0mget\u001b[0m\u001b[0;34m(\u001b[0m\u001b[0mself\u001b[0m\u001b[0;34m)\u001b[0m\u001b[0;34m:\u001b[0m\u001b[0;34m\u001b[0m\u001b[0;34m\u001b[0m\u001b[0m\n",
            "\u001b[0;32m/usr/local/lib/python3.6/dist-packages/joblib/parallel.py\u001b[0m in \u001b[0;36m__call__\u001b[0;34m(self)\u001b[0m\n\u001b[1;32m    251\u001b[0m         \u001b[0;32mwith\u001b[0m \u001b[0mparallel_backend\u001b[0m\u001b[0;34m(\u001b[0m\u001b[0mself\u001b[0m\u001b[0;34m.\u001b[0m\u001b[0m_backend\u001b[0m\u001b[0;34m,\u001b[0m \u001b[0mn_jobs\u001b[0m\u001b[0;34m=\u001b[0m\u001b[0mself\u001b[0m\u001b[0;34m.\u001b[0m\u001b[0m_n_jobs\u001b[0m\u001b[0;34m)\u001b[0m\u001b[0;34m:\u001b[0m\u001b[0;34m\u001b[0m\u001b[0;34m\u001b[0m\u001b[0m\n\u001b[1;32m    252\u001b[0m             return [func(*args, **kwargs)\n\u001b[0;32m--> 253\u001b[0;31m                     for func, args, kwargs in self.items]\n\u001b[0m\u001b[1;32m    254\u001b[0m \u001b[0;34m\u001b[0m\u001b[0m\n\u001b[1;32m    255\u001b[0m     \u001b[0;32mdef\u001b[0m \u001b[0m__reduce__\u001b[0m\u001b[0;34m(\u001b[0m\u001b[0mself\u001b[0m\u001b[0;34m)\u001b[0m\u001b[0;34m:\u001b[0m\u001b[0;34m\u001b[0m\u001b[0;34m\u001b[0m\u001b[0m\n",
            "\u001b[0;32m/usr/local/lib/python3.6/dist-packages/joblib/parallel.py\u001b[0m in \u001b[0;36m<listcomp>\u001b[0;34m(.0)\u001b[0m\n\u001b[1;32m    251\u001b[0m         \u001b[0;32mwith\u001b[0m \u001b[0mparallel_backend\u001b[0m\u001b[0;34m(\u001b[0m\u001b[0mself\u001b[0m\u001b[0;34m.\u001b[0m\u001b[0m_backend\u001b[0m\u001b[0;34m,\u001b[0m \u001b[0mn_jobs\u001b[0m\u001b[0;34m=\u001b[0m\u001b[0mself\u001b[0m\u001b[0;34m.\u001b[0m\u001b[0m_n_jobs\u001b[0m\u001b[0;34m)\u001b[0m\u001b[0;34m:\u001b[0m\u001b[0;34m\u001b[0m\u001b[0;34m\u001b[0m\u001b[0m\n\u001b[1;32m    252\u001b[0m             return [func(*args, **kwargs)\n\u001b[0;32m--> 253\u001b[0;31m                     for func, args, kwargs in self.items]\n\u001b[0m\u001b[1;32m    254\u001b[0m \u001b[0;34m\u001b[0m\u001b[0m\n\u001b[1;32m    255\u001b[0m     \u001b[0;32mdef\u001b[0m \u001b[0m__reduce__\u001b[0m\u001b[0;34m(\u001b[0m\u001b[0mself\u001b[0m\u001b[0;34m)\u001b[0m\u001b[0;34m:\u001b[0m\u001b[0;34m\u001b[0m\u001b[0;34m\u001b[0m\u001b[0m\n",
            "\u001b[0;32m/usr/local/lib/python3.6/dist-packages/sklearn/model_selection/_validation.py\u001b[0m in \u001b[0;36m_fit_and_score\u001b[0;34m(estimator, X, y, scorer, train, test, verbose, parameters, fit_params, return_train_score, return_parameters, return_n_test_samples, return_times, return_estimator, error_score)\u001b[0m\n\u001b[1;32m    513\u001b[0m             \u001b[0mestimator\u001b[0m\u001b[0;34m.\u001b[0m\u001b[0mfit\u001b[0m\u001b[0;34m(\u001b[0m\u001b[0mX_train\u001b[0m\u001b[0;34m,\u001b[0m \u001b[0;34m**\u001b[0m\u001b[0mfit_params\u001b[0m\u001b[0;34m)\u001b[0m\u001b[0;34m\u001b[0m\u001b[0;34m\u001b[0m\u001b[0m\n\u001b[1;32m    514\u001b[0m         \u001b[0;32melse\u001b[0m\u001b[0;34m:\u001b[0m\u001b[0;34m\u001b[0m\u001b[0;34m\u001b[0m\u001b[0m\n\u001b[0;32m--> 515\u001b[0;31m             \u001b[0mestimator\u001b[0m\u001b[0;34m.\u001b[0m\u001b[0mfit\u001b[0m\u001b[0;34m(\u001b[0m\u001b[0mX_train\u001b[0m\u001b[0;34m,\u001b[0m \u001b[0my_train\u001b[0m\u001b[0;34m,\u001b[0m \u001b[0;34m**\u001b[0m\u001b[0mfit_params\u001b[0m\u001b[0;34m)\u001b[0m\u001b[0;34m\u001b[0m\u001b[0;34m\u001b[0m\u001b[0m\n\u001b[0m\u001b[1;32m    516\u001b[0m \u001b[0;34m\u001b[0m\u001b[0m\n\u001b[1;32m    517\u001b[0m     \u001b[0;32mexcept\u001b[0m \u001b[0mException\u001b[0m \u001b[0;32mas\u001b[0m \u001b[0me\u001b[0m\u001b[0;34m:\u001b[0m\u001b[0;34m\u001b[0m\u001b[0;34m\u001b[0m\u001b[0m\n",
            "\u001b[0;32m/usr/local/lib/python3.6/dist-packages/tensorflow/python/keras/wrappers/scikit_learn.py\u001b[0m in \u001b[0;36mfit\u001b[0;34m(self, x, y, **kwargs)\u001b[0m\n\u001b[1;32m    221\u001b[0m       \u001b[0;32mraise\u001b[0m \u001b[0mValueError\u001b[0m\u001b[0;34m(\u001b[0m\u001b[0;34m'Invalid shape for y: '\u001b[0m \u001b[0;34m+\u001b[0m \u001b[0mstr\u001b[0m\u001b[0;34m(\u001b[0m\u001b[0my\u001b[0m\u001b[0;34m.\u001b[0m\u001b[0mshape\u001b[0m\u001b[0;34m)\u001b[0m\u001b[0;34m)\u001b[0m\u001b[0;34m\u001b[0m\u001b[0;34m\u001b[0m\u001b[0m\n\u001b[1;32m    222\u001b[0m     \u001b[0mself\u001b[0m\u001b[0;34m.\u001b[0m\u001b[0mn_classes_\u001b[0m \u001b[0;34m=\u001b[0m \u001b[0mlen\u001b[0m\u001b[0;34m(\u001b[0m\u001b[0mself\u001b[0m\u001b[0;34m.\u001b[0m\u001b[0mclasses_\u001b[0m\u001b[0;34m)\u001b[0m\u001b[0;34m\u001b[0m\u001b[0;34m\u001b[0m\u001b[0m\n\u001b[0;32m--> 223\u001b[0;31m     \u001b[0;32mreturn\u001b[0m \u001b[0msuper\u001b[0m\u001b[0;34m(\u001b[0m\u001b[0mKerasClassifier\u001b[0m\u001b[0;34m,\u001b[0m \u001b[0mself\u001b[0m\u001b[0;34m)\u001b[0m\u001b[0;34m.\u001b[0m\u001b[0mfit\u001b[0m\u001b[0;34m(\u001b[0m\u001b[0mx\u001b[0m\u001b[0;34m,\u001b[0m \u001b[0my\u001b[0m\u001b[0;34m,\u001b[0m \u001b[0;34m**\u001b[0m\u001b[0mkwargs\u001b[0m\u001b[0;34m)\u001b[0m\u001b[0;34m\u001b[0m\u001b[0;34m\u001b[0m\u001b[0m\n\u001b[0m\u001b[1;32m    224\u001b[0m \u001b[0;34m\u001b[0m\u001b[0m\n\u001b[1;32m    225\u001b[0m   \u001b[0;32mdef\u001b[0m \u001b[0mpredict\u001b[0m\u001b[0;34m(\u001b[0m\u001b[0mself\u001b[0m\u001b[0;34m,\u001b[0m \u001b[0mx\u001b[0m\u001b[0;34m,\u001b[0m \u001b[0;34m**\u001b[0m\u001b[0mkwargs\u001b[0m\u001b[0;34m)\u001b[0m\u001b[0;34m:\u001b[0m\u001b[0;34m\u001b[0m\u001b[0;34m\u001b[0m\u001b[0m\n",
            "\u001b[0;32m/usr/local/lib/python3.6/dist-packages/tensorflow/python/keras/wrappers/scikit_learn.py\u001b[0m in \u001b[0;36mfit\u001b[0;34m(self, x, y, **kwargs)\u001b[0m\n\u001b[1;32m    164\u001b[0m     \u001b[0mfit_args\u001b[0m\u001b[0;34m.\u001b[0m\u001b[0mupdate\u001b[0m\u001b[0;34m(\u001b[0m\u001b[0mkwargs\u001b[0m\u001b[0;34m)\u001b[0m\u001b[0;34m\u001b[0m\u001b[0;34m\u001b[0m\u001b[0m\n\u001b[1;32m    165\u001b[0m \u001b[0;34m\u001b[0m\u001b[0m\n\u001b[0;32m--> 166\u001b[0;31m     \u001b[0mhistory\u001b[0m \u001b[0;34m=\u001b[0m \u001b[0mself\u001b[0m\u001b[0;34m.\u001b[0m\u001b[0mmodel\u001b[0m\u001b[0;34m.\u001b[0m\u001b[0mfit\u001b[0m\u001b[0;34m(\u001b[0m\u001b[0mx\u001b[0m\u001b[0;34m,\u001b[0m \u001b[0my\u001b[0m\u001b[0;34m,\u001b[0m \u001b[0;34m**\u001b[0m\u001b[0mfit_args\u001b[0m\u001b[0;34m)\u001b[0m\u001b[0;34m\u001b[0m\u001b[0;34m\u001b[0m\u001b[0m\n\u001b[0m\u001b[1;32m    167\u001b[0m \u001b[0;34m\u001b[0m\u001b[0m\n\u001b[1;32m    168\u001b[0m     \u001b[0;32mreturn\u001b[0m \u001b[0mhistory\u001b[0m\u001b[0;34m\u001b[0m\u001b[0;34m\u001b[0m\u001b[0m\n",
            "\u001b[0;32m/usr/local/lib/python3.6/dist-packages/tensorflow/python/keras/engine/training.py\u001b[0m in \u001b[0;36m_method_wrapper\u001b[0;34m(self, *args, **kwargs)\u001b[0m\n\u001b[1;32m    106\u001b[0m   \u001b[0;32mdef\u001b[0m \u001b[0m_method_wrapper\u001b[0m\u001b[0;34m(\u001b[0m\u001b[0mself\u001b[0m\u001b[0;34m,\u001b[0m \u001b[0;34m*\u001b[0m\u001b[0margs\u001b[0m\u001b[0;34m,\u001b[0m \u001b[0;34m**\u001b[0m\u001b[0mkwargs\u001b[0m\u001b[0;34m)\u001b[0m\u001b[0;34m:\u001b[0m\u001b[0;34m\u001b[0m\u001b[0;34m\u001b[0m\u001b[0m\n\u001b[1;32m    107\u001b[0m     \u001b[0;32mif\u001b[0m \u001b[0;32mnot\u001b[0m \u001b[0mself\u001b[0m\u001b[0;34m.\u001b[0m\u001b[0m_in_multi_worker_mode\u001b[0m\u001b[0;34m(\u001b[0m\u001b[0;34m)\u001b[0m\u001b[0;34m:\u001b[0m  \u001b[0;31m# pylint: disable=protected-access\u001b[0m\u001b[0;34m\u001b[0m\u001b[0;34m\u001b[0m\u001b[0m\n\u001b[0;32m--> 108\u001b[0;31m       \u001b[0;32mreturn\u001b[0m \u001b[0mmethod\u001b[0m\u001b[0;34m(\u001b[0m\u001b[0mself\u001b[0m\u001b[0;34m,\u001b[0m \u001b[0;34m*\u001b[0m\u001b[0margs\u001b[0m\u001b[0;34m,\u001b[0m \u001b[0;34m**\u001b[0m\u001b[0mkwargs\u001b[0m\u001b[0;34m)\u001b[0m\u001b[0;34m\u001b[0m\u001b[0;34m\u001b[0m\u001b[0m\n\u001b[0m\u001b[1;32m    109\u001b[0m \u001b[0;34m\u001b[0m\u001b[0m\n\u001b[1;32m    110\u001b[0m     \u001b[0;31m# Running inside `run_distribute_coordinator` already.\u001b[0m\u001b[0;34m\u001b[0m\u001b[0;34m\u001b[0m\u001b[0;34m\u001b[0m\u001b[0m\n",
            "\u001b[0;32m/usr/local/lib/python3.6/dist-packages/tensorflow/python/keras/engine/training.py\u001b[0m in \u001b[0;36mfit\u001b[0;34m(self, x, y, batch_size, epochs, verbose, callbacks, validation_split, validation_data, shuffle, class_weight, sample_weight, initial_epoch, steps_per_epoch, validation_steps, validation_batch_size, validation_freq, max_queue_size, workers, use_multiprocessing)\u001b[0m\n\u001b[1;32m   1096\u001b[0m                 batch_size=batch_size):\n\u001b[1;32m   1097\u001b[0m               \u001b[0mcallbacks\u001b[0m\u001b[0;34m.\u001b[0m\u001b[0mon_train_batch_begin\u001b[0m\u001b[0;34m(\u001b[0m\u001b[0mstep\u001b[0m\u001b[0;34m)\u001b[0m\u001b[0;34m\u001b[0m\u001b[0;34m\u001b[0m\u001b[0m\n\u001b[0;32m-> 1098\u001b[0;31m               \u001b[0mtmp_logs\u001b[0m \u001b[0;34m=\u001b[0m \u001b[0mtrain_function\u001b[0m\u001b[0;34m(\u001b[0m\u001b[0miterator\u001b[0m\u001b[0;34m)\u001b[0m\u001b[0;34m\u001b[0m\u001b[0;34m\u001b[0m\u001b[0m\n\u001b[0m\u001b[1;32m   1099\u001b[0m               \u001b[0;32mif\u001b[0m \u001b[0mdata_handler\u001b[0m\u001b[0;34m.\u001b[0m\u001b[0mshould_sync\u001b[0m\u001b[0;34m:\u001b[0m\u001b[0;34m\u001b[0m\u001b[0;34m\u001b[0m\u001b[0m\n\u001b[1;32m   1100\u001b[0m                 \u001b[0mcontext\u001b[0m\u001b[0;34m.\u001b[0m\u001b[0masync_wait\u001b[0m\u001b[0;34m(\u001b[0m\u001b[0;34m)\u001b[0m\u001b[0;34m\u001b[0m\u001b[0;34m\u001b[0m\u001b[0m\n",
            "\u001b[0;32m/usr/local/lib/python3.6/dist-packages/tensorflow/python/eager/def_function.py\u001b[0m in \u001b[0;36m__call__\u001b[0;34m(self, *args, **kwds)\u001b[0m\n\u001b[1;32m    778\u001b[0m       \u001b[0;32melse\u001b[0m\u001b[0;34m:\u001b[0m\u001b[0;34m\u001b[0m\u001b[0;34m\u001b[0m\u001b[0m\n\u001b[1;32m    779\u001b[0m         \u001b[0mcompiler\u001b[0m \u001b[0;34m=\u001b[0m \u001b[0;34m\"nonXla\"\u001b[0m\u001b[0;34m\u001b[0m\u001b[0;34m\u001b[0m\u001b[0m\n\u001b[0;32m--> 780\u001b[0;31m         \u001b[0mresult\u001b[0m \u001b[0;34m=\u001b[0m \u001b[0mself\u001b[0m\u001b[0;34m.\u001b[0m\u001b[0m_call\u001b[0m\u001b[0;34m(\u001b[0m\u001b[0;34m*\u001b[0m\u001b[0margs\u001b[0m\u001b[0;34m,\u001b[0m \u001b[0;34m**\u001b[0m\u001b[0mkwds\u001b[0m\u001b[0;34m)\u001b[0m\u001b[0;34m\u001b[0m\u001b[0;34m\u001b[0m\u001b[0m\n\u001b[0m\u001b[1;32m    781\u001b[0m \u001b[0;34m\u001b[0m\u001b[0m\n\u001b[1;32m    782\u001b[0m       \u001b[0mnew_tracing_count\u001b[0m \u001b[0;34m=\u001b[0m \u001b[0mself\u001b[0m\u001b[0;34m.\u001b[0m\u001b[0m_get_tracing_count\u001b[0m\u001b[0;34m(\u001b[0m\u001b[0;34m)\u001b[0m\u001b[0;34m\u001b[0m\u001b[0;34m\u001b[0m\u001b[0m\n",
            "\u001b[0;32m/usr/local/lib/python3.6/dist-packages/tensorflow/python/eager/def_function.py\u001b[0m in \u001b[0;36m_call\u001b[0;34m(self, *args, **kwds)\u001b[0m\n\u001b[1;32m    805\u001b[0m       \u001b[0;31m# In this case we have created variables on the first call, so we run the\u001b[0m\u001b[0;34m\u001b[0m\u001b[0;34m\u001b[0m\u001b[0;34m\u001b[0m\u001b[0m\n\u001b[1;32m    806\u001b[0m       \u001b[0;31m# defunned version which is guaranteed to never create variables.\u001b[0m\u001b[0;34m\u001b[0m\u001b[0;34m\u001b[0m\u001b[0;34m\u001b[0m\u001b[0m\n\u001b[0;32m--> 807\u001b[0;31m       \u001b[0;32mreturn\u001b[0m \u001b[0mself\u001b[0m\u001b[0;34m.\u001b[0m\u001b[0m_stateless_fn\u001b[0m\u001b[0;34m(\u001b[0m\u001b[0;34m*\u001b[0m\u001b[0margs\u001b[0m\u001b[0;34m,\u001b[0m \u001b[0;34m**\u001b[0m\u001b[0mkwds\u001b[0m\u001b[0;34m)\u001b[0m  \u001b[0;31m# pylint: disable=not-callable\u001b[0m\u001b[0;34m\u001b[0m\u001b[0;34m\u001b[0m\u001b[0m\n\u001b[0m\u001b[1;32m    808\u001b[0m     \u001b[0;32melif\u001b[0m \u001b[0mself\u001b[0m\u001b[0;34m.\u001b[0m\u001b[0m_stateful_fn\u001b[0m \u001b[0;32mis\u001b[0m \u001b[0;32mnot\u001b[0m \u001b[0;32mNone\u001b[0m\u001b[0;34m:\u001b[0m\u001b[0;34m\u001b[0m\u001b[0;34m\u001b[0m\u001b[0m\n\u001b[1;32m    809\u001b[0m       \u001b[0;31m# Release the lock early so that multiple threads can perform the call\u001b[0m\u001b[0;34m\u001b[0m\u001b[0;34m\u001b[0m\u001b[0;34m\u001b[0m\u001b[0m\n",
            "\u001b[0;32m/usr/local/lib/python3.6/dist-packages/tensorflow/python/eager/function.py\u001b[0m in \u001b[0;36m__call__\u001b[0;34m(self, *args, **kwargs)\u001b[0m\n\u001b[1;32m   2827\u001b[0m     \u001b[0;32mwith\u001b[0m \u001b[0mself\u001b[0m\u001b[0;34m.\u001b[0m\u001b[0m_lock\u001b[0m\u001b[0;34m:\u001b[0m\u001b[0;34m\u001b[0m\u001b[0;34m\u001b[0m\u001b[0m\n\u001b[1;32m   2828\u001b[0m       \u001b[0mgraph_function\u001b[0m\u001b[0;34m,\u001b[0m \u001b[0margs\u001b[0m\u001b[0;34m,\u001b[0m \u001b[0mkwargs\u001b[0m \u001b[0;34m=\u001b[0m \u001b[0mself\u001b[0m\u001b[0;34m.\u001b[0m\u001b[0m_maybe_define_function\u001b[0m\u001b[0;34m(\u001b[0m\u001b[0margs\u001b[0m\u001b[0;34m,\u001b[0m \u001b[0mkwargs\u001b[0m\u001b[0;34m)\u001b[0m\u001b[0;34m\u001b[0m\u001b[0;34m\u001b[0m\u001b[0m\n\u001b[0;32m-> 2829\u001b[0;31m     \u001b[0;32mreturn\u001b[0m \u001b[0mgraph_function\u001b[0m\u001b[0;34m.\u001b[0m\u001b[0m_filtered_call\u001b[0m\u001b[0;34m(\u001b[0m\u001b[0margs\u001b[0m\u001b[0;34m,\u001b[0m \u001b[0mkwargs\u001b[0m\u001b[0;34m)\u001b[0m  \u001b[0;31m# pylint: disable=protected-access\u001b[0m\u001b[0;34m\u001b[0m\u001b[0;34m\u001b[0m\u001b[0m\n\u001b[0m\u001b[1;32m   2830\u001b[0m \u001b[0;34m\u001b[0m\u001b[0m\n\u001b[1;32m   2831\u001b[0m   \u001b[0;34m@\u001b[0m\u001b[0mproperty\u001b[0m\u001b[0;34m\u001b[0m\u001b[0;34m\u001b[0m\u001b[0m\n",
            "\u001b[0;32m/usr/local/lib/python3.6/dist-packages/tensorflow/python/eager/function.py\u001b[0m in \u001b[0;36m_filtered_call\u001b[0;34m(self, args, kwargs, cancellation_manager)\u001b[0m\n\u001b[1;32m   1846\u001b[0m                            resource_variable_ops.BaseResourceVariable))],\n\u001b[1;32m   1847\u001b[0m         \u001b[0mcaptured_inputs\u001b[0m\u001b[0;34m=\u001b[0m\u001b[0mself\u001b[0m\u001b[0;34m.\u001b[0m\u001b[0mcaptured_inputs\u001b[0m\u001b[0;34m,\u001b[0m\u001b[0;34m\u001b[0m\u001b[0;34m\u001b[0m\u001b[0m\n\u001b[0;32m-> 1848\u001b[0;31m         cancellation_manager=cancellation_manager)\n\u001b[0m\u001b[1;32m   1849\u001b[0m \u001b[0;34m\u001b[0m\u001b[0m\n\u001b[1;32m   1850\u001b[0m   \u001b[0;32mdef\u001b[0m \u001b[0m_call_flat\u001b[0m\u001b[0;34m(\u001b[0m\u001b[0mself\u001b[0m\u001b[0;34m,\u001b[0m \u001b[0margs\u001b[0m\u001b[0;34m,\u001b[0m \u001b[0mcaptured_inputs\u001b[0m\u001b[0;34m,\u001b[0m \u001b[0mcancellation_manager\u001b[0m\u001b[0;34m=\u001b[0m\u001b[0;32mNone\u001b[0m\u001b[0;34m)\u001b[0m\u001b[0;34m:\u001b[0m\u001b[0;34m\u001b[0m\u001b[0;34m\u001b[0m\u001b[0m\n",
            "\u001b[0;32m/usr/local/lib/python3.6/dist-packages/tensorflow/python/eager/function.py\u001b[0m in \u001b[0;36m_call_flat\u001b[0;34m(self, args, captured_inputs, cancellation_manager)\u001b[0m\n\u001b[1;32m   1922\u001b[0m       \u001b[0;31m# No tape is watching; skip to running the function.\u001b[0m\u001b[0;34m\u001b[0m\u001b[0;34m\u001b[0m\u001b[0;34m\u001b[0m\u001b[0m\n\u001b[1;32m   1923\u001b[0m       return self._build_call_outputs(self._inference_function.call(\n\u001b[0;32m-> 1924\u001b[0;31m           ctx, args, cancellation_manager=cancellation_manager))\n\u001b[0m\u001b[1;32m   1925\u001b[0m     forward_backward = self._select_forward_and_backward_functions(\n\u001b[1;32m   1926\u001b[0m         \u001b[0margs\u001b[0m\u001b[0;34m,\u001b[0m\u001b[0;34m\u001b[0m\u001b[0;34m\u001b[0m\u001b[0m\n",
            "\u001b[0;32m/usr/local/lib/python3.6/dist-packages/tensorflow/python/eager/function.py\u001b[0m in \u001b[0;36mcall\u001b[0;34m(self, ctx, args, cancellation_manager)\u001b[0m\n\u001b[1;32m    548\u001b[0m               \u001b[0minputs\u001b[0m\u001b[0;34m=\u001b[0m\u001b[0margs\u001b[0m\u001b[0;34m,\u001b[0m\u001b[0;34m\u001b[0m\u001b[0;34m\u001b[0m\u001b[0m\n\u001b[1;32m    549\u001b[0m               \u001b[0mattrs\u001b[0m\u001b[0;34m=\u001b[0m\u001b[0mattrs\u001b[0m\u001b[0;34m,\u001b[0m\u001b[0;34m\u001b[0m\u001b[0;34m\u001b[0m\u001b[0m\n\u001b[0;32m--> 550\u001b[0;31m               ctx=ctx)\n\u001b[0m\u001b[1;32m    551\u001b[0m         \u001b[0;32melse\u001b[0m\u001b[0;34m:\u001b[0m\u001b[0;34m\u001b[0m\u001b[0;34m\u001b[0m\u001b[0m\n\u001b[1;32m    552\u001b[0m           outputs = execute.execute_with_cancellation(\n",
            "\u001b[0;32m/usr/local/lib/python3.6/dist-packages/tensorflow/python/eager/execute.py\u001b[0m in \u001b[0;36mquick_execute\u001b[0;34m(op_name, num_outputs, inputs, attrs, ctx, name)\u001b[0m\n\u001b[1;32m     58\u001b[0m     \u001b[0mctx\u001b[0m\u001b[0;34m.\u001b[0m\u001b[0mensure_initialized\u001b[0m\u001b[0;34m(\u001b[0m\u001b[0;34m)\u001b[0m\u001b[0;34m\u001b[0m\u001b[0;34m\u001b[0m\u001b[0m\n\u001b[1;32m     59\u001b[0m     tensors = pywrap_tfe.TFE_Py_Execute(ctx._handle, device_name, op_name,\n\u001b[0;32m---> 60\u001b[0;31m                                         inputs, attrs, num_outputs)\n\u001b[0m\u001b[1;32m     61\u001b[0m   \u001b[0;32mexcept\u001b[0m \u001b[0mcore\u001b[0m\u001b[0;34m.\u001b[0m\u001b[0m_NotOkStatusException\u001b[0m \u001b[0;32mas\u001b[0m \u001b[0me\u001b[0m\u001b[0;34m:\u001b[0m\u001b[0;34m\u001b[0m\u001b[0;34m\u001b[0m\u001b[0m\n\u001b[1;32m     62\u001b[0m     \u001b[0;32mif\u001b[0m \u001b[0mname\u001b[0m \u001b[0;32mis\u001b[0m \u001b[0;32mnot\u001b[0m \u001b[0;32mNone\u001b[0m\u001b[0;34m:\u001b[0m\u001b[0;34m\u001b[0m\u001b[0;34m\u001b[0m\u001b[0m\n",
            "\u001b[0;31mKeyboardInterrupt\u001b[0m: "
          ]
        }
      ]
    },
    {
      "cell_type": "code",
      "metadata": {
        "id": "8SCq_1GKM5Lb",
        "outputId": "60de8e24-d50d-4037-bca7-13f57fec055a",
        "colab": {
          "base_uri": "https://localhost:8080/",
          "height": 117
        }
      },
      "source": [
        "! pip install keras"
      ],
      "execution_count": null,
      "outputs": [
        {
          "output_type": "stream",
          "text": [
            "Requirement already satisfied: keras in /usr/local/lib/python3.6/dist-packages (2.4.3)\n",
            "Requirement already satisfied: scipy>=0.14 in /usr/local/lib/python3.6/dist-packages (from keras) (1.4.1)\n",
            "Requirement already satisfied: h5py in /usr/local/lib/python3.6/dist-packages (from keras) (2.10.0)\n",
            "Requirement already satisfied: pyyaml in /usr/local/lib/python3.6/dist-packages (from keras) (3.13)\n",
            "Requirement already satisfied: numpy>=1.9.1 in /usr/local/lib/python3.6/dist-packages (from keras) (1.18.5)\n",
            "Requirement already satisfied: six in /usr/local/lib/python3.6/dist-packages (from h5py->keras) (1.15.0)\n"
          ],
          "name": "stdout"
        }
      ]
    },
    {
      "cell_type": "code",
      "metadata": {
        "id": "QY7i_KRdO7Qy"
      },
      "source": [
        "#,kernel_regularizer=regularizers.l2(0.05)\n"
      ],
      "execution_count": null,
      "outputs": []
    },
    {
      "cell_type": "code",
      "metadata": {
        "id": "stqCn0cw8Ez6",
        "outputId": "c5e7ffa8-41bf-4d00-896a-202aed634905",
        "colab": {
          "base_uri": "https://localhost:8080/",
          "height": 586
        }
      },
      "source": [
        "from tensorflow.keras.activations import selu\n",
        "#BasicConvNet\n",
        "classifier = Sequential()\n",
        "\n",
        "classifier.add(Conv2D(filters=96,kernel_size=(3,3),padding='valid',activation=\"relu\",input_shape=(128,128,3)))\n",
        "#keras.layers.BatchNormalization()\n",
        "classifier.add(MaxPooling2D(pool_size=(2,2)))\n",
        "\n",
        "classifier.add(Conv2D(filters=128,kernel_size=(3,3),padding='valid',activation=\"relu\",kernel_regularizer=regularizers.l2(0.05)))\n",
        "#keras.layers.BatchNormalization()\n",
        "classifier.add(MaxPooling2D(pool_size=(2,2)))\n",
        "\n",
        "classifier.add(Conv2D(filters=256,kernel_size=(3,3),padding='valid',activation=\"relu\",kernel_regularizer=regularizers.l2(0.05)))\n",
        "keras.layers.BatchNormalization()\n",
        "classifier.add(MaxPooling2D(pool_size=(2,2)))\n",
        "\n",
        "\n",
        "\n",
        "\n",
        "classifier.add(Dropout(0.5))\n",
        "\n",
        "\n",
        "classifier.add(Flatten())# Flattening  \n",
        "\n",
        "#classifier.add(Dense(200,activation=\"relu\"))\n",
        "\n",
        "classifier.add(Dense(512,activation=\"relu\"))\n",
        "classifier.add(Dense(256,activation=\"relu\"))\n",
        "#classifier.add(Dense(128,activation=\"relu\")) #200 is the number of nuerons in hidden layers\n",
        "\n",
        "classifier.add(Dropout(0.5))\n",
        "\n",
        "\n",
        "\n",
        "classifier.add(Dense(3,activation=\"softmax\"))  #3 represent output layer neurons for three different classes \n",
        "classifier.summary()"
      ],
      "execution_count": null,
      "outputs": [
        {
          "output_type": "stream",
          "text": [
            "Model: \"sequential_16\"\n",
            "_________________________________________________________________\n",
            "Layer (type)                 Output Shape              Param #   \n",
            "=================================================================\n",
            "conv2d_46 (Conv2D)           (None, 126, 126, 96)      2688      \n",
            "_________________________________________________________________\n",
            "max_pooling2d_46 (MaxPooling (None, 63, 63, 96)        0         \n",
            "_________________________________________________________________\n",
            "conv2d_47 (Conv2D)           (None, 61, 61, 128)       110720    \n",
            "_________________________________________________________________\n",
            "max_pooling2d_47 (MaxPooling (None, 30, 30, 128)       0         \n",
            "_________________________________________________________________\n",
            "conv2d_48 (Conv2D)           (None, 28, 28, 256)       295168    \n",
            "_________________________________________________________________\n",
            "max_pooling2d_48 (MaxPooling (None, 14, 14, 256)       0         \n",
            "_________________________________________________________________\n",
            "dropout_32 (Dropout)         (None, 14, 14, 256)       0         \n",
            "_________________________________________________________________\n",
            "flatten_16 (Flatten)         (None, 50176)             0         \n",
            "_________________________________________________________________\n",
            "dense_55 (Dense)             (None, 512)               25690624  \n",
            "_________________________________________________________________\n",
            "dense_56 (Dense)             (None, 256)               131328    \n",
            "_________________________________________________________________\n",
            "dropout_33 (Dropout)         (None, 256)               0         \n",
            "_________________________________________________________________\n",
            "dense_57 (Dense)             (None, 3)                 771       \n",
            "=================================================================\n",
            "Total params: 26,231,299\n",
            "Trainable params: 26,231,299\n",
            "Non-trainable params: 0\n",
            "_________________________________________________________________\n"
          ],
          "name": "stdout"
        }
      ]
    },
    {
      "cell_type": "code",
      "metadata": {
        "id": "p_c3aQTCBO0W",
        "outputId": "ceb9f27e-81ee-4cc2-f8ca-22e921b58f1e",
        "colab": {
          "base_uri": "https://localhost:8080/",
          "height": 1000
        }
      },
      "source": [
        "from keras.callbacks import ModelCheckpoint, EarlyStopping\n",
        "from tensorflow.keras.activations import selu\n",
        "checkpoint = ModelCheckpoint(\"convnet_1.h5\", monitor='val_accuracy', verbose=1, save_best_only=True, save_weights_only=False, mode='auto', period=1)\n",
        "early = EarlyStopping(monitor='val_accuracy', min_delta=0, patience=20, verbose=1, mode='auto')\n",
        "#from sklearn.utils import class_weight\n",
        "#class_weight = class_weight.compute_class_weight('balanced' ,np.unique(y_train_labels) ,y_train_labels)\n",
        "from keras.optimizers import Adam\n",
        "#from keras.wrappers.scikit_learn import KerasClassifier\n",
        "#from keras.optimizers import SGD\n",
        "#sgd=SGD(lr=0.01,momentum=0.6,nesterov=False)\n",
        "#adam = Adam(lr=0.01)\n",
        "\n",
        "classifier.compile(loss='categorical_crossentropy', optimizer=\"adam\", metrics=['accuracy'])\n",
        "conv= classifier.fit(train_x,train_y,batch_size =32,epochs=100,verbose=1,validation_data=(eval_x, eval_y),callbacks=[checkpoint,early])\n",
        "conv"
      ],
      "execution_count": null,
      "outputs": [
        {
          "output_type": "stream",
          "text": [
            "WARNING:tensorflow:`period` argument is deprecated. Please use `save_freq` to specify the frequency in number of batches seen.\n",
            "Epoch 1/100\n",
            "3/3 [==============================] - ETA: 0s - loss: 14.7059 - accuracy: 0.4250\n",
            "Epoch 00001: val_accuracy improved from -inf to 0.20000, saving model to convnet_1.h5\n",
            "3/3 [==============================] - 6s 2s/step - loss: 14.7059 - accuracy: 0.4250 - val_loss: 12.8034 - val_accuracy: 0.2000\n",
            "Epoch 2/100\n",
            "3/3 [==============================] - ETA: 0s - loss: 12.5166 - accuracy: 0.3250\n",
            "Epoch 00002: val_accuracy improved from 0.20000 to 0.70000, saving model to convnet_1.h5\n",
            "3/3 [==============================] - 6s 2s/step - loss: 12.5166 - accuracy: 0.3250 - val_loss: 11.0118 - val_accuracy: 0.7000\n",
            "Epoch 3/100\n",
            "3/3 [==============================] - ETA: 0s - loss: 10.6101 - accuracy: 0.4500\n",
            "Epoch 00003: val_accuracy did not improve from 0.70000\n",
            "3/3 [==============================] - 5s 2s/step - loss: 10.6101 - accuracy: 0.4500 - val_loss: 9.3162 - val_accuracy: 0.7000\n",
            "Epoch 4/100\n",
            "3/3 [==============================] - ETA: 0s - loss: 8.9863 - accuracy: 0.4625\n",
            "Epoch 00004: val_accuracy improved from 0.70000 to 0.80000, saving model to convnet_1.h5\n",
            "3/3 [==============================] - 6s 2s/step - loss: 8.9863 - accuracy: 0.4625 - val_loss: 7.9126 - val_accuracy: 0.8000\n",
            "Epoch 5/100\n",
            "3/3 [==============================] - ETA: 0s - loss: 7.5747 - accuracy: 0.6125\n",
            "Epoch 00005: val_accuracy did not improve from 0.80000\n",
            "3/3 [==============================] - 5s 2s/step - loss: 7.5747 - accuracy: 0.6125 - val_loss: 6.5345 - val_accuracy: 0.7000\n",
            "Epoch 6/100\n",
            "3/3 [==============================] - ETA: 0s - loss: 6.4442 - accuracy: 0.4500\n",
            "Epoch 00006: val_accuracy did not improve from 0.80000\n",
            "3/3 [==============================] - 5s 2s/step - loss: 6.4442 - accuracy: 0.4500 - val_loss: 5.6471 - val_accuracy: 0.6000\n",
            "Epoch 7/100\n",
            "3/3 [==============================] - ETA: 0s - loss: 5.4368 - accuracy: 0.5250\n",
            "Epoch 00007: val_accuracy did not improve from 0.80000\n",
            "3/3 [==============================] - 5s 2s/step - loss: 5.4368 - accuracy: 0.5250 - val_loss: 4.8352 - val_accuracy: 0.5000\n",
            "Epoch 8/100\n",
            "3/3 [==============================] - ETA: 0s - loss: 4.6750 - accuracy: 0.5375\n",
            "Epoch 00008: val_accuracy did not improve from 0.80000\n",
            "3/3 [==============================] - 5s 2s/step - loss: 4.6750 - accuracy: 0.5375 - val_loss: 4.1840 - val_accuracy: 0.5000\n",
            "Epoch 9/100\n",
            "3/3 [==============================] - ETA: 0s - loss: 3.9127 - accuracy: 0.6625\n",
            "Epoch 00009: val_accuracy did not improve from 0.80000\n",
            "3/3 [==============================] - 5s 2s/step - loss: 3.9127 - accuracy: 0.6625 - val_loss: 3.4095 - val_accuracy: 0.6000\n",
            "Epoch 10/100\n",
            "3/3 [==============================] - ETA: 0s - loss: 3.2380 - accuracy: 0.7375\n",
            "Epoch 00010: val_accuracy did not improve from 0.80000\n",
            "3/3 [==============================] - 5s 2s/step - loss: 3.2380 - accuracy: 0.7375 - val_loss: 3.0545 - val_accuracy: 0.6000\n",
            "Epoch 11/100\n",
            "3/3 [==============================] - ETA: 0s - loss: 2.7302 - accuracy: 0.8125\n",
            "Epoch 00011: val_accuracy did not improve from 0.80000\n",
            "3/3 [==============================] - 5s 2s/step - loss: 2.7302 - accuracy: 0.8125 - val_loss: 2.4187 - val_accuracy: 0.8000\n",
            "Epoch 12/100\n",
            "3/3 [==============================] - ETA: 0s - loss: 2.3191 - accuracy: 0.8375\n",
            "Epoch 00012: val_accuracy improved from 0.80000 to 0.90000, saving model to convnet_1.h5\n",
            "3/3 [==============================] - 6s 2s/step - loss: 2.3191 - accuracy: 0.8375 - val_loss: 2.0156 - val_accuracy: 0.9000\n",
            "Epoch 13/100\n",
            "3/3 [==============================] - ETA: 0s - loss: 2.0032 - accuracy: 0.8500\n",
            "Epoch 00013: val_accuracy did not improve from 0.90000\n",
            "3/3 [==============================] - 5s 2s/step - loss: 2.0032 - accuracy: 0.8500 - val_loss: 2.0314 - val_accuracy: 0.7000\n",
            "Epoch 14/100\n",
            "3/3 [==============================] - ETA: 0s - loss: 1.6927 - accuracy: 0.9000\n",
            "Epoch 00014: val_accuracy did not improve from 0.90000\n",
            "3/3 [==============================] - 5s 2s/step - loss: 1.6927 - accuracy: 0.9000 - val_loss: 1.5689 - val_accuracy: 0.8000\n",
            "Epoch 15/100\n",
            "3/3 [==============================] - ETA: 0s - loss: 1.4497 - accuracy: 0.9250\n",
            "Epoch 00015: val_accuracy improved from 0.90000 to 1.00000, saving model to convnet_1.h5\n",
            "3/3 [==============================] - 6s 2s/step - loss: 1.4497 - accuracy: 0.9250 - val_loss: 1.2164 - val_accuracy: 1.0000\n",
            "Epoch 16/100\n",
            "3/3 [==============================] - ETA: 0s - loss: 1.3247 - accuracy: 0.9250\n",
            "Epoch 00016: val_accuracy did not improve from 1.00000\n",
            "3/3 [==============================] - 5s 2s/step - loss: 1.3247 - accuracy: 0.9250 - val_loss: 1.0953 - val_accuracy: 1.0000\n",
            "Epoch 17/100\n",
            "3/3 [==============================] - ETA: 0s - loss: 1.1022 - accuracy: 0.9625\n",
            "Epoch 00017: val_accuracy did not improve from 1.00000\n",
            "3/3 [==============================] - 5s 2s/step - loss: 1.1022 - accuracy: 0.9625 - val_loss: 1.1155 - val_accuracy: 1.0000\n",
            "Epoch 18/100\n",
            "3/3 [==============================] - ETA: 0s - loss: 1.0367 - accuracy: 0.9500\n",
            "Epoch 00018: val_accuracy did not improve from 1.00000\n",
            "3/3 [==============================] - 5s 2s/step - loss: 1.0367 - accuracy: 0.9500 - val_loss: 0.8684 - val_accuracy: 1.0000\n",
            "Epoch 19/100\n",
            "3/3 [==============================] - ETA: 0s - loss: 0.9137 - accuracy: 0.9625\n",
            "Epoch 00019: val_accuracy did not improve from 1.00000\n",
            "3/3 [==============================] - 5s 2s/step - loss: 0.9137 - accuracy: 0.9625 - val_loss: 1.3489 - val_accuracy: 0.8000\n",
            "Epoch 20/100\n",
            "3/3 [==============================] - ETA: 0s - loss: 0.8714 - accuracy: 0.9250\n",
            "Epoch 00020: val_accuracy did not improve from 1.00000\n",
            "3/3 [==============================] - 5s 2s/step - loss: 0.8714 - accuracy: 0.9250 - val_loss: 0.7328 - val_accuracy: 1.0000\n",
            "Epoch 21/100\n",
            "3/3 [==============================] - ETA: 0s - loss: 0.8971 - accuracy: 0.9375\n",
            "Epoch 00021: val_accuracy did not improve from 1.00000\n",
            "3/3 [==============================] - 5s 2s/step - loss: 0.8971 - accuracy: 0.9375 - val_loss: 0.7350 - val_accuracy: 1.0000\n",
            "Epoch 22/100\n",
            "3/3 [==============================] - ETA: 0s - loss: 0.7618 - accuracy: 0.9500\n",
            "Epoch 00022: val_accuracy did not improve from 1.00000\n",
            "3/3 [==============================] - 5s 2s/step - loss: 0.7618 - accuracy: 0.9500 - val_loss: 1.3386 - val_accuracy: 0.7000\n",
            "Epoch 23/100\n",
            "3/3 [==============================] - ETA: 0s - loss: 0.6876 - accuracy: 0.9625\n",
            "Epoch 00023: val_accuracy did not improve from 1.00000\n",
            "3/3 [==============================] - 5s 2s/step - loss: 0.6876 - accuracy: 0.9625 - val_loss: 0.5693 - val_accuracy: 1.0000\n",
            "Epoch 24/100\n",
            "3/3 [==============================] - ETA: 0s - loss: 0.6368 - accuracy: 0.9625\n",
            "Epoch 00024: val_accuracy did not improve from 1.00000\n",
            "3/3 [==============================] - 5s 2s/step - loss: 0.6368 - accuracy: 0.9625 - val_loss: 0.5369 - val_accuracy: 1.0000\n",
            "Epoch 25/100\n",
            "3/3 [==============================] - ETA: 0s - loss: 0.5685 - accuracy: 0.9750\n",
            "Epoch 00025: val_accuracy did not improve from 1.00000\n",
            "3/3 [==============================] - 5s 2s/step - loss: 0.5685 - accuracy: 0.9750 - val_loss: 0.6314 - val_accuracy: 0.9000\n",
            "Epoch 26/100\n",
            "3/3 [==============================] - ETA: 0s - loss: 0.5287 - accuracy: 1.0000\n",
            "Epoch 00026: val_accuracy did not improve from 1.00000\n",
            "3/3 [==============================] - 5s 2s/step - loss: 0.5287 - accuracy: 1.0000 - val_loss: 0.9269 - val_accuracy: 0.8000\n",
            "Epoch 27/100\n",
            "3/3 [==============================] - ETA: 0s - loss: 0.5124 - accuracy: 0.9875\n",
            "Epoch 00027: val_accuracy did not improve from 1.00000\n",
            "3/3 [==============================] - 5s 2s/step - loss: 0.5124 - accuracy: 0.9875 - val_loss: 0.6105 - val_accuracy: 0.9000\n",
            "Epoch 28/100\n",
            "3/3 [==============================] - ETA: 0s - loss: 0.4565 - accuracy: 1.0000\n",
            "Epoch 00028: val_accuracy did not improve from 1.00000\n",
            "3/3 [==============================] - 5s 2s/step - loss: 0.4565 - accuracy: 1.0000 - val_loss: 0.4163 - val_accuracy: 1.0000\n",
            "Epoch 29/100\n",
            "3/3 [==============================] - ETA: 0s - loss: 0.4159 - accuracy: 1.0000\n",
            "Epoch 00029: val_accuracy did not improve from 1.00000\n",
            "3/3 [==============================] - 5s 2s/step - loss: 0.4159 - accuracy: 1.0000 - val_loss: 0.3839 - val_accuracy: 1.0000\n",
            "Epoch 30/100\n",
            "3/3 [==============================] - ETA: 0s - loss: 0.3867 - accuracy: 1.0000\n",
            "Epoch 00030: val_accuracy did not improve from 1.00000\n",
            "3/3 [==============================] - 5s 2s/step - loss: 0.3867 - accuracy: 1.0000 - val_loss: 0.3567 - val_accuracy: 1.0000\n",
            "Epoch 31/100\n",
            "3/3 [==============================] - ETA: 0s - loss: 0.3523 - accuracy: 1.0000\n",
            "Epoch 00031: val_accuracy did not improve from 1.00000\n",
            "3/3 [==============================] - 5s 2s/step - loss: 0.3523 - accuracy: 1.0000 - val_loss: 0.3371 - val_accuracy: 1.0000\n",
            "Epoch 32/100\n",
            "3/3 [==============================] - ETA: 0s - loss: 0.3321 - accuracy: 1.0000\n",
            "Epoch 00032: val_accuracy did not improve from 1.00000\n",
            "3/3 [==============================] - 5s 2s/step - loss: 0.3321 - accuracy: 1.0000 - val_loss: 0.3249 - val_accuracy: 1.0000\n",
            "Epoch 33/100\n",
            "3/3 [==============================] - ETA: 0s - loss: 0.3130 - accuracy: 1.0000\n",
            "Epoch 00033: val_accuracy did not improve from 1.00000\n",
            "3/3 [==============================] - 5s 2s/step - loss: 0.3130 - accuracy: 1.0000 - val_loss: 0.3041 - val_accuracy: 1.0000\n",
            "Epoch 34/100\n",
            "3/3 [==============================] - ETA: 0s - loss: 0.2897 - accuracy: 1.0000\n",
            "Epoch 00034: val_accuracy did not improve from 1.00000\n",
            "3/3 [==============================] - 5s 2s/step - loss: 0.2897 - accuracy: 1.0000 - val_loss: 0.2763 - val_accuracy: 1.0000\n",
            "Epoch 35/100\n",
            "3/3 [==============================] - ETA: 0s - loss: 0.2711 - accuracy: 1.0000\n",
            "Epoch 00035: val_accuracy did not improve from 1.00000\n",
            "3/3 [==============================] - 5s 2s/step - loss: 0.2711 - accuracy: 1.0000 - val_loss: 0.2566 - val_accuracy: 1.0000\n",
            "Epoch 00035: early stopping\n"
          ],
          "name": "stdout"
        },
        {
          "output_type": "execute_result",
          "data": {
            "text/plain": [
              "<tensorflow.python.keras.callbacks.History at 0x7fcb57655fd0>"
            ]
          },
          "metadata": {
            "tags": []
          },
          "execution_count": 125
        }
      ]
    },
    {
      "cell_type": "code",
      "metadata": {
        "id": "jjJBZEdUszUB",
        "outputId": "a995c8d6-1130-463d-b281-5eef2e5966ae",
        "colab": {
          "base_uri": "https://localhost:8080/",
          "height": 282
        }
      },
      "source": [
        "# plot the training and validation accuracy\n",
        "acc = conv.history['accuracy']\n",
        "val_acc = conv.history['val_accuracy']\n",
        "\n",
        "epochs = range(len(acc))\n",
        "\n",
        "plt.plot(epochs, acc, label='Training acc')\n",
        "plt.plot(epochs, val_acc, label='Validation acc')\n",
        "plt.title('Training and validation accuracy')\n",
        "plt.legend()\n",
        "plt.ylim(0.0,1)\n",
        "plt.show()"
      ],
      "execution_count": null,
      "outputs": [
        {
          "output_type": "display_data",
          "data": {
            "image/png": "[encoded data removed]",
            "text/plain": [
              "<Figure size 432x288 with 1 Axes>"
            ]
          },
          "metadata": {
            "tags": [],
            "needs_background": "light"
          }
        }
      ]
    },
    {
      "cell_type": "code",
      "metadata": {
        "id": "Qk4iuwnVC-TV",
        "outputId": "c354f027-3787-4b40-c28e-588723f90403",
        "colab": {
          "base_uri": "https://localhost:8080/",
          "height": 299
        }
      },
      "source": [
        "#Loss and Accuracy in one graph(Training & Validation)\n",
        "\n",
        "import matplotlib.pyplot as plt\n",
        "#plt.plot(conv.history[\"accuracy\"])\n",
        "#plt.plot(conv.history['val_accuracy'])\n",
        "plt.plot(conv.history['loss'])\n",
        "plt.plot(conv.history['val_loss'])\n",
        "plt.title(\"Training and Validation Loss \")\n",
        "plt.ylabel(\"Loss\")\n",
        "plt.xlabel(\"Epoch\")\n",
        "plt.legend([\"Training loss\",\"Validation Loss\"])\n",
        "plt.show()"
      ],
      "execution_count": null,
      "outputs": [
        {
          "output_type": "display_data",
          "data": {
            "image/png": "[encoded data removed]",
            "text/plain": [
              "<Figure size 432x288 with 1 Axes>"
            ]
          },
          "metadata": {
            "tags": [],
            "needs_background": "light"
          }
        }
      ]
    },
    {
      "cell_type": "code",
      "metadata": {
        "id": "Qgj8LbNMAtzE",
        "outputId": "f40bfbea-5b14-44c2-eeeb-64ef9a10e711",
        "colab": {
          "base_uri": "https://localhost:8080/",
          "height": 299
        }
      },
      "source": [
        "\n",
        "import matplotlib.pyplot as plt\n",
        "#plt.plot(conv.history[\"accuracy\"])\n",
        "#plt.plot(conv.history['val_accuracy'])\n",
        "plt.plot(conv.history['loss'])\n",
        "plt.plot(conv.history['val_loss'])\n",
        "plt.title(\"Training and Validation Loss \")\n",
        "plt.ylabel(\"Loss\")\n",
        "plt.xlabel(\"Epoch\")\n",
        "plt.legend([\"Training loss\",\"Validation Loss\"])\n",
        "plt.show()"
      ],
      "execution_count": null,
      "outputs": [
        {
          "output_type": "display_data",
          "data": {
            "image/png": "[encoded data removed]",
            "text/plain": [
              "<Figure size 432x288 with 1 Axes>"
            ]
          },
          "metadata": {
            "tags": [],
            "needs_background": "light"
          }
        }
      ]
    },
    {
      "cell_type": "code",
      "metadata": {
        "id": "WnZST5sdSHhf"
      },
      "source": [
        "classifier.compile(loss='categorical_crossentropy', optimizer=\"adam\", metrics=['accuracy'])"
      ],
      "execution_count": null,
      "outputs": []
    },
    {
      "cell_type": "code",
      "metadata": {
        "id": "kv1rm3NOSUHc",
        "outputId": "cc39ec6e-6c9a-4d8a-a936-90193cdd2bbe",
        "colab": {
          "base_uri": "https://localhost:8080/",
          "height": 992
        }
      },
      "source": [
        "#STEP_SIZE_TRAIN=balanced_gen.n//balanced_gen.batch_size\n",
        "#STEP_SIZE_VALID=balanced_gen.n//balanced_gen.batch_size\n",
        "#STEP_SIZE_TEST=balanced_gen.n//balanced_gen.batch_size\n",
        "#ep = 100\n",
        "#batch_size=32\n",
        "classifier.fit_generator(balanced_gen,steps_per_epoch, \n",
        "                        )\n"
      ],
      "execution_count": null,
      "outputs": [
        {
          "output_type": "stream",
          "text": [
            "/usr/local/lib/python3.6/dist-packages/sklearn/utils/deprecation.py:87: FutureWarning: Function safe_indexing is deprecated; safe_indexing is deprecated in version 0.22 and will be removed in version 0.24.\n",
            "  warnings.warn(msg, category=FutureWarning)\n"
          ],
          "name": "stderr"
        },
        {
          "output_type": "error",
          "ename": "ValueError",
          "evalue": "ignored",
          "traceback": [
            "\u001b[0;31m---------------------------------------------------------------------------\u001b[0m",
            "\u001b[0;31mValueError\u001b[0m                                Traceback (most recent call last)",
            "\u001b[0;32m<ipython-input-36-b2126ea2f514>\u001b[0m in \u001b[0;36m<module>\u001b[0;34m()\u001b[0m\n\u001b[1;32m      4\u001b[0m \u001b[0;31m#ep = 100\u001b[0m\u001b[0;34m\u001b[0m\u001b[0;34m\u001b[0m\u001b[0;34m\u001b[0m\u001b[0m\n\u001b[1;32m      5\u001b[0m \u001b[0;31m#batch_size=32\u001b[0m\u001b[0;34m\u001b[0m\u001b[0;34m\u001b[0m\u001b[0;34m\u001b[0m\u001b[0m\n\u001b[0;32m----> 6\u001b[0;31m classifier.fit_generator(balanced_gen,steps_per_epoch, \n\u001b[0m\u001b[1;32m      7\u001b[0m                         )\n",
            "\u001b[0;32m/usr/local/lib/python3.6/dist-packages/tensorflow/python/util/deprecation.py\u001b[0m in \u001b[0;36mnew_func\u001b[0;34m(*args, **kwargs)\u001b[0m\n\u001b[1;32m    322\u001b[0m               \u001b[0;34m'in a future version'\u001b[0m \u001b[0;32mif\u001b[0m \u001b[0mdate\u001b[0m \u001b[0;32mis\u001b[0m \u001b[0;32mNone\u001b[0m \u001b[0;32melse\u001b[0m \u001b[0;34m(\u001b[0m\u001b[0;34m'after %s'\u001b[0m \u001b[0;34m%\u001b[0m \u001b[0mdate\u001b[0m\u001b[0;34m)\u001b[0m\u001b[0;34m,\u001b[0m\u001b[0;34m\u001b[0m\u001b[0;34m\u001b[0m\u001b[0m\n\u001b[1;32m    323\u001b[0m               instructions)\n\u001b[0;32m--> 324\u001b[0;31m       \u001b[0;32mreturn\u001b[0m \u001b[0mfunc\u001b[0m\u001b[0;34m(\u001b[0m\u001b[0;34m*\u001b[0m\u001b[0margs\u001b[0m\u001b[0;34m,\u001b[0m \u001b[0;34m**\u001b[0m\u001b[0mkwargs\u001b[0m\u001b[0;34m)\u001b[0m\u001b[0;34m\u001b[0m\u001b[0;34m\u001b[0m\u001b[0m\n\u001b[0m\u001b[1;32m    325\u001b[0m     return tf_decorator.make_decorator(\n\u001b[1;32m    326\u001b[0m         \u001b[0mfunc\u001b[0m\u001b[0;34m,\u001b[0m \u001b[0mnew_func\u001b[0m\u001b[0;34m,\u001b[0m \u001b[0;34m'deprecated'\u001b[0m\u001b[0;34m,\u001b[0m\u001b[0;34m\u001b[0m\u001b[0;34m\u001b[0m\u001b[0m\n",
            "\u001b[0;32m/usr/local/lib/python3.6/dist-packages/tensorflow/python/keras/engine/training.py\u001b[0m in \u001b[0;36mfit_generator\u001b[0;34m(self, generator, steps_per_epoch, epochs, verbose, callbacks, validation_data, validation_steps, validation_freq, class_weight, max_queue_size, workers, use_multiprocessing, shuffle, initial_epoch)\u001b[0m\n\u001b[1;32m   1827\u001b[0m         \u001b[0muse_multiprocessing\u001b[0m\u001b[0;34m=\u001b[0m\u001b[0muse_multiprocessing\u001b[0m\u001b[0;34m,\u001b[0m\u001b[0;34m\u001b[0m\u001b[0;34m\u001b[0m\u001b[0m\n\u001b[1;32m   1828\u001b[0m         \u001b[0mshuffle\u001b[0m\u001b[0;34m=\u001b[0m\u001b[0mshuffle\u001b[0m\u001b[0;34m,\u001b[0m\u001b[0;34m\u001b[0m\u001b[0;34m\u001b[0m\u001b[0m\n\u001b[0;32m-> 1829\u001b[0;31m         initial_epoch=initial_epoch)\n\u001b[0m\u001b[1;32m   1830\u001b[0m \u001b[0;34m\u001b[0m\u001b[0m\n\u001b[1;32m   1831\u001b[0m   @deprecation.deprecated(\n",
            "\u001b[0;32m/usr/local/lib/python3.6/dist-packages/tensorflow/python/keras/engine/training.py\u001b[0m in \u001b[0;36m_method_wrapper\u001b[0;34m(self, *args, **kwargs)\u001b[0m\n\u001b[1;32m    106\u001b[0m   \u001b[0;32mdef\u001b[0m \u001b[0m_method_wrapper\u001b[0m\u001b[0;34m(\u001b[0m\u001b[0mself\u001b[0m\u001b[0;34m,\u001b[0m \u001b[0;34m*\u001b[0m\u001b[0margs\u001b[0m\u001b[0;34m,\u001b[0m \u001b[0;34m**\u001b[0m\u001b[0mkwargs\u001b[0m\u001b[0;34m)\u001b[0m\u001b[0;34m:\u001b[0m\u001b[0;34m\u001b[0m\u001b[0;34m\u001b[0m\u001b[0m\n\u001b[1;32m    107\u001b[0m     \u001b[0;32mif\u001b[0m \u001b[0;32mnot\u001b[0m \u001b[0mself\u001b[0m\u001b[0;34m.\u001b[0m\u001b[0m_in_multi_worker_mode\u001b[0m\u001b[0;34m(\u001b[0m\u001b[0;34m)\u001b[0m\u001b[0;34m:\u001b[0m  \u001b[0;31m# pylint: disable=protected-access\u001b[0m\u001b[0;34m\u001b[0m\u001b[0;34m\u001b[0m\u001b[0m\n\u001b[0;32m--> 108\u001b[0;31m       \u001b[0;32mreturn\u001b[0m \u001b[0mmethod\u001b[0m\u001b[0;34m(\u001b[0m\u001b[0mself\u001b[0m\u001b[0;34m,\u001b[0m \u001b[0;34m*\u001b[0m\u001b[0margs\u001b[0m\u001b[0;34m,\u001b[0m \u001b[0;34m**\u001b[0m\u001b[0mkwargs\u001b[0m\u001b[0;34m)\u001b[0m\u001b[0;34m\u001b[0m\u001b[0;34m\u001b[0m\u001b[0m\n\u001b[0m\u001b[1;32m    109\u001b[0m \u001b[0;34m\u001b[0m\u001b[0m\n\u001b[1;32m    110\u001b[0m     \u001b[0;31m# Running inside `run_distribute_coordinator` already.\u001b[0m\u001b[0;34m\u001b[0m\u001b[0;34m\u001b[0m\u001b[0;34m\u001b[0m\u001b[0m\n",
            "\u001b[0;32m/usr/local/lib/python3.6/dist-packages/tensorflow/python/keras/engine/training.py\u001b[0m in \u001b[0;36mfit\u001b[0;34m(self, x, y, batch_size, epochs, verbose, callbacks, validation_split, validation_data, shuffle, class_weight, sample_weight, initial_epoch, steps_per_epoch, validation_steps, validation_batch_size, validation_freq, max_queue_size, workers, use_multiprocessing)\u001b[0m\n\u001b[1;32m   1096\u001b[0m                 batch_size=batch_size):\n\u001b[1;32m   1097\u001b[0m               \u001b[0mcallbacks\u001b[0m\u001b[0;34m.\u001b[0m\u001b[0mon_train_batch_begin\u001b[0m\u001b[0;34m(\u001b[0m\u001b[0mstep\u001b[0m\u001b[0;34m)\u001b[0m\u001b[0;34m\u001b[0m\u001b[0;34m\u001b[0m\u001b[0m\n\u001b[0;32m-> 1098\u001b[0;31m               \u001b[0mtmp_logs\u001b[0m \u001b[0;34m=\u001b[0m \u001b[0mtrain_function\u001b[0m\u001b[0;34m(\u001b[0m\u001b[0miterator\u001b[0m\u001b[0;34m)\u001b[0m\u001b[0;34m\u001b[0m\u001b[0;34m\u001b[0m\u001b[0m\n\u001b[0m\u001b[1;32m   1099\u001b[0m               \u001b[0;32mif\u001b[0m \u001b[0mdata_handler\u001b[0m\u001b[0;34m.\u001b[0m\u001b[0mshould_sync\u001b[0m\u001b[0;34m:\u001b[0m\u001b[0;34m\u001b[0m\u001b[0;34m\u001b[0m\u001b[0m\n\u001b[1;32m   1100\u001b[0m                 \u001b[0mcontext\u001b[0m\u001b[0;34m.\u001b[0m\u001b[0masync_wait\u001b[0m\u001b[0;34m(\u001b[0m\u001b[0;34m)\u001b[0m\u001b[0;34m\u001b[0m\u001b[0;34m\u001b[0m\u001b[0m\n",
            "\u001b[0;32m/usr/local/lib/python3.6/dist-packages/tensorflow/python/eager/def_function.py\u001b[0m in \u001b[0;36m__call__\u001b[0;34m(self, *args, **kwds)\u001b[0m\n\u001b[1;32m    778\u001b[0m       \u001b[0;32melse\u001b[0m\u001b[0;34m:\u001b[0m\u001b[0;34m\u001b[0m\u001b[0;34m\u001b[0m\u001b[0m\n\u001b[1;32m    779\u001b[0m         \u001b[0mcompiler\u001b[0m \u001b[0;34m=\u001b[0m \u001b[0;34m\"nonXla\"\u001b[0m\u001b[0;34m\u001b[0m\u001b[0;34m\u001b[0m\u001b[0m\n\u001b[0;32m--> 780\u001b[0;31m         \u001b[0mresult\u001b[0m \u001b[0;34m=\u001b[0m \u001b[0mself\u001b[0m\u001b[0;34m.\u001b[0m\u001b[0m_call\u001b[0m\u001b[0;34m(\u001b[0m\u001b[0;34m*\u001b[0m\u001b[0margs\u001b[0m\u001b[0;34m,\u001b[0m \u001b[0;34m**\u001b[0m\u001b[0mkwds\u001b[0m\u001b[0;34m)\u001b[0m\u001b[0;34m\u001b[0m\u001b[0;34m\u001b[0m\u001b[0m\n\u001b[0m\u001b[1;32m    781\u001b[0m \u001b[0;34m\u001b[0m\u001b[0m\n\u001b[1;32m    782\u001b[0m       \u001b[0mnew_tracing_count\u001b[0m \u001b[0;34m=\u001b[0m \u001b[0mself\u001b[0m\u001b[0;34m.\u001b[0m\u001b[0m_get_tracing_count\u001b[0m\u001b[0;34m(\u001b[0m\u001b[0;34m)\u001b[0m\u001b[0;34m\u001b[0m\u001b[0;34m\u001b[0m\u001b[0m\n",
            "\u001b[0;32m/usr/local/lib/python3.6/dist-packages/tensorflow/python/eager/def_function.py\u001b[0m in \u001b[0;36m_call\u001b[0;34m(self, *args, **kwds)\u001b[0m\n\u001b[1;32m    812\u001b[0m       \u001b[0;31m# In this case we have not created variables on the first call. So we can\u001b[0m\u001b[0;34m\u001b[0m\u001b[0;34m\u001b[0m\u001b[0;34m\u001b[0m\u001b[0m\n\u001b[1;32m    813\u001b[0m       \u001b[0;31m# run the first trace but we should fail if variables are created.\u001b[0m\u001b[0;34m\u001b[0m\u001b[0;34m\u001b[0m\u001b[0;34m\u001b[0m\u001b[0m\n\u001b[0;32m--> 814\u001b[0;31m       \u001b[0mresults\u001b[0m \u001b[0;34m=\u001b[0m \u001b[0mself\u001b[0m\u001b[0;34m.\u001b[0m\u001b[0m_stateful_fn\u001b[0m\u001b[0;34m(\u001b[0m\u001b[0;34m*\u001b[0m\u001b[0margs\u001b[0m\u001b[0;34m,\u001b[0m \u001b[0;34m**\u001b[0m\u001b[0mkwds\u001b[0m\u001b[0;34m)\u001b[0m\u001b[0;34m\u001b[0m\u001b[0;34m\u001b[0m\u001b[0m\n\u001b[0m\u001b[1;32m    815\u001b[0m       \u001b[0;32mif\u001b[0m \u001b[0mself\u001b[0m\u001b[0;34m.\u001b[0m\u001b[0m_created_variables\u001b[0m\u001b[0;34m:\u001b[0m\u001b[0;34m\u001b[0m\u001b[0;34m\u001b[0m\u001b[0m\n\u001b[1;32m    816\u001b[0m         raise ValueError(\"Creating variables on a non-first call to a function\"\n",
            "\u001b[0;32m/usr/local/lib/python3.6/dist-packages/tensorflow/python/eager/function.py\u001b[0m in \u001b[0;36m__call__\u001b[0;34m(self, *args, **kwargs)\u001b[0m\n\u001b[1;32m   2826\u001b[0m     \u001b[0;34m\"\"\"Calls a graph function specialized to the inputs.\"\"\"\u001b[0m\u001b[0;34m\u001b[0m\u001b[0;34m\u001b[0m\u001b[0m\n\u001b[1;32m   2827\u001b[0m     \u001b[0;32mwith\u001b[0m \u001b[0mself\u001b[0m\u001b[0;34m.\u001b[0m\u001b[0m_lock\u001b[0m\u001b[0;34m:\u001b[0m\u001b[0;34m\u001b[0m\u001b[0;34m\u001b[0m\u001b[0m\n\u001b[0;32m-> 2828\u001b[0;31m       \u001b[0mgraph_function\u001b[0m\u001b[0;34m,\u001b[0m \u001b[0margs\u001b[0m\u001b[0;34m,\u001b[0m \u001b[0mkwargs\u001b[0m \u001b[0;34m=\u001b[0m \u001b[0mself\u001b[0m\u001b[0;34m.\u001b[0m\u001b[0m_maybe_define_function\u001b[0m\u001b[0;34m(\u001b[0m\u001b[0margs\u001b[0m\u001b[0;34m,\u001b[0m \u001b[0mkwargs\u001b[0m\u001b[0;34m)\u001b[0m\u001b[0;34m\u001b[0m\u001b[0;34m\u001b[0m\u001b[0m\n\u001b[0m\u001b[1;32m   2829\u001b[0m     \u001b[0;32mreturn\u001b[0m \u001b[0mgraph_function\u001b[0m\u001b[0;34m.\u001b[0m\u001b[0m_filtered_call\u001b[0m\u001b[0;34m(\u001b[0m\u001b[0margs\u001b[0m\u001b[0;34m,\u001b[0m \u001b[0mkwargs\u001b[0m\u001b[0;34m)\u001b[0m  \u001b[0;31m# pylint: disable=protected-access\u001b[0m\u001b[0;34m\u001b[0m\u001b[0;34m\u001b[0m\u001b[0m\n\u001b[1;32m   2830\u001b[0m \u001b[0;34m\u001b[0m\u001b[0m\n",
            "\u001b[0;32m/usr/local/lib/python3.6/dist-packages/tensorflow/python/eager/function.py\u001b[0m in \u001b[0;36m_maybe_define_function\u001b[0;34m(self, args, kwargs)\u001b[0m\n\u001b[1;32m   3208\u001b[0m           \u001b[0;32mand\u001b[0m \u001b[0mself\u001b[0m\u001b[0;34m.\u001b[0m\u001b[0minput_signature\u001b[0m \u001b[0;32mis\u001b[0m \u001b[0;32mNone\u001b[0m\u001b[0;34m\u001b[0m\u001b[0;34m\u001b[0m\u001b[0m\n\u001b[1;32m   3209\u001b[0m           and call_context_key in self._function_cache.missed):\n\u001b[0;32m-> 3210\u001b[0;31m         \u001b[0;32mreturn\u001b[0m \u001b[0mself\u001b[0m\u001b[0;34m.\u001b[0m\u001b[0m_define_function_with_shape_relaxation\u001b[0m\u001b[0;34m(\u001b[0m\u001b[0margs\u001b[0m\u001b[0;34m,\u001b[0m \u001b[0mkwargs\u001b[0m\u001b[0;34m)\u001b[0m\u001b[0;34m\u001b[0m\u001b[0;34m\u001b[0m\u001b[0m\n\u001b[0m\u001b[1;32m   3211\u001b[0m \u001b[0;34m\u001b[0m\u001b[0m\n\u001b[1;32m   3212\u001b[0m       \u001b[0mself\u001b[0m\u001b[0;34m.\u001b[0m\u001b[0m_function_cache\u001b[0m\u001b[0;34m.\u001b[0m\u001b[0mmissed\u001b[0m\u001b[0;34m.\u001b[0m\u001b[0madd\u001b[0m\u001b[0;34m(\u001b[0m\u001b[0mcall_context_key\u001b[0m\u001b[0;34m)\u001b[0m\u001b[0;34m\u001b[0m\u001b[0;34m\u001b[0m\u001b[0m\n",
            "\u001b[0;32m/usr/local/lib/python3.6/dist-packages/tensorflow/python/eager/function.py\u001b[0m in \u001b[0;36m_define_function_with_shape_relaxation\u001b[0;34m(self, args, kwargs)\u001b[0m\n\u001b[1;32m   3140\u001b[0m \u001b[0;34m\u001b[0m\u001b[0m\n\u001b[1;32m   3141\u001b[0m     graph_function = self._create_graph_function(\n\u001b[0;32m-> 3142\u001b[0;31m         args, kwargs, override_flat_arg_shapes=relaxed_arg_shapes)\n\u001b[0m\u001b[1;32m   3143\u001b[0m     \u001b[0mself\u001b[0m\u001b[0;34m.\u001b[0m\u001b[0m_function_cache\u001b[0m\u001b[0;34m.\u001b[0m\u001b[0marg_relaxed\u001b[0m\u001b[0;34m[\u001b[0m\u001b[0mrank_only_cache_key\u001b[0m\u001b[0;34m]\u001b[0m \u001b[0;34m=\u001b[0m \u001b[0mgraph_function\u001b[0m\u001b[0;34m\u001b[0m\u001b[0;34m\u001b[0m\u001b[0m\n\u001b[1;32m   3144\u001b[0m \u001b[0;34m\u001b[0m\u001b[0m\n",
            "\u001b[0;32m/usr/local/lib/python3.6/dist-packages/tensorflow/python/eager/function.py\u001b[0m in \u001b[0;36m_create_graph_function\u001b[0;34m(self, args, kwargs, override_flat_arg_shapes)\u001b[0m\n\u001b[1;32m   3073\u001b[0m             \u001b[0marg_names\u001b[0m\u001b[0;34m=\u001b[0m\u001b[0marg_names\u001b[0m\u001b[0;34m,\u001b[0m\u001b[0;34m\u001b[0m\u001b[0;34m\u001b[0m\u001b[0m\n\u001b[1;32m   3074\u001b[0m             \u001b[0moverride_flat_arg_shapes\u001b[0m\u001b[0;34m=\u001b[0m\u001b[0moverride_flat_arg_shapes\u001b[0m\u001b[0;34m,\u001b[0m\u001b[0;34m\u001b[0m\u001b[0;34m\u001b[0m\u001b[0m\n\u001b[0;32m-> 3075\u001b[0;31m             capture_by_value=self._capture_by_value),\n\u001b[0m\u001b[1;32m   3076\u001b[0m         \u001b[0mself\u001b[0m\u001b[0;34m.\u001b[0m\u001b[0m_function_attributes\u001b[0m\u001b[0;34m,\u001b[0m\u001b[0;34m\u001b[0m\u001b[0;34m\u001b[0m\u001b[0m\n\u001b[1;32m   3077\u001b[0m         \u001b[0mfunction_spec\u001b[0m\u001b[0;34m=\u001b[0m\u001b[0mself\u001b[0m\u001b[0;34m.\u001b[0m\u001b[0mfunction_spec\u001b[0m\u001b[0;34m,\u001b[0m\u001b[0;34m\u001b[0m\u001b[0;34m\u001b[0m\u001b[0m\n",
            "\u001b[0;32m/usr/local/lib/python3.6/dist-packages/tensorflow/python/framework/func_graph.py\u001b[0m in \u001b[0;36mfunc_graph_from_py_func\u001b[0;34m(name, python_func, args, kwargs, signature, func_graph, autograph, autograph_options, add_control_dependencies, arg_names, op_return_value, collections, capture_by_value, override_flat_arg_shapes)\u001b[0m\n\u001b[1;32m    984\u001b[0m         \u001b[0m_\u001b[0m\u001b[0;34m,\u001b[0m \u001b[0moriginal_func\u001b[0m \u001b[0;34m=\u001b[0m \u001b[0mtf_decorator\u001b[0m\u001b[0;34m.\u001b[0m\u001b[0munwrap\u001b[0m\u001b[0;34m(\u001b[0m\u001b[0mpython_func\u001b[0m\u001b[0;34m)\u001b[0m\u001b[0;34m\u001b[0m\u001b[0;34m\u001b[0m\u001b[0m\n\u001b[1;32m    985\u001b[0m \u001b[0;34m\u001b[0m\u001b[0m\n\u001b[0;32m--> 986\u001b[0;31m       \u001b[0mfunc_outputs\u001b[0m \u001b[0;34m=\u001b[0m \u001b[0mpython_func\u001b[0m\u001b[0;34m(\u001b[0m\u001b[0;34m*\u001b[0m\u001b[0mfunc_args\u001b[0m\u001b[0;34m,\u001b[0m \u001b[0;34m**\u001b[0m\u001b[0mfunc_kwargs\u001b[0m\u001b[0;34m)\u001b[0m\u001b[0;34m\u001b[0m\u001b[0;34m\u001b[0m\u001b[0m\n\u001b[0m\u001b[1;32m    987\u001b[0m \u001b[0;34m\u001b[0m\u001b[0m\n\u001b[1;32m    988\u001b[0m       \u001b[0;31m# invariant: `func_outputs` contains only Tensors, CompositeTensors,\u001b[0m\u001b[0;34m\u001b[0m\u001b[0;34m\u001b[0m\u001b[0;34m\u001b[0m\u001b[0m\n",
            "\u001b[0;32m/usr/local/lib/python3.6/dist-packages/tensorflow/python/eager/def_function.py\u001b[0m in \u001b[0;36mwrapped_fn\u001b[0;34m(*args, **kwds)\u001b[0m\n\u001b[1;32m    598\u001b[0m         \u001b[0;31m# __wrapped__ allows AutoGraph to swap in a converted function. We give\u001b[0m\u001b[0;34m\u001b[0m\u001b[0;34m\u001b[0m\u001b[0;34m\u001b[0m\u001b[0m\n\u001b[1;32m    599\u001b[0m         \u001b[0;31m# the function a weak reference to itself to avoid a reference cycle.\u001b[0m\u001b[0;34m\u001b[0m\u001b[0;34m\u001b[0m\u001b[0;34m\u001b[0m\u001b[0m\n\u001b[0;32m--> 600\u001b[0;31m         \u001b[0;32mreturn\u001b[0m \u001b[0mweak_wrapped_fn\u001b[0m\u001b[0;34m(\u001b[0m\u001b[0;34m)\u001b[0m\u001b[0;34m.\u001b[0m\u001b[0m__wrapped__\u001b[0m\u001b[0;34m(\u001b[0m\u001b[0;34m*\u001b[0m\u001b[0margs\u001b[0m\u001b[0;34m,\u001b[0m \u001b[0;34m**\u001b[0m\u001b[0mkwds\u001b[0m\u001b[0;34m)\u001b[0m\u001b[0;34m\u001b[0m\u001b[0;34m\u001b[0m\u001b[0m\n\u001b[0m\u001b[1;32m    601\u001b[0m     \u001b[0mweak_wrapped_fn\u001b[0m \u001b[0;34m=\u001b[0m \u001b[0mweakref\u001b[0m\u001b[0;34m.\u001b[0m\u001b[0mref\u001b[0m\u001b[0;34m(\u001b[0m\u001b[0mwrapped_fn\u001b[0m\u001b[0;34m)\u001b[0m\u001b[0;34m\u001b[0m\u001b[0;34m\u001b[0m\u001b[0m\n\u001b[1;32m    602\u001b[0m \u001b[0;34m\u001b[0m\u001b[0m\n",
            "\u001b[0;32m/usr/local/lib/python3.6/dist-packages/tensorflow/python/framework/func_graph.py\u001b[0m in \u001b[0;36mwrapper\u001b[0;34m(*args, **kwargs)\u001b[0m\n\u001b[1;32m    971\u001b[0m           \u001b[0;32mexcept\u001b[0m \u001b[0mException\u001b[0m \u001b[0;32mas\u001b[0m \u001b[0me\u001b[0m\u001b[0;34m:\u001b[0m  \u001b[0;31m# pylint:disable=broad-except\u001b[0m\u001b[0;34m\u001b[0m\u001b[0;34m\u001b[0m\u001b[0m\n\u001b[1;32m    972\u001b[0m             \u001b[0;32mif\u001b[0m \u001b[0mhasattr\u001b[0m\u001b[0;34m(\u001b[0m\u001b[0me\u001b[0m\u001b[0;34m,\u001b[0m \u001b[0;34m\"ag_error_metadata\"\u001b[0m\u001b[0;34m)\u001b[0m\u001b[0;34m:\u001b[0m\u001b[0;34m\u001b[0m\u001b[0;34m\u001b[0m\u001b[0m\n\u001b[0;32m--> 973\u001b[0;31m               \u001b[0;32mraise\u001b[0m \u001b[0me\u001b[0m\u001b[0;34m.\u001b[0m\u001b[0mag_error_metadata\u001b[0m\u001b[0;34m.\u001b[0m\u001b[0mto_exception\u001b[0m\u001b[0;34m(\u001b[0m\u001b[0me\u001b[0m\u001b[0;34m)\u001b[0m\u001b[0;34m\u001b[0m\u001b[0;34m\u001b[0m\u001b[0m\n\u001b[0m\u001b[1;32m    974\u001b[0m             \u001b[0;32melse\u001b[0m\u001b[0;34m:\u001b[0m\u001b[0;34m\u001b[0m\u001b[0;34m\u001b[0m\u001b[0m\n\u001b[1;32m    975\u001b[0m               \u001b[0;32mraise\u001b[0m\u001b[0;34m\u001b[0m\u001b[0;34m\u001b[0m\u001b[0m\n",
            "\u001b[0;31mValueError\u001b[0m: in user code:\n\n    /usr/local/lib/python3.6/dist-packages/tensorflow/python/keras/engine/training.py:806 train_function  *\n        return step_function(self, iterator)\n    /usr/local/lib/python3.6/dist-packages/tensorflow/python/keras/engine/training.py:796 step_function  **\n        outputs = model.distribute_strategy.run(run_step, args=(data,))\n    /usr/local/lib/python3.6/dist-packages/tensorflow/python/distribute/distribute_lib.py:1211 run\n        return self._extended.call_for_each_replica(fn, args=args, kwargs=kwargs)\n    /usr/local/lib/python3.6/dist-packages/tensorflow/python/distribute/distribute_lib.py:2585 call_for_each_replica\n        return self._call_for_each_replica(fn, args, kwargs)\n    /usr/local/lib/python3.6/dist-packages/tensorflow/python/distribute/distribute_lib.py:2945 _call_for_each_replica\n        return fn(*args, **kwargs)\n    /usr/local/lib/python3.6/dist-packages/tensorflow/python/keras/engine/training.py:789 run_step  **\n        outputs = model.train_step(data)\n    /usr/local/lib/python3.6/dist-packages/tensorflow/python/keras/engine/training.py:749 train_step\n        y, y_pred, sample_weight, regularization_losses=self.losses)\n    /usr/local/lib/python3.6/dist-packages/tensorflow/python/keras/engine/compile_utils.py:204 __call__\n        loss_value = loss_obj(y_t, y_p, sample_weight=sw)\n    /usr/local/lib/python3.6/dist-packages/tensorflow/python/keras/losses.py:149 __call__\n        losses = ag_call(y_true, y_pred)\n    /usr/local/lib/python3.6/dist-packages/tensorflow/python/keras/losses.py:253 call  **\n        return ag_fn(y_true, y_pred, **self._fn_kwargs)\n    /usr/local/lib/python3.6/dist-packages/tensorflow/python/util/dispatch.py:201 wrapper\n        return target(*args, **kwargs)\n    /usr/local/lib/python3.6/dist-packages/tensorflow/python/keras/losses.py:1535 categorical_crossentropy\n        return K.categorical_crossentropy(y_true, y_pred, from_logits=from_logits)\n    /usr/local/lib/python3.6/dist-packages/tensorflow/python/util/dispatch.py:201 wrapper\n        return target(*args, **kwargs)\n    /usr/local/lib/python3.6/dist-packages/tensorflow/python/keras/backend.py:4687 categorical_crossentropy\n        target.shape.assert_is_compatible_with(output.shape)\n    /usr/local/lib/python3.6/dist-packages/tensorflow/python/framework/tensor_shape.py:1134 assert_is_compatible_with\n        raise ValueError(\"Shapes %s and %s are incompatible\" % (self, other))\n\n    ValueError: Shapes (None, 1) and (None, 3) are incompatible\n"
          ]
        }
      ]
    },
    {
      "cell_type": "code",
      "metadata": {
        "id": "SeoWYDPiBVTM"
      },
      "source": [
        "#using Image Augmentation Approach(By using Image Data Generator)\n",
        "\n",
        "from keras.preprocessing.image import ImageDataGenerator\n",
        "train_datagen = ImageDataGenerator(rescale = 1/255.,\n",
        "                                  horizontal_flip = True,\n",
        "                                  zoom_range = 0.3,\n",
        "                                  rotation_range = 30)\n",
        "val_datagen= ImageDataGenerator(rescale=1./255)\n",
        "\n",
        "train_gen = train_datagen.flow(train_x,train_y, batch_size=32)\n",
        "val_gen = val_datagen.flow(eval_x,eval_y, batch_size=32)\n",
        "test_gen = val_datagen.flow(test_x,test_y, batch_size =32, shuffle = False)"
      ],
      "execution_count": null,
      "outputs": []
    },
    {
      "cell_type": "code",
      "metadata": {
        "id": "fmrxG-bLv_tB",
        "outputId": "4f7a725c-ecf6-4451-c7fd-f4bb3b610726",
        "colab": {
          "base_uri": "https://localhost:8080/",
          "height": 1000
        }
      },
      "source": [
        "STEP_SIZE_TRAIN=train_gen.n//train_gen.batch_size\n",
        "STEP_SIZE_VALID=val_gen.n//val_gen.batch_size\n",
        "STEP_SIZE_TEST=test_gen.n//test_gen.batch_size\n",
        "ep = 100\n",
        "classifier.fit_generator(generator = train_gen, validation_data= val_gen,\n",
        "                           steps_per_epoch=STEP_SIZE_TRAIN, epochs=ep, \n",
        "                           validation_steps=STEP_SIZE_VALID)"
      ],
      "execution_count": null,
      "outputs": [
        {
          "output_type": "stream",
          "text": [
            "WARNING:tensorflow:From <ipython-input-96-372460def1fa>:7: Model.fit_generator (from tensorflow.python.keras.engine.training) is deprecated and will be removed in a future version.\n",
            "Instructions for updating:\n",
            "Please use Model.fit, which supports generators.\n",
            "Epoch 1/100\n",
            "2/2 [==============================] - 1s 296ms/step - loss: 2.7503 - accuracy: 0.5000\n",
            "Epoch 2/100\n",
            "2/2 [==============================] - 0s 160ms/step - loss: 3.7123 - accuracy: 0.2292\n",
            "Epoch 3/100\n",
            "2/2 [==============================] - 1s 278ms/step - loss: 1.9649 - accuracy: 0.2708\n",
            "Epoch 4/100\n",
            "2/2 [==============================] - 1s 289ms/step - loss: 1.6868 - accuracy: 0.3333\n",
            "Epoch 5/100\n",
            "2/2 [==============================] - 0s 159ms/step - loss: 1.4224 - accuracy: 0.3542\n",
            "Epoch 6/100\n",
            "2/2 [==============================] - 0s 154ms/step - loss: 1.4197 - accuracy: 0.3333\n",
            "Epoch 7/100\n",
            "2/2 [==============================] - 0s 160ms/step - loss: 1.2024 - accuracy: 0.5833\n",
            "Epoch 8/100\n",
            "2/2 [==============================] - 0s 161ms/step - loss: 1.3252 - accuracy: 0.4792\n",
            "Epoch 9/100\n",
            "2/2 [==============================] - 0s 156ms/step - loss: 1.4492 - accuracy: 0.5208\n",
            "Epoch 10/100\n",
            "2/2 [==============================] - 1s 279ms/step - loss: 1.4112 - accuracy: 0.3906\n",
            "Epoch 11/100\n",
            "2/2 [==============================] - 1s 278ms/step - loss: 1.4233 - accuracy: 0.4062\n",
            "Epoch 12/100\n",
            "2/2 [==============================] - 1s 278ms/step - loss: 1.2784 - accuracy: 0.4375\n",
            "Epoch 13/100\n",
            "2/2 [==============================] - 1s 271ms/step - loss: 1.4645 - accuracy: 0.3542\n",
            "Epoch 14/100\n",
            "2/2 [==============================] - 1s 284ms/step - loss: 1.3911 - accuracy: 0.4219\n",
            "Epoch 15/100\n",
            "2/2 [==============================] - 0s 161ms/step - loss: 1.3876 - accuracy: 0.4167\n",
            "Epoch 16/100\n",
            "2/2 [==============================] - 1s 277ms/step - loss: 1.3894 - accuracy: 0.5000\n",
            "Epoch 17/100\n",
            "2/2 [==============================] - 1s 274ms/step - loss: 1.3271 - accuracy: 0.3125\n",
            "Epoch 18/100\n",
            "2/2 [==============================] - 0s 157ms/step - loss: 1.2680 - accuracy: 0.4583\n",
            "Epoch 19/100\n",
            "2/2 [==============================] - 1s 283ms/step - loss: 1.3987 - accuracy: 0.3750\n",
            "Epoch 20/100\n",
            "2/2 [==============================] - 1s 274ms/step - loss: 1.3064 - accuracy: 0.4219\n",
            "Epoch 21/100\n",
            "2/2 [==============================] - 1s 274ms/step - loss: 1.3131 - accuracy: 0.4375\n",
            "Epoch 22/100\n",
            "2/2 [==============================] - 1s 278ms/step - loss: 1.2852 - accuracy: 0.4844\n",
            "Epoch 23/100\n",
            "2/2 [==============================] - 1s 283ms/step - loss: 1.4955 - accuracy: 0.2344\n",
            "Epoch 24/100\n",
            "2/2 [==============================] - 1s 301ms/step - loss: 1.3680 - accuracy: 0.4219\n",
            "Epoch 25/100\n",
            "2/2 [==============================] - 0s 157ms/step - loss: 1.4285 - accuracy: 0.3542\n",
            "Epoch 26/100\n",
            "2/2 [==============================] - 0s 163ms/step - loss: 1.3004 - accuracy: 0.4375\n",
            "Epoch 27/100\n",
            "2/2 [==============================] - 1s 279ms/step - loss: 1.1286 - accuracy: 0.4688\n",
            "Epoch 28/100\n",
            "2/2 [==============================] - 1s 274ms/step - loss: 1.1771 - accuracy: 0.4688\n",
            "Epoch 29/100\n",
            "2/2 [==============================] - 1s 288ms/step - loss: 1.2644 - accuracy: 0.3906\n",
            "Epoch 30/100\n",
            "2/2 [==============================] - 1s 273ms/step - loss: 1.2736 - accuracy: 0.3958\n",
            "Epoch 31/100\n",
            "2/2 [==============================] - 1s 270ms/step - loss: 1.0638 - accuracy: 0.5208\n",
            "Epoch 32/100\n",
            "2/2 [==============================] - 1s 275ms/step - loss: 1.4420 - accuracy: 0.2917\n",
            "Epoch 33/100\n",
            "2/2 [==============================] - 0s 156ms/step - loss: 1.2202 - accuracy: 0.4792\n",
            "Epoch 34/100\n",
            "2/2 [==============================] - 1s 272ms/step - loss: 1.1182 - accuracy: 0.5312\n",
            "Epoch 35/100\n",
            "2/2 [==============================] - 1s 276ms/step - loss: 1.2648 - accuracy: 0.4531\n",
            "Epoch 36/100\n",
            "2/2 [==============================] - 0s 149ms/step - loss: 1.3602 - accuracy: 0.4167\n",
            "Epoch 37/100\n",
            "2/2 [==============================] - 1s 279ms/step - loss: 1.2535 - accuracy: 0.4844\n",
            "Epoch 38/100\n",
            "2/2 [==============================] - 1s 287ms/step - loss: 1.2394 - accuracy: 0.4531\n",
            "Epoch 39/100\n",
            "2/2 [==============================] - 1s 282ms/step - loss: 1.2966 - accuracy: 0.3906\n",
            "Epoch 40/100\n",
            "2/2 [==============================] - 1s 281ms/step - loss: 1.1856 - accuracy: 0.5000\n",
            "Epoch 41/100\n",
            "2/2 [==============================] - 1s 273ms/step - loss: 1.4351 - accuracy: 0.2917\n",
            "Epoch 42/100\n",
            "2/2 [==============================] - 1s 273ms/step - loss: 1.2483 - accuracy: 0.3125\n",
            "Epoch 43/100\n",
            "2/2 [==============================] - 0s 149ms/step - loss: 1.1862 - accuracy: 0.2708\n",
            "Epoch 44/100\n",
            "2/2 [==============================] - 1s 267ms/step - loss: 1.1186 - accuracy: 0.4583\n",
            "Epoch 45/100\n",
            "2/2 [==============================] - 1s 263ms/step - loss: 1.2152 - accuracy: 0.4583\n",
            "Epoch 46/100\n",
            "2/2 [==============================] - 0s 155ms/step - loss: 1.3440 - accuracy: 0.3542\n",
            "Epoch 47/100\n",
            "2/2 [==============================] - 0s 160ms/step - loss: 1.2455 - accuracy: 0.4375\n",
            "Epoch 48/100\n",
            "2/2 [==============================] - 1s 284ms/step - loss: 1.3404 - accuracy: 0.2500\n",
            "Epoch 49/100\n",
            "2/2 [==============================] - 1s 275ms/step - loss: 1.1380 - accuracy: 0.5000\n",
            "Epoch 50/100\n",
            "2/2 [==============================] - 0s 152ms/step - loss: 1.2650 - accuracy: 0.3750\n",
            "Epoch 51/100\n",
            "2/2 [==============================] - 1s 280ms/step - loss: 1.1889 - accuracy: 0.4062\n",
            "Epoch 52/100\n",
            "2/2 [==============================] - 0s 157ms/step - loss: 1.1360 - accuracy: 0.4792\n",
            "Epoch 53/100\n",
            "2/2 [==============================] - 1s 277ms/step - loss: 1.2443 - accuracy: 0.4375\n",
            "Epoch 54/100\n",
            "2/2 [==============================] - 1s 279ms/step - loss: 1.2998 - accuracy: 0.3958\n",
            "Epoch 55/100\n",
            "2/2 [==============================] - 1s 281ms/step - loss: 1.1377 - accuracy: 0.4531\n",
            "Epoch 56/100\n",
            "2/2 [==============================] - 1s 274ms/step - loss: 1.1038 - accuracy: 0.5208\n",
            "Epoch 57/100\n",
            "2/2 [==============================] - 1s 281ms/step - loss: 1.0942 - accuracy: 0.4792\n",
            "Epoch 58/100\n",
            "2/2 [==============================] - 1s 278ms/step - loss: 1.1552 - accuracy: 0.5000\n",
            "Epoch 59/100\n",
            "2/2 [==============================] - 1s 275ms/step - loss: 1.1706 - accuracy: 0.4844\n",
            "Epoch 60/100\n",
            "2/2 [==============================] - 1s 276ms/step - loss: 1.1552 - accuracy: 0.4844\n",
            "Epoch 61/100\n",
            "2/2 [==============================] - 1s 280ms/step - loss: 1.3042 - accuracy: 0.3125\n",
            "Epoch 62/100\n",
            "2/2 [==============================] - 1s 278ms/step - loss: 1.1116 - accuracy: 0.4792\n",
            "Epoch 63/100\n",
            "2/2 [==============================] - 1s 272ms/step - loss: 1.2549 - accuracy: 0.5208\n",
            "Epoch 64/100\n",
            "2/2 [==============================] - 1s 278ms/step - loss: 1.2095 - accuracy: 0.4062\n",
            "Epoch 65/100\n",
            "2/2 [==============================] - 0s 150ms/step - loss: 1.1019 - accuracy: 0.4792\n",
            "Epoch 66/100\n",
            "2/2 [==============================] - 1s 273ms/step - loss: 1.1316 - accuracy: 0.4583\n",
            "Epoch 67/100\n",
            "2/2 [==============================] - 1s 272ms/step - loss: 1.1271 - accuracy: 0.3750\n",
            "Epoch 68/100\n",
            "2/2 [==============================] - 0s 147ms/step - loss: 1.0909 - accuracy: 0.4375\n",
            "Epoch 69/100\n",
            "2/2 [==============================] - 0s 149ms/step - loss: 1.1681 - accuracy: 0.3333\n",
            "Epoch 70/100\n",
            "2/2 [==============================] - 1s 285ms/step - loss: 1.0836 - accuracy: 0.4583\n",
            "Epoch 71/100\n",
            "2/2 [==============================] - 0s 154ms/step - loss: 1.0252 - accuracy: 0.5208\n",
            "Epoch 72/100\n",
            "2/2 [==============================] - 0s 152ms/step - loss: 1.1838 - accuracy: 0.5000\n",
            "Epoch 73/100\n",
            "2/2 [==============================] - 0s 151ms/step - loss: 1.0074 - accuracy: 0.4375\n",
            "Epoch 74/100\n",
            "2/2 [==============================] - 1s 270ms/step - loss: 1.1461 - accuracy: 0.4375\n",
            "Epoch 75/100\n",
            "2/2 [==============================] - 1s 268ms/step - loss: 1.2052 - accuracy: 0.4531\n",
            "Epoch 76/100\n",
            "2/2 [==============================] - 1s 280ms/step - loss: 1.2357 - accuracy: 0.3281\n",
            "Epoch 77/100\n",
            "2/2 [==============================] - 1s 275ms/step - loss: 0.9942 - accuracy: 0.5208\n",
            "Epoch 78/100\n",
            "2/2 [==============================] - 1s 266ms/step - loss: 1.1034 - accuracy: 0.3958\n",
            "Epoch 79/100\n",
            "2/2 [==============================] - 1s 283ms/step - loss: 1.1561 - accuracy: 0.4167\n",
            "Epoch 80/100\n",
            "2/2 [==============================] - 1s 272ms/step - loss: 1.2047 - accuracy: 0.4062\n",
            "Epoch 81/100\n",
            "2/2 [==============================] - 1s 271ms/step - loss: 1.1277 - accuracy: 0.3906\n",
            "Epoch 82/100\n",
            "2/2 [==============================] - 1s 267ms/step - loss: 1.0722 - accuracy: 0.4844\n",
            "Epoch 83/100\n",
            "2/2 [==============================] - 1s 266ms/step - loss: 1.1438 - accuracy: 0.4792\n",
            "Epoch 84/100\n",
            "2/2 [==============================] - 1s 267ms/step - loss: 1.1585 - accuracy: 0.3438\n",
            "Epoch 85/100\n",
            "2/2 [==============================] - 1s 274ms/step - loss: 1.1045 - accuracy: 0.5000\n",
            "Epoch 86/100\n",
            "2/2 [==============================] - 1s 277ms/step - loss: 1.0740 - accuracy: 0.4219\n",
            "Epoch 87/100\n",
            "2/2 [==============================] - 0s 151ms/step - loss: 1.1117 - accuracy: 0.4583\n",
            "Epoch 88/100\n",
            "2/2 [==============================] - 0s 153ms/step - loss: 1.0665 - accuracy: 0.5208\n",
            "Epoch 89/100\n",
            "2/2 [==============================] - 1s 275ms/step - loss: 1.1301 - accuracy: 0.4375\n",
            "Epoch 90/100\n",
            "2/2 [==============================] - 0s 151ms/step - loss: 1.1116 - accuracy: 0.4375\n",
            "Epoch 91/100\n",
            "2/2 [==============================] - 1s 265ms/step - loss: 1.0696 - accuracy: 0.4375\n",
            "Epoch 92/100\n",
            "2/2 [==============================] - 1s 272ms/step - loss: 1.0186 - accuracy: 0.4531\n",
            "Epoch 93/100\n",
            "2/2 [==============================] - 1s 268ms/step - loss: 1.1304 - accuracy: 0.3906\n",
            "Epoch 94/100\n",
            "2/2 [==============================] - 1s 268ms/step - loss: 1.0760 - accuracy: 0.5156\n",
            "Epoch 95/100\n",
            "2/2 [==============================] - 1s 263ms/step - loss: 1.1616 - accuracy: 0.3125\n",
            "Epoch 96/100\n",
            "2/2 [==============================] - 1s 265ms/step - loss: 1.1701 - accuracy: 0.3594\n",
            "Epoch 97/100\n",
            "2/2 [==============================] - 1s 263ms/step - loss: 1.1145 - accuracy: 0.3750\n",
            "Epoch 98/100\n",
            "2/2 [==============================] - 1s 289ms/step - loss: 1.0841 - accuracy: 0.5312\n",
            "Epoch 99/100\n",
            "2/2 [==============================] - 1s 270ms/step - loss: 1.1500 - accuracy: 0.5000\n",
            "Epoch 100/100\n",
            "2/2 [==============================] - 1s 283ms/step - loss: 1.0824 - accuracy: 0.4167\n"
          ],
          "name": "stdout"
        },
        {
          "output_type": "execute_result",
          "data": {
            "text/plain": [
              "<tensorflow.python.keras.callbacks.History at 0x7f1bc13602e8>"
            ]
          },
          "metadata": {
            "tags": []
          },
          "execution_count": 96
        }
      ]
    },
    {
      "cell_type": "code",
      "metadata": {
        "id": "c4OOZImRwOZW",
        "outputId": "f6aacd68-9155-4002-fc14-d4e3746b11c9",
        "colab": {
          "base_uri": "https://localhost:8080/",
          "height": 52
        }
      },
      "source": [
        "#Once the model is trained we can evaluate it on Test data.\n",
        "\n",
        "# Evaluating the model for convnet\n",
        "score = classifier.evaluate(test_x, test_y, verbose=0)\n",
        "print('Test Loss:', score[0])\n",
        "print('Test accuracy:', score[1])"
      ],
      "execution_count": null,
      "outputs": [
        {
          "output_type": "stream",
          "text": [
            "Test Loss: 0.26072797179222107\n",
            "Test accuracy: 1.0\n"
          ],
          "name": "stdout"
        }
      ]
    },
    {
      "cell_type": "code",
      "metadata": {
        "id": "DfJUUhfA2RM2",
        "outputId": "7e41919b-2878-495a-ad6a-da582903c68f",
        "colab": {
          "base_uri": "https://localhost:8080/",
          "height": 248
        }
      },
      "source": [
        "from sklearn.metrics import classification_report,confusion_matrix\n",
        "Y_pred = classifier.predict(test_x)\n",
        "y_pred = np.argmax(Y_pred, axis=1)\n",
        "target_names = ['class 0(car)', 'class 1(bike)','class 2(random)']\n",
        "                                               \n",
        "print(classification_report(np.argmax(test_y,axis=1), y_pred,target_names=target_names))\n",
        "\n",
        "print(confusion_matrix(np.argmax(test_y,axis=1), y_pred))"
      ],
      "execution_count": null,
      "outputs": [
        {
          "output_type": "stream",
          "text": [
            "                 precision    recall  f1-score   support\n",
            "\n",
            "   class 0(car)       1.00      1.00      1.00         3\n",
            "  class 1(bike)       1.00      1.00      1.00         2\n",
            "class 2(random)       1.00      1.00      1.00         5\n",
            "\n",
            "       accuracy                           1.00        10\n",
            "      macro avg       1.00      1.00      1.00        10\n",
            "   weighted avg       1.00      1.00      1.00        10\n",
            "\n",
            "[[3 0 0]\n",
            " [0 2 0]\n",
            " [0 0 5]]\n"
          ],
          "name": "stdout"
        }
      ]
    },
    {
      "cell_type": "code",
      "metadata": {
        "id": "6YIr9Px0pjcc"
      },
      "source": [
        "\n",
        "#AlexNet\n",
        "model = keras.models.Sequential([\n",
        "    keras.layers.Conv2D(filters=96, kernel_size=(11,11), strides=(4,4), activation='relu', input_shape=(128,128,3)),\n",
        "    keras.layers.BatchNormalization(),\n",
        "    keras.layers.MaxPool2D(pool_size=(3,3), strides=(2,2)),\n",
        "    keras.layers.Conv2D(filters=256, kernel_size=(5,5), strides=(1,1), activation='relu', padding=\"same\",kernel_regularizer=regularizers.l2(0.05)),\n",
        "    keras.layers.BatchNormalization(),\n",
        "    keras.layers.MaxPool2D(pool_size=(3,3), strides=(2,2)),\n",
        "    keras.layers.Conv2D(filters=384, kernel_size=(3,3), strides=(1,1), activation='relu', padding=\"same\"),\n",
        "    keras.layers.BatchNormalization(),\n",
        "    keras.layers.Conv2D(filters=384, kernel_size=(1,1), strides=(1,1), activation='relu', padding=\"same\"),\n",
        "    keras.layers.BatchNormalization(),\n",
        "    keras.layers.Conv2D(filters=256, kernel_size=(1,1), strides=(1,1), activation='relu', padding=\"same\"),\n",
        "    keras.layers.BatchNormalization(),\n",
        "    keras.layers.MaxPool2D(pool_size=(3,3), strides=(2,2)),\n",
        "    #keras.layers.Dropout(0.5),\n",
        "    keras.layers.Flatten(),\n",
        "    keras.layers.Dense(1024, activation='relu'),\n",
        "    #keras.layers.Dropout(0.5),\n",
        "    keras.layers.Dense(1024, activation='relu'),\n",
        "    keras.layers.Dropout(0.5),\n",
        "     keras.layers.Dense(1000, activation='relu'),\n",
        "    #keras.layers.Dropout(0.5),\n",
        "    keras.layers.Dense(3, activation='softmax')\n",
        "])"
      ],
      "execution_count": null,
      "outputs": []
    },
    {
      "cell_type": "code",
      "metadata": {
        "id": "ZvzMvEJPj-n4",
        "outputId": "037ffff5-17fb-4b6e-f683-3eb0c21ad8a8",
        "colab": {
          "base_uri": "https://localhost:8080/",
          "height": 1000
        }
      },
      "source": [
        "#Importing library\n",
        "import keras\n",
        "from keras.models import Sequential\n",
        "from keras.layers import Dense, Activation, Dropout, Flatten, Conv2D, MaxPooling2D\n",
        "from keras.layers.normalization import BatchNormalization\n",
        "import numpy as np\n",
        "\n",
        "np.random.seed(1000)\n",
        "\n",
        "#Instantiation\n",
        "AlexNet = Sequential()\n",
        "\n",
        "#1st Convolutional Layer\n",
        "AlexNet.add(Conv2D(filters=96, input_shape=(227,227,3), kernel_size=(11,11), strides=(4,4), padding='same'))\n",
        "#AlexNet.add(BatchNormalization())\n",
        "AlexNet.add(Activation('relu'))\n",
        "AlexNet.add(MaxPooling2D(pool_size=(2,2), strides=(2,2), padding='same'))\n",
        "\n",
        "#2nd Convolutional Layer\n",
        "AlexNet.add(Conv2D(filters=256, kernel_size=(5, 5), strides=(1,1), padding='same'))\n",
        "#AlexNet.add(BatchNormalization())\n",
        "AlexNet.add(Activation('relu'))\n",
        "AlexNet.add(MaxPooling2D(pool_size=(2,2), strides=(2,2), padding='same'))\n",
        "\n",
        "#3rd Convolutional Layer\n",
        "AlexNet.add(Conv2D(filters=384, kernel_size=(3,3), strides=(1,1), padding='same'))\n",
        "#AlexNet.add(BatchNormalization())\n",
        "AlexNet.add(Activation('relu'))\n",
        "\n",
        "#4th Convolutional Layer\n",
        "AlexNet.add(Conv2D(filters=384, kernel_size=(3,3), strides=(1,1), padding='same'))\n",
        "#AlexNet.add(BatchNormalization())\n",
        "AlexNet.add(Activation('relu'))\n",
        "\n",
        "#5th Convolutional Layer\n",
        "AlexNet.add(Conv2D(filters=256, kernel_size=(3,3), strides=(1,1), padding='same'))\n",
        "#AlexNet.add(BatchNormalization())\n",
        "AlexNet.add(Activation('relu'))\n",
        "AlexNet.add(MaxPooling2D(pool_size=(2,2), strides=(2,2), padding='same'))\n",
        "\n",
        "#Passing it to a Fully Connected layer\n",
        "AlexNet.add(Dropout(0.4))\n",
        "AlexNet.add(Flatten())\n",
        "# 1st Fully Connected Layer\n",
        "AlexNet.add(Dense(1024, input_shape=(128,128,3,)))\n",
        "#AlexNet.add(BatchNormalization())\n",
        "AlexNet.add(Activation('relu'))\n",
        "# Add Dropout to prevent overfitting\n",
        "AlexNet.add(Dropout(0.4))\n",
        "\n",
        "#2nd Fully Connected Layer\n",
        "AlexNet.add(Dense(1024))\n",
        "#AlexNet.add(BatchNormalization())\n",
        "AlexNet.add(Activation('relu'))\n",
        "#Add Dropout\n",
        "AlexNet.add(Dropout(0.5))\n",
        "\n",
        "#3rd Fully Connected Layer\n",
        "AlexNet.add(Dense(1000))\n",
        "#AlexNet.add(BatchNormalization())\n",
        "AlexNet.add(Activation('relu'))\n",
        "#Add Dropout\n",
        "AlexNet.add(Dropout(0.5))\n",
        "\n",
        "#Output Layer\n",
        "AlexNet.add(Dense(3))\n",
        "#AlexNet.add(BatchNormalization())\n",
        "AlexNet.add(Activation('softmax'))\n",
        "\n",
        "#Model Summary\n",
        "AlexNet.summary()"
      ],
      "execution_count": null,
      "outputs": [
        {
          "output_type": "stream",
          "text": [
            "Model: \"sequential_51\"\n",
            "_________________________________________________________________\n",
            "Layer (type)                 Output Shape              Param #   \n",
            "=================================================================\n",
            "conv2d_216 (Conv2D)          (None, 57, 57, 96)        34944     \n",
            "_________________________________________________________________\n",
            "activation_112 (Activation)  (None, 57, 57, 96)        0         \n",
            "_________________________________________________________________\n",
            "max_pooling2d_146 (MaxPoolin (None, 29, 29, 96)        0         \n",
            "_________________________________________________________________\n",
            "conv2d_217 (Conv2D)          (None, 29, 29, 256)       614656    \n",
            "_________________________________________________________________\n",
            "activation_113 (Activation)  (None, 29, 29, 256)       0         \n",
            "_________________________________________________________________\n",
            "max_pooling2d_147 (MaxPoolin (None, 15, 15, 256)       0         \n",
            "_________________________________________________________________\n",
            "conv2d_218 (Conv2D)          (None, 15, 15, 384)       885120    \n",
            "_________________________________________________________________\n",
            "activation_114 (Activation)  (None, 15, 15, 384)       0         \n",
            "_________________________________________________________________\n",
            "conv2d_219 (Conv2D)          (None, 15, 15, 384)       1327488   \n",
            "_________________________________________________________________\n",
            "activation_115 (Activation)  (None, 15, 15, 384)       0         \n",
            "_________________________________________________________________\n",
            "conv2d_220 (Conv2D)          (None, 15, 15, 256)       884992    \n",
            "_________________________________________________________________\n",
            "activation_116 (Activation)  (None, 15, 15, 256)       0         \n",
            "_________________________________________________________________\n",
            "max_pooling2d_148 (MaxPoolin (None, 8, 8, 256)         0         \n",
            "_________________________________________________________________\n",
            "dropout_124 (Dropout)        (None, 8, 8, 256)         0         \n",
            "_________________________________________________________________\n",
            "flatten_49 (Flatten)         (None, 16384)             0         \n",
            "_________________________________________________________________\n",
            "dense_169 (Dense)            (None, 1024)              16778240  \n",
            "_________________________________________________________________\n",
            "activation_117 (Activation)  (None, 1024)              0         \n",
            "_________________________________________________________________\n",
            "dropout_125 (Dropout)        (None, 1024)              0         \n",
            "_________________________________________________________________\n",
            "dense_170 (Dense)            (None, 1024)              1049600   \n",
            "_________________________________________________________________\n",
            "activation_118 (Activation)  (None, 1024)              0         \n",
            "_________________________________________________________________\n",
            "dropout_126 (Dropout)        (None, 1024)              0         \n",
            "_________________________________________________________________\n",
            "dense_171 (Dense)            (None, 1000)              1025000   \n",
            "_________________________________________________________________\n",
            "activation_119 (Activation)  (None, 1000)              0         \n",
            "_________________________________________________________________\n",
            "dropout_127 (Dropout)        (None, 1000)              0         \n",
            "_________________________________________________________________\n",
            "dense_172 (Dense)            (None, 3)                 3003      \n",
            "_________________________________________________________________\n",
            "activation_120 (Activation)  (None, 3)                 0         \n",
            "=================================================================\n",
            "Total params: 22,603,043\n",
            "Trainable params: 22,603,043\n",
            "Non-trainable params: 0\n",
            "_________________________________________________________________\n"
          ],
          "name": "stdout"
        }
      ]
    },
    {
      "cell_type": "code",
      "metadata": {
        "id": "e0YQ7j7Lpvv_",
        "outputId": "fc4ab179-fdb8-4757-fbe0-1f875a89ffa3",
        "colab": {
          "base_uri": "https://localhost:8080/",
          "height": 835
        }
      },
      "source": [
        "\n",
        "model.summary()"
      ],
      "execution_count": null,
      "outputs": [
        {
          "output_type": "stream",
          "text": [
            "Model: \"sequential_53\"\n",
            "_________________________________________________________________\n",
            "Layer (type)                 Output Shape              Param #   \n",
            "=================================================================\n",
            "conv2d_226 (Conv2D)          (None, 30, 30, 96)        34944     \n",
            "_________________________________________________________________\n",
            "batch_normalization_104 (Bat (None, 30, 30, 96)        384       \n",
            "_________________________________________________________________\n",
            "max_pooling2d_152 (MaxPoolin (None, 14, 14, 96)        0         \n",
            "_________________________________________________________________\n",
            "conv2d_227 (Conv2D)          (None, 14, 14, 256)       614656    \n",
            "_________________________________________________________________\n",
            "batch_normalization_105 (Bat (None, 14, 14, 256)       1024      \n",
            "_________________________________________________________________\n",
            "max_pooling2d_153 (MaxPoolin (None, 6, 6, 256)         0         \n",
            "_________________________________________________________________\n",
            "conv2d_228 (Conv2D)          (None, 6, 6, 384)         885120    \n",
            "_________________________________________________________________\n",
            "batch_normalization_106 (Bat (None, 6, 6, 384)         1536      \n",
            "_________________________________________________________________\n",
            "conv2d_229 (Conv2D)          (None, 6, 6, 384)         147840    \n",
            "_________________________________________________________________\n",
            "batch_normalization_107 (Bat (None, 6, 6, 384)         1536      \n",
            "_________________________________________________________________\n",
            "conv2d_230 (Conv2D)          (None, 6, 6, 256)         98560     \n",
            "_________________________________________________________________\n",
            "batch_normalization_108 (Bat (None, 6, 6, 256)         1024      \n",
            "_________________________________________________________________\n",
            "max_pooling2d_154 (MaxPoolin (None, 2, 2, 256)         0         \n",
            "_________________________________________________________________\n",
            "flatten_51 (Flatten)         (None, 1024)              0         \n",
            "_________________________________________________________________\n",
            "dense_177 (Dense)            (None, 1024)              1049600   \n",
            "_________________________________________________________________\n",
            "dense_178 (Dense)            (None, 1024)              1049600   \n",
            "_________________________________________________________________\n",
            "dropout_129 (Dropout)        (None, 1024)              0         \n",
            "_________________________________________________________________\n",
            "dense_179 (Dense)            (None, 1000)              1025000   \n",
            "_________________________________________________________________\n",
            "dense_180 (Dense)            (None, 3)                 3003      \n",
            "=================================================================\n",
            "Total params: 4,913,827\n",
            "Trainable params: 4,911,075\n",
            "Non-trainable params: 2,752\n",
            "_________________________________________________________________\n"
          ],
          "name": "stdout"
        }
      ]
    },
    {
      "cell_type": "code",
      "metadata": {
        "id": "CW43wFVHw5GL"
      },
      "source": [
        "#callbacks=[checkpoint,early]"
      ],
      "execution_count": null,
      "outputs": []
    },
    {
      "cell_type": "code",
      "metadata": {
        "id": "Xg64Pmo1qFhM",
        "outputId": "e2e79f64-7860-4b96-f42c-f2b8358e31bd",
        "colab": {
          "base_uri": "https://localhost:8080/",
          "height": 1000
        }
      },
      "source": [
        "from keras.callbacks import ModelCheckpoint, EarlyStopping\n",
        "checkpoint = ModelCheckpoint(\"alexnet_1.h5\", monitor='val_accuracy', verbose=1, save_best_only=True, save_weights_only=False, mode='auto', period=1)\n",
        "early = EarlyStopping(monitor='val_accuracy', min_delta=0, patience=20, verbose=1, mode='auto')\n",
        "#from keras.optimizers import Adam\n",
        "#from keras.optimizers import SGD\n",
        "#opt = Adam(lr=0.001)\n",
        "model.compile(loss='categorical_crossentropy', optimizer=\"adam\", metrics=['accuracy'])\n",
        "\n",
        "\n",
        "\n",
        "lizon=model.fit(train_x,train_y,batch_size = 64,epochs=50,verbose=1,validation_data=(eval_x, eval_y),callbacks=[checkpoint,early])\n",
        "lizon"
      ],
      "execution_count": null,
      "outputs": [
        {
          "output_type": "stream",
          "text": [
            "WARNING:tensorflow:`period` argument is deprecated. Please use `save_freq` to specify the frequency in number of batches seen.\n",
            "Epoch 1/50\n",
            "2/2 [==============================] - ETA: 0s - loss: 9.7590 - accuracy: 0.4000\n",
            "Epoch 00001: val_accuracy improved from -inf to 0.20000, saving model to alexnet_1.h5\n",
            "2/2 [==============================] - 1s 542ms/step - loss: 9.7590 - accuracy: 0.4000 - val_loss: 8.1324 - val_accuracy: 0.2000\n",
            "Epoch 2/50\n",
            "2/2 [==============================] - ETA: 0s - loss: 14.7457 - accuracy: 0.3375\n",
            "Epoch 00002: val_accuracy improved from 0.20000 to 0.70000, saving model to alexnet_1.h5\n",
            "2/2 [==============================] - 1s 457ms/step - loss: 14.7457 - accuracy: 0.3375 - val_loss: 7.7557 - val_accuracy: 0.7000\n",
            "Epoch 3/50\n",
            "2/2 [==============================] - ETA: 0s - loss: 9.3111 - accuracy: 0.4750\n",
            "Epoch 00003: val_accuracy did not improve from 0.70000\n",
            "2/2 [==============================] - 1s 320ms/step - loss: 9.3111 - accuracy: 0.4750 - val_loss: 7.6783 - val_accuracy: 0.7000\n",
            "Epoch 4/50\n",
            "2/2 [==============================] - ETA: 0s - loss: 7.6669 - accuracy: 0.6000\n",
            "Epoch 00004: val_accuracy did not improve from 0.70000\n",
            "2/2 [==============================] - 1s 305ms/step - loss: 7.6669 - accuracy: 0.6000 - val_loss: 7.8273 - val_accuracy: 0.1000\n",
            "Epoch 5/50\n",
            "2/2 [==============================] - ETA: 0s - loss: 7.5806 - accuracy: 0.5875\n",
            "Epoch 00005: val_accuracy did not improve from 0.70000\n",
            "2/2 [==============================] - 1s 329ms/step - loss: 7.5806 - accuracy: 0.5875 - val_loss: 7.5250 - val_accuracy: 0.7000\n",
            "Epoch 6/50\n",
            "2/2 [==============================] - ETA: 0s - loss: 7.2099 - accuracy: 0.7000\n",
            "Epoch 00006: val_accuracy did not improve from 0.70000\n",
            "2/2 [==============================] - 1s 341ms/step - loss: 7.2099 - accuracy: 0.7000 - val_loss: 7.3158 - val_accuracy: 0.7000\n",
            "Epoch 7/50\n",
            "2/2 [==============================] - ETA: 0s - loss: 6.8719 - accuracy: 0.8375\n",
            "Epoch 00007: val_accuracy did not improve from 0.70000\n",
            "2/2 [==============================] - 1s 345ms/step - loss: 6.8719 - accuracy: 0.8375 - val_loss: 7.6687 - val_accuracy: 0.7000\n",
            "Epoch 8/50\n",
            "2/2 [==============================] - ETA: 0s - loss: 6.5203 - accuracy: 0.9000\n",
            "Epoch 00008: val_accuracy did not improve from 0.70000\n",
            "2/2 [==============================] - 1s 325ms/step - loss: 6.5203 - accuracy: 0.9000 - val_loss: 8.5290 - val_accuracy: 0.7000\n",
            "Epoch 9/50\n",
            "2/2 [==============================] - ETA: 0s - loss: 6.2842 - accuracy: 0.9125\n",
            "Epoch 00009: val_accuracy did not improve from 0.70000\n",
            "2/2 [==============================] - 1s 328ms/step - loss: 6.2842 - accuracy: 0.9125 - val_loss: 9.6250 - val_accuracy: 0.7000\n",
            "Epoch 10/50\n",
            "2/2 [==============================] - ETA: 0s - loss: 6.0230 - accuracy: 0.9250\n",
            "Epoch 00010: val_accuracy did not improve from 0.70000\n",
            "2/2 [==============================] - 1s 303ms/step - loss: 6.0230 - accuracy: 0.9250 - val_loss: 10.2949 - val_accuracy: 0.7000\n",
            "Epoch 11/50\n",
            "2/2 [==============================] - ETA: 0s - loss: 5.9812 - accuracy: 0.9000\n",
            "Epoch 00011: val_accuracy did not improve from 0.70000\n",
            "2/2 [==============================] - 1s 317ms/step - loss: 5.9812 - accuracy: 0.9000 - val_loss: 8.4478 - val_accuracy: 0.7000\n",
            "Epoch 12/50\n",
            "2/2 [==============================] - ETA: 0s - loss: 5.7366 - accuracy: 0.9000\n",
            "Epoch 00012: val_accuracy did not improve from 0.70000\n",
            "2/2 [==============================] - 1s 315ms/step - loss: 5.7366 - accuracy: 0.9000 - val_loss: 7.2265 - val_accuracy: 0.7000\n",
            "Epoch 13/50\n",
            "2/2 [==============================] - ETA: 0s - loss: 5.4279 - accuracy: 0.9000\n",
            "Epoch 00013: val_accuracy did not improve from 0.70000\n",
            "2/2 [==============================] - 1s 312ms/step - loss: 5.4279 - accuracy: 0.9000 - val_loss: 8.2537 - val_accuracy: 0.7000\n",
            "Epoch 14/50\n",
            "2/2 [==============================] - ETA: 0s - loss: 5.2272 - accuracy: 0.9375\n",
            "Epoch 00014: val_accuracy did not improve from 0.70000\n",
            "2/2 [==============================] - 1s 320ms/step - loss: 5.2272 - accuracy: 0.9375 - val_loss: 8.8785 - val_accuracy: 0.7000\n",
            "Epoch 15/50\n",
            "2/2 [==============================] - ETA: 0s - loss: 5.0444 - accuracy: 0.9250\n",
            "Epoch 00015: val_accuracy did not improve from 0.70000\n",
            "2/2 [==============================] - 1s 307ms/step - loss: 5.0444 - accuracy: 0.9250 - val_loss: 7.9762 - val_accuracy: 0.7000\n",
            "Epoch 16/50\n",
            "2/2 [==============================] - ETA: 0s - loss: 4.7094 - accuracy: 0.9750\n",
            "Epoch 00016: val_accuracy did not improve from 0.70000\n",
            "2/2 [==============================] - 1s 320ms/step - loss: 4.7094 - accuracy: 0.9750 - val_loss: 7.0530 - val_accuracy: 0.7000\n",
            "Epoch 17/50\n",
            "2/2 [==============================] - ETA: 0s - loss: 4.4674 - accuracy: 1.0000\n",
            "Epoch 00017: val_accuracy did not improve from 0.70000\n",
            "2/2 [==============================] - 1s 328ms/step - loss: 4.4674 - accuracy: 1.0000 - val_loss: 6.1954 - val_accuracy: 0.7000\n",
            "Epoch 18/50\n",
            "2/2 [==============================] - ETA: 0s - loss: 4.3778 - accuracy: 0.9375\n",
            "Epoch 00018: val_accuracy did not improve from 0.70000\n",
            "2/2 [==============================] - 1s 310ms/step - loss: 4.3778 - accuracy: 0.9375 - val_loss: 5.9367 - val_accuracy: 0.7000\n",
            "Epoch 19/50\n",
            "2/2 [==============================] - ETA: 0s - loss: 4.1963 - accuracy: 0.9625\n",
            "Epoch 00019: val_accuracy did not improve from 0.70000\n",
            "2/2 [==============================] - 1s 310ms/step - loss: 4.1963 - accuracy: 0.9625 - val_loss: 6.0171 - val_accuracy: 0.7000\n",
            "Epoch 20/50\n",
            "2/2 [==============================] - ETA: 0s - loss: 3.9529 - accuracy: 0.9750\n",
            "Epoch 00020: val_accuracy did not improve from 0.70000\n",
            "2/2 [==============================] - 1s 314ms/step - loss: 3.9529 - accuracy: 0.9750 - val_loss: 6.1065 - val_accuracy: 0.7000\n",
            "Epoch 21/50\n",
            "2/2 [==============================] - ETA: 0s - loss: 3.7578 - accuracy: 0.9875\n",
            "Epoch 00021: val_accuracy did not improve from 0.70000\n",
            "2/2 [==============================] - 1s 308ms/step - loss: 3.7578 - accuracy: 0.9875 - val_loss: 5.9498 - val_accuracy: 0.7000\n",
            "Epoch 22/50\n",
            "2/2 [==============================] - ETA: 0s - loss: 3.6772 - accuracy: 0.9500\n",
            "Epoch 00022: val_accuracy did not improve from 0.70000\n",
            "2/2 [==============================] - 1s 305ms/step - loss: 3.6772 - accuracy: 0.9500 - val_loss: 5.7944 - val_accuracy: 0.7000\n",
            "Epoch 00022: early stopping\n"
          ],
          "name": "stdout"
        },
        {
          "output_type": "execute_result",
          "data": {
            "text/plain": [
              "<tensorflow.python.keras.callbacks.History at 0x7fcb363f0a58>"
            ]
          },
          "metadata": {
            "tags": []
          },
          "execution_count": 255
        }
      ]
    },
    {
      "cell_type": "code",
      "metadata": {
        "id": "NWTB5BinJv2k",
        "outputId": "0e491d0c-0d81-4df6-f053-139f45796913",
        "colab": {
          "base_uri": "https://localhost:8080/",
          "height": 299
        }
      },
      "source": [
        "import matplotlib.pyplot as plt\n",
        "plt.plot(lizon.history[\"accuracy\"])\n",
        "plt.plot(lizon.history['val_accuracy'])\n",
        "plt.plot(lizon.history['loss'])\n",
        "plt.plot(lizon.history['val_loss'])\n",
        "plt.title(\"model accuracy\")\n",
        "plt.ylabel(\"Loss/Accuracy\")\n",
        "plt.xlabel(\"Epoch\")\n",
        "plt.legend([\"Accuracy\",\"Validation Accuracy\",\"loss\",\"Validation Loss\"])\n",
        "plt.show()"
      ],
      "execution_count": null,
      "outputs": [
        {
          "output_type": "display_data",
          "data": {
            "image/png": "[encoded data removed]",
            "text/plain": [
              "<Figure size 432x288 with 1 Axes>"
            ]
          },
          "metadata": {
            "tags": [],
            "needs_background": "light"
          }
        }
      ]
    },
    {
      "cell_type": "code",
      "metadata": {
        "id": "MF1B1r82sUEx"
      },
      "source": [
        "from keras.preprocessing.image import ImageDataGenerator\n",
        "train_datagen = ImageDataGenerator(rescale = 1/255.,\n",
        "                                  horizontal_flip = True,\n",
        "                                  zoom_range = 0.3,\n",
        "                                  rotation_range = 30)\n",
        "val_datagen= ImageDataGenerator(rescale=1./255)\n",
        "\n",
        "train_gen = train_datagen.flow(train_x,train_y, batch_size=32)\n",
        "val_gen = val_datagen.flow(eval_x,eval_y, batch_size=32)\n",
        "test_gen = val_datagen.flow(test_x,test_y, batch_size =32, shuffle = False)"
      ],
      "execution_count": null,
      "outputs": []
    },
    {
      "cell_type": "code",
      "metadata": {
        "id": "CPHolMmlsWT0",
        "outputId": "0347631f-701b-4dd5-9617-5364c38dfd66",
        "colab": {
          "base_uri": "https://localhost:8080/",
          "height": 1000
        }
      },
      "source": [
        "STEP_SIZE_TRAIN=train_gen.n//train_gen.batch_size\n",
        "STEP_SIZE_VALID=val_gen.n//val_gen.batch_size\n",
        "STEP_SIZE_TEST=test_gen.n//test_gen.batch_size\n",
        "ep = 100\n",
        "classifier.fit_generator(generator = train_gen, validation_data= val_gen,\n",
        "                           steps_per_epoch=STEP_SIZE_TRAIN, epochs=ep, \n",
        "                           validation_steps=STEP_SIZE_VALID)"
      ],
      "execution_count": null,
      "outputs": [
        {
          "output_type": "stream",
          "text": [
            "WARNING:tensorflow:From <ipython-input-43-372460def1fa>:7: Model.fit_generator (from tensorflow.python.keras.engine.training) is deprecated and will be removed in a future version.\n",
            "Instructions for updating:\n",
            "Please use Model.fit, which supports generators.\n",
            "Epoch 1/100\n",
            "2/2 [==============================] - 1s 260ms/step - loss: 13.1706 - accuracy: 0.4531\n",
            "Epoch 2/100\n",
            "2/2 [==============================] - 0s 240ms/step - loss: 4.7036 - accuracy: 0.2812\n",
            "Epoch 3/100\n",
            "2/2 [==============================] - 0s 129ms/step - loss: 2.4718 - accuracy: 0.3125\n",
            "Epoch 4/100\n",
            "2/2 [==============================] - 0s 234ms/step - loss: 2.6478 - accuracy: 0.3281\n",
            "Epoch 5/100\n",
            "2/2 [==============================] - 0s 132ms/step - loss: 1.4242 - accuracy: 0.5208\n",
            "Epoch 6/100\n",
            "2/2 [==============================] - 0s 234ms/step - loss: 2.0586 - accuracy: 0.3750\n",
            "Epoch 7/100\n",
            "2/2 [==============================] - 0s 235ms/step - loss: 1.7608 - accuracy: 0.4688\n",
            "Epoch 8/100\n",
            "2/2 [==============================] - 0s 131ms/step - loss: 1.4726 - accuracy: 0.4167\n",
            "Epoch 9/100\n",
            "2/2 [==============================] - 0s 127ms/step - loss: 1.5628 - accuracy: 0.2708\n",
            "Epoch 10/100\n",
            "2/2 [==============================] - 0s 130ms/step - loss: 1.4352 - accuracy: 0.4583\n",
            "Epoch 11/100\n",
            "2/2 [==============================] - 0s 132ms/step - loss: 1.5146 - accuracy: 0.3750\n",
            "Epoch 12/100\n",
            "2/2 [==============================] - 0s 127ms/step - loss: 1.6093 - accuracy: 0.2083\n",
            "Epoch 13/100\n",
            "2/2 [==============================] - 0s 125ms/step - loss: 1.4686 - accuracy: 0.3750\n",
            "Epoch 14/100\n",
            "2/2 [==============================] - 0s 235ms/step - loss: 1.5262 - accuracy: 0.2969\n",
            "Epoch 15/100\n",
            "2/2 [==============================] - 0s 231ms/step - loss: 1.3943 - accuracy: 0.5000\n",
            "Epoch 16/100\n",
            "2/2 [==============================] - 0s 231ms/step - loss: 1.3305 - accuracy: 0.5000\n",
            "Epoch 17/100\n",
            "2/2 [==============================] - 0s 238ms/step - loss: 1.4633 - accuracy: 0.4219\n",
            "Epoch 18/100\n",
            "2/2 [==============================] - 0s 134ms/step - loss: 1.2938 - accuracy: 0.5000\n",
            "Epoch 19/100\n",
            "2/2 [==============================] - 0s 131ms/step - loss: 1.3391 - accuracy: 0.5000\n",
            "Epoch 20/100\n",
            "2/2 [==============================] - 0s 239ms/step - loss: 1.4269 - accuracy: 0.3958\n",
            "Epoch 21/100\n",
            "2/2 [==============================] - 0s 236ms/step - loss: 1.2853 - accuracy: 0.5625\n",
            "Epoch 22/100\n",
            "2/2 [==============================] - 0s 134ms/step - loss: 1.4078 - accuracy: 0.4792\n",
            "Epoch 23/100\n",
            "2/2 [==============================] - 0s 129ms/step - loss: 1.3090 - accuracy: 0.5000\n",
            "Epoch 24/100\n",
            "2/2 [==============================] - 0s 244ms/step - loss: 1.3374 - accuracy: 0.4219\n",
            "Epoch 25/100\n",
            "2/2 [==============================] - 0s 235ms/step - loss: 1.3978 - accuracy: 0.4167\n",
            "Epoch 26/100\n",
            "2/2 [==============================] - 0s 235ms/step - loss: 1.4137 - accuracy: 0.3125\n",
            "Epoch 27/100\n",
            "2/2 [==============================] - 0s 236ms/step - loss: 1.3347 - accuracy: 0.4219\n",
            "Epoch 28/100\n",
            "2/2 [==============================] - 0s 239ms/step - loss: 1.3217 - accuracy: 0.4375\n",
            "Epoch 29/100\n",
            "2/2 [==============================] - 0s 232ms/step - loss: 1.2602 - accuracy: 0.5625\n",
            "Epoch 30/100\n",
            "2/2 [==============================] - 0s 125ms/step - loss: 1.3404 - accuracy: 0.4583\n",
            "Epoch 31/100\n",
            "2/2 [==============================] - 0s 139ms/step - loss: 1.3253 - accuracy: 0.5000\n",
            "Epoch 32/100\n",
            "2/2 [==============================] - 0s 134ms/step - loss: 1.2566 - accuracy: 0.5833\n",
            "Epoch 33/100\n",
            "2/2 [==============================] - 0s 136ms/step - loss: 1.2814 - accuracy: 0.5417\n",
            "Epoch 34/100\n",
            "2/2 [==============================] - 0s 241ms/step - loss: 1.3491 - accuracy: 0.4583\n",
            "Epoch 35/100\n",
            "2/2 [==============================] - 0s 133ms/step - loss: 1.3130 - accuracy: 0.4792\n",
            "Epoch 36/100\n",
            "2/2 [==============================] - 0s 241ms/step - loss: 1.2932 - accuracy: 0.4583\n",
            "Epoch 37/100\n",
            "2/2 [==============================] - 0s 245ms/step - loss: 1.2566 - accuracy: 0.4844\n",
            "Epoch 38/100\n",
            "2/2 [==============================] - 0s 237ms/step - loss: 1.3359 - accuracy: 0.4792\n",
            "Epoch 39/100\n",
            "2/2 [==============================] - 0s 244ms/step - loss: 1.3562 - accuracy: 0.4375\n",
            "Epoch 40/100\n",
            "2/2 [==============================] - 0s 238ms/step - loss: 1.3591 - accuracy: 0.4167\n",
            "Epoch 41/100\n",
            "2/2 [==============================] - 0s 134ms/step - loss: 1.2879 - accuracy: 0.5000\n",
            "Epoch 42/100\n",
            "2/2 [==============================] - 0s 128ms/step - loss: 1.3309 - accuracy: 0.4583\n",
            "Epoch 43/100\n",
            "2/2 [==============================] - 0s 132ms/step - loss: 1.3367 - accuracy: 0.4167\n",
            "Epoch 44/100\n",
            "2/2 [==============================] - 0s 230ms/step - loss: 1.2921 - accuracy: 0.4531\n",
            "Epoch 45/100\n",
            "2/2 [==============================] - 0s 242ms/step - loss: 1.2737 - accuracy: 0.4583\n",
            "Epoch 46/100\n",
            "2/2 [==============================] - 0s 240ms/step - loss: 1.3158 - accuracy: 0.4844\n",
            "Epoch 47/100\n",
            "2/2 [==============================] - 0s 135ms/step - loss: 1.2376 - accuracy: 0.5208\n",
            "Epoch 48/100\n",
            "2/2 [==============================] - 0s 239ms/step - loss: 1.2570 - accuracy: 0.4688\n",
            "Epoch 49/100\n",
            "2/2 [==============================] - 0s 234ms/step - loss: 1.2525 - accuracy: 0.5156\n",
            "Epoch 50/100\n",
            "2/2 [==============================] - 0s 239ms/step - loss: 1.2553 - accuracy: 0.5000\n",
            "Epoch 51/100\n",
            "2/2 [==============================] - 0s 238ms/step - loss: 1.1675 - accuracy: 0.5833\n",
            "Epoch 52/100\n",
            "2/2 [==============================] - 0s 243ms/step - loss: 1.2550 - accuracy: 0.5000\n",
            "Epoch 53/100\n",
            "2/2 [==============================] - 0s 239ms/step - loss: 1.2587 - accuracy: 0.4688\n",
            "Epoch 54/100\n",
            "2/2 [==============================] - 0s 244ms/step - loss: 1.2586 - accuracy: 0.4844\n",
            "Epoch 55/100\n",
            "2/2 [==============================] - 0s 231ms/step - loss: 1.3249 - accuracy: 0.4375\n",
            "Epoch 56/100\n",
            "2/2 [==============================] - 0s 235ms/step - loss: 1.2855 - accuracy: 0.5000\n",
            "Epoch 57/100\n",
            "2/2 [==============================] - 0s 133ms/step - loss: 1.2774 - accuracy: 0.4583\n",
            "Epoch 58/100\n",
            "2/2 [==============================] - 0s 133ms/step - loss: 1.2515 - accuracy: 0.4583\n",
            "Epoch 59/100\n",
            "2/2 [==============================] - 0s 232ms/step - loss: 1.2216 - accuracy: 0.5000\n",
            "Epoch 60/100\n",
            "2/2 [==============================] - 0s 239ms/step - loss: 1.2721 - accuracy: 0.5208\n",
            "Epoch 61/100\n",
            "2/2 [==============================] - 0s 137ms/step - loss: 1.2436 - accuracy: 0.4792\n",
            "Epoch 62/100\n",
            "2/2 [==============================] - 0s 234ms/step - loss: 1.2357 - accuracy: 0.5000\n",
            "Epoch 63/100\n",
            "2/2 [==============================] - 0s 237ms/step - loss: 1.2404 - accuracy: 0.4792\n",
            "Epoch 64/100\n",
            "2/2 [==============================] - 0s 130ms/step - loss: 1.2609 - accuracy: 0.4375\n",
            "Epoch 65/100\n",
            "2/2 [==============================] - 0s 235ms/step - loss: 1.2583 - accuracy: 0.5000\n",
            "Epoch 66/100\n",
            "2/2 [==============================] - 0s 233ms/step - loss: 1.2164 - accuracy: 0.5156\n",
            "Epoch 67/100\n",
            "2/2 [==============================] - 0s 234ms/step - loss: 1.2646 - accuracy: 0.4531\n",
            "Epoch 68/100\n",
            "2/2 [==============================] - 0s 235ms/step - loss: 1.2540 - accuracy: 0.4844\n",
            "Epoch 69/100\n",
            "2/2 [==============================] - 0s 235ms/step - loss: 1.2643 - accuracy: 0.4792\n",
            "Epoch 70/100\n",
            "2/2 [==============================] - 0s 132ms/step - loss: 1.2572 - accuracy: 0.5000\n",
            "Epoch 71/100\n",
            "2/2 [==============================] - 0s 242ms/step - loss: 1.2325 - accuracy: 0.4531\n",
            "Epoch 72/100\n",
            "2/2 [==============================] - 0s 239ms/step - loss: 1.2722 - accuracy: 0.4167\n",
            "Epoch 73/100\n",
            "2/2 [==============================] - 0s 236ms/step - loss: 1.2524 - accuracy: 0.4688\n",
            "Epoch 74/100\n",
            "2/2 [==============================] - 0s 234ms/step - loss: 1.2337 - accuracy: 0.4583\n",
            "Epoch 75/100\n",
            "2/2 [==============================] - 0s 128ms/step - loss: 1.2185 - accuracy: 0.5000\n",
            "Epoch 76/100\n",
            "2/2 [==============================] - 0s 239ms/step - loss: 1.3037 - accuracy: 0.4583\n",
            "Epoch 77/100\n",
            "2/2 [==============================] - 0s 132ms/step - loss: 1.2249 - accuracy: 0.5208\n",
            "Epoch 78/100\n",
            "2/2 [==============================] - 0s 229ms/step - loss: 1.1717 - accuracy: 0.5625\n",
            "Epoch 79/100\n",
            "2/2 [==============================] - 0s 238ms/step - loss: 1.2451 - accuracy: 0.5000\n",
            "Epoch 80/100\n",
            "2/2 [==============================] - 0s 232ms/step - loss: 1.2073 - accuracy: 0.5208\n",
            "Epoch 81/100\n",
            "2/2 [==============================] - 0s 232ms/step - loss: 1.2266 - accuracy: 0.4792\n",
            "Epoch 82/100\n",
            "2/2 [==============================] - 0s 235ms/step - loss: 1.2072 - accuracy: 0.5312\n",
            "Epoch 83/100\n",
            "2/2 [==============================] - 0s 241ms/step - loss: 1.2370 - accuracy: 0.4792\n",
            "Epoch 84/100\n",
            "2/2 [==============================] - 0s 237ms/step - loss: 1.2010 - accuracy: 0.5417\n",
            "Epoch 85/100\n",
            "2/2 [==============================] - 0s 233ms/step - loss: 1.2507 - accuracy: 0.4688\n",
            "Epoch 86/100\n",
            "2/2 [==============================] - 0s 129ms/step - loss: 1.2115 - accuracy: 0.5625\n",
            "Epoch 87/100\n",
            "2/2 [==============================] - 0s 237ms/step - loss: 1.2301 - accuracy: 0.4844\n",
            "Epoch 88/100\n",
            "2/2 [==============================] - 0s 230ms/step - loss: 1.2145 - accuracy: 0.5156\n",
            "Epoch 89/100\n",
            "2/2 [==============================] - 0s 238ms/step - loss: 1.1932 - accuracy: 0.5208\n",
            "Epoch 90/100\n",
            "2/2 [==============================] - 0s 127ms/step - loss: 1.2508 - accuracy: 0.4583\n",
            "Epoch 91/100\n",
            "2/2 [==============================] - 0s 232ms/step - loss: 1.1752 - accuracy: 0.5417\n",
            "Epoch 92/100\n",
            "2/2 [==============================] - 0s 229ms/step - loss: 1.1792 - accuracy: 0.5417\n",
            "Epoch 93/100\n",
            "2/2 [==============================] - 0s 233ms/step - loss: 1.2217 - accuracy: 0.4844\n",
            "Epoch 94/100\n",
            "2/2 [==============================] - 0s 126ms/step - loss: 1.2071 - accuracy: 0.5000\n",
            "Epoch 95/100\n",
            "2/2 [==============================] - 0s 226ms/step - loss: 1.2282 - accuracy: 0.5000\n",
            "Epoch 96/100\n",
            "2/2 [==============================] - 0s 231ms/step - loss: 1.1774 - accuracy: 0.5417\n",
            "Epoch 97/100\n",
            "2/2 [==============================] - 0s 231ms/step - loss: 1.2537 - accuracy: 0.4531\n",
            "Epoch 98/100\n",
            "2/2 [==============================] - 0s 127ms/step - loss: 1.2156 - accuracy: 0.5208\n",
            "Epoch 99/100\n",
            "2/2 [==============================] - 0s 227ms/step - loss: 1.2483 - accuracy: 0.4583\n",
            "Epoch 100/100\n",
            "2/2 [==============================] - 0s 228ms/step - loss: 1.2007 - accuracy: 0.5469\n"
          ],
          "name": "stdout"
        },
        {
          "output_type": "execute_result",
          "data": {
            "text/plain": [
              "<tensorflow.python.keras.callbacks.History at 0x7f1ebc0c95f8>"
            ]
          },
          "metadata": {
            "tags": []
          },
          "execution_count": 43
        }
      ]
    },
    {
      "cell_type": "code",
      "metadata": {
        "id": "OHAob_P6qpO6",
        "outputId": "f9d611c1-ad71-4a8d-c272-4fa872f6b139",
        "colab": {
          "base_uri": "https://localhost:8080/",
          "height": 52
        }
      },
      "source": [
        "#Once the model is trained we can evaluate it on Test data.\n",
        "\n",
        "# Evaluating the model \n",
        "alexscore = AlexNet.evaluate(test_x, test_y, verbose=0)\n",
        "print('Test Loss:', alexscore[0])\n",
        "print('Test accuracy:', alexscore[1])"
      ],
      "execution_count": null,
      "outputs": [
        {
          "output_type": "stream",
          "text": [
            "Test Loss: 0.3311328887939453\n",
            "Test accuracy: 0.8999999761581421\n"
          ],
          "name": "stdout"
        }
      ]
    },
    {
      "cell_type": "code",
      "metadata": {
        "id": "dZAcXDv4qtnc",
        "outputId": "803f5dd5-7ed8-40ae-95db-c94e2f0a8ff4",
        "colab": {
          "base_uri": "https://localhost:8080/",
          "height": 304
        }
      },
      "source": [
        "from sklearn.metrics import classification_report,confusion_matrix\n",
        "Y_pred = model.predict(test_x)\n",
        "y_pred = np.argmax(Y_pred, axis=1)\n",
        "target_names = ['class 0(car)', 'class 1(bike)','class 2(random)']\n",
        "                                               \n",
        "print(classification_report(np.argmax(test_y,axis=1), y_pred,target_names=target_names))\n",
        "\n",
        "print(confusion_matrix(np.argmax(test_y,axis=1), y_pred))"
      ],
      "execution_count": null,
      "outputs": [
        {
          "output_type": "stream",
          "text": [
            "                 precision    recall  f1-score   support\n",
            "\n",
            "   class 0(car)       0.00      0.00      0.00         3\n",
            "  class 1(bike)       0.00      0.00      0.00         2\n",
            "class 2(random)       0.50      1.00      0.67         5\n",
            "\n",
            "       accuracy                           0.50        10\n",
            "      macro avg       0.17      0.33      0.22        10\n",
            "   weighted avg       0.25      0.50      0.33        10\n",
            "\n",
            "[[0 0 3]\n",
            " [0 0 2]\n",
            " [0 0 5]]\n"
          ],
          "name": "stdout"
        },
        {
          "output_type": "stream",
          "text": [
            "/usr/local/lib/python3.6/dist-packages/sklearn/metrics/_classification.py:1272: UndefinedMetricWarning: Precision and F-score are ill-defined and being set to 0.0 in labels with no predicted samples. Use `zero_division` parameter to control this behavior.\n",
            "  _warn_prf(average, modifier, msg_start, len(result))\n"
          ],
          "name": "stderr"
        }
      ]
    },
    {
      "cell_type": "code",
      "metadata": {
        "id": "HH-ZuqHW2L3x"
      },
      "source": [
        "import keras,os\n",
        "from keras.models import Sequential\n",
        "from keras.layers import Dense, Conv2D, MaxPool2D , Flatten\n",
        "from keras.preprocessing.image import ImageDataGenerator\n",
        "import numpy as np"
      ],
      "execution_count": null,
      "outputs": []
    },
    {
      "cell_type": "code",
      "metadata": {
        "id": "nA5xkUha1BUo"
      },
      "source": [
        "#vgg16\n",
        "vggmodel = Sequential()\n",
        "vggmodel.add(Conv2D(input_shape=(128,128,3),filters=64,kernel_size=(3,3),padding=\"same\", activation=\"relu\"))\n",
        "vggmodel.add(Conv2D(filters=64,kernel_size=(3,3),padding=\"same\", activation=\"relu\"))\n",
        "vggmodel.add(MaxPool2D(pool_size=(2,2),strides=(2,2)))\n",
        "vggmodel.add(Conv2D(filters=128, kernel_size=(3,3), padding=\"same\", activation=\"relu\"))\n",
        "vggmodel.add(Conv2D(filters=128, kernel_size=(3,3), padding=\"same\", activation=\"relu\"))\n",
        "vggmodel.add(MaxPool2D(pool_size=(2,2),strides=(2,2)))\n",
        "vggmodel.add(Conv2D(filters=256, kernel_size=(3,3), padding=\"same\", activation=\"relu\"))\n",
        "vggmodel.add(Conv2D(filters=256, kernel_size=(3,3), padding=\"same\", activation=\"relu\"))\n",
        "vggmodel.add(Conv2D(filters=256, kernel_size=(3,3), padding=\"same\", activation=\"relu\"))\n",
        "vggmodel.add(MaxPool2D(pool_size=(2,2),strides=(2,2)))\n",
        "vggmodel.add(Conv2D(filters=512, kernel_size=(3,3), padding=\"same\", activation=\"relu\"))\n",
        "vggmodel.add(Conv2D(filters=512, kernel_size=(3,3), padding=\"same\", activation=\"relu\"))\n",
        "vggmodel.add(Conv2D(filters=512, kernel_size=(3,3), padding=\"same\", activation=\"relu\"))\n",
        "vggmodel.add(MaxPool2D(pool_size=(2,2),strides=(2,2)))\n",
        "vggmodel.add(Conv2D(filters=512, kernel_size=(3,3), padding=\"same\", activation=\"relu\"))\n",
        "vggmodel.add(Conv2D(filters=512, kernel_size=(3,3), padding=\"same\", activation=\"relu\"))\n",
        "vggmodel.add(Conv2D(filters=512, kernel_size=(3,3), padding=\"same\", activation=\"relu\"))\n",
        "vggmodel.add(MaxPool2D(pool_size=(2,2),strides=(2,2)))"
      ],
      "execution_count": null,
      "outputs": []
    },
    {
      "cell_type": "code",
      "metadata": {
        "id": "l-Oa35rl2Q5M"
      },
      "source": [
        "keras.layers.Dropout(0.5)\n",
        "vggmodel.add(Flatten())\n",
        "vggmodel.add(Dense(units=200,activation=\"relu\"))\n",
        "keras.layers.Dropout(0.5)\n",
        "vggmodel.add(Dense(units=200,activation=\"relu\"))\n",
        "keras.layers.Dropout(0.5)\n",
        "vggmodel.add(Dense(units=3, activation=\"softmax\"))"
      ],
      "execution_count": null,
      "outputs": []
    },
    {
      "cell_type": "code",
      "metadata": {
        "id": "vj3OkIly2xbF",
        "outputId": "bab21a80-4753-4cb8-e402-dab2f4d4bec2",
        "colab": {
          "base_uri": "https://localhost:8080/",
          "height": 941
        }
      },
      "source": [
        "vggmodel.summary()"
      ],
      "execution_count": null,
      "outputs": [
        {
          "output_type": "stream",
          "text": [
            "Model: \"sequential_27\"\n",
            "_________________________________________________________________\n",
            "Layer (type)                 Output Shape              Param #   \n",
            "=================================================================\n",
            "conv2d_97 (Conv2D)           (None, 256, 256, 64)      1792      \n",
            "_________________________________________________________________\n",
            "conv2d_98 (Conv2D)           (None, 256, 256, 64)      36928     \n",
            "_________________________________________________________________\n",
            "max_pooling2d_75 (MaxPooling (None, 128, 128, 64)      0         \n",
            "_________________________________________________________________\n",
            "conv2d_99 (Conv2D)           (None, 128, 128, 128)     73856     \n",
            "_________________________________________________________________\n",
            "conv2d_100 (Conv2D)          (None, 128, 128, 128)     147584    \n",
            "_________________________________________________________________\n",
            "max_pooling2d_76 (MaxPooling (None, 64, 64, 128)       0         \n",
            "_________________________________________________________________\n",
            "conv2d_101 (Conv2D)          (None, 64, 64, 256)       295168    \n",
            "_________________________________________________________________\n",
            "conv2d_102 (Conv2D)          (None, 64, 64, 256)       590080    \n",
            "_________________________________________________________________\n",
            "conv2d_103 (Conv2D)          (None, 64, 64, 256)       590080    \n",
            "_________________________________________________________________\n",
            "max_pooling2d_77 (MaxPooling (None, 32, 32, 256)       0         \n",
            "_________________________________________________________________\n",
            "conv2d_104 (Conv2D)          (None, 32, 32, 512)       1180160   \n",
            "_________________________________________________________________\n",
            "conv2d_105 (Conv2D)          (None, 32, 32, 512)       2359808   \n",
            "_________________________________________________________________\n",
            "conv2d_106 (Conv2D)          (None, 32, 32, 512)       2359808   \n",
            "_________________________________________________________________\n",
            "max_pooling2d_78 (MaxPooling (None, 16, 16, 512)       0         \n",
            "_________________________________________________________________\n",
            "conv2d_107 (Conv2D)          (None, 16, 16, 512)       2359808   \n",
            "_________________________________________________________________\n",
            "conv2d_108 (Conv2D)          (None, 16, 16, 512)       2359808   \n",
            "_________________________________________________________________\n",
            "conv2d_109 (Conv2D)          (None, 16, 16, 512)       2359808   \n",
            "_________________________________________________________________\n",
            "max_pooling2d_79 (MaxPooling (None, 8, 8, 512)         0         \n",
            "_________________________________________________________________\n",
            "flatten_26 (Flatten)         (None, 32768)             0         \n",
            "_________________________________________________________________\n",
            "dense_87 (Dense)             (None, 200)               6553800   \n",
            "_________________________________________________________________\n",
            "dense_88 (Dense)             (None, 200)               40200     \n",
            "_________________________________________________________________\n",
            "dense_89 (Dense)             (None, 3)                 603       \n",
            "=================================================================\n",
            "Total params: 21,309,291\n",
            "Trainable params: 21,309,291\n",
            "Non-trainable params: 0\n",
            "_________________________________________________________________\n"
          ],
          "name": "stdout"
        }
      ]
    },
    {
      "cell_type": "code",
      "metadata": {
        "id": "-97kUBD_ZfaH"
      },
      "source": [
        "#from keras.optimizers import Adam\n",
        "#opt = Adam(lr=0.001)\n",
        "vggmodel.compile(optimizer=\"adam\", loss='categorical_crossentropy', metrics=['accuracy'])"
      ],
      "execution_count": null,
      "outputs": []
    },
    {
      "cell_type": "code",
      "metadata": {
        "id": "fGczUBGS24ft",
        "outputId": "3dc2a05c-b0f8-4012-f698-138767b0192f",
        "colab": {
          "base_uri": "https://localhost:8080/",
          "height": 959
        }
      },
      "source": [
        "from keras.callbacks import ModelCheckpoint, EarlyStopping\n",
        "checkpoint = ModelCheckpoint(\"vgg16_1.h5\", monitor='val_accuracy', verbose=1, save_best_only=True, save_weights_only=False, mode='auto', period=1)\n",
        "early = EarlyStopping(monitor='val_accuracy', min_delta=0, patience=20, verbose=1, mode='auto')\n",
        "vggmodel.compile(optimizer=\"adam\", loss=keras.losses.categorical_crossentropy, metrics=['accuracy'])\n",
        "VGG=vggmodel.fit(train_x,train_y,batch_size = 32,epochs=100,verbose=1,validation_data=(eval_x, eval_y),callbacks=[checkpoint,early])\n",
        "VGG"
      ],
      "execution_count": null,
      "outputs": [
        {
          "output_type": "stream",
          "text": [
            "WARNING:tensorflow:`period` argument is deprecated. Please use `save_freq` to specify the frequency in number of batches seen.\n",
            "Epoch 1/100\n",
            "WARNING:tensorflow:Model was constructed with shape (None, 256, 256, 3) for input Tensor(\"conv2d_97_input:0\", shape=(None, 256, 256, 3), dtype=float32), but it was called on an input with incompatible shape (None, 128, 128, 3).\n"
          ],
          "name": "stdout"
        },
        {
          "output_type": "error",
          "ename": "ValueError",
          "evalue": "ignored",
          "traceback": [
            "\u001b[0;31m---------------------------------------------------------------------------\u001b[0m",
            "\u001b[0;31mValueError\u001b[0m                                Traceback (most recent call last)",
            "\u001b[0;32m<ipython-input-188-743e2fc9ecce>\u001b[0m in \u001b[0;36m<module>\u001b[0;34m()\u001b[0m\n\u001b[1;32m      3\u001b[0m \u001b[0mearly\u001b[0m \u001b[0;34m=\u001b[0m \u001b[0mEarlyStopping\u001b[0m\u001b[0;34m(\u001b[0m\u001b[0mmonitor\u001b[0m\u001b[0;34m=\u001b[0m\u001b[0;34m'val_accuracy'\u001b[0m\u001b[0;34m,\u001b[0m \u001b[0mmin_delta\u001b[0m\u001b[0;34m=\u001b[0m\u001b[0;36m0\u001b[0m\u001b[0;34m,\u001b[0m \u001b[0mpatience\u001b[0m\u001b[0;34m=\u001b[0m\u001b[0;36m20\u001b[0m\u001b[0;34m,\u001b[0m \u001b[0mverbose\u001b[0m\u001b[0;34m=\u001b[0m\u001b[0;36m1\u001b[0m\u001b[0;34m,\u001b[0m \u001b[0mmode\u001b[0m\u001b[0;34m=\u001b[0m\u001b[0;34m'auto'\u001b[0m\u001b[0;34m)\u001b[0m\u001b[0;34m\u001b[0m\u001b[0;34m\u001b[0m\u001b[0m\n\u001b[1;32m      4\u001b[0m \u001b[0mvggmodel\u001b[0m\u001b[0;34m.\u001b[0m\u001b[0mcompile\u001b[0m\u001b[0;34m(\u001b[0m\u001b[0moptimizer\u001b[0m\u001b[0;34m=\u001b[0m\u001b[0;34m\"adam\"\u001b[0m\u001b[0;34m,\u001b[0m \u001b[0mloss\u001b[0m\u001b[0;34m=\u001b[0m\u001b[0mkeras\u001b[0m\u001b[0;34m.\u001b[0m\u001b[0mlosses\u001b[0m\u001b[0;34m.\u001b[0m\u001b[0mcategorical_crossentropy\u001b[0m\u001b[0;34m,\u001b[0m \u001b[0mmetrics\u001b[0m\u001b[0;34m=\u001b[0m\u001b[0;34m[\u001b[0m\u001b[0;34m'accuracy'\u001b[0m\u001b[0;34m]\u001b[0m\u001b[0;34m)\u001b[0m\u001b[0;34m\u001b[0m\u001b[0;34m\u001b[0m\u001b[0m\n\u001b[0;32m----> 5\u001b[0;31m \u001b[0mVGG\u001b[0m\u001b[0;34m=\u001b[0m\u001b[0mvggmodel\u001b[0m\u001b[0;34m.\u001b[0m\u001b[0mfit\u001b[0m\u001b[0;34m(\u001b[0m\u001b[0mtrain_x\u001b[0m\u001b[0;34m,\u001b[0m\u001b[0mtrain_y\u001b[0m\u001b[0;34m,\u001b[0m\u001b[0mbatch_size\u001b[0m \u001b[0;34m=\u001b[0m \u001b[0;36m32\u001b[0m\u001b[0;34m,\u001b[0m\u001b[0mepochs\u001b[0m\u001b[0;34m=\u001b[0m\u001b[0;36m100\u001b[0m\u001b[0;34m,\u001b[0m\u001b[0mverbose\u001b[0m\u001b[0;34m=\u001b[0m\u001b[0;36m1\u001b[0m\u001b[0;34m,\u001b[0m\u001b[0mvalidation_data\u001b[0m\u001b[0;34m=\u001b[0m\u001b[0;34m(\u001b[0m\u001b[0meval_x\u001b[0m\u001b[0;34m,\u001b[0m \u001b[0meval_y\u001b[0m\u001b[0;34m)\u001b[0m\u001b[0;34m,\u001b[0m\u001b[0mcallbacks\u001b[0m\u001b[0;34m=\u001b[0m\u001b[0;34m[\u001b[0m\u001b[0mcheckpoint\u001b[0m\u001b[0;34m,\u001b[0m\u001b[0mearly\u001b[0m\u001b[0;34m]\u001b[0m\u001b[0;34m)\u001b[0m\u001b[0;34m\u001b[0m\u001b[0;34m\u001b[0m\u001b[0m\n\u001b[0m\u001b[1;32m      6\u001b[0m \u001b[0mVGG\u001b[0m\u001b[0;34m\u001b[0m\u001b[0;34m\u001b[0m\u001b[0m\n",
            "\u001b[0;32m/usr/local/lib/python3.6/dist-packages/tensorflow/python/keras/engine/training.py\u001b[0m in \u001b[0;36m_method_wrapper\u001b[0;34m(self, *args, **kwargs)\u001b[0m\n\u001b[1;32m    106\u001b[0m   \u001b[0;32mdef\u001b[0m \u001b[0m_method_wrapper\u001b[0m\u001b[0;34m(\u001b[0m\u001b[0mself\u001b[0m\u001b[0;34m,\u001b[0m \u001b[0;34m*\u001b[0m\u001b[0margs\u001b[0m\u001b[0;34m,\u001b[0m \u001b[0;34m**\u001b[0m\u001b[0mkwargs\u001b[0m\u001b[0;34m)\u001b[0m\u001b[0;34m:\u001b[0m\u001b[0;34m\u001b[0m\u001b[0;34m\u001b[0m\u001b[0m\n\u001b[1;32m    107\u001b[0m     \u001b[0;32mif\u001b[0m \u001b[0;32mnot\u001b[0m \u001b[0mself\u001b[0m\u001b[0;34m.\u001b[0m\u001b[0m_in_multi_worker_mode\u001b[0m\u001b[0;34m(\u001b[0m\u001b[0;34m)\u001b[0m\u001b[0;34m:\u001b[0m  \u001b[0;31m# pylint: disable=protected-access\u001b[0m\u001b[0;34m\u001b[0m\u001b[0;34m\u001b[0m\u001b[0m\n\u001b[0;32m--> 108\u001b[0;31m       \u001b[0;32mreturn\u001b[0m \u001b[0mmethod\u001b[0m\u001b[0;34m(\u001b[0m\u001b[0mself\u001b[0m\u001b[0;34m,\u001b[0m \u001b[0;34m*\u001b[0m\u001b[0margs\u001b[0m\u001b[0;34m,\u001b[0m \u001b[0;34m**\u001b[0m\u001b[0mkwargs\u001b[0m\u001b[0;34m)\u001b[0m\u001b[0;34m\u001b[0m\u001b[0;34m\u001b[0m\u001b[0m\n\u001b[0m\u001b[1;32m    109\u001b[0m \u001b[0;34m\u001b[0m\u001b[0m\n\u001b[1;32m    110\u001b[0m     \u001b[0;31m# Running inside `run_distribute_coordinator` already.\u001b[0m\u001b[0;34m\u001b[0m\u001b[0;34m\u001b[0m\u001b[0;34m\u001b[0m\u001b[0m\n",
            "\u001b[0;32m/usr/local/lib/python3.6/dist-packages/tensorflow/python/keras/engine/training.py\u001b[0m in \u001b[0;36mfit\u001b[0;34m(self, x, y, batch_size, epochs, verbose, callbacks, validation_split, validation_data, shuffle, class_weight, sample_weight, initial_epoch, steps_per_epoch, validation_steps, validation_batch_size, validation_freq, max_queue_size, workers, use_multiprocessing)\u001b[0m\n\u001b[1;32m   1096\u001b[0m                 batch_size=batch_size):\n\u001b[1;32m   1097\u001b[0m               \u001b[0mcallbacks\u001b[0m\u001b[0;34m.\u001b[0m\u001b[0mon_train_batch_begin\u001b[0m\u001b[0;34m(\u001b[0m\u001b[0mstep\u001b[0m\u001b[0;34m)\u001b[0m\u001b[0;34m\u001b[0m\u001b[0;34m\u001b[0m\u001b[0m\n\u001b[0;32m-> 1098\u001b[0;31m               \u001b[0mtmp_logs\u001b[0m \u001b[0;34m=\u001b[0m \u001b[0mtrain_function\u001b[0m\u001b[0;34m(\u001b[0m\u001b[0miterator\u001b[0m\u001b[0;34m)\u001b[0m\u001b[0;34m\u001b[0m\u001b[0;34m\u001b[0m\u001b[0m\n\u001b[0m\u001b[1;32m   1099\u001b[0m               \u001b[0;32mif\u001b[0m \u001b[0mdata_handler\u001b[0m\u001b[0;34m.\u001b[0m\u001b[0mshould_sync\u001b[0m\u001b[0;34m:\u001b[0m\u001b[0;34m\u001b[0m\u001b[0;34m\u001b[0m\u001b[0m\n\u001b[1;32m   1100\u001b[0m                 \u001b[0mcontext\u001b[0m\u001b[0;34m.\u001b[0m\u001b[0masync_wait\u001b[0m\u001b[0;34m(\u001b[0m\u001b[0;34m)\u001b[0m\u001b[0;34m\u001b[0m\u001b[0;34m\u001b[0m\u001b[0m\n",
            "\u001b[0;32m/usr/local/lib/python3.6/dist-packages/tensorflow/python/eager/def_function.py\u001b[0m in \u001b[0;36m__call__\u001b[0;34m(self, *args, **kwds)\u001b[0m\n\u001b[1;32m    778\u001b[0m       \u001b[0;32melse\u001b[0m\u001b[0;34m:\u001b[0m\u001b[0;34m\u001b[0m\u001b[0;34m\u001b[0m\u001b[0m\n\u001b[1;32m    779\u001b[0m         \u001b[0mcompiler\u001b[0m \u001b[0;34m=\u001b[0m \u001b[0;34m\"nonXla\"\u001b[0m\u001b[0;34m\u001b[0m\u001b[0;34m\u001b[0m\u001b[0m\n\u001b[0;32m--> 780\u001b[0;31m         \u001b[0mresult\u001b[0m \u001b[0;34m=\u001b[0m \u001b[0mself\u001b[0m\u001b[0;34m.\u001b[0m\u001b[0m_call\u001b[0m\u001b[0;34m(\u001b[0m\u001b[0;34m*\u001b[0m\u001b[0margs\u001b[0m\u001b[0;34m,\u001b[0m \u001b[0;34m**\u001b[0m\u001b[0mkwds\u001b[0m\u001b[0;34m)\u001b[0m\u001b[0;34m\u001b[0m\u001b[0;34m\u001b[0m\u001b[0m\n\u001b[0m\u001b[1;32m    781\u001b[0m \u001b[0;34m\u001b[0m\u001b[0m\n\u001b[1;32m    782\u001b[0m       \u001b[0mnew_tracing_count\u001b[0m \u001b[0;34m=\u001b[0m \u001b[0mself\u001b[0m\u001b[0;34m.\u001b[0m\u001b[0m_get_tracing_count\u001b[0m\u001b[0;34m(\u001b[0m\u001b[0;34m)\u001b[0m\u001b[0;34m\u001b[0m\u001b[0;34m\u001b[0m\u001b[0m\n",
            "\u001b[0;32m/usr/local/lib/python3.6/dist-packages/tensorflow/python/eager/def_function.py\u001b[0m in \u001b[0;36m_call\u001b[0;34m(self, *args, **kwds)\u001b[0m\n\u001b[1;32m    821\u001b[0m       \u001b[0;31m# This is the first call of __call__, so we have to initialize.\u001b[0m\u001b[0;34m\u001b[0m\u001b[0;34m\u001b[0m\u001b[0;34m\u001b[0m\u001b[0m\n\u001b[1;32m    822\u001b[0m       \u001b[0minitializers\u001b[0m \u001b[0;34m=\u001b[0m \u001b[0;34m[\u001b[0m\u001b[0;34m]\u001b[0m\u001b[0;34m\u001b[0m\u001b[0;34m\u001b[0m\u001b[0m\n\u001b[0;32m--> 823\u001b[0;31m       \u001b[0mself\u001b[0m\u001b[0;34m.\u001b[0m\u001b[0m_initialize\u001b[0m\u001b[0;34m(\u001b[0m\u001b[0margs\u001b[0m\u001b[0;34m,\u001b[0m \u001b[0mkwds\u001b[0m\u001b[0;34m,\u001b[0m \u001b[0madd_initializers_to\u001b[0m\u001b[0;34m=\u001b[0m\u001b[0minitializers\u001b[0m\u001b[0;34m)\u001b[0m\u001b[0;34m\u001b[0m\u001b[0;34m\u001b[0m\u001b[0m\n\u001b[0m\u001b[1;32m    824\u001b[0m     \u001b[0;32mfinally\u001b[0m\u001b[0;34m:\u001b[0m\u001b[0;34m\u001b[0m\u001b[0;34m\u001b[0m\u001b[0m\n\u001b[1;32m    825\u001b[0m       \u001b[0;31m# At this point we know that the initialization is complete (or less\u001b[0m\u001b[0;34m\u001b[0m\u001b[0;34m\u001b[0m\u001b[0;34m\u001b[0m\u001b[0m\n",
            "\u001b[0;32m/usr/local/lib/python3.6/dist-packages/tensorflow/python/eager/def_function.py\u001b[0m in \u001b[0;36m_initialize\u001b[0;34m(self, args, kwds, add_initializers_to)\u001b[0m\n\u001b[1;32m    695\u001b[0m     self._concrete_stateful_fn = (\n\u001b[1;32m    696\u001b[0m         self._stateful_fn._get_concrete_function_internal_garbage_collected(  # pylint: disable=protected-access\n\u001b[0;32m--> 697\u001b[0;31m             *args, **kwds))\n\u001b[0m\u001b[1;32m    698\u001b[0m \u001b[0;34m\u001b[0m\u001b[0m\n\u001b[1;32m    699\u001b[0m     \u001b[0;32mdef\u001b[0m \u001b[0minvalid_creator_scope\u001b[0m\u001b[0;34m(\u001b[0m\u001b[0;34m*\u001b[0m\u001b[0munused_args\u001b[0m\u001b[0;34m,\u001b[0m \u001b[0;34m**\u001b[0m\u001b[0munused_kwds\u001b[0m\u001b[0;34m)\u001b[0m\u001b[0;34m:\u001b[0m\u001b[0;34m\u001b[0m\u001b[0;34m\u001b[0m\u001b[0m\n",
            "\u001b[0;32m/usr/local/lib/python3.6/dist-packages/tensorflow/python/eager/function.py\u001b[0m in \u001b[0;36m_get_concrete_function_internal_garbage_collected\u001b[0;34m(self, *args, **kwargs)\u001b[0m\n\u001b[1;32m   2853\u001b[0m       \u001b[0margs\u001b[0m\u001b[0;34m,\u001b[0m \u001b[0mkwargs\u001b[0m \u001b[0;34m=\u001b[0m \u001b[0;32mNone\u001b[0m\u001b[0;34m,\u001b[0m \u001b[0;32mNone\u001b[0m\u001b[0;34m\u001b[0m\u001b[0;34m\u001b[0m\u001b[0m\n\u001b[1;32m   2854\u001b[0m     \u001b[0;32mwith\u001b[0m \u001b[0mself\u001b[0m\u001b[0;34m.\u001b[0m\u001b[0m_lock\u001b[0m\u001b[0;34m:\u001b[0m\u001b[0;34m\u001b[0m\u001b[0;34m\u001b[0m\u001b[0m\n\u001b[0;32m-> 2855\u001b[0;31m       \u001b[0mgraph_function\u001b[0m\u001b[0;34m,\u001b[0m \u001b[0m_\u001b[0m\u001b[0;34m,\u001b[0m \u001b[0m_\u001b[0m \u001b[0;34m=\u001b[0m \u001b[0mself\u001b[0m\u001b[0;34m.\u001b[0m\u001b[0m_maybe_define_function\u001b[0m\u001b[0;34m(\u001b[0m\u001b[0margs\u001b[0m\u001b[0;34m,\u001b[0m \u001b[0mkwargs\u001b[0m\u001b[0;34m)\u001b[0m\u001b[0;34m\u001b[0m\u001b[0;34m\u001b[0m\u001b[0m\n\u001b[0m\u001b[1;32m   2856\u001b[0m     \u001b[0;32mreturn\u001b[0m \u001b[0mgraph_function\u001b[0m\u001b[0;34m\u001b[0m\u001b[0;34m\u001b[0m\u001b[0m\n\u001b[1;32m   2857\u001b[0m \u001b[0;34m\u001b[0m\u001b[0m\n",
            "\u001b[0;32m/usr/local/lib/python3.6/dist-packages/tensorflow/python/eager/function.py\u001b[0m in \u001b[0;36m_maybe_define_function\u001b[0;34m(self, args, kwargs)\u001b[0m\n\u001b[1;32m   3211\u001b[0m \u001b[0;34m\u001b[0m\u001b[0m\n\u001b[1;32m   3212\u001b[0m       \u001b[0mself\u001b[0m\u001b[0;34m.\u001b[0m\u001b[0m_function_cache\u001b[0m\u001b[0;34m.\u001b[0m\u001b[0mmissed\u001b[0m\u001b[0;34m.\u001b[0m\u001b[0madd\u001b[0m\u001b[0;34m(\u001b[0m\u001b[0mcall_context_key\u001b[0m\u001b[0;34m)\u001b[0m\u001b[0;34m\u001b[0m\u001b[0;34m\u001b[0m\u001b[0m\n\u001b[0;32m-> 3213\u001b[0;31m       \u001b[0mgraph_function\u001b[0m \u001b[0;34m=\u001b[0m \u001b[0mself\u001b[0m\u001b[0;34m.\u001b[0m\u001b[0m_create_graph_function\u001b[0m\u001b[0;34m(\u001b[0m\u001b[0margs\u001b[0m\u001b[0;34m,\u001b[0m \u001b[0mkwargs\u001b[0m\u001b[0;34m)\u001b[0m\u001b[0;34m\u001b[0m\u001b[0;34m\u001b[0m\u001b[0m\n\u001b[0m\u001b[1;32m   3214\u001b[0m       \u001b[0mself\u001b[0m\u001b[0;34m.\u001b[0m\u001b[0m_function_cache\u001b[0m\u001b[0;34m.\u001b[0m\u001b[0mprimary\u001b[0m\u001b[0;34m[\u001b[0m\u001b[0mcache_key\u001b[0m\u001b[0;34m]\u001b[0m \u001b[0;34m=\u001b[0m \u001b[0mgraph_function\u001b[0m\u001b[0;34m\u001b[0m\u001b[0;34m\u001b[0m\u001b[0m\n\u001b[1;32m   3215\u001b[0m       \u001b[0;32mreturn\u001b[0m \u001b[0mgraph_function\u001b[0m\u001b[0;34m,\u001b[0m \u001b[0margs\u001b[0m\u001b[0;34m,\u001b[0m \u001b[0mkwargs\u001b[0m\u001b[0;34m\u001b[0m\u001b[0;34m\u001b[0m\u001b[0m\n",
            "\u001b[0;32m/usr/local/lib/python3.6/dist-packages/tensorflow/python/eager/function.py\u001b[0m in \u001b[0;36m_create_graph_function\u001b[0;34m(self, args, kwargs, override_flat_arg_shapes)\u001b[0m\n\u001b[1;32m   3073\u001b[0m             \u001b[0marg_names\u001b[0m\u001b[0;34m=\u001b[0m\u001b[0marg_names\u001b[0m\u001b[0;34m,\u001b[0m\u001b[0;34m\u001b[0m\u001b[0;34m\u001b[0m\u001b[0m\n\u001b[1;32m   3074\u001b[0m             \u001b[0moverride_flat_arg_shapes\u001b[0m\u001b[0;34m=\u001b[0m\u001b[0moverride_flat_arg_shapes\u001b[0m\u001b[0;34m,\u001b[0m\u001b[0;34m\u001b[0m\u001b[0;34m\u001b[0m\u001b[0m\n\u001b[0;32m-> 3075\u001b[0;31m             capture_by_value=self._capture_by_value),\n\u001b[0m\u001b[1;32m   3076\u001b[0m         \u001b[0mself\u001b[0m\u001b[0;34m.\u001b[0m\u001b[0m_function_attributes\u001b[0m\u001b[0;34m,\u001b[0m\u001b[0;34m\u001b[0m\u001b[0;34m\u001b[0m\u001b[0m\n\u001b[1;32m   3077\u001b[0m         \u001b[0mfunction_spec\u001b[0m\u001b[0;34m=\u001b[0m\u001b[0mself\u001b[0m\u001b[0;34m.\u001b[0m\u001b[0mfunction_spec\u001b[0m\u001b[0;34m,\u001b[0m\u001b[0;34m\u001b[0m\u001b[0;34m\u001b[0m\u001b[0m\n",
            "\u001b[0;32m/usr/local/lib/python3.6/dist-packages/tensorflow/python/framework/func_graph.py\u001b[0m in \u001b[0;36mfunc_graph_from_py_func\u001b[0;34m(name, python_func, args, kwargs, signature, func_graph, autograph, autograph_options, add_control_dependencies, arg_names, op_return_value, collections, capture_by_value, override_flat_arg_shapes)\u001b[0m\n\u001b[1;32m    984\u001b[0m         \u001b[0m_\u001b[0m\u001b[0;34m,\u001b[0m \u001b[0moriginal_func\u001b[0m \u001b[0;34m=\u001b[0m \u001b[0mtf_decorator\u001b[0m\u001b[0;34m.\u001b[0m\u001b[0munwrap\u001b[0m\u001b[0;34m(\u001b[0m\u001b[0mpython_func\u001b[0m\u001b[0;34m)\u001b[0m\u001b[0;34m\u001b[0m\u001b[0;34m\u001b[0m\u001b[0m\n\u001b[1;32m    985\u001b[0m \u001b[0;34m\u001b[0m\u001b[0m\n\u001b[0;32m--> 986\u001b[0;31m       \u001b[0mfunc_outputs\u001b[0m \u001b[0;34m=\u001b[0m \u001b[0mpython_func\u001b[0m\u001b[0;34m(\u001b[0m\u001b[0;34m*\u001b[0m\u001b[0mfunc_args\u001b[0m\u001b[0;34m,\u001b[0m \u001b[0;34m**\u001b[0m\u001b[0mfunc_kwargs\u001b[0m\u001b[0;34m)\u001b[0m\u001b[0;34m\u001b[0m\u001b[0;34m\u001b[0m\u001b[0m\n\u001b[0m\u001b[1;32m    987\u001b[0m \u001b[0;34m\u001b[0m\u001b[0m\n\u001b[1;32m    988\u001b[0m       \u001b[0;31m# invariant: `func_outputs` contains only Tensors, CompositeTensors,\u001b[0m\u001b[0;34m\u001b[0m\u001b[0;34m\u001b[0m\u001b[0;34m\u001b[0m\u001b[0m\n",
            "\u001b[0;32m/usr/local/lib/python3.6/dist-packages/tensorflow/python/eager/def_function.py\u001b[0m in \u001b[0;36mwrapped_fn\u001b[0;34m(*args, **kwds)\u001b[0m\n\u001b[1;32m    598\u001b[0m         \u001b[0;31m# __wrapped__ allows AutoGraph to swap in a converted function. We give\u001b[0m\u001b[0;34m\u001b[0m\u001b[0;34m\u001b[0m\u001b[0;34m\u001b[0m\u001b[0m\n\u001b[1;32m    599\u001b[0m         \u001b[0;31m# the function a weak reference to itself to avoid a reference cycle.\u001b[0m\u001b[0;34m\u001b[0m\u001b[0;34m\u001b[0m\u001b[0;34m\u001b[0m\u001b[0m\n\u001b[0;32m--> 600\u001b[0;31m         \u001b[0;32mreturn\u001b[0m \u001b[0mweak_wrapped_fn\u001b[0m\u001b[0;34m(\u001b[0m\u001b[0;34m)\u001b[0m\u001b[0;34m.\u001b[0m\u001b[0m__wrapped__\u001b[0m\u001b[0;34m(\u001b[0m\u001b[0;34m*\u001b[0m\u001b[0margs\u001b[0m\u001b[0;34m,\u001b[0m \u001b[0;34m**\u001b[0m\u001b[0mkwds\u001b[0m\u001b[0;34m)\u001b[0m\u001b[0;34m\u001b[0m\u001b[0;34m\u001b[0m\u001b[0m\n\u001b[0m\u001b[1;32m    601\u001b[0m     \u001b[0mweak_wrapped_fn\u001b[0m \u001b[0;34m=\u001b[0m \u001b[0mweakref\u001b[0m\u001b[0;34m.\u001b[0m\u001b[0mref\u001b[0m\u001b[0;34m(\u001b[0m\u001b[0mwrapped_fn\u001b[0m\u001b[0;34m)\u001b[0m\u001b[0;34m\u001b[0m\u001b[0;34m\u001b[0m\u001b[0m\n\u001b[1;32m    602\u001b[0m \u001b[0;34m\u001b[0m\u001b[0m\n",
            "\u001b[0;32m/usr/local/lib/python3.6/dist-packages/tensorflow/python/framework/func_graph.py\u001b[0m in \u001b[0;36mwrapper\u001b[0;34m(*args, **kwargs)\u001b[0m\n\u001b[1;32m    971\u001b[0m           \u001b[0;32mexcept\u001b[0m \u001b[0mException\u001b[0m \u001b[0;32mas\u001b[0m \u001b[0me\u001b[0m\u001b[0;34m:\u001b[0m  \u001b[0;31m# pylint:disable=broad-except\u001b[0m\u001b[0;34m\u001b[0m\u001b[0;34m\u001b[0m\u001b[0m\n\u001b[1;32m    972\u001b[0m             \u001b[0;32mif\u001b[0m \u001b[0mhasattr\u001b[0m\u001b[0;34m(\u001b[0m\u001b[0me\u001b[0m\u001b[0;34m,\u001b[0m \u001b[0;34m\"ag_error_metadata\"\u001b[0m\u001b[0;34m)\u001b[0m\u001b[0;34m:\u001b[0m\u001b[0;34m\u001b[0m\u001b[0;34m\u001b[0m\u001b[0m\n\u001b[0;32m--> 973\u001b[0;31m               \u001b[0;32mraise\u001b[0m \u001b[0me\u001b[0m\u001b[0;34m.\u001b[0m\u001b[0mag_error_metadata\u001b[0m\u001b[0;34m.\u001b[0m\u001b[0mto_exception\u001b[0m\u001b[0;34m(\u001b[0m\u001b[0me\u001b[0m\u001b[0;34m)\u001b[0m\u001b[0;34m\u001b[0m\u001b[0;34m\u001b[0m\u001b[0m\n\u001b[0m\u001b[1;32m    974\u001b[0m             \u001b[0;32melse\u001b[0m\u001b[0;34m:\u001b[0m\u001b[0;34m\u001b[0m\u001b[0;34m\u001b[0m\u001b[0m\n\u001b[1;32m    975\u001b[0m               \u001b[0;32mraise\u001b[0m\u001b[0;34m\u001b[0m\u001b[0;34m\u001b[0m\u001b[0m\n",
            "\u001b[0;31mValueError\u001b[0m: in user code:\n\n    /usr/local/lib/python3.6/dist-packages/tensorflow/python/keras/engine/training.py:806 train_function  *\n        return step_function(self, iterator)\n    /usr/local/lib/python3.6/dist-packages/tensorflow/python/keras/engine/training.py:796 step_function  **\n        outputs = model.distribute_strategy.run(run_step, args=(data,))\n    /usr/local/lib/python3.6/dist-packages/tensorflow/python/distribute/distribute_lib.py:1211 run\n        return self._extended.call_for_each_replica(fn, args=args, kwargs=kwargs)\n    /usr/local/lib/python3.6/dist-packages/tensorflow/python/distribute/distribute_lib.py:2585 call_for_each_replica\n        return self._call_for_each_replica(fn, args, kwargs)\n    /usr/local/lib/python3.6/dist-packages/tensorflow/python/distribute/distribute_lib.py:2945 _call_for_each_replica\n        return fn(*args, **kwargs)\n    /usr/local/lib/python3.6/dist-packages/tensorflow/python/keras/engine/training.py:789 run_step  **\n        outputs = model.train_step(data)\n    /usr/local/lib/python3.6/dist-packages/tensorflow/python/keras/engine/training.py:747 train_step\n        y_pred = self(x, training=True)\n    /usr/local/lib/python3.6/dist-packages/tensorflow/python/keras/engine/base_layer.py:985 __call__\n        outputs = call_fn(inputs, *args, **kwargs)\n    /usr/local/lib/python3.6/dist-packages/tensorflow/python/keras/engine/sequential.py:372 call\n        return super(Sequential, self).call(inputs, training=training, mask=mask)\n    /usr/local/lib/python3.6/dist-packages/tensorflow/python/keras/engine/functional.py:386 call\n        inputs, training=training, mask=mask)\n    /usr/local/lib/python3.6/dist-packages/tensorflow/python/keras/engine/functional.py:508 _run_internal_graph\n        outputs = node.layer(*args, **kwargs)\n    /usr/local/lib/python3.6/dist-packages/tensorflow/python/keras/engine/base_layer.py:976 __call__\n        self.name)\n    /usr/local/lib/python3.6/dist-packages/tensorflow/python/keras/engine/input_spec.py:216 assert_input_compatibility\n        ' but received input with shape ' + str(shape))\n\n    ValueError: Input 0 of layer dense_87 is incompatible with the layer: expected axis -1 of input shape to have value 32768 but received input with shape [None, 8192]\n"
          ]
        }
      ]
    },
    {
      "cell_type": "code",
      "metadata": {
        "id": "U3VfSOlu5Fd_",
        "outputId": "c7e9742a-2213-45f0-8703-96836a75e412",
        "colab": {
          "base_uri": "https://localhost:8080/",
          "height": 50
        }
      },
      "source": [
        "#Once the model is trained we can evaluate it on Test data.\n",
        "\n",
        "# Evaluating the model \n",
        "vggscore = vggmodel.evaluate(test_x, test_y, verbose=0)\n",
        "print('Test Loss:', vggscore[0])\n",
        "print('Test accuracy:', vggscore[1])"
      ],
      "execution_count": null,
      "outputs": [
        {
          "output_type": "stream",
          "text": [
            "Test Loss: 2.089756727218628\n",
            "Test accuracy: 0.8999999761581421\n"
          ],
          "name": "stdout"
        }
      ]
    },
    {
      "cell_type": "code",
      "metadata": {
        "id": "6xb0R3Ul5OzS",
        "outputId": "da427bc1-89f1-47de-9516-0944cdb43da6",
        "colab": {
          "base_uri": "https://localhost:8080/",
          "height": 233
        }
      },
      "source": [
        "from sklearn.metrics import classification_report,confusion_matrix\n",
        "Y_pred = vggmodel.predict(test_x)\n",
        "y_pred = np.argmax(Y_pred, axis=1)\n",
        "target_names = ['class 0(car)', 'class 1(bike)','class 2(random)']\n",
        "                                               \n",
        "print(classification_report(np.argmax(test_y,axis=1), y_pred,target_names=target_names))\n",
        "\n",
        "print(confusion_matrix(np.argmax(test_y,axis=1), y_pred))"
      ],
      "execution_count": null,
      "outputs": [
        {
          "output_type": "stream",
          "text": [
            "                 precision    recall  f1-score   support\n",
            "\n",
            "   class 0(car)       0.67      1.00      0.80         2\n",
            "  class 1(bike)       1.00      1.00      1.00         2\n",
            "class 2(random)       1.00      0.83      0.91         6\n",
            "\n",
            "       accuracy                           0.90        10\n",
            "      macro avg       0.89      0.94      0.90        10\n",
            "   weighted avg       0.93      0.90      0.91        10\n",
            "\n",
            "[[2 0 0]\n",
            " [0 2 0]\n",
            " [1 0 5]]\n"
          ],
          "name": "stdout"
        }
      ]
    },
    {
      "cell_type": "code",
      "metadata": {
        "id": "DEu6Rpr-BrvZ",
        "outputId": "22222774-df71-4b81-ec8f-9dac557e417e",
        "colab": {
          "base_uri": "https://localhost:8080/",
          "height": 295
        }
      },
      "source": [
        "import matplotlib.pyplot as plt\n",
        "plt.plot(vgg.history[\"accuracy\"])\n",
        "plt.plot(vgg.history['val_accuracy'])\n",
        "plt.plot(vgg.history['loss'])\n",
        "plt.plot(vgg.history['val_loss'])\n",
        "plt.title(\"model accuracy\")\n",
        "plt.ylabel(\"Accuracy\")\n",
        "plt.xlabel(\"Epoch\")\n",
        "plt.legend([\"Accuracy\",\"Validation Accuracy\",\"loss\",\"Validation Loss\"])\n",
        "plt.show()"
      ],
      "execution_count": null,
      "outputs": [
        {
          "output_type": "display_data",
          "data": {
            "image/png": "[encoded data removed]",
            "text/plain": [
              "<Figure size 432x288 with 1 Axes>"
            ]
          },
          "metadata": {
            "tags": [],
            "needs_background": "light"
          }
        }
      ]
    },
    {
      "cell_type": "code",
      "metadata": {
        "id": "0PA5jf1eNZUu",
        "outputId": "1a30cea5-b6b1-4fee-f5bd-a2635d7437bf",
        "colab": {
          "base_uri": "https://localhost:8080/",
          "height": 132
        }
      },
      "source": [
        "#lenet\n",
        "lenet_model = keras.models.Sequential([\n",
        "    keras.layers.Conv2D(6, kernel_size=5, strides=1,  activation='relu', input_shape=train_x[0].shape, padding='same'), #C1\n",
        "    keras.layers.AveragePooling2D(), #S2\n",
        "    keras.layers.Conv2D(16, kernel_size=5, strides=1, activation='relu', padding='same'), #C3\n",
        "    keras.layers.AveragePooling2D(), #S4\n",
        "    keras.layers.Flatten(), #Flatten\n",
        "    keras.add(Dropout(0.5))\n",
        "    keras.layers.Dense(120, activation='relu'), #C5\n",
        "    keras.layers.Dense(84, activation='relu'), #F6\n",
        "    keras.add(Dropout(0.5))\n",
        "    keras.layers.Dense(3, activation='softmax') #Output layer\n",
        "])"
      ],
      "execution_count": null,
      "outputs": [
        {
          "output_type": "error",
          "ename": "SyntaxError",
          "evalue": "ignored",
          "traceback": [
            "\u001b[0;36m  File \u001b[0;32m\"<ipython-input-64-c60b01be10b4>\"\u001b[0;36m, line \u001b[0;32m9\u001b[0m\n\u001b[0;31m    keras.layers.Dense(120, activation='relu'), #C5\u001b[0m\n\u001b[0m        ^\u001b[0m\n\u001b[0;31mSyntaxError\u001b[0m\u001b[0;31m:\u001b[0m invalid syntax\n"
          ]
        }
      ]
    },
    {
      "cell_type": "code",
      "metadata": {
        "id": "nMadyQkS35ei",
        "outputId": "b8977571-f71b-41e0-8f90-db57a1d4e9fb",
        "colab": {
          "base_uri": "https://localhost:8080/",
          "height": 515
        }
      },
      "source": [
        "from keras.models import Sequential\n",
        "from keras import models, layers\n",
        "import keras\n",
        "#Instantiate an empty model\n",
        "lenet = Sequential()\n",
        "\n",
        "# C1 Convolutional Layer\n",
        "lenet.add(layers.Conv2D(6, kernel_size=(5, 5), strides=(1, 1), activation='relu', input_shape=(128,128,3), padding='same'))\n",
        "\n",
        "# S2 Pooling Layer\n",
        "lenet.add(layers.AveragePooling2D(pool_size=(2, 2), strides=(1, 1), padding='valid'))\n",
        "\n",
        "# C3 Convolutional Layer\n",
        "lenet.add(layers.Conv2D(16, kernel_size=(5, 5), strides=(1, 1), activation='relu', padding='valid'))\n",
        "\n",
        "# S4 Pooling Layer\n",
        "lenet.add(layers.AveragePooling2D(pool_size=(2, 2), strides=(2, 2), padding='valid'))\n",
        "\n",
        "# C5 Fully Connected Convolutional Layer\n",
        "lenet.add(layers.Conv2D(120, kernel_size=(5, 5), strides=(1, 1), activation='relu', padding='valid'))\n",
        "\n",
        "lenet.add(Dropout(0.5))\n",
        "#Flatten the CNN output so that we can connect it with fully connected layers\n",
        "lenet.add(layers.Flatten())\n",
        "\n",
        "# FC6 Fully Connected Layer\n",
        "lenet.add(layers.Dense(84, activation='relu'))\n",
        "lenet.add(Dropout(0.5))\n",
        "\n",
        "#Output Layer with softmax activation\n",
        "lenet.add(layers.Dense(3, activation='softmax'))\n",
        "lenet.summary()"
      ],
      "execution_count": null,
      "outputs": [
        {
          "output_type": "stream",
          "text": [
            "Model: \"sequential_17\"\n",
            "_________________________________________________________________\n",
            "Layer (type)                 Output Shape              Param #   \n",
            "=================================================================\n",
            "conv2d_49 (Conv2D)           (None, 128, 128, 6)       456       \n",
            "_________________________________________________________________\n",
            "average_pooling2d (AveragePo (None, 127, 127, 6)       0         \n",
            "_________________________________________________________________\n",
            "conv2d_50 (Conv2D)           (None, 123, 123, 16)      2416      \n",
            "_________________________________________________________________\n",
            "average_pooling2d_1 (Average (None, 61, 61, 16)        0         \n",
            "_________________________________________________________________\n",
            "conv2d_51 (Conv2D)           (None, 57, 57, 120)       48120     \n",
            "_________________________________________________________________\n",
            "dropout_34 (Dropout)         (None, 57, 57, 120)       0         \n",
            "_________________________________________________________________\n",
            "flatten_17 (Flatten)         (None, 389880)            0         \n",
            "_________________________________________________________________\n",
            "dense_58 (Dense)             (None, 84)                32750004  \n",
            "_________________________________________________________________\n",
            "dropout_35 (Dropout)         (None, 84)                0         \n",
            "_________________________________________________________________\n",
            "dense_59 (Dense)             (None, 3)                 255       \n",
            "=================================================================\n",
            "Total params: 32,801,251\n",
            "Trainable params: 32,801,251\n",
            "Non-trainable params: 0\n",
            "_________________________________________________________________\n"
          ],
          "name": "stdout"
        }
      ]
    },
    {
      "cell_type": "code",
      "metadata": {
        "id": "VBlH2QRBOelA",
        "outputId": "db62895d-0aeb-4b29-a21a-2caaf0bf6182",
        "colab": {
          "base_uri": "https://localhost:8080/",
          "height": 1000
        }
      },
      "source": [
        "from keras.callbacks import ModelCheckpoint, EarlyStopping\n",
        "checkpoint = ModelCheckpoint(\"lenet_1.h5\", monitor='val_accuracy', verbose=1, save_best_only=True, save_weights_only=False, mode='auto', period=1)\n",
        "early = EarlyStopping(monitor='val_accuracy', min_delta=0, patience=20, verbose=1, mode='auto')\n",
        "#from keras.optimizers import Adam\n",
        "#opt = Adam(lr=0.001)\n",
        "lenet.compile(loss='categorical_crossentropy', optimizer=\"adam\", metrics=['accuracy'])\n",
        "\n",
        "\n",
        "\n",
        "lenetmodel=lenet.fit(train_x,train_y,batch_size = 32,epochs=100,verbose=1,validation_data=(eval_x, eval_y),callbacks=[checkpoint,early])"
      ],
      "execution_count": null,
      "outputs": [
        {
          "output_type": "stream",
          "text": [
            "WARNING:tensorflow:`period` argument is deprecated. Please use `save_freq` to specify the frequency in number of batches seen.\n",
            "Epoch 1/100\n",
            "3/3 [==============================] - ETA: 0s - loss: 5.0518 - accuracy: 0.4125\n",
            "Epoch 00001: val_accuracy improved from -inf to 0.20000, saving model to lenet_1.h5\n",
            "3/3 [==============================] - 6s 2s/step - loss: 5.0518 - accuracy: 0.4125 - val_loss: 1.8167 - val_accuracy: 0.2000\n",
            "Epoch 2/100\n",
            "3/3 [==============================] - ETA: 0s - loss: 1.1760 - accuracy: 0.3750\n",
            "Epoch 00002: val_accuracy improved from 0.20000 to 0.70000, saving model to lenet_1.h5\n",
            "3/3 [==============================] - 5s 2s/step - loss: 1.1760 - accuracy: 0.3750 - val_loss: 0.8011 - val_accuracy: 0.7000\n",
            "Epoch 3/100\n",
            "3/3 [==============================] - ETA: 0s - loss: 1.0275 - accuracy: 0.4750\n",
            "Epoch 00003: val_accuracy improved from 0.70000 to 0.90000, saving model to lenet_1.h5\n",
            "3/3 [==============================] - 4s 1s/step - loss: 1.0275 - accuracy: 0.4750 - val_loss: 0.9386 - val_accuracy: 0.9000\n",
            "Epoch 4/100\n",
            "3/3 [==============================] - ETA: 0s - loss: 0.9150 - accuracy: 0.7625\n",
            "Epoch 00004: val_accuracy did not improve from 0.90000\n",
            "3/3 [==============================] - 3s 1s/step - loss: 0.9150 - accuracy: 0.7625 - val_loss: 0.7550 - val_accuracy: 0.7000\n",
            "Epoch 5/100\n",
            "3/3 [==============================] - ETA: 0s - loss: 0.7769 - accuracy: 0.6750\n",
            "Epoch 00005: val_accuracy did not improve from 0.90000\n",
            "3/3 [==============================] - 3s 1s/step - loss: 0.7769 - accuracy: 0.6750 - val_loss: 0.5980 - val_accuracy: 0.9000\n",
            "Epoch 6/100\n",
            "3/3 [==============================] - ETA: 0s - loss: 0.6037 - accuracy: 0.8000\n",
            "Epoch 00006: val_accuracy did not improve from 0.90000\n",
            "3/3 [==============================] - 3s 1s/step - loss: 0.6037 - accuracy: 0.8000 - val_loss: 0.5079 - val_accuracy: 0.9000\n",
            "Epoch 7/100\n",
            "3/3 [==============================] - ETA: 0s - loss: 0.3923 - accuracy: 0.8625\n",
            "Epoch 00007: val_accuracy did not improve from 0.90000\n",
            "3/3 [==============================] - 3s 1s/step - loss: 0.3923 - accuracy: 0.8625 - val_loss: 0.3829 - val_accuracy: 0.9000\n",
            "Epoch 8/100\n",
            "3/3 [==============================] - ETA: 0s - loss: 0.2856 - accuracy: 0.9125\n",
            "Epoch 00008: val_accuracy did not improve from 0.90000\n",
            "3/3 [==============================] - 3s 1s/step - loss: 0.2856 - accuracy: 0.9125 - val_loss: 0.3908 - val_accuracy: 0.8000\n",
            "Epoch 9/100\n",
            "3/3 [==============================] - ETA: 0s - loss: 0.2405 - accuracy: 0.8875\n",
            "Epoch 00009: val_accuracy did not improve from 0.90000\n",
            "3/3 [==============================] - 3s 1s/step - loss: 0.2405 - accuracy: 0.8875 - val_loss: 0.4353 - val_accuracy: 0.8000\n",
            "Epoch 10/100\n",
            "3/3 [==============================] - ETA: 0s - loss: 0.1757 - accuracy: 0.9625\n",
            "Epoch 00010: val_accuracy did not improve from 0.90000\n",
            "3/3 [==============================] - 3s 1s/step - loss: 0.1757 - accuracy: 0.9625 - val_loss: 0.3090 - val_accuracy: 0.8000\n",
            "Epoch 11/100\n",
            "3/3 [==============================] - ETA: 0s - loss: 0.2226 - accuracy: 0.9375\n",
            "Epoch 00011: val_accuracy did not improve from 0.90000\n",
            "3/3 [==============================] - 3s 1s/step - loss: 0.2226 - accuracy: 0.9375 - val_loss: 0.3722 - val_accuracy: 0.8000\n",
            "Epoch 12/100\n",
            "3/3 [==============================] - ETA: 0s - loss: 0.1661 - accuracy: 0.9625\n",
            "Epoch 00012: val_accuracy did not improve from 0.90000\n",
            "3/3 [==============================] - 3s 1s/step - loss: 0.1661 - accuracy: 0.9625 - val_loss: 0.2641 - val_accuracy: 0.8000\n",
            "Epoch 13/100\n",
            "3/3 [==============================] - ETA: 0s - loss: 0.1624 - accuracy: 0.9375\n",
            "Epoch 00013: val_accuracy improved from 0.90000 to 1.00000, saving model to lenet_1.h5\n",
            "3/3 [==============================] - 5s 2s/step - loss: 0.1624 - accuracy: 0.9375 - val_loss: 0.1225 - val_accuracy: 1.0000\n",
            "Epoch 14/100\n",
            "3/3 [==============================] - ETA: 0s - loss: 0.0510 - accuracy: 1.0000\n",
            "Epoch 00014: val_accuracy did not improve from 1.00000\n",
            "3/3 [==============================] - 3s 1s/step - loss: 0.0510 - accuracy: 1.0000 - val_loss: 0.2567 - val_accuracy: 0.9000\n",
            "Epoch 15/100\n",
            "3/3 [==============================] - ETA: 0s - loss: 0.0894 - accuracy: 0.9875\n",
            "Epoch 00015: val_accuracy did not improve from 1.00000\n",
            "3/3 [==============================] - 3s 1s/step - loss: 0.0894 - accuracy: 0.9875 - val_loss: 0.1130 - val_accuracy: 1.0000\n",
            "Epoch 16/100\n",
            "3/3 [==============================] - ETA: 0s - loss: 0.0623 - accuracy: 0.9750\n",
            "Epoch 00016: val_accuracy did not improve from 1.00000\n",
            "3/3 [==============================] - 3s 1s/step - loss: 0.0623 - accuracy: 0.9750 - val_loss: 0.1621 - val_accuracy: 0.9000\n",
            "Epoch 17/100\n",
            "3/3 [==============================] - ETA: 0s - loss: 0.0516 - accuracy: 1.0000\n",
            "Epoch 00017: val_accuracy did not improve from 1.00000\n",
            "3/3 [==============================] - 3s 1s/step - loss: 0.0516 - accuracy: 1.0000 - val_loss: 0.1279 - val_accuracy: 1.0000\n",
            "Epoch 18/100\n",
            "3/3 [==============================] - ETA: 0s - loss: 0.0243 - accuracy: 1.0000\n",
            "Epoch 00018: val_accuracy did not improve from 1.00000\n",
            "3/3 [==============================] - 3s 1s/step - loss: 0.0243 - accuracy: 1.0000 - val_loss: 0.0781 - val_accuracy: 1.0000\n",
            "Epoch 19/100\n",
            "3/3 [==============================] - ETA: 0s - loss: 0.0137 - accuracy: 1.0000\n",
            "Epoch 00019: val_accuracy did not improve from 1.00000\n",
            "3/3 [==============================] - 3s 1s/step - loss: 0.0137 - accuracy: 1.0000 - val_loss: 0.0533 - val_accuracy: 1.0000\n",
            "Epoch 20/100\n",
            "3/3 [==============================] - ETA: 0s - loss: 0.0144 - accuracy: 1.0000\n",
            "Epoch 00020: val_accuracy did not improve from 1.00000\n",
            "3/3 [==============================] - 3s 1s/step - loss: 0.0144 - accuracy: 1.0000 - val_loss: 0.0284 - val_accuracy: 1.0000\n",
            "Epoch 21/100\n",
            "3/3 [==============================] - ETA: 0s - loss: 0.0145 - accuracy: 1.0000\n",
            "Epoch 00021: val_accuracy did not improve from 1.00000\n",
            "3/3 [==============================] - 3s 1s/step - loss: 0.0145 - accuracy: 1.0000 - val_loss: 0.0376 - val_accuracy: 1.0000\n",
            "Epoch 22/100\n",
            "3/3 [==============================] - ETA: 0s - loss: 0.0235 - accuracy: 0.9875\n",
            "Epoch 00022: val_accuracy did not improve from 1.00000\n",
            "3/3 [==============================] - 3s 1s/step - loss: 0.0235 - accuracy: 0.9875 - val_loss: 0.0566 - val_accuracy: 1.0000\n",
            "Epoch 23/100\n",
            "3/3 [==============================] - ETA: 0s - loss: 0.0027 - accuracy: 1.0000\n",
            "Epoch 00023: val_accuracy did not improve from 1.00000\n",
            "3/3 [==============================] - 3s 1s/step - loss: 0.0027 - accuracy: 1.0000 - val_loss: 0.0782 - val_accuracy: 0.9000\n",
            "Epoch 24/100\n",
            "3/3 [==============================] - ETA: 0s - loss: 0.0080 - accuracy: 1.0000\n",
            "Epoch 00024: val_accuracy did not improve from 1.00000\n",
            "3/3 [==============================] - 3s 1s/step - loss: 0.0080 - accuracy: 1.0000 - val_loss: 0.0791 - val_accuracy: 0.9000\n",
            "Epoch 25/100\n",
            "3/3 [==============================] - ETA: 0s - loss: 0.0385 - accuracy: 0.9875\n",
            "Epoch 00025: val_accuracy did not improve from 1.00000\n",
            "3/3 [==============================] - 3s 1s/step - loss: 0.0385 - accuracy: 0.9875 - val_loss: 0.0373 - val_accuracy: 1.0000\n",
            "Epoch 26/100\n",
            "3/3 [==============================] - ETA: 0s - loss: 0.0072 - accuracy: 1.0000\n",
            "Epoch 00026: val_accuracy did not improve from 1.00000\n",
            "3/3 [==============================] - 3s 1s/step - loss: 0.0072 - accuracy: 1.0000 - val_loss: 0.0324 - val_accuracy: 1.0000\n",
            "Epoch 27/100\n",
            "3/3 [==============================] - ETA: 0s - loss: 0.0298 - accuracy: 0.9875\n",
            "Epoch 00027: val_accuracy did not improve from 1.00000\n",
            "3/3 [==============================] - 3s 1s/step - loss: 0.0298 - accuracy: 0.9875 - val_loss: 0.2587 - val_accuracy: 0.9000\n",
            "Epoch 28/100\n",
            "3/3 [==============================] - ETA: 0s - loss: 0.0228 - accuracy: 0.9875\n",
            "Epoch 00028: val_accuracy did not improve from 1.00000\n",
            "3/3 [==============================] - 3s 1s/step - loss: 0.0228 - accuracy: 0.9875 - val_loss: 0.2930 - val_accuracy: 0.9000\n",
            "Epoch 29/100\n",
            "3/3 [==============================] - ETA: 0s - loss: 0.0088 - accuracy: 1.0000\n",
            "Epoch 00029: val_accuracy did not improve from 1.00000\n",
            "3/3 [==============================] - 3s 1s/step - loss: 0.0088 - accuracy: 1.0000 - val_loss: 0.1055 - val_accuracy: 0.9000\n",
            "Epoch 30/100\n",
            "3/3 [==============================] - ETA: 0s - loss: 0.0178 - accuracy: 1.0000\n",
            "Epoch 00030: val_accuracy did not improve from 1.00000\n",
            "3/3 [==============================] - 3s 1s/step - loss: 0.0178 - accuracy: 1.0000 - val_loss: 0.0397 - val_accuracy: 1.0000\n",
            "Epoch 31/100\n",
            "3/3 [==============================] - ETA: 0s - loss: 0.0094 - accuracy: 1.0000\n",
            "Epoch 00031: val_accuracy did not improve from 1.00000\n",
            "3/3 [==============================] - 3s 1s/step - loss: 0.0094 - accuracy: 1.0000 - val_loss: 0.0428 - val_accuracy: 1.0000\n",
            "Epoch 32/100\n",
            "3/3 [==============================] - ETA: 0s - loss: 0.0070 - accuracy: 1.0000\n",
            "Epoch 00032: val_accuracy did not improve from 1.00000\n",
            "3/3 [==============================] - 3s 1s/step - loss: 0.0070 - accuracy: 1.0000 - val_loss: 0.0439 - val_accuracy: 1.0000\n",
            "Epoch 33/100\n",
            "3/3 [==============================] - ETA: 0s - loss: 0.0085 - accuracy: 1.0000\n",
            "Epoch 00033: val_accuracy did not improve from 1.00000\n",
            "3/3 [==============================] - 3s 1s/step - loss: 0.0085 - accuracy: 1.0000 - val_loss: 0.0385 - val_accuracy: 1.0000\n",
            "Epoch 00033: early stopping\n"
          ],
          "name": "stdout"
        }
      ]
    },
    {
      "cell_type": "code",
      "metadata": {
        "id": "yd4Rz9K4O4_i",
        "outputId": "e5004503-df2f-4095-ae35-e852443882fd",
        "colab": {
          "base_uri": "https://localhost:8080/",
          "height": 52
        }
      },
      "source": [
        "#Once the model is trained we can evaluate it on Test data.\n",
        "\n",
        "# Evaluating the model \n",
        "lenetscore = lenet.evaluate(test_x, test_y, verbose=0)\n",
        "print('Test Loss:', lenetscore[0])\n",
        "print('Test accuracy:', lenetscore[1])"
      ],
      "execution_count": null,
      "outputs": [
        {
          "output_type": "stream",
          "text": [
            "Test Loss: 0.07908450067043304\n",
            "Test accuracy: 0.8999999761581421\n"
          ],
          "name": "stdout"
        }
      ]
    },
    {
      "cell_type": "code",
      "metadata": {
        "id": "b4ymiRWGO-kY",
        "outputId": "6d0b5600-5b57-43e4-dd52-68161925532e",
        "colab": {
          "base_uri": "https://localhost:8080/",
          "height": 248
        }
      },
      "source": [
        "from sklearn.metrics import classification_report,confusion_matrix\n",
        "lenet_pred = lenet.predict(test_x)\n",
        "y_pred = np.argmax(lenet_pred, axis=1)\n",
        "target_names = ['class 0(car)', 'class 1(bike)','class 2(random)']\n",
        "                                               \n",
        "print(classification_report(np.argmax(test_y,axis=1), y_pred,target_names=target_names))\n",
        "\n",
        "print(confusion_matrix(np.argmax(test_y,axis=1), y_pred))"
      ],
      "execution_count": null,
      "outputs": [
        {
          "output_type": "stream",
          "text": [
            "                 precision    recall  f1-score   support\n",
            "\n",
            "   class 0(car)       0.75      1.00      0.86         3\n",
            "  class 1(bike)       1.00      0.50      0.67         2\n",
            "class 2(random)       1.00      1.00      1.00         5\n",
            "\n",
            "       accuracy                           0.90        10\n",
            "      macro avg       0.92      0.83      0.84        10\n",
            "   weighted avg       0.93      0.90      0.89        10\n",
            "\n",
            "[[3 0 0]\n",
            " [1 1 0]\n",
            " [0 0 5]]\n"
          ],
          "name": "stdout"
        }
      ]
    },
    {
      "cell_type": "code",
      "metadata": {
        "id": "TqsC1L2uNES5",
        "outputId": "98b0d02a-e531-45ba-8983-09572bbc1508",
        "colab": {
          "base_uri": "https://localhost:8080/",
          "height": 212
        }
      },
      "source": [
        "!pip install scikit-plot\n",
        "from scikitplot.metrics import plot_roc_curve"
      ],
      "execution_count": null,
      "outputs": [
        {
          "output_type": "stream",
          "text": [
            "Requirement already satisfied: scikit-plot in /usr/local/lib/python3.6/dist-packages (0.3.7)\n",
            "Requirement already satisfied: matplotlib>=1.4.0 in /usr/local/lib/python3.6/dist-packages (from scikit-plot) (3.2.2)\n",
            "Requirement already satisfied: scikit-learn>=0.18 in /usr/local/lib/python3.6/dist-packages (from scikit-plot) (0.22.2.post1)\n",
            "Requirement already satisfied: scipy>=0.9 in /usr/local/lib/python3.6/dist-packages (from scikit-plot) (1.4.1)\n",
            "Requirement already satisfied: joblib>=0.10 in /usr/local/lib/python3.6/dist-packages (from scikit-plot) (0.16.0)\n",
            "Requirement already satisfied: numpy>=1.11 in /usr/local/lib/python3.6/dist-packages (from matplotlib>=1.4.0->scikit-plot) (1.18.5)\n",
            "Requirement already satisfied: kiwisolver>=1.0.1 in /usr/local/lib/python3.6/dist-packages (from matplotlib>=1.4.0->scikit-plot) (1.2.0)\n",
            "Requirement already satisfied: python-dateutil>=2.1 in /usr/local/lib/python3.6/dist-packages (from matplotlib>=1.4.0->scikit-plot) (2.8.1)\n",
            "Requirement already satisfied: pyparsing!=2.0.4,!=2.1.2,!=2.1.6,>=2.0.1 in /usr/local/lib/python3.6/dist-packages (from matplotlib>=1.4.0->scikit-plot) (2.4.7)\n",
            "Requirement already satisfied: cycler>=0.10 in /usr/local/lib/python3.6/dist-packages (from matplotlib>=1.4.0->scikit-plot) (0.10.0)\n",
            "Requirement already satisfied: six>=1.5 in /usr/local/lib/python3.6/dist-packages (from python-dateutil>=2.1->matplotlib>=1.4.0->scikit-plot) (1.15.0)\n"
          ],
          "name": "stdout"
        }
      ]
    },
    {
      "cell_type": "code",
      "metadata": {
        "id": "CiWvGyjTQKSz",
        "outputId": "481df0d3-b970-4045-8055-654855d12ac0",
        "colab": {
          "base_uri": "https://localhost:8080/",
          "height": 279
        }
      },
      "source": [
        "import matplotlib.pyplot as plt\n",
        "#plt.plot(lenetmodel.history[\"accuracy\"])\n",
        "#plt.plot(lenetmodel.history['val_accuracy'])\n",
        "plt.plot(lenetmodel.history['loss'])\n",
        "plt.plot(lenetmodel.history['val_loss'])\n",
        "#plt.title(\"model accuracy\")\n",
        "plt.ylabel(\"Training vs Validation Loss\")\n",
        "plt.xlabel(\"Epoch\")\n",
        "plt.legend([\" Training loss\",\"Validation Loss\"])\n",
        "plt.show()"
      ],
      "execution_count": null,
      "outputs": [
        {
          "output_type": "display_data",
          "data": {
            "image/png": "[encoded data removed]",
            "text/plain": [
              "<Figure size 432x288 with 1 Axes>"
            ]
          },
          "metadata": {
            "tags": [],
            "needs_background": "light"
          }
        }
      ]
    }
  ]
}