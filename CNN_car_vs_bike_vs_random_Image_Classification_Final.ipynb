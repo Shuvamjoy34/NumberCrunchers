{
  "nbformat": 4,
  "nbformat_minor": 0,
  "metadata": {
    "colab": {
      "name": "CNN car vs bike vs random Image Classification_Final.ipynb",
      "provenance": [],
      "collapsed_sections": [],
      "include_colab_link": true
    },
    "kernelspec": {
      "name": "python3",
      "display_name": "Python 3"
    },
    "accelerator": "GPU"
  },
  "cells": [
    {
      "cell_type": "markdown",
      "metadata": {
        "id": "view-in-github",
        "colab_type": "text"
      },
      "source": [
        "<a href=\"https://colab.research.google.com/github/Shuvamjoy34/NumberCrunchers/blob/master/CNN_car_vs_bike_vs_random_Image_Classification_Final.ipynb\" target=\"_parent\"><img src=\"https://colab.research.google.com/assets/colab-badge.svg\" alt=\"Open In Colab\"/></a>"
      ]
    },
    {
      "cell_type": "code",
      "metadata": {
        "id": "1IwzPSB_5BdE"
      },
      "source": [
        "from PIL import Image\n",
        "import numpy as np\n",
        "import os\n",
        "import cv2\n",
        "import keras\n",
        "from keras.utils import np_utils\n",
        "from keras.models import Sequential\n",
        "from keras.layers import Conv2D,MaxPooling2D,Dense,Flatten,Dropout\n",
        "import numpy as np # linear algebra\n",
        "import pandas as pd # data processing, CSV file I/O (e.g. pd.read_csv)\n",
        "import os\n",
        "import matplotlib.pyplot as plt\n",
        "%matplotlib inline\n",
        "from keras.preprocessing.image import ImageDataGenerator\n",
        "from sklearn.model_selection import train_test_split\n",
        "import seaborn as sns\n",
        "from keras.utils.data_utils import Sequence\n",
        "from imblearn.over_sampling import RandomOverSampler\n",
        "from imblearn.keras import balanced_batch_generator"
      ],
      "execution_count": 150,
      "outputs": []
    },
    {
      "cell_type": "code",
      "metadata": {
        "id": "Ws4O_ErfJ2Dh",
        "outputId": "42906500-a4af-46bb-d399-648a08c3235f",
        "colab": {
          "base_uri": "https://localhost:8080/",
          "height": 33
        }
      },
      "source": [
        "from google.colab import drive\n",
        "drive.mount('/content/drive')"
      ],
      "execution_count": 151,
      "outputs": [
        {
          "output_type": "stream",
          "text": [
            "Drive already mounted at /content/drive; to attempt to forcibly remount, call drive.mount(\"/content/drive\", force_remount=True).\n"
          ],
          "name": "stdout"
        }
      ]
    },
    {
      "cell_type": "code",
      "metadata": {
        "id": "xvMbsJ3t5Pec"
      },
      "source": [
        "data=[]\n",
        "labels=[]\n",
        "car=os.listdir(\"/content/drive/My Drive/Images/car/\")\n",
        "for a in car:\n",
        "    try:\n",
        "        image=cv2.imread(\"/content/drive/My Drive/Images/car/\"+a)\n",
        "        image_from_array = Image.fromarray(image, 'RGB')\n",
        "        size_image = image_from_array.resize((128, 128))\n",
        "        data.append(np.array(size_image))\n",
        "        labels.append(0)\n",
        "    except AttributeError:\n",
        "        print(\"\")\n",
        "\n",
        "bike=os.listdir(\"/content/drive/My Drive/Images/bike/\")\n",
        "for b in bike:\n",
        "    try:\n",
        "        image=cv2.imread(\"/content/drive/My Drive/Images/bike/\"+b)\n",
        "        image_from_array = Image.fromarray(image, 'RGB')\n",
        "        size_image = image_from_array.resize((128,128))\n",
        "        data.append(np.array(size_image))\n",
        "        labels.append(1)\n",
        "    except AttributeError:\n",
        "        print(\"\")\n",
        "random=os.listdir(\"/content/drive/My Drive/Images/random/\")\n",
        "for c in random:\n",
        "    try:\n",
        "        image=cv2.imread(\"/content/drive/My Drive/Images/random/\"+c)\n",
        "        image_from_array = Image.fromarray(image, 'RGB')\n",
        "        size_image = image_from_array.resize((128, 128))\n",
        "        data.append(np.array(size_image))\n",
        "        labels.append(2)\n",
        "    except AttributeError:\n",
        "        print(\"\")"
      ],
      "execution_count": 169,
      "outputs": []
    },
    {
      "cell_type": "code",
      "metadata": {
        "id": "e5VbX_iG5tDU"
      },
      "source": [
        "images=np.array(data)\n",
        "labels=np.array(labels)"
      ],
      "execution_count": 170,
      "outputs": []
    },
    {
      "cell_type": "code",
      "metadata": {
        "id": "BpIgw9cX7Brg"
      },
      "source": [
        "s=np.arange(images.shape[0])\n",
        "np.random.shuffle(s)\n",
        "images=images[s]\n",
        "labels=labels[s]\n",
        "num_classes=len(np.unique(labels))\n",
        "len_data=len(images)"
      ],
      "execution_count": 171,
      "outputs": []
    },
    {
      "cell_type": "code",
      "metadata": {
        "id": "8KuERdWF7C2h",
        "outputId": "b73ea591-bbc6-4759-938c-f41d876e0570",
        "colab": {
          "base_uri": "https://localhost:8080/",
          "height": 336
        }
      },
      "source": [
        "images =images.astype(np.float32)\n",
        "images = images/255\n",
        "\n",
        "train_x , x , train_y , y = train_test_split(images , labels , \n",
        "                                            test_size = 0.2 ,\n",
        "                                            random_state = 111)\n",
        "\n",
        "eval_x , test_x , eval_y , test_y = train_test_split(x , y , \n",
        "                                                    test_size = 0.5 , \n",
        "                                                    random_state = 111)\n",
        "\n",
        "plt.figure(1 , figsize = (15 ,5))\n",
        "n = 0 \n",
        "for z , j in zip([train_y , eval_y , test_y] , ['train labels','eval labels','test labels']):\n",
        "    n += 1\n",
        "    plt.subplot(1 , 3  , n)\n",
        "    sns.countplot(x = z )\n",
        "    plt.title(j)\n",
        "plt.show()"
      ],
      "execution_count": 172,
      "outputs": [
        {
          "output_type": "display_data",
          "data": {
            "image/png": "[encoded data removed]",
            "text/plain": [
              "<Figure size 1080x360 with 3 Axes>"
            ]
          },
          "metadata": {
            "tags": [],
            "needs_background": "light"
          }
        }
      ]
    },
    {
      "cell_type": "code",
      "metadata": {
        "id": "OqGsbD8a_DsY"
      },
      "source": [
        "from sklearn.preprocessing import LabelBinarizer\n",
        "lb = LabelBinarizer()\n",
        "train_y = lb.fit_transform(train_y)\n",
        "test_y = lb.transform(test_y)\n",
        "eval_y = lb.transform(eval_y)\n"
      ],
      "execution_count": 173,
      "outputs": []
    },
    {
      "cell_type": "code",
      "metadata": {
        "id": "_QuZ9pYQLquy"
      },
      "source": [
        "from tensorflow.python.keras import regularizers\n",
        "from keras.layers.normalization import BatchNormalization\n"
      ],
      "execution_count": 174,
      "outputs": []
    },
    {
      "cell_type": "code",
      "metadata": {
        "id": "RTaPHgBu_ULu",
        "outputId": "6e1fcd16-fb9a-47d6-d112-b828c9ddb059",
        "colab": {
          "base_uri": "https://localhost:8080/",
          "height": 517
        }
      },
      "source": [
        "#BasicConvNet\n",
        "classifier = Sequential()\n",
        "\n",
        "classifier.add(Conv2D(filters=32,kernel_size=(3,3),padding='valid',activation='relu',input_shape=(128,128,3)))\n",
        "#keras.layers.BatchNormalization()\n",
        "classifier.add(MaxPooling2D(pool_size=(2,2)))\n",
        "\n",
        "classifier.add(Conv2D(filters=32,kernel_size=(3,3),padding='valid',activation='relu',kernel_regularizer=regularizers.l2(0.05)))\n",
        "#keras.layers.BatchNormalization()\n",
        "classifier.add(MaxPooling2D(pool_size=(2,2)))\n",
        "\n",
        "classifier.add(Conv2D(filters=64,kernel_size=(3,3),padding='valid',activation='relu',kernel_regularizer=regularizers.l2(0.05)))\n",
        "#keras.layers.BatchNormalization()\n",
        "classifier.add(MaxPooling2D(pool_size=(2,2)))\n",
        "\n",
        "classifier.add(Dropout(0.3))\n",
        "\n",
        "\n",
        "classifier.add(Flatten())\n",
        "\n",
        "classifier.add(Dense(500,activation=\"relu\"))\n",
        "\n",
        "classifier.add(Dropout(0.3))\n",
        "\n",
        "\n",
        "\n",
        "classifier.add(Dense(3,activation=\"softmax\"))#2 represent output layer neurons \n",
        "\n",
        "classifier.summary()"
      ],
      "execution_count": 175,
      "outputs": [
        {
          "output_type": "stream",
          "text": [
            "Model: \"sequential_17\"\n",
            "_________________________________________________________________\n",
            "Layer (type)                 Output Shape              Param #   \n",
            "=================================================================\n",
            "conv2d_75 (Conv2D)           (None, 126, 126, 32)      896       \n",
            "_________________________________________________________________\n",
            "max_pooling2d_51 (MaxPooling (None, 63, 63, 32)        0         \n",
            "_________________________________________________________________\n",
            "conv2d_76 (Conv2D)           (None, 61, 61, 32)        9248      \n",
            "_________________________________________________________________\n",
            "max_pooling2d_52 (MaxPooling (None, 30, 30, 32)        0         \n",
            "_________________________________________________________________\n",
            "conv2d_77 (Conv2D)           (None, 28, 28, 64)        18496     \n",
            "_________________________________________________________________\n",
            "max_pooling2d_53 (MaxPooling (None, 14, 14, 64)        0         \n",
            "_________________________________________________________________\n",
            "dropout_30 (Dropout)         (None, 14, 14, 64)        0         \n",
            "_________________________________________________________________\n",
            "flatten_16 (Flatten)         (None, 12544)             0         \n",
            "_________________________________________________________________\n",
            "dense_37 (Dense)             (None, 500)               6272500   \n",
            "_________________________________________________________________\n",
            "dropout_31 (Dropout)         (None, 500)               0         \n",
            "_________________________________________________________________\n",
            "dense_38 (Dense)             (None, 3)                 1503      \n",
            "=================================================================\n",
            "Total params: 6,302,643\n",
            "Trainable params: 6,302,643\n",
            "Non-trainable params: 0\n",
            "_________________________________________________________________\n"
          ],
          "name": "stdout"
        }
      ]
    },
    {
      "cell_type": "code",
      "metadata": {
        "id": "8SCq_1GKM5Lb",
        "outputId": "60de8e24-d50d-4037-bca7-13f57fec055a",
        "colab": {
          "base_uri": "https://localhost:8080/",
          "height": 117
        }
      },
      "source": [
        "! pip install keras"
      ],
      "execution_count": null,
      "outputs": [
        {
          "output_type": "stream",
          "text": [
            "Requirement already satisfied: keras in /usr/local/lib/python3.6/dist-packages (2.4.3)\n",
            "Requirement already satisfied: scipy>=0.14 in /usr/local/lib/python3.6/dist-packages (from keras) (1.4.1)\n",
            "Requirement already satisfied: h5py in /usr/local/lib/python3.6/dist-packages (from keras) (2.10.0)\n",
            "Requirement already satisfied: pyyaml in /usr/local/lib/python3.6/dist-packages (from keras) (3.13)\n",
            "Requirement already satisfied: numpy>=1.9.1 in /usr/local/lib/python3.6/dist-packages (from keras) (1.18.5)\n",
            "Requirement already satisfied: six in /usr/local/lib/python3.6/dist-packages (from h5py->keras) (1.15.0)\n"
          ],
          "name": "stdout"
        }
      ]
    },
    {
      "cell_type": "code",
      "metadata": {
        "id": "p_c3aQTCBO0W",
        "outputId": "92352bbd-9eb5-4178-e334-eb8b0a7b9170",
        "colab": {
          "base_uri": "https://localhost:8080/",
          "height": 1000
        }
      },
      "source": [
        "#from keras.callbacks import ModelCheckpoint, EarlyStopping\n",
        "#checkpoint = ModelCheckpoint(\"convnet_1.h5\", monitor='val_accuracy', verbose=1, save_best_only=True, save_weights_only=False, mode='auto', period=1)\n",
        "#early = EarlyStopping(monitor='val_accuracy', min_delta=0, patience=20, verbose=1, mode='auto')\n",
        "#from keras.optimizers import Adam\n",
        "#opt = Adam(lr=0.001)\n",
        "\n",
        "classifier.compile(loss='categorical_crossentropy', optimizer=\"adam\", metrics=['accuracy'])\n",
        "shuvam= classifier.fit(train_x,train_y,batch_size = 32,epochs=200,verbose=1,validation_data=(eval_x, eval_y))\n",
        "shuvam"
      ],
      "execution_count": 176,
      "outputs": [
        {
          "output_type": "stream",
          "text": [
            "Epoch 1/200\n",
            "3/3 [==============================] - 0s 97ms/step - loss: 5.7863 - accuracy: 0.3750 - val_loss: 4.5518 - val_accuracy: 0.5000\n",
            "Epoch 2/200\n",
            "3/3 [==============================] - 0s 16ms/step - loss: 4.4410 - accuracy: 0.4000 - val_loss: 4.1555 - val_accuracy: 0.5000\n",
            "Epoch 3/200\n",
            "3/3 [==============================] - 0s 16ms/step - loss: 4.0296 - accuracy: 0.6000 - val_loss: 3.6225 - val_accuracy: 0.9000\n",
            "Epoch 4/200\n",
            "3/3 [==============================] - 0s 17ms/step - loss: 3.6635 - accuracy: 0.7375 - val_loss: 3.2708 - val_accuracy: 0.9000\n",
            "Epoch 5/200\n",
            "3/3 [==============================] - 0s 16ms/step - loss: 3.2460 - accuracy: 0.8750 - val_loss: 2.8987 - val_accuracy: 0.9000\n",
            "Epoch 6/200\n",
            "3/3 [==============================] - 0s 15ms/step - loss: 2.9253 - accuracy: 0.8875 - val_loss: 2.6248 - val_accuracy: 1.0000\n",
            "Epoch 7/200\n",
            "3/3 [==============================] - 0s 16ms/step - loss: 2.6454 - accuracy: 0.9625 - val_loss: 2.3841 - val_accuracy: 1.0000\n",
            "Epoch 8/200\n",
            "3/3 [==============================] - 0s 16ms/step - loss: 2.4229 - accuracy: 0.9625 - val_loss: 2.2638 - val_accuracy: 1.0000\n",
            "Epoch 9/200\n",
            "3/3 [==============================] - 0s 16ms/step - loss: 2.2831 - accuracy: 0.9375 - val_loss: 2.1067 - val_accuracy: 1.0000\n",
            "Epoch 10/200\n",
            "3/3 [==============================] - 0s 17ms/step - loss: 2.1129 - accuracy: 0.9500 - val_loss: 1.9902 - val_accuracy: 1.0000\n",
            "Epoch 11/200\n",
            "3/3 [==============================] - 0s 16ms/step - loss: 1.9900 - accuracy: 0.9750 - val_loss: 1.8306 - val_accuracy: 1.0000\n",
            "Epoch 12/200\n",
            "3/3 [==============================] - 0s 16ms/step - loss: 1.8454 - accuracy: 0.9875 - val_loss: 1.7252 - val_accuracy: 1.0000\n",
            "Epoch 13/200\n",
            "3/3 [==============================] - 0s 16ms/step - loss: 1.7192 - accuracy: 1.0000 - val_loss: 1.6260 - val_accuracy: 1.0000\n",
            "Epoch 14/200\n",
            "3/3 [==============================] - 0s 17ms/step - loss: 1.6200 - accuracy: 1.0000 - val_loss: 1.5355 - val_accuracy: 1.0000\n",
            "Epoch 15/200\n",
            "3/3 [==============================] - 0s 16ms/step - loss: 1.5349 - accuracy: 1.0000 - val_loss: 1.4502 - val_accuracy: 1.0000\n",
            "Epoch 16/200\n",
            "3/3 [==============================] - 0s 16ms/step - loss: 1.4333 - accuracy: 1.0000 - val_loss: 1.3950 - val_accuracy: 1.0000\n",
            "Epoch 17/200\n",
            "3/3 [==============================] - 0s 17ms/step - loss: 1.3703 - accuracy: 1.0000 - val_loss: 1.3092 - val_accuracy: 1.0000\n",
            "Epoch 18/200\n",
            "3/3 [==============================] - 0s 15ms/step - loss: 1.3008 - accuracy: 1.0000 - val_loss: 1.2342 - val_accuracy: 1.0000\n",
            "Epoch 19/200\n",
            "3/3 [==============================] - 0s 16ms/step - loss: 1.2307 - accuracy: 1.0000 - val_loss: 1.1768 - val_accuracy: 1.0000\n",
            "Epoch 20/200\n",
            "3/3 [==============================] - 0s 16ms/step - loss: 1.1701 - accuracy: 1.0000 - val_loss: 1.1237 - val_accuracy: 1.0000\n",
            "Epoch 21/200\n",
            "3/3 [==============================] - 0s 15ms/step - loss: 1.1115 - accuracy: 1.0000 - val_loss: 1.0691 - val_accuracy: 1.0000\n",
            "Epoch 22/200\n",
            "3/3 [==============================] - 0s 15ms/step - loss: 1.0514 - accuracy: 1.0000 - val_loss: 1.0164 - val_accuracy: 1.0000\n",
            "Epoch 23/200\n",
            "3/3 [==============================] - 0s 15ms/step - loss: 1.0179 - accuracy: 1.0000 - val_loss: 0.9669 - val_accuracy: 1.0000\n",
            "Epoch 24/200\n",
            "3/3 [==============================] - 0s 16ms/step - loss: 0.9842 - accuracy: 0.9875 - val_loss: 0.9389 - val_accuracy: 1.0000\n",
            "Epoch 25/200\n",
            "3/3 [==============================] - 0s 15ms/step - loss: 0.9243 - accuracy: 1.0000 - val_loss: 0.8953 - val_accuracy: 1.0000\n",
            "Epoch 26/200\n",
            "3/3 [==============================] - 0s 15ms/step - loss: 0.8874 - accuracy: 1.0000 - val_loss: 0.8566 - val_accuracy: 1.0000\n",
            "Epoch 27/200\n",
            "3/3 [==============================] - 0s 15ms/step - loss: 0.8457 - accuracy: 1.0000 - val_loss: 0.8245 - val_accuracy: 1.0000\n",
            "Epoch 28/200\n",
            "3/3 [==============================] - 0s 16ms/step - loss: 0.8176 - accuracy: 1.0000 - val_loss: 0.7884 - val_accuracy: 1.0000\n",
            "Epoch 29/200\n",
            "3/3 [==============================] - 0s 15ms/step - loss: 0.7869 - accuracy: 1.0000 - val_loss: 0.7570 - val_accuracy: 1.0000\n",
            "Epoch 30/200\n",
            "3/3 [==============================] - 0s 15ms/step - loss: 0.7490 - accuracy: 1.0000 - val_loss: 0.7318 - val_accuracy: 1.0000\n",
            "Epoch 31/200\n",
            "3/3 [==============================] - 0s 17ms/step - loss: 0.7227 - accuracy: 1.0000 - val_loss: 0.6996 - val_accuracy: 1.0000\n",
            "Epoch 32/200\n",
            "3/3 [==============================] - 0s 18ms/step - loss: 0.6932 - accuracy: 1.0000 - val_loss: 0.6761 - val_accuracy: 1.0000\n",
            "Epoch 33/200\n",
            "3/3 [==============================] - 0s 15ms/step - loss: 0.6714 - accuracy: 1.0000 - val_loss: 0.6522 - val_accuracy: 1.0000\n",
            "Epoch 34/200\n",
            "3/3 [==============================] - 0s 15ms/step - loss: 0.6450 - accuracy: 1.0000 - val_loss: 0.6311 - val_accuracy: 1.0000\n",
            "Epoch 35/200\n",
            "3/3 [==============================] - 0s 15ms/step - loss: 0.6233 - accuracy: 1.0000 - val_loss: 0.6042 - val_accuracy: 1.0000\n",
            "Epoch 36/200\n",
            "3/3 [==============================] - 0s 15ms/step - loss: 0.5976 - accuracy: 1.0000 - val_loss: 0.5834 - val_accuracy: 1.0000\n",
            "Epoch 37/200\n",
            "3/3 [==============================] - 0s 16ms/step - loss: 0.5774 - accuracy: 1.0000 - val_loss: 0.5633 - val_accuracy: 1.0000\n",
            "Epoch 38/200\n",
            "3/3 [==============================] - 0s 16ms/step - loss: 0.5565 - accuracy: 1.0000 - val_loss: 0.5439 - val_accuracy: 1.0000\n",
            "Epoch 39/200\n",
            "3/3 [==============================] - 0s 18ms/step - loss: 0.5377 - accuracy: 1.0000 - val_loss: 0.5268 - val_accuracy: 1.0000\n",
            "Epoch 40/200\n",
            "3/3 [==============================] - 0s 15ms/step - loss: 0.5186 - accuracy: 1.0000 - val_loss: 0.5081 - val_accuracy: 1.0000\n",
            "Epoch 41/200\n",
            "3/3 [==============================] - 0s 16ms/step - loss: 0.5019 - accuracy: 1.0000 - val_loss: 0.4913 - val_accuracy: 1.0000\n",
            "Epoch 42/200\n",
            "3/3 [==============================] - 0s 14ms/step - loss: 0.4888 - accuracy: 1.0000 - val_loss: 0.4746 - val_accuracy: 1.0000\n",
            "Epoch 43/200\n",
            "3/3 [==============================] - 0s 16ms/step - loss: 0.4705 - accuracy: 1.0000 - val_loss: 0.4629 - val_accuracy: 1.0000\n",
            "Epoch 44/200\n",
            "3/3 [==============================] - 0s 15ms/step - loss: 0.4552 - accuracy: 1.0000 - val_loss: 0.4452 - val_accuracy: 1.0000\n",
            "Epoch 45/200\n",
            "3/3 [==============================] - 0s 16ms/step - loss: 0.4427 - accuracy: 1.0000 - val_loss: 0.4320 - val_accuracy: 1.0000\n",
            "Epoch 46/200\n",
            "3/3 [==============================] - 0s 16ms/step - loss: 0.4257 - accuracy: 1.0000 - val_loss: 0.4245 - val_accuracy: 1.0000\n",
            "Epoch 47/200\n",
            "3/3 [==============================] - 0s 15ms/step - loss: 0.4177 - accuracy: 1.0000 - val_loss: 0.4104 - val_accuracy: 1.0000\n",
            "Epoch 48/200\n",
            "3/3 [==============================] - 0s 16ms/step - loss: 0.4070 - accuracy: 1.0000 - val_loss: 0.3933 - val_accuracy: 1.0000\n",
            "Epoch 49/200\n",
            "3/3 [==============================] - 0s 15ms/step - loss: 0.3956 - accuracy: 1.0000 - val_loss: 0.3970 - val_accuracy: 1.0000\n",
            "Epoch 50/200\n",
            "3/3 [==============================] - 0s 17ms/step - loss: 0.3842 - accuracy: 1.0000 - val_loss: 0.3781 - val_accuracy: 1.0000\n",
            "Epoch 51/200\n",
            "3/3 [==============================] - 0s 17ms/step - loss: 0.3817 - accuracy: 1.0000 - val_loss: 0.3619 - val_accuracy: 1.0000\n",
            "Epoch 52/200\n",
            "3/3 [==============================] - 0s 14ms/step - loss: 0.3639 - accuracy: 1.0000 - val_loss: 0.3569 - val_accuracy: 1.0000\n",
            "Epoch 53/200\n",
            "3/3 [==============================] - 0s 16ms/step - loss: 0.3510 - accuracy: 1.0000 - val_loss: 0.3472 - val_accuracy: 1.0000\n",
            "Epoch 54/200\n",
            "3/3 [==============================] - 0s 15ms/step - loss: 0.3409 - accuracy: 1.0000 - val_loss: 0.3373 - val_accuracy: 1.0000\n",
            "Epoch 55/200\n",
            "3/3 [==============================] - 0s 16ms/step - loss: 0.3279 - accuracy: 1.0000 - val_loss: 0.3237 - val_accuracy: 1.0000\n",
            "Epoch 56/200\n",
            "3/3 [==============================] - 0s 14ms/step - loss: 0.3200 - accuracy: 1.0000 - val_loss: 0.3161 - val_accuracy: 1.0000\n",
            "Epoch 57/200\n",
            "3/3 [==============================] - 0s 16ms/step - loss: 0.3107 - accuracy: 1.0000 - val_loss: 0.3080 - val_accuracy: 1.0000\n",
            "Epoch 58/200\n",
            "3/3 [==============================] - 0s 15ms/step - loss: 0.3007 - accuracy: 1.0000 - val_loss: 0.3089 - val_accuracy: 1.0000\n",
            "Epoch 59/200\n",
            "3/3 [==============================] - 0s 15ms/step - loss: 0.2941 - accuracy: 1.0000 - val_loss: 0.2897 - val_accuracy: 1.0000\n",
            "Epoch 60/200\n",
            "3/3 [==============================] - 0s 15ms/step - loss: 0.2844 - accuracy: 1.0000 - val_loss: 0.2816 - val_accuracy: 1.0000\n",
            "Epoch 61/200\n",
            "3/3 [==============================] - 0s 15ms/step - loss: 0.2776 - accuracy: 1.0000 - val_loss: 0.2722 - val_accuracy: 1.0000\n",
            "Epoch 62/200\n",
            "3/3 [==============================] - 0s 15ms/step - loss: 0.2687 - accuracy: 1.0000 - val_loss: 0.2656 - val_accuracy: 1.0000\n",
            "Epoch 63/200\n",
            "3/3 [==============================] - 0s 15ms/step - loss: 0.2624 - accuracy: 1.0000 - val_loss: 0.2576 - val_accuracy: 1.0000\n",
            "Epoch 64/200\n",
            "3/3 [==============================] - 0s 15ms/step - loss: 0.2541 - accuracy: 1.0000 - val_loss: 0.2512 - val_accuracy: 1.0000\n",
            "Epoch 65/200\n",
            "3/3 [==============================] - 0s 15ms/step - loss: 0.2470 - accuracy: 1.0000 - val_loss: 0.2443 - val_accuracy: 1.0000\n",
            "Epoch 66/200\n",
            "3/3 [==============================] - 0s 15ms/step - loss: 0.2416 - accuracy: 1.0000 - val_loss: 0.2385 - val_accuracy: 1.0000\n",
            "Epoch 67/200\n",
            "3/3 [==============================] - 0s 15ms/step - loss: 0.2349 - accuracy: 1.0000 - val_loss: 0.2312 - val_accuracy: 1.0000\n",
            "Epoch 68/200\n",
            "3/3 [==============================] - 0s 17ms/step - loss: 0.2287 - accuracy: 1.0000 - val_loss: 0.2249 - val_accuracy: 1.0000\n",
            "Epoch 69/200\n",
            "3/3 [==============================] - 0s 15ms/step - loss: 0.2221 - accuracy: 1.0000 - val_loss: 0.2192 - val_accuracy: 1.0000\n",
            "Epoch 70/200\n",
            "3/3 [==============================] - 0s 16ms/step - loss: 0.2163 - accuracy: 1.0000 - val_loss: 0.2152 - val_accuracy: 1.0000\n",
            "Epoch 71/200\n",
            "3/3 [==============================] - 0s 17ms/step - loss: 0.2105 - accuracy: 1.0000 - val_loss: 0.2086 - val_accuracy: 1.0000\n",
            "Epoch 72/200\n",
            "3/3 [==============================] - 0s 16ms/step - loss: 0.2064 - accuracy: 1.0000 - val_loss: 0.2030 - val_accuracy: 1.0000\n",
            "Epoch 73/200\n",
            "3/3 [==============================] - 0s 15ms/step - loss: 0.2007 - accuracy: 1.0000 - val_loss: 0.1979 - val_accuracy: 1.0000\n",
            "Epoch 74/200\n",
            "3/3 [==============================] - 0s 15ms/step - loss: 0.1969 - accuracy: 1.0000 - val_loss: 0.1937 - val_accuracy: 1.0000\n",
            "Epoch 75/200\n",
            "3/3 [==============================] - 0s 16ms/step - loss: 0.1898 - accuracy: 1.0000 - val_loss: 0.1884 - val_accuracy: 1.0000\n",
            "Epoch 76/200\n",
            "3/3 [==============================] - 0s 15ms/step - loss: 0.1851 - accuracy: 1.0000 - val_loss: 0.1856 - val_accuracy: 1.0000\n",
            "Epoch 77/200\n",
            "3/3 [==============================] - 0s 15ms/step - loss: 0.1808 - accuracy: 1.0000 - val_loss: 0.1795 - val_accuracy: 1.0000\n",
            "Epoch 78/200\n",
            "3/3 [==============================] - 0s 15ms/step - loss: 0.1763 - accuracy: 1.0000 - val_loss: 0.1766 - val_accuracy: 1.0000\n",
            "Epoch 79/200\n",
            "3/3 [==============================] - 0s 15ms/step - loss: 0.1722 - accuracy: 1.0000 - val_loss: 0.1719 - val_accuracy: 1.0000\n",
            "Epoch 80/200\n",
            "3/3 [==============================] - 0s 15ms/step - loss: 0.1682 - accuracy: 1.0000 - val_loss: 0.1669 - val_accuracy: 1.0000\n",
            "Epoch 81/200\n",
            "3/3 [==============================] - 0s 15ms/step - loss: 0.1644 - accuracy: 1.0000 - val_loss: 0.1629 - val_accuracy: 1.0000\n",
            "Epoch 82/200\n",
            "3/3 [==============================] - 0s 15ms/step - loss: 0.1596 - accuracy: 1.0000 - val_loss: 0.1598 - val_accuracy: 1.0000\n",
            "Epoch 83/200\n",
            "3/3 [==============================] - 0s 15ms/step - loss: 0.1562 - accuracy: 1.0000 - val_loss: 0.1582 - val_accuracy: 1.0000\n",
            "Epoch 84/200\n",
            "3/3 [==============================] - 0s 15ms/step - loss: 0.1535 - accuracy: 1.0000 - val_loss: 0.1512 - val_accuracy: 1.0000\n",
            "Epoch 85/200\n",
            "3/3 [==============================] - 0s 15ms/step - loss: 0.1510 - accuracy: 1.0000 - val_loss: 0.1477 - val_accuracy: 1.0000\n",
            "Epoch 86/200\n",
            "3/3 [==============================] - 0s 17ms/step - loss: 0.1452 - accuracy: 1.0000 - val_loss: 0.1510 - val_accuracy: 1.0000\n",
            "Epoch 87/200\n",
            "3/3 [==============================] - 0s 15ms/step - loss: 0.1415 - accuracy: 1.0000 - val_loss: 0.1445 - val_accuracy: 1.0000\n",
            "Epoch 88/200\n",
            "3/3 [==============================] - 0s 15ms/step - loss: 0.1410 - accuracy: 1.0000 - val_loss: 0.1394 - val_accuracy: 1.0000\n",
            "Epoch 89/200\n",
            "3/3 [==============================] - 0s 15ms/step - loss: 0.1380 - accuracy: 1.0000 - val_loss: 0.1356 - val_accuracy: 1.0000\n",
            "Epoch 90/200\n",
            "3/3 [==============================] - 0s 14ms/step - loss: 0.1331 - accuracy: 1.0000 - val_loss: 0.1336 - val_accuracy: 1.0000\n",
            "Epoch 91/200\n",
            "3/3 [==============================] - 0s 15ms/step - loss: 0.1323 - accuracy: 1.0000 - val_loss: 0.1318 - val_accuracy: 1.0000\n",
            "Epoch 92/200\n",
            "3/3 [==============================] - 0s 15ms/step - loss: 0.1281 - accuracy: 1.0000 - val_loss: 0.1267 - val_accuracy: 1.0000\n",
            "Epoch 93/200\n",
            "3/3 [==============================] - 0s 17ms/step - loss: 0.1244 - accuracy: 1.0000 - val_loss: 0.1262 - val_accuracy: 1.0000\n",
            "Epoch 94/200\n",
            "3/3 [==============================] - 0s 15ms/step - loss: 0.1223 - accuracy: 1.0000 - val_loss: 0.1254 - val_accuracy: 1.0000\n",
            "Epoch 95/200\n",
            "3/3 [==============================] - 0s 14ms/step - loss: 0.1193 - accuracy: 1.0000 - val_loss: 0.1214 - val_accuracy: 1.0000\n",
            "Epoch 96/200\n",
            "3/3 [==============================] - 0s 15ms/step - loss: 0.1161 - accuracy: 1.0000 - val_loss: 0.1157 - val_accuracy: 1.0000\n",
            "Epoch 97/200\n",
            "3/3 [==============================] - 0s 14ms/step - loss: 0.1133 - accuracy: 1.0000 - val_loss: 0.1130 - val_accuracy: 1.0000\n",
            "Epoch 98/200\n",
            "3/3 [==============================] - 0s 15ms/step - loss: 0.1096 - accuracy: 1.0000 - val_loss: 0.1196 - val_accuracy: 1.0000\n",
            "Epoch 99/200\n",
            "3/3 [==============================] - 0s 16ms/step - loss: 0.1113 - accuracy: 1.0000 - val_loss: 0.1306 - val_accuracy: 1.0000\n",
            "Epoch 100/200\n",
            "3/3 [==============================] - 0s 15ms/step - loss: 0.1196 - accuracy: 1.0000 - val_loss: 0.4819 - val_accuracy: 0.8000\n",
            "Epoch 101/200\n",
            "3/3 [==============================] - 0s 15ms/step - loss: 0.4479 - accuracy: 0.8375 - val_loss: 0.6346 - val_accuracy: 0.8000\n",
            "Epoch 102/200\n",
            "3/3 [==============================] - 0s 15ms/step - loss: 0.4575 - accuracy: 0.8750 - val_loss: 0.3930 - val_accuracy: 0.9000\n",
            "Epoch 103/200\n",
            "3/3 [==============================] - 0s 16ms/step - loss: 0.2735 - accuracy: 0.9500 - val_loss: 0.2021 - val_accuracy: 1.0000\n",
            "Epoch 104/200\n",
            "3/3 [==============================] - 0s 17ms/step - loss: 0.1709 - accuracy: 0.9875 - val_loss: 0.2225 - val_accuracy: 1.0000\n",
            "Epoch 105/200\n",
            "3/3 [==============================] - 0s 15ms/step - loss: 0.1593 - accuracy: 1.0000 - val_loss: 0.2299 - val_accuracy: 1.0000\n",
            "Epoch 106/200\n",
            "3/3 [==============================] - 0s 15ms/step - loss: 0.1930 - accuracy: 0.9625 - val_loss: 0.2618 - val_accuracy: 0.9000\n",
            "Epoch 107/200\n",
            "3/3 [==============================] - 0s 15ms/step - loss: 0.1642 - accuracy: 0.9875 - val_loss: 0.1757 - val_accuracy: 1.0000\n",
            "Epoch 108/200\n",
            "3/3 [==============================] - 0s 15ms/step - loss: 0.1666 - accuracy: 1.0000 - val_loss: 0.1592 - val_accuracy: 1.0000\n",
            "Epoch 109/200\n",
            "3/3 [==============================] - 0s 16ms/step - loss: 0.1559 - accuracy: 1.0000 - val_loss: 0.1610 - val_accuracy: 1.0000\n",
            "Epoch 110/200\n",
            "3/3 [==============================] - 0s 15ms/step - loss: 0.1526 - accuracy: 1.0000 - val_loss: 0.1504 - val_accuracy: 1.0000\n",
            "Epoch 111/200\n",
            "3/3 [==============================] - 0s 16ms/step - loss: 0.1456 - accuracy: 1.0000 - val_loss: 0.1599 - val_accuracy: 1.0000\n",
            "Epoch 112/200\n",
            "3/3 [==============================] - 0s 15ms/step - loss: 0.1508 - accuracy: 1.0000 - val_loss: 0.1427 - val_accuracy: 1.0000\n",
            "Epoch 113/200\n",
            "3/3 [==============================] - 0s 16ms/step - loss: 0.1390 - accuracy: 1.0000 - val_loss: 0.1428 - val_accuracy: 1.0000\n",
            "Epoch 114/200\n",
            "3/3 [==============================] - 0s 15ms/step - loss: 0.1378 - accuracy: 1.0000 - val_loss: 0.1433 - val_accuracy: 1.0000\n",
            "Epoch 115/200\n",
            "3/3 [==============================] - 0s 15ms/step - loss: 0.1357 - accuracy: 1.0000 - val_loss: 0.1374 - val_accuracy: 1.0000\n",
            "Epoch 116/200\n",
            "3/3 [==============================] - 0s 17ms/step - loss: 0.1305 - accuracy: 1.0000 - val_loss: 0.1299 - val_accuracy: 1.0000\n",
            "Epoch 117/200\n",
            "3/3 [==============================] - 0s 16ms/step - loss: 0.1267 - accuracy: 1.0000 - val_loss: 0.1316 - val_accuracy: 1.0000\n",
            "Epoch 118/200\n",
            "3/3 [==============================] - 0s 15ms/step - loss: 0.1240 - accuracy: 1.0000 - val_loss: 0.1345 - val_accuracy: 1.0000\n",
            "Epoch 119/200\n",
            "3/3 [==============================] - 0s 15ms/step - loss: 0.1217 - accuracy: 1.0000 - val_loss: 0.1218 - val_accuracy: 1.0000\n",
            "Epoch 120/200\n",
            "3/3 [==============================] - 0s 15ms/step - loss: 0.1178 - accuracy: 1.0000 - val_loss: 0.1187 - val_accuracy: 1.0000\n",
            "Epoch 121/200\n",
            "3/3 [==============================] - 0s 15ms/step - loss: 0.1156 - accuracy: 1.0000 - val_loss: 0.1184 - val_accuracy: 1.0000\n",
            "Epoch 122/200\n",
            "3/3 [==============================] - 0s 17ms/step - loss: 0.1125 - accuracy: 1.0000 - val_loss: 0.1157 - val_accuracy: 1.0000\n",
            "Epoch 123/200\n",
            "3/3 [==============================] - 0s 16ms/step - loss: 0.1109 - accuracy: 1.0000 - val_loss: 0.1107 - val_accuracy: 1.0000\n",
            "Epoch 124/200\n",
            "3/3 [==============================] - 0s 15ms/step - loss: 0.1072 - accuracy: 1.0000 - val_loss: 0.1083 - val_accuracy: 1.0000\n",
            "Epoch 125/200\n",
            "3/3 [==============================] - 0s 16ms/step - loss: 0.1053 - accuracy: 1.0000 - val_loss: 0.1077 - val_accuracy: 1.0000\n",
            "Epoch 126/200\n",
            "3/3 [==============================] - 0s 15ms/step - loss: 0.1122 - accuracy: 0.9875 - val_loss: 0.1050 - val_accuracy: 1.0000\n",
            "Epoch 127/200\n",
            "3/3 [==============================] - 0s 15ms/step - loss: 0.1021 - accuracy: 1.0000 - val_loss: 0.1120 - val_accuracy: 1.0000\n",
            "Epoch 128/200\n",
            "3/3 [==============================] - 0s 16ms/step - loss: 0.1014 - accuracy: 1.0000 - val_loss: 0.1105 - val_accuracy: 1.0000\n",
            "Epoch 129/200\n",
            "3/3 [==============================] - 0s 15ms/step - loss: 0.0986 - accuracy: 1.0000 - val_loss: 0.1023 - val_accuracy: 1.0000\n",
            "Epoch 130/200\n",
            "3/3 [==============================] - 0s 15ms/step - loss: 0.0965 - accuracy: 1.0000 - val_loss: 0.0985 - val_accuracy: 1.0000\n",
            "Epoch 131/200\n",
            "3/3 [==============================] - 0s 14ms/step - loss: 0.0934 - accuracy: 1.0000 - val_loss: 0.0996 - val_accuracy: 1.0000\n",
            "Epoch 132/200\n",
            "3/3 [==============================] - 0s 15ms/step - loss: 0.0938 - accuracy: 1.0000 - val_loss: 0.0968 - val_accuracy: 1.0000\n",
            "Epoch 133/200\n",
            "3/3 [==============================] - 0s 15ms/step - loss: 0.0932 - accuracy: 1.0000 - val_loss: 0.0934 - val_accuracy: 1.0000\n",
            "Epoch 134/200\n",
            "3/3 [==============================] - 0s 15ms/step - loss: 0.0904 - accuracy: 1.0000 - val_loss: 0.0946 - val_accuracy: 1.0000\n",
            "Epoch 135/200\n",
            "3/3 [==============================] - 0s 15ms/step - loss: 0.0882 - accuracy: 1.0000 - val_loss: 0.0932 - val_accuracy: 1.0000\n",
            "Epoch 136/200\n",
            "3/3 [==============================] - 0s 15ms/step - loss: 0.0872 - accuracy: 1.0000 - val_loss: 0.0892 - val_accuracy: 1.0000\n",
            "Epoch 137/200\n",
            "3/3 [==============================] - 0s 16ms/step - loss: 0.0854 - accuracy: 1.0000 - val_loss: 0.0869 - val_accuracy: 1.0000\n",
            "Epoch 138/200\n",
            "3/3 [==============================] - 0s 15ms/step - loss: 0.0840 - accuracy: 1.0000 - val_loss: 0.0858 - val_accuracy: 1.0000\n",
            "Epoch 139/200\n",
            "3/3 [==============================] - 0s 15ms/step - loss: 0.0816 - accuracy: 1.0000 - val_loss: 0.0838 - val_accuracy: 1.0000\n",
            "Epoch 140/200\n",
            "3/3 [==============================] - 0s 17ms/step - loss: 0.0810 - accuracy: 1.0000 - val_loss: 0.0826 - val_accuracy: 1.0000\n",
            "Epoch 141/200\n",
            "3/3 [==============================] - 0s 15ms/step - loss: 0.0796 - accuracy: 1.0000 - val_loss: 0.0813 - val_accuracy: 1.0000\n",
            "Epoch 142/200\n",
            "3/3 [==============================] - 0s 16ms/step - loss: 0.0793 - accuracy: 1.0000 - val_loss: 0.0803 - val_accuracy: 1.0000\n",
            "Epoch 143/200\n",
            "3/3 [==============================] - 0s 16ms/step - loss: 0.0766 - accuracy: 1.0000 - val_loss: 0.0789 - val_accuracy: 1.0000\n",
            "Epoch 144/200\n",
            "3/3 [==============================] - 0s 15ms/step - loss: 0.0758 - accuracy: 1.0000 - val_loss: 0.0778 - val_accuracy: 1.0000\n",
            "Epoch 145/200\n",
            "3/3 [==============================] - 0s 15ms/step - loss: 0.0750 - accuracy: 1.0000 - val_loss: 0.0767 - val_accuracy: 1.0000\n",
            "Epoch 146/200\n",
            "3/3 [==============================] - 0s 17ms/step - loss: 0.0789 - accuracy: 1.0000 - val_loss: 0.0760 - val_accuracy: 1.0000\n",
            "Epoch 147/200\n",
            "3/3 [==============================] - 0s 16ms/step - loss: 0.0731 - accuracy: 1.0000 - val_loss: 0.0849 - val_accuracy: 1.0000\n",
            "Epoch 148/200\n",
            "3/3 [==============================] - 0s 15ms/step - loss: 0.0793 - accuracy: 1.0000 - val_loss: 0.0751 - val_accuracy: 1.0000\n",
            "Epoch 149/200\n",
            "3/3 [==============================] - 0s 16ms/step - loss: 0.0722 - accuracy: 1.0000 - val_loss: 0.0769 - val_accuracy: 1.0000\n",
            "Epoch 150/200\n",
            "3/3 [==============================] - 0s 15ms/step - loss: 0.0719 - accuracy: 1.0000 - val_loss: 0.0816 - val_accuracy: 1.0000\n",
            "Epoch 151/200\n",
            "3/3 [==============================] - 0s 15ms/step - loss: 0.0726 - accuracy: 1.0000 - val_loss: 0.0721 - val_accuracy: 1.0000\n",
            "Epoch 152/200\n",
            "3/3 [==============================] - 0s 15ms/step - loss: 0.0705 - accuracy: 1.0000 - val_loss: 0.0715 - val_accuracy: 1.0000\n",
            "Epoch 153/200\n",
            "3/3 [==============================] - 0s 15ms/step - loss: 0.0699 - accuracy: 1.0000 - val_loss: 0.0704 - val_accuracy: 1.0000\n",
            "Epoch 154/200\n",
            "3/3 [==============================] - 0s 15ms/step - loss: 0.0674 - accuracy: 1.0000 - val_loss: 0.0690 - val_accuracy: 1.0000\n",
            "Epoch 155/200\n",
            "3/3 [==============================] - 0s 15ms/step - loss: 0.0661 - accuracy: 1.0000 - val_loss: 0.0685 - val_accuracy: 1.0000\n",
            "Epoch 156/200\n",
            "3/3 [==============================] - 0s 16ms/step - loss: 0.0655 - accuracy: 1.0000 - val_loss: 0.0677 - val_accuracy: 1.0000\n",
            "Epoch 157/200\n",
            "3/3 [==============================] - 0s 15ms/step - loss: 0.0642 - accuracy: 1.0000 - val_loss: 0.0667 - val_accuracy: 1.0000\n",
            "Epoch 158/200\n",
            "3/3 [==============================] - 0s 16ms/step - loss: 0.0636 - accuracy: 1.0000 - val_loss: 0.0660 - val_accuracy: 1.0000\n",
            "Epoch 159/200\n",
            "3/3 [==============================] - 0s 15ms/step - loss: 0.0625 - accuracy: 1.0000 - val_loss: 0.0658 - val_accuracy: 1.0000\n",
            "Epoch 160/200\n",
            "3/3 [==============================] - 0s 16ms/step - loss: 0.0620 - accuracy: 1.0000 - val_loss: 0.0658 - val_accuracy: 1.0000\n",
            "Epoch 161/200\n",
            "3/3 [==============================] - 0s 16ms/step - loss: 0.0616 - accuracy: 1.0000 - val_loss: 0.0633 - val_accuracy: 1.0000\n",
            "Epoch 162/200\n",
            "3/3 [==============================] - 0s 16ms/step - loss: 0.0597 - accuracy: 1.0000 - val_loss: 0.0629 - val_accuracy: 1.0000\n",
            "Epoch 163/200\n",
            "3/3 [==============================] - 0s 16ms/step - loss: 0.0601 - accuracy: 1.0000 - val_loss: 0.0622 - val_accuracy: 1.0000\n",
            "Epoch 164/200\n",
            "3/3 [==============================] - 0s 17ms/step - loss: 0.0588 - accuracy: 1.0000 - val_loss: 0.0609 - val_accuracy: 1.0000\n",
            "Epoch 165/200\n",
            "3/3 [==============================] - 0s 15ms/step - loss: 0.0577 - accuracy: 1.0000 - val_loss: 0.0617 - val_accuracy: 1.0000\n",
            "Epoch 166/200\n",
            "3/3 [==============================] - 0s 15ms/step - loss: 0.0578 - accuracy: 1.0000 - val_loss: 0.0603 - val_accuracy: 1.0000\n",
            "Epoch 167/200\n",
            "3/3 [==============================] - 0s 15ms/step - loss: 0.0591 - accuracy: 1.0000 - val_loss: 0.0589 - val_accuracy: 1.0000\n",
            "Epoch 168/200\n",
            "3/3 [==============================] - 0s 15ms/step - loss: 0.0567 - accuracy: 1.0000 - val_loss: 0.0595 - val_accuracy: 1.0000\n",
            "Epoch 169/200\n",
            "3/3 [==============================] - 0s 15ms/step - loss: 0.0559 - accuracy: 1.0000 - val_loss: 0.0575 - val_accuracy: 1.0000\n",
            "Epoch 170/200\n",
            "3/3 [==============================] - 0s 15ms/step - loss: 0.0552 - accuracy: 1.0000 - val_loss: 0.0580 - val_accuracy: 1.0000\n",
            "Epoch 171/200\n",
            "3/3 [==============================] - 0s 16ms/step - loss: 0.0549 - accuracy: 1.0000 - val_loss: 0.0572 - val_accuracy: 1.0000\n",
            "Epoch 172/200\n",
            "3/3 [==============================] - 0s 15ms/step - loss: 0.0540 - accuracy: 1.0000 - val_loss: 0.0556 - val_accuracy: 1.0000\n",
            "Epoch 173/200\n",
            "3/3 [==============================] - 0s 15ms/step - loss: 0.0524 - accuracy: 1.0000 - val_loss: 0.0551 - val_accuracy: 1.0000\n",
            "Epoch 174/200\n",
            "3/3 [==============================] - 0s 15ms/step - loss: 0.0516 - accuracy: 1.0000 - val_loss: 0.0547 - val_accuracy: 1.0000\n",
            "Epoch 175/200\n",
            "3/3 [==============================] - 0s 19ms/step - loss: 0.0518 - accuracy: 1.0000 - val_loss: 0.0548 - val_accuracy: 1.0000\n",
            "Epoch 176/200\n",
            "3/3 [==============================] - 0s 15ms/step - loss: 0.0513 - accuracy: 1.0000 - val_loss: 0.0540 - val_accuracy: 1.0000\n",
            "Epoch 177/200\n",
            "3/3 [==============================] - 0s 14ms/step - loss: 0.0504 - accuracy: 1.0000 - val_loss: 0.0530 - val_accuracy: 1.0000\n",
            "Epoch 178/200\n",
            "3/3 [==============================] - 0s 16ms/step - loss: 0.0500 - accuracy: 1.0000 - val_loss: 0.0525 - val_accuracy: 1.0000\n",
            "Epoch 179/200\n",
            "3/3 [==============================] - 0s 15ms/step - loss: 0.0504 - accuracy: 1.0000 - val_loss: 0.0530 - val_accuracy: 1.0000\n",
            "Epoch 180/200\n",
            "3/3 [==============================] - 0s 15ms/step - loss: 0.0508 - accuracy: 1.0000 - val_loss: 0.0516 - val_accuracy: 1.0000\n",
            "Epoch 181/200\n",
            "3/3 [==============================] - 0s 15ms/step - loss: 0.0496 - accuracy: 1.0000 - val_loss: 0.0508 - val_accuracy: 1.0000\n",
            "Epoch 182/200\n",
            "3/3 [==============================] - 0s 15ms/step - loss: 0.0478 - accuracy: 1.0000 - val_loss: 0.0562 - val_accuracy: 1.0000\n",
            "Epoch 183/200\n",
            "3/3 [==============================] - 0s 15ms/step - loss: 0.0489 - accuracy: 1.0000 - val_loss: 0.0528 - val_accuracy: 1.0000\n",
            "Epoch 184/200\n",
            "3/3 [==============================] - 0s 15ms/step - loss: 0.0475 - accuracy: 1.0000 - val_loss: 0.0519 - val_accuracy: 1.0000\n",
            "Epoch 185/200\n",
            "3/3 [==============================] - 0s 16ms/step - loss: 0.0482 - accuracy: 1.0000 - val_loss: 0.0513 - val_accuracy: 1.0000\n",
            "Epoch 186/200\n",
            "3/3 [==============================] - 0s 15ms/step - loss: 0.0478 - accuracy: 1.0000 - val_loss: 0.0495 - val_accuracy: 1.0000\n",
            "Epoch 187/200\n",
            "3/3 [==============================] - 0s 15ms/step - loss: 0.0459 - accuracy: 1.0000 - val_loss: 0.0546 - val_accuracy: 1.0000\n",
            "Epoch 188/200\n",
            "3/3 [==============================] - 0s 15ms/step - loss: 0.0451 - accuracy: 1.0000 - val_loss: 0.0543 - val_accuracy: 1.0000\n",
            "Epoch 189/200\n",
            "3/3 [==============================] - 0s 15ms/step - loss: 0.0448 - accuracy: 1.0000 - val_loss: 0.0485 - val_accuracy: 1.0000\n",
            "Epoch 190/200\n",
            "3/3 [==============================] - 0s 16ms/step - loss: 0.0453 - accuracy: 1.0000 - val_loss: 0.0472 - val_accuracy: 1.0000\n",
            "Epoch 191/200\n",
            "3/3 [==============================] - 0s 15ms/step - loss: 0.0450 - accuracy: 1.0000 - val_loss: 0.0464 - val_accuracy: 1.0000\n",
            "Epoch 192/200\n",
            "3/3 [==============================] - 0s 16ms/step - loss: 0.0447 - accuracy: 1.0000 - val_loss: 0.0455 - val_accuracy: 1.0000\n",
            "Epoch 193/200\n",
            "3/3 [==============================] - 0s 17ms/step - loss: 0.0442 - accuracy: 1.0000 - val_loss: 0.0453 - val_accuracy: 1.0000\n",
            "Epoch 194/200\n",
            "3/3 [==============================] - 0s 15ms/step - loss: 0.0429 - accuracy: 1.0000 - val_loss: 0.0460 - val_accuracy: 1.0000\n",
            "Epoch 195/200\n",
            "3/3 [==============================] - 0s 15ms/step - loss: 0.0416 - accuracy: 1.0000 - val_loss: 0.0461 - val_accuracy: 1.0000\n",
            "Epoch 196/200\n",
            "3/3 [==============================] - 0s 15ms/step - loss: 0.0430 - accuracy: 1.0000 - val_loss: 0.0436 - val_accuracy: 1.0000\n",
            "Epoch 197/200\n",
            "3/3 [==============================] - 0s 15ms/step - loss: 0.0409 - accuracy: 1.0000 - val_loss: 0.0433 - val_accuracy: 1.0000\n",
            "Epoch 198/200\n",
            "3/3 [==============================] - 0s 15ms/step - loss: 0.0413 - accuracy: 1.0000 - val_loss: 0.0430 - val_accuracy: 1.0000\n",
            "Epoch 199/200\n",
            "3/3 [==============================] - 0s 18ms/step - loss: 0.0403 - accuracy: 1.0000 - val_loss: 0.0437 - val_accuracy: 1.0000\n",
            "Epoch 200/200\n",
            "3/3 [==============================] - 0s 15ms/step - loss: 0.0397 - accuracy: 1.0000 - val_loss: 0.0433 - val_accuracy: 1.0000\n"
          ],
          "name": "stdout"
        },
        {
          "output_type": "execute_result",
          "data": {
            "text/plain": [
              "<tensorflow.python.keras.callbacks.History at 0x7f4e23036828>"
            ]
          },
          "metadata": {
            "tags": []
          },
          "execution_count": 176
        }
      ]
    },
    {
      "cell_type": "code",
      "metadata": {
        "id": "Qk4iuwnVC-TV",
        "outputId": "64e481b3-f5b9-4588-a300-4aaceab6891e",
        "colab": {
          "base_uri": "https://localhost:8080/",
          "height": 295
        }
      },
      "source": [
        "import matplotlib.pyplot as plt\n",
        "plt.plot(shuvam.history[\"accuracy\"])\n",
        "plt.plot(shuvam.history['val_accuracy'])\n",
        "plt.plot(shuvam.history['loss'])\n",
        "plt.plot(shuvam.history['val_loss'])\n",
        "plt.title(\"model accuracy\")\n",
        "plt.ylabel(\"Accuracy\")\n",
        "plt.xlabel(\"Epoch\")\n",
        "plt.legend([\"Accuracy\",\"Validation Accuracy\",\"loss\",\"Validation Loss\"])\n",
        "plt.show()"
      ],
      "execution_count": 177,
      "outputs": [
        {
          "output_type": "display_data",
          "data": {
            "image/png": "[encoded data removed]",
            "text/plain": [
              "<Figure size 432x288 with 1 Axes>"
            ]
          },
          "metadata": {
            "tags": [],
            "needs_background": "light"
          }
        }
      ]
    },
    {
      "cell_type": "code",
      "metadata": {
        "id": "vH5y963j_b1k"
      },
      "source": [
        "import numpy as np # linear algebra\n",
        "import pandas as pd # data processing, CSV file I/O (e.g. pd.read_csv)\n",
        "import keras \n",
        "\n",
        "from tqdm import tqdm\n",
        "import os\n",
        "from sklearn.model_selection import train_test_split\n",
        "from cv2 import cv2\n",
        "from PIL import Image\n",
        "import tensorflow as tf\n",
        "from matplotlib import pyplot as plt\n",
        "\n",
        "from keras.layers import Dense, Dropout, Flatten, Input, ZeroPadding2D\n",
        "from keras.layers.normalization import BatchNormalization\n",
        "from keras.preprocessing.image import ImageDataGenerator, array_to_img, img_to_array, load_img\n",
        "from keras.preprocessing import image\n",
        "from keras.utils import plot_model\n",
        "from keras.models import Model\n",
        "from keras.layers.convolutional import Conv2D\n",
        "from keras.layers.pooling import MaxPooling2D\n",
        "from numpy import array \n",
        "from keras import regularizers\n",
        "from keras import optimizers\n",
        "from keras.models import load_model\n",
        "from keras.callbacks import EarlyStopping, ReduceLROnPlateau, ModelCheckpoint\n",
        "from PIL import ImageFile\n",
        "ImageFile.LOAD_TRUNCATED_IMAGES = True\n",
        "\n",
        "#config = tf.ConfigProto()\n",
        "#config.gpu_options.allow_growth = True\n",
        "#sess = tf.Session(config=config)"
      ],
      "execution_count": null,
      "outputs": []
    },
    {
      "cell_type": "code",
      "metadata": {
        "id": "SeoWYDPiBVTM"
      },
      "source": [
        "from keras.preprocessing.image import ImageDataGenerator\n",
        "train_datagen = ImageDataGenerator(rescale = 1/255.,\n",
        "                                  horizontal_flip = True,\n",
        "                                  zoom_range = 0.3,\n",
        "                                  rotation_range = 30)\n",
        "val_datagen= ImageDataGenerator(rescale=1./255)\n",
        "\n",
        "train_gen = train_datagen.flow(train_x,train_y, batch_size=32)\n",
        "val_gen = val_datagen.flow(eval_x,eval_y, batch_size=32)\n",
        "test_gen = val_datagen.flow(test_x,test_y, batch_size =32, shuffle = False)"
      ],
      "execution_count": null,
      "outputs": []
    },
    {
      "cell_type": "code",
      "metadata": {
        "id": "fmrxG-bLv_tB",
        "outputId": "991bf4eb-59c2-4479-cbd9-17be6a42fe2c",
        "colab": {
          "base_uri": "https://localhost:8080/",
          "height": 1000
        }
      },
      "source": [
        "STEP_SIZE_TRAIN=train_gen.n//train_gen.batch_size\n",
        "STEP_SIZE_VALID=val_gen.n//val_gen.batch_size\n",
        "STEP_SIZE_TEST=test_gen.n//test_gen.batch_size\n",
        "ep = 100\n",
        "classifier.fit_generator(generator = train_gen, validation_data= val_gen,\n",
        "                           steps_per_epoch=STEP_SIZE_TRAIN, epochs=ep, \n",
        "                           validation_steps=STEP_SIZE_VALID)"
      ],
      "execution_count": null,
      "outputs": [
        {
          "output_type": "stream",
          "text": [
            "Epoch 1/100\n",
            "2/2 [==============================] - 0s 146ms/step - loss: 4.8851 - accuracy: 0.4583\n",
            "Epoch 2/100\n",
            "2/2 [==============================] - 0s 244ms/step - loss: 2.0396 - accuracy: 0.4167\n",
            "Epoch 3/100\n",
            "2/2 [==============================] - 0s 133ms/step - loss: 1.8759 - accuracy: 0.4583\n",
            "Epoch 4/100\n",
            "2/2 [==============================] - 0s 130ms/step - loss: 1.2548 - accuracy: 0.5208\n",
            "Epoch 5/100\n",
            "2/2 [==============================] - 0s 237ms/step - loss: 1.0878 - accuracy: 0.5417\n",
            "Epoch 6/100\n",
            "2/2 [==============================] - 0s 244ms/step - loss: 1.1213 - accuracy: 0.4688\n",
            "Epoch 7/100\n",
            "2/2 [==============================] - 0s 239ms/step - loss: 1.1590 - accuracy: 0.4792\n",
            "Epoch 8/100\n",
            "2/2 [==============================] - 0s 239ms/step - loss: 1.1515 - accuracy: 0.6250\n",
            "Epoch 9/100\n",
            "2/2 [==============================] - 0s 234ms/step - loss: 1.1555 - accuracy: 0.4844\n",
            "Epoch 10/100\n",
            "2/2 [==============================] - 0s 237ms/step - loss: 1.1645 - accuracy: 0.4583\n",
            "Epoch 11/100\n",
            "2/2 [==============================] - 0s 136ms/step - loss: 1.1114 - accuracy: 0.5833\n",
            "Epoch 12/100\n",
            "2/2 [==============================] - 0s 133ms/step - loss: 1.0617 - accuracy: 0.6042\n",
            "Epoch 13/100\n",
            "2/2 [==============================] - 0s 241ms/step - loss: 1.1824 - accuracy: 0.4844\n",
            "Epoch 14/100\n",
            "2/2 [==============================] - 0s 236ms/step - loss: 1.1043 - accuracy: 0.5625\n",
            "Epoch 15/100\n",
            "2/2 [==============================] - 0s 240ms/step - loss: 1.1516 - accuracy: 0.4844\n",
            "Epoch 16/100\n",
            "2/2 [==============================] - 0s 239ms/step - loss: 1.0695 - accuracy: 0.6094\n",
            "Epoch 17/100\n",
            "2/2 [==============================] - 0s 240ms/step - loss: 1.0938 - accuracy: 0.5469\n",
            "Epoch 18/100\n",
            "2/2 [==============================] - 0s 240ms/step - loss: 1.0932 - accuracy: 0.5208\n",
            "Epoch 19/100\n",
            "2/2 [==============================] - 0s 136ms/step - loss: 1.0737 - accuracy: 0.5833\n",
            "Epoch 20/100\n",
            "2/2 [==============================] - 0s 139ms/step - loss: 1.1772 - accuracy: 0.4583\n",
            "Epoch 21/100\n",
            "2/2 [==============================] - 0s 137ms/step - loss: 1.1761 - accuracy: 0.4375\n",
            "Epoch 22/100\n",
            "2/2 [==============================] - 0s 239ms/step - loss: 1.1665 - accuracy: 0.4531\n",
            "Epoch 23/100\n",
            "2/2 [==============================] - 0s 238ms/step - loss: 1.1550 - accuracy: 0.4844\n",
            "Epoch 24/100\n",
            "2/2 [==============================] - 0s 246ms/step - loss: 1.1242 - accuracy: 0.5417\n",
            "Epoch 25/100\n",
            "2/2 [==============================] - 0s 247ms/step - loss: 1.1438 - accuracy: 0.5000\n",
            "Epoch 26/100\n",
            "2/2 [==============================] - 0s 246ms/step - loss: 1.1393 - accuracy: 0.5000\n",
            "Epoch 27/100\n",
            "2/2 [==============================] - 0s 240ms/step - loss: 1.1070 - accuracy: 0.5625\n",
            "Epoch 28/100\n",
            "2/2 [==============================] - 0s 135ms/step - loss: 1.0892 - accuracy: 0.5417\n",
            "Epoch 29/100\n",
            "2/2 [==============================] - 0s 241ms/step - loss: 1.1358 - accuracy: 0.4844\n",
            "Epoch 30/100\n",
            "2/2 [==============================] - 0s 132ms/step - loss: 1.1276 - accuracy: 0.5000\n",
            "Epoch 31/100\n",
            "2/2 [==============================] - 0s 236ms/step - loss: 1.1562 - accuracy: 0.4792\n",
            "Epoch 32/100\n",
            "2/2 [==============================] - 0s 131ms/step - loss: 1.0874 - accuracy: 0.5417\n",
            "Epoch 33/100\n",
            "2/2 [==============================] - 0s 129ms/step - loss: 1.1701 - accuracy: 0.4167\n",
            "Epoch 34/100\n",
            "2/2 [==============================] - 0s 232ms/step - loss: 1.1863 - accuracy: 0.3750\n",
            "Epoch 35/100\n",
            "2/2 [==============================] - 0s 233ms/step - loss: 1.1146 - accuracy: 0.5417\n",
            "Epoch 36/100\n",
            "2/2 [==============================] - 0s 239ms/step - loss: 1.1269 - accuracy: 0.5156\n",
            "Epoch 37/100\n",
            "2/2 [==============================] - 0s 239ms/step - loss: 1.1318 - accuracy: 0.5156\n",
            "Epoch 38/100\n",
            "2/2 [==============================] - 0s 235ms/step - loss: 1.1384 - accuracy: 0.4792\n",
            "Epoch 39/100\n",
            "2/2 [==============================] - 0s 246ms/step - loss: 1.1477 - accuracy: 0.4531\n",
            "Epoch 40/100\n",
            "2/2 [==============================] - 0s 233ms/step - loss: 1.0877 - accuracy: 0.5833\n",
            "Epoch 41/100\n",
            "2/2 [==============================] - 0s 235ms/step - loss: 1.0615 - accuracy: 0.6042\n",
            "Epoch 42/100\n",
            "2/2 [==============================] - 0s 240ms/step - loss: 1.1256 - accuracy: 0.5000\n",
            "Epoch 43/100\n",
            "2/2 [==============================] - 0s 243ms/step - loss: 1.1102 - accuracy: 0.5000\n",
            "Epoch 44/100\n",
            "2/2 [==============================] - 0s 248ms/step - loss: 1.0505 - accuracy: 0.5833\n",
            "Epoch 45/100\n",
            "2/2 [==============================] - 0s 238ms/step - loss: 1.1303 - accuracy: 0.5000\n",
            "Epoch 46/100\n",
            "2/2 [==============================] - 0s 139ms/step - loss: 1.1632 - accuracy: 0.4375\n",
            "Epoch 47/100\n",
            "2/2 [==============================] - 0s 138ms/step - loss: 1.1022 - accuracy: 0.5000\n",
            "Epoch 48/100\n",
            "2/2 [==============================] - 0s 240ms/step - loss: 1.0686 - accuracy: 0.5417\n",
            "Epoch 49/100\n",
            "2/2 [==============================] - 0s 235ms/step - loss: 1.1363 - accuracy: 0.4375\n",
            "Epoch 50/100\n",
            "2/2 [==============================] - 0s 244ms/step - loss: 1.0856 - accuracy: 0.5417\n",
            "Epoch 51/100\n",
            "2/2 [==============================] - 0s 127ms/step - loss: 1.1028 - accuracy: 0.5000\n",
            "Epoch 52/100\n",
            "2/2 [==============================] - 0s 130ms/step - loss: 1.0876 - accuracy: 0.5417\n",
            "Epoch 53/100\n",
            "2/2 [==============================] - 0s 236ms/step - loss: 1.0431 - accuracy: 0.6042\n",
            "Epoch 54/100\n",
            "2/2 [==============================] - 0s 127ms/step - loss: 1.0804 - accuracy: 0.5208\n",
            "Epoch 55/100\n",
            "2/2 [==============================] - 0s 235ms/step - loss: 1.0793 - accuracy: 0.5312\n",
            "Epoch 56/100\n",
            "2/2 [==============================] - 0s 237ms/step - loss: 1.1449 - accuracy: 0.4583\n",
            "Epoch 57/100\n",
            "2/2 [==============================] - 0s 235ms/step - loss: 1.0158 - accuracy: 0.6042\n",
            "Epoch 58/100\n",
            "2/2 [==============================] - 0s 236ms/step - loss: 1.1122 - accuracy: 0.4844\n",
            "Epoch 59/100\n",
            "2/2 [==============================] - 0s 238ms/step - loss: 1.1138 - accuracy: 0.4844\n",
            "Epoch 60/100\n",
            "2/2 [==============================] - 0s 132ms/step - loss: 1.0040 - accuracy: 0.6042\n",
            "Epoch 61/100\n",
            "2/2 [==============================] - 0s 241ms/step - loss: 1.0500 - accuracy: 0.5625\n",
            "Epoch 62/100\n",
            "2/2 [==============================] - 0s 129ms/step - loss: 1.1019 - accuracy: 0.4792\n",
            "Epoch 63/100\n",
            "2/2 [==============================] - 0s 233ms/step - loss: 1.0860 - accuracy: 0.5156\n",
            "Epoch 64/100\n",
            "2/2 [==============================] - 0s 126ms/step - loss: 1.1443 - accuracy: 0.4167\n",
            "Epoch 65/100\n",
            "2/2 [==============================] - 0s 232ms/step - loss: 1.1198 - accuracy: 0.4583\n",
            "Epoch 66/100\n",
            "2/2 [==============================] - 0s 132ms/step - loss: 1.0770 - accuracy: 0.5417\n",
            "Epoch 67/100\n",
            "2/2 [==============================] - 0s 231ms/step - loss: 1.0363 - accuracy: 0.5625\n",
            "Epoch 68/100\n",
            "2/2 [==============================] - 0s 231ms/step - loss: 1.0802 - accuracy: 0.5000\n",
            "Epoch 69/100\n",
            "2/2 [==============================] - 0s 233ms/step - loss: 1.0918 - accuracy: 0.4844\n",
            "Epoch 70/100\n",
            "2/2 [==============================] - 0s 235ms/step - loss: 1.0733 - accuracy: 0.5156\n",
            "Epoch 71/100\n",
            "2/2 [==============================] - 0s 246ms/step - loss: 1.0967 - accuracy: 0.4844\n",
            "Epoch 72/100\n",
            "2/2 [==============================] - 0s 126ms/step - loss: 1.0883 - accuracy: 0.5000\n",
            "Epoch 73/100\n",
            "2/2 [==============================] - 0s 238ms/step - loss: 1.0810 - accuracy: 0.5000\n",
            "Epoch 74/100\n",
            "2/2 [==============================] - 0s 243ms/step - loss: 1.0483 - accuracy: 0.5469\n",
            "Epoch 75/100\n",
            "2/2 [==============================] - 0s 244ms/step - loss: 1.0824 - accuracy: 0.5000\n",
            "Epoch 76/100\n",
            "2/2 [==============================] - 0s 235ms/step - loss: 1.0816 - accuracy: 0.5156\n",
            "Epoch 77/100\n",
            "2/2 [==============================] - 0s 230ms/step - loss: 1.0939 - accuracy: 0.4792\n",
            "Epoch 78/100\n",
            "2/2 [==============================] - 0s 133ms/step - loss: 1.0575 - accuracy: 0.5417\n",
            "Epoch 79/100\n",
            "2/2 [==============================] - 0s 136ms/step - loss: 1.0690 - accuracy: 0.5000\n",
            "Epoch 80/100\n",
            "2/2 [==============================] - 0s 135ms/step - loss: 1.0937 - accuracy: 0.4792\n",
            "Epoch 81/100\n",
            "2/2 [==============================] - 0s 231ms/step - loss: 1.0439 - accuracy: 0.5417\n",
            "Epoch 82/100\n",
            "2/2 [==============================] - 0s 232ms/step - loss: 1.1465 - accuracy: 0.4167\n",
            "Epoch 83/100\n",
            "2/2 [==============================] - 0s 132ms/step - loss: 1.0620 - accuracy: 0.5417\n",
            "Epoch 84/100\n",
            "2/2 [==============================] - 0s 243ms/step - loss: 1.0720 - accuracy: 0.5000\n",
            "Epoch 85/100\n",
            "2/2 [==============================] - 0s 239ms/step - loss: 1.0559 - accuracy: 0.5417\n",
            "Epoch 86/100\n",
            "2/2 [==============================] - 0s 236ms/step - loss: 1.1051 - accuracy: 0.4792\n",
            "Epoch 87/100\n",
            "2/2 [==============================] - 0s 235ms/step - loss: 1.0511 - accuracy: 0.5312\n",
            "Epoch 88/100\n",
            "2/2 [==============================] - 0s 240ms/step - loss: 1.0746 - accuracy: 0.5156\n",
            "Epoch 89/100\n",
            "2/2 [==============================] - 0s 244ms/step - loss: 1.0567 - accuracy: 0.5312\n",
            "Epoch 90/100\n",
            "2/2 [==============================] - 0s 233ms/step - loss: 1.0724 - accuracy: 0.5000\n",
            "Epoch 91/100\n",
            "2/2 [==============================] - 0s 134ms/step - loss: 1.0271 - accuracy: 0.5625\n",
            "Epoch 92/100\n",
            "2/2 [==============================] - 0s 131ms/step - loss: 1.0512 - accuracy: 0.5417\n",
            "Epoch 93/100\n",
            "2/2 [==============================] - 0s 232ms/step - loss: 1.0460 - accuracy: 0.5417\n",
            "Epoch 94/100\n",
            "2/2 [==============================] - 0s 233ms/step - loss: 1.1100 - accuracy: 0.4792\n",
            "Epoch 95/100\n",
            "2/2 [==============================] - 0s 237ms/step - loss: 1.0561 - accuracy: 0.5156\n",
            "Epoch 96/100\n",
            "2/2 [==============================] - 0s 242ms/step - loss: 1.0806 - accuracy: 0.4844\n",
            "Epoch 97/100\n",
            "2/2 [==============================] - 0s 131ms/step - loss: 1.0285 - accuracy: 0.5625\n",
            "Epoch 98/100\n",
            "2/2 [==============================] - 0s 129ms/step - loss: 1.0775 - accuracy: 0.4792\n",
            "Epoch 99/100\n",
            "2/2 [==============================] - 0s 238ms/step - loss: 1.0785 - accuracy: 0.4844\n",
            "Epoch 100/100\n",
            "2/2 [==============================] - 0s 235ms/step - loss: 1.1181 - accuracy: 0.4375\n"
          ],
          "name": "stdout"
        },
        {
          "output_type": "execute_result",
          "data": {
            "text/plain": [
              "<tensorflow.python.keras.callbacks.History at 0x7ff729cf75c0>"
            ]
          },
          "metadata": {
            "tags": []
          },
          "execution_count": 59
        }
      ]
    },
    {
      "cell_type": "code",
      "metadata": {
        "id": "c4OOZImRwOZW",
        "outputId": "37361dbf-6fee-4473-f622-07140135eeb9",
        "colab": {
          "base_uri": "https://localhost:8080/",
          "height": 50
        }
      },
      "source": [
        "#Once the model is trained we can evaluate it on Test data.\n",
        "\n",
        "# Evaluating the model \n",
        "score = classifier.evaluate(test_x, test_y, verbose=0)\n",
        "print('Test Loss:', score[0])\n",
        "print('Test accuracy:', score[1])"
      ],
      "execution_count": 178,
      "outputs": [
        {
          "output_type": "stream",
          "text": [
            "Test Loss: 0.35637736320495605\n",
            "Test accuracy: 0.8999999761581421\n"
          ],
          "name": "stdout"
        }
      ]
    },
    {
      "cell_type": "code",
      "metadata": {
        "id": "DfJUUhfA2RM2",
        "outputId": "de88d8eb-3530-433a-a293-b882040478f2",
        "colab": {
          "base_uri": "https://localhost:8080/",
          "height": 270
        }
      },
      "source": [
        "from sklearn.metrics import classification_report,confusion_matrix\n",
        "Y_pred = classifier.predict(test_x)\n",
        "y_pred = np.argmax(Y_pred, axis=1)\n",
        "target_names = ['class 0(car)', 'class 1(bike)','class 2(random)']\n",
        "                                               \n",
        "print(classification_report(np.argmax(test_y,axis=1), y_pred,target_names=target_names))\n",
        "\n",
        "print(confusion_matrix(np.argmax(test_y,axis=1), y_pred))"
      ],
      "execution_count": 179,
      "outputs": [
        {
          "output_type": "stream",
          "text": [
            "WARNING:tensorflow:5 out of the last 8 calls to <function Model.make_predict_function.<locals>.predict_function at 0x7f4e215fd2f0> triggered tf.function retracing. Tracing is expensive and the excessive number of tracings could be due to (1) creating @tf.function repeatedly in a loop, (2) passing tensors with different shapes, (3) passing Python objects instead of tensors. For (1), please define your @tf.function outside of the loop. For (2), @tf.function has experimental_relax_shapes=True option that relaxes argument shapes that can avoid unnecessary retracing. For (3), please refer to https://www.tensorflow.org/tutorials/customization/performance#python_or_tensor_args and https://www.tensorflow.org/api_docs/python/tf/function for  more details.\n",
            "                 precision    recall  f1-score   support\n",
            "\n",
            "   class 0(car)       1.00      0.50      0.67         2\n",
            "  class 1(bike)       1.00      1.00      1.00         3\n",
            "class 2(random)       0.83      1.00      0.91         5\n",
            "\n",
            "       accuracy                           0.90        10\n",
            "      macro avg       0.94      0.83      0.86        10\n",
            "   weighted avg       0.92      0.90      0.89        10\n",
            "\n",
            "[[1 0 1]\n",
            " [0 3 0]\n",
            " [0 0 5]]\n"
          ],
          "name": "stdout"
        }
      ]
    },
    {
      "cell_type": "code",
      "metadata": {
        "id": "6YIr9Px0pjcc"
      },
      "source": [
        "\n",
        "#AlexNet\n",
        "model = keras.models.Sequential([\n",
        "    keras.layers.Conv2D(filters=96, kernel_size=(11,11), strides=(4,4), activation='relu', input_shape=(128,128,3)),\n",
        "    #keras.layers.BatchNormalization(),\n",
        "    keras.layers.MaxPool2D(pool_size=(3,3), strides=(2,2)),\n",
        "    keras.layers.Conv2D(filters=256, kernel_size=(5,5), strides=(1,1), activation='relu', padding=\"same\"),\n",
        "    #keras.layers.BatchNormalization(),\n",
        "    keras.layers.MaxPool2D(pool_size=(3,3), strides=(2,2)),\n",
        "    keras.layers.Conv2D(filters=384, kernel_size=(3,3), strides=(1,1), activation='relu', padding=\"same\"),\n",
        "    #keras.layers.BatchNormalization(),\n",
        "    keras.layers.Conv2D(filters=384, kernel_size=(1,1), strides=(1,1), activation='relu', padding=\"same\"),\n",
        "    #keras.layers.BatchNormalization(),\n",
        "    keras.layers.Conv2D(filters=256, kernel_size=(1,1), strides=(1,1), activation='relu', padding=\"same\"),\n",
        "   # keras.layers.BatchNormalization(),\n",
        "    keras.layers.MaxPool2D(pool_size=(3,3), strides=(2,2)),\n",
        "    keras.layers.Flatten(),\n",
        "    keras.layers.Dense(500, activation='relu'),\n",
        "    keras.layers.Dropout(0.2),\n",
        "    keras.layers.Dense(500, activation='relu'),\n",
        "    keras.layers.Dropout(0.2),\n",
        "    keras.layers.Dense(3, activation='softmax')\n",
        "])"
      ],
      "execution_count": 181,
      "outputs": []
    },
    {
      "cell_type": "code",
      "metadata": {
        "id": "e0YQ7j7Lpvv_",
        "outputId": "e0f1c6e5-d431-42ce-f525-46547449c8bb",
        "colab": {
          "base_uri": "https://localhost:8080/",
          "height": 783
        }
      },
      "source": [
        "\n",
        "model.summary()"
      ],
      "execution_count": 118,
      "outputs": [
        {
          "output_type": "stream",
          "text": [
            "Model: \"sequential_9\"\n",
            "_________________________________________________________________\n",
            "Layer (type)                 Output Shape              Param #   \n",
            "=================================================================\n",
            "conv2d_31 (Conv2D)           (None, 62, 62, 96)        34944     \n",
            "_________________________________________________________________\n",
            "batch_normalization_10 (Batc (None, 62, 62, 96)        384       \n",
            "_________________________________________________________________\n",
            "max_pooling2d_27 (MaxPooling (None, 30, 30, 96)        0         \n",
            "_________________________________________________________________\n",
            "conv2d_32 (Conv2D)           (None, 30, 30, 256)       614656    \n",
            "_________________________________________________________________\n",
            "batch_normalization_11 (Batc (None, 30, 30, 256)       1024      \n",
            "_________________________________________________________________\n",
            "max_pooling2d_28 (MaxPooling (None, 14, 14, 256)       0         \n",
            "_________________________________________________________________\n",
            "conv2d_33 (Conv2D)           (None, 14, 14, 384)       885120    \n",
            "_________________________________________________________________\n",
            "batch_normalization_12 (Batc (None, 14, 14, 384)       1536      \n",
            "_________________________________________________________________\n",
            "conv2d_34 (Conv2D)           (None, 14, 14, 384)       147840    \n",
            "_________________________________________________________________\n",
            "batch_normalization_13 (Batc (None, 14, 14, 384)       1536      \n",
            "_________________________________________________________________\n",
            "conv2d_35 (Conv2D)           (None, 14, 14, 256)       98560     \n",
            "_________________________________________________________________\n",
            "batch_normalization_14 (Batc (None, 14, 14, 256)       1024      \n",
            "_________________________________________________________________\n",
            "max_pooling2d_29 (MaxPooling (None, 6, 6, 256)         0         \n",
            "_________________________________________________________________\n",
            "flatten_9 (Flatten)          (None, 9216)              0         \n",
            "_________________________________________________________________\n",
            "dense_20 (Dense)             (None, 500)               4608500   \n",
            "_________________________________________________________________\n",
            "dropout_18 (Dropout)         (None, 500)               0         \n",
            "_________________________________________________________________\n",
            "dense_21 (Dense)             (None, 500)               250500    \n",
            "_________________________________________________________________\n",
            "dropout_19 (Dropout)         (None, 500)               0         \n",
            "_________________________________________________________________\n",
            "dense_22 (Dense)             (None, 3)                 1503      \n",
            "=================================================================\n",
            "Total params: 6,647,127\n",
            "Trainable params: 6,644,375\n",
            "Non-trainable params: 2,752\n",
            "_________________________________________________________________\n"
          ],
          "name": "stdout"
        }
      ]
    },
    {
      "cell_type": "code",
      "metadata": {
        "id": "Xg64Pmo1qFhM",
        "outputId": "a8794559-f9c7-48ca-9e26-f823a9de6bad",
        "colab": {
          "base_uri": "https://localhost:8080/",
          "height": 1000
        }
      },
      "source": [
        "from keras.callbacks import ModelCheckpoint, EarlyStopping\n",
        "checkpoint = ModelCheckpoint(\"alexnet_1.h5\", monitor='val_accuracy', verbose=1, save_best_only=True, save_weights_only=False, mode='auto', period=1)\n",
        "early = EarlyStopping(monitor='val_accuracy', min_delta=0, patience=20, verbose=1, mode='auto')\n",
        "#from keras.optimizers import Adam\n",
        "#opt = Adam(lr=0.001)\n",
        "model.compile(loss='categorical_crossentropy', optimizer=\"adam\", metrics=['accuracy'])\n",
        "\n",
        "\n",
        "\n",
        "lizon=model.fit(train_x,train_y,batch_size = 32,epochs=200,verbose=1,validation_data=(eval_x, eval_y),callbacks=[checkpoint,early])\n",
        "lizon"
      ],
      "execution_count": 182,
      "outputs": [
        {
          "output_type": "stream",
          "text": [
            "WARNING:tensorflow:`period` argument is deprecated. Please use `save_freq` to specify the frequency in number of batches seen.\n",
            "Epoch 1/200\n",
            "3/3 [==============================] - ETA: 0s - loss: 1.2865 - accuracy: 0.4750\n",
            "Epoch 00001: val_accuracy improved from -inf to 0.50000, saving model to alexnet_1.h5\n",
            "3/3 [==============================] - 0s 153ms/step - loss: 1.2865 - accuracy: 0.4750 - val_loss: 1.1009 - val_accuracy: 0.5000\n",
            "Epoch 2/200\n",
            "1/3 [=========>....................] - ETA: 0s - loss: 1.0870 - accuracy: 0.4375\n",
            "Epoch 00002: val_accuracy did not improve from 0.50000\n",
            "3/3 [==============================] - 0s 13ms/step - loss: 1.0882 - accuracy: 0.4000 - val_loss: 1.0872 - val_accuracy: 0.5000\n",
            "Epoch 3/200\n",
            "1/3 [=========>....................] - ETA: 0s - loss: 1.0441 - accuracy: 0.5312\n",
            "Epoch 00003: val_accuracy did not improve from 0.50000\n",
            "3/3 [==============================] - 0s 12ms/step - loss: 1.0781 - accuracy: 0.5000 - val_loss: 1.0794 - val_accuracy: 0.5000\n",
            "Epoch 4/200\n",
            "1/3 [=========>....................] - ETA: 0s - loss: 1.0894 - accuracy: 0.3750\n",
            "Epoch 00004: val_accuracy did not improve from 0.50000\n",
            "3/3 [==============================] - 0s 12ms/step - loss: 1.0787 - accuracy: 0.4625 - val_loss: 1.0995 - val_accuracy: 0.5000\n",
            "Epoch 5/200\n",
            "1/3 [=========>....................] - ETA: 0s - loss: 1.0664 - accuracy: 0.4688\n",
            "Epoch 00005: val_accuracy did not improve from 0.50000\n",
            "3/3 [==============================] - 0s 12ms/step - loss: 1.0655 - accuracy: 0.5000 - val_loss: 1.1090 - val_accuracy: 0.5000\n",
            "Epoch 6/200\n",
            "1/3 [=========>....................] - ETA: 0s - loss: 1.1017 - accuracy: 0.4062\n",
            "Epoch 00006: val_accuracy did not improve from 0.50000\n",
            "3/3 [==============================] - 0s 13ms/step - loss: 1.0477 - accuracy: 0.5000 - val_loss: 1.0901 - val_accuracy: 0.5000\n",
            "Epoch 7/200\n",
            "1/3 [=========>....................] - ETA: 0s - loss: 1.0002 - accuracy: 0.5312\n",
            "Epoch 00007: val_accuracy did not improve from 0.50000\n",
            "3/3 [==============================] - 0s 12ms/step - loss: 1.0662 - accuracy: 0.5000 - val_loss: 1.0127 - val_accuracy: 0.5000\n",
            "Epoch 8/200\n",
            "1/3 [=========>....................] - ETA: 0s - loss: 1.0215 - accuracy: 0.5000\n",
            "Epoch 00008: val_accuracy did not improve from 0.50000\n",
            "3/3 [==============================] - 0s 12ms/step - loss: 1.0135 - accuracy: 0.5000 - val_loss: 0.9619 - val_accuracy: 0.5000\n",
            "Epoch 9/200\n",
            "1/3 [=========>....................] - ETA: 0s - loss: 1.0215 - accuracy: 0.4062\n",
            "Epoch 00009: val_accuracy did not improve from 0.50000\n",
            "3/3 [==============================] - 0s 13ms/step - loss: 0.9747 - accuracy: 0.5000 - val_loss: 1.0925 - val_accuracy: 0.5000\n",
            "Epoch 10/200\n",
            "1/3 [=========>....................] - ETA: 0s - loss: 1.0551 - accuracy: 0.5000\n",
            "Epoch 00010: val_accuracy did not improve from 0.50000\n",
            "3/3 [==============================] - 0s 12ms/step - loss: 0.9650 - accuracy: 0.5000 - val_loss: 0.9054 - val_accuracy: 0.5000\n",
            "Epoch 11/200\n",
            "1/3 [=========>....................] - ETA: 0s - loss: 0.9840 - accuracy: 0.4688\n",
            "Epoch 00011: val_accuracy did not improve from 0.50000\n",
            "3/3 [==============================] - 0s 12ms/step - loss: 0.9461 - accuracy: 0.5000 - val_loss: 0.8346 - val_accuracy: 0.5000\n",
            "Epoch 12/200\n",
            "1/3 [=========>....................] - ETA: 0s - loss: 0.8444 - accuracy: 0.4375\n",
            "Epoch 00012: val_accuracy did not improve from 0.50000\n",
            "3/3 [==============================] - 0s 12ms/step - loss: 0.8733 - accuracy: 0.5000 - val_loss: 0.7822 - val_accuracy: 0.5000\n",
            "Epoch 13/200\n",
            "1/3 [=========>....................] - ETA: 0s - loss: 0.6697 - accuracy: 0.5938\n",
            "Epoch 00013: val_accuracy improved from 0.50000 to 0.80000, saving model to alexnet_1.h5\n",
            "3/3 [==============================] - 0s 103ms/step - loss: 0.8254 - accuracy: 0.5375 - val_loss: 0.7575 - val_accuracy: 0.8000\n",
            "Epoch 14/200\n",
            "1/3 [=========>....................] - ETA: 0s - loss: 0.8504 - accuracy: 0.5938\n",
            "Epoch 00014: val_accuracy did not improve from 0.80000\n",
            "3/3 [==============================] - 0s 12ms/step - loss: 0.8615 - accuracy: 0.5750 - val_loss: 0.6731 - val_accuracy: 0.8000\n",
            "Epoch 15/200\n",
            "1/3 [=========>....................] - ETA: 0s - loss: 0.8019 - accuracy: 0.6250\n",
            "Epoch 00015: val_accuracy did not improve from 0.80000\n",
            "3/3 [==============================] - 0s 13ms/step - loss: 1.0052 - accuracy: 0.4375 - val_loss: 0.8532 - val_accuracy: 0.6000\n",
            "Epoch 16/200\n",
            "1/3 [=========>....................] - ETA: 0s - loss: 1.0238 - accuracy: 0.3750\n",
            "Epoch 00016: val_accuracy did not improve from 0.80000\n",
            "3/3 [==============================] - 0s 12ms/step - loss: 0.9677 - accuracy: 0.4875 - val_loss: 1.1848 - val_accuracy: 0.5000\n",
            "Epoch 17/200\n",
            "1/3 [=========>....................] - ETA: 0s - loss: 1.0526 - accuracy: 0.5000\n",
            "Epoch 00017: val_accuracy did not improve from 0.80000\n",
            "3/3 [==============================] - 0s 11ms/step - loss: 0.9565 - accuracy: 0.5000 - val_loss: 0.8744 - val_accuracy: 0.5000\n",
            "Epoch 18/200\n",
            "1/3 [=========>....................] - ETA: 0s - loss: 0.8749 - accuracy: 0.5000\n",
            "Epoch 00018: val_accuracy did not improve from 0.80000\n",
            "3/3 [==============================] - 0s 13ms/step - loss: 0.8858 - accuracy: 0.5000 - val_loss: 0.8865 - val_accuracy: 0.5000\n",
            "Epoch 19/200\n",
            "1/3 [=========>....................] - ETA: 0s - loss: 0.8460 - accuracy: 0.5625\n",
            "Epoch 00019: val_accuracy did not improve from 0.80000\n",
            "3/3 [==============================] - 0s 11ms/step - loss: 0.8431 - accuracy: 0.5000 - val_loss: 0.8543 - val_accuracy: 0.5000\n",
            "Epoch 20/200\n",
            "1/3 [=========>....................] - ETA: 0s - loss: 0.7155 - accuracy: 0.6250\n",
            "Epoch 00020: val_accuracy did not improve from 0.80000\n",
            "3/3 [==============================] - 0s 13ms/step - loss: 0.8066 - accuracy: 0.5000 - val_loss: 0.8380 - val_accuracy: 0.5000\n",
            "Epoch 21/200\n",
            "1/3 [=========>....................] - ETA: 0s - loss: 0.8283 - accuracy: 0.4062\n",
            "Epoch 00021: val_accuracy did not improve from 0.80000\n",
            "3/3 [==============================] - 0s 13ms/step - loss: 0.7781 - accuracy: 0.5000 - val_loss: 1.0904 - val_accuracy: 0.5000\n",
            "Epoch 22/200\n",
            "1/3 [=========>....................] - ETA: 0s - loss: 0.9710 - accuracy: 0.4688\n",
            "Epoch 00022: val_accuracy did not improve from 0.80000\n",
            "3/3 [==============================] - 0s 11ms/step - loss: 0.8596 - accuracy: 0.5750 - val_loss: 0.8908 - val_accuracy: 0.6000\n",
            "Epoch 23/200\n",
            "1/3 [=========>....................] - ETA: 0s - loss: 0.8436 - accuracy: 0.5938\n",
            "Epoch 00023: val_accuracy did not improve from 0.80000\n",
            "3/3 [==============================] - 0s 12ms/step - loss: 0.9290 - accuracy: 0.6250 - val_loss: 0.8366 - val_accuracy: 0.7000\n",
            "Epoch 24/200\n",
            "1/3 [=========>....................] - ETA: 0s - loss: 0.7558 - accuracy: 0.5625\n",
            "Epoch 00024: val_accuracy did not improve from 0.80000\n",
            "3/3 [==============================] - 0s 12ms/step - loss: 0.8723 - accuracy: 0.5125 - val_loss: 0.9686 - val_accuracy: 0.4000\n",
            "Epoch 25/200\n",
            "1/3 [=========>....................] - ETA: 0s - loss: 1.0808 - accuracy: 0.3125\n",
            "Epoch 00025: val_accuracy did not improve from 0.80000\n",
            "3/3 [==============================] - 0s 11ms/step - loss: 1.0511 - accuracy: 0.3250 - val_loss: 0.9873 - val_accuracy: 0.4000\n",
            "Epoch 26/200\n",
            "1/3 [=========>....................] - ETA: 0s - loss: 1.0246 - accuracy: 0.4062\n",
            "Epoch 00026: val_accuracy did not improve from 0.80000\n",
            "3/3 [==============================] - 0s 13ms/step - loss: 0.9322 - accuracy: 0.4875 - val_loss: 0.9817 - val_accuracy: 0.5000\n",
            "Epoch 27/200\n",
            "1/3 [=========>....................] - ETA: 0s - loss: 0.8718 - accuracy: 0.3750\n",
            "Epoch 00027: val_accuracy did not improve from 0.80000\n",
            "3/3 [==============================] - 0s 11ms/step - loss: 1.1640 - accuracy: 0.4875 - val_loss: 0.9594 - val_accuracy: 0.4000\n",
            "Epoch 28/200\n",
            "1/3 [=========>....................] - ETA: 0s - loss: 0.9180 - accuracy: 0.5312\n",
            "Epoch 00028: val_accuracy did not improve from 0.80000\n",
            "3/3 [==============================] - 0s 13ms/step - loss: 0.9844 - accuracy: 0.4750 - val_loss: 0.9628 - val_accuracy: 0.5000\n",
            "Epoch 29/200\n",
            "1/3 [=========>....................] - ETA: 0s - loss: 1.0329 - accuracy: 0.5000\n",
            "Epoch 00029: val_accuracy did not improve from 0.80000\n",
            "3/3 [==============================] - 0s 12ms/step - loss: 1.0181 - accuracy: 0.5000 - val_loss: 0.9869 - val_accuracy: 0.5000\n",
            "Epoch 30/200\n",
            "1/3 [=========>....................] - ETA: 0s - loss: 1.0130 - accuracy: 0.5312\n",
            "Epoch 00030: val_accuracy did not improve from 0.80000\n",
            "3/3 [==============================] - 0s 13ms/step - loss: 1.0188 - accuracy: 0.5000 - val_loss: 0.9230 - val_accuracy: 0.5000\n",
            "Epoch 31/200\n",
            "1/3 [=========>....................] - ETA: 0s - loss: 0.9086 - accuracy: 0.5625\n",
            "Epoch 00031: val_accuracy did not improve from 0.80000\n",
            "3/3 [==============================] - 0s 12ms/step - loss: 0.9378 - accuracy: 0.5250 - val_loss: 0.8110 - val_accuracy: 0.8000\n",
            "Epoch 32/200\n",
            "1/3 [=========>....................] - ETA: 0s - loss: 0.9046 - accuracy: 0.4688\n",
            "Epoch 00032: val_accuracy did not improve from 0.80000\n",
            "3/3 [==============================] - 0s 14ms/step - loss: 0.8311 - accuracy: 0.5500 - val_loss: 0.8537 - val_accuracy: 0.5000\n",
            "Epoch 33/200\n",
            "1/3 [=========>....................] - ETA: 0s - loss: 0.7745 - accuracy: 0.5000\n",
            "Epoch 00033: val_accuracy did not improve from 0.80000\n",
            "3/3 [==============================] - 0s 12ms/step - loss: 0.8212 - accuracy: 0.5500 - val_loss: 0.5555 - val_accuracy: 0.8000\n",
            "Epoch 00033: early stopping\n"
          ],
          "name": "stdout"
        },
        {
          "output_type": "execute_result",
          "data": {
            "text/plain": [
              "<tensorflow.python.keras.callbacks.History at 0x7f4e251922b0>"
            ]
          },
          "metadata": {
            "tags": []
          },
          "execution_count": 182
        }
      ]
    },
    {
      "cell_type": "code",
      "metadata": {
        "id": "NWTB5BinJv2k",
        "outputId": "8eec99d1-9afd-491b-c678-3168d9846c4b",
        "colab": {
          "base_uri": "https://localhost:8080/",
          "height": 295
        }
      },
      "source": [
        "import matplotlib.pyplot as plt\n",
        "plt.plot(lizon.history[\"accuracy\"])\n",
        "plt.plot(lizon.history['val_accuracy'])\n",
        "plt.plot(lizon.history['loss'])\n",
        "plt.plot(lizon.history['val_loss'])\n",
        "plt.title(\"model accuracy\")\n",
        "plt.ylabel(\"Accuracy\")\n",
        "plt.xlabel(\"Epoch\")\n",
        "plt.legend([\"Accuracy\",\"Validation Accuracy\",\"loss\",\"Validation Loss\"])\n",
        "plt.show()"
      ],
      "execution_count": 183,
      "outputs": [
        {
          "output_type": "display_data",
          "data": {
            "image/png": "[encoded data removed]",
            "text/plain": [
              "<Figure size 432x288 with 1 Axes>"
            ]
          },
          "metadata": {
            "tags": [],
            "needs_background": "light"
          }
        }
      ]
    },
    {
      "cell_type": "code",
      "metadata": {
        "id": "MF1B1r82sUEx"
      },
      "source": [
        "from keras.preprocessing.image import ImageDataGenerator\n",
        "train_datagen = ImageDataGenerator(rescale = 1/255.,\n",
        "                                  horizontal_flip = True,\n",
        "                                  zoom_range = 0.3,\n",
        "                                  rotation_range = 30)\n",
        "val_datagen= ImageDataGenerator(rescale=1./255)\n",
        "\n",
        "train_gen = train_datagen.flow(train_x,train_y, batch_size=32)\n",
        "val_gen = val_datagen.flow(eval_x,eval_y, batch_size=32)\n",
        "test_gen = val_datagen.flow(test_x,test_y, batch_size =32, shuffle = False)"
      ],
      "execution_count": 41,
      "outputs": []
    },
    {
      "cell_type": "code",
      "metadata": {
        "id": "CPHolMmlsWT0",
        "outputId": "0347631f-701b-4dd5-9617-5364c38dfd66",
        "colab": {
          "base_uri": "https://localhost:8080/",
          "height": 1000
        }
      },
      "source": [
        "STEP_SIZE_TRAIN=train_gen.n//train_gen.batch_size\n",
        "STEP_SIZE_VALID=val_gen.n//val_gen.batch_size\n",
        "STEP_SIZE_TEST=test_gen.n//test_gen.batch_size\n",
        "ep = 100\n",
        "classifier.fit_generator(generator = train_gen, validation_data= val_gen,\n",
        "                           steps_per_epoch=STEP_SIZE_TRAIN, epochs=ep, \n",
        "                           validation_steps=STEP_SIZE_VALID)"
      ],
      "execution_count": 43,
      "outputs": [
        {
          "output_type": "stream",
          "text": [
            "WARNING:tensorflow:From <ipython-input-43-372460def1fa>:7: Model.fit_generator (from tensorflow.python.keras.engine.training) is deprecated and will be removed in a future version.\n",
            "Instructions for updating:\n",
            "Please use Model.fit, which supports generators.\n",
            "Epoch 1/100\n",
            "2/2 [==============================] - 1s 260ms/step - loss: 13.1706 - accuracy: 0.4531\n",
            "Epoch 2/100\n",
            "2/2 [==============================] - 0s 240ms/step - loss: 4.7036 - accuracy: 0.2812\n",
            "Epoch 3/100\n",
            "2/2 [==============================] - 0s 129ms/step - loss: 2.4718 - accuracy: 0.3125\n",
            "Epoch 4/100\n",
            "2/2 [==============================] - 0s 234ms/step - loss: 2.6478 - accuracy: 0.3281\n",
            "Epoch 5/100\n",
            "2/2 [==============================] - 0s 132ms/step - loss: 1.4242 - accuracy: 0.5208\n",
            "Epoch 6/100\n",
            "2/2 [==============================] - 0s 234ms/step - loss: 2.0586 - accuracy: 0.3750\n",
            "Epoch 7/100\n",
            "2/2 [==============================] - 0s 235ms/step - loss: 1.7608 - accuracy: 0.4688\n",
            "Epoch 8/100\n",
            "2/2 [==============================] - 0s 131ms/step - loss: 1.4726 - accuracy: 0.4167\n",
            "Epoch 9/100\n",
            "2/2 [==============================] - 0s 127ms/step - loss: 1.5628 - accuracy: 0.2708\n",
            "Epoch 10/100\n",
            "2/2 [==============================] - 0s 130ms/step - loss: 1.4352 - accuracy: 0.4583\n",
            "Epoch 11/100\n",
            "2/2 [==============================] - 0s 132ms/step - loss: 1.5146 - accuracy: 0.3750\n",
            "Epoch 12/100\n",
            "2/2 [==============================] - 0s 127ms/step - loss: 1.6093 - accuracy: 0.2083\n",
            "Epoch 13/100\n",
            "2/2 [==============================] - 0s 125ms/step - loss: 1.4686 - accuracy: 0.3750\n",
            "Epoch 14/100\n",
            "2/2 [==============================] - 0s 235ms/step - loss: 1.5262 - accuracy: 0.2969\n",
            "Epoch 15/100\n",
            "2/2 [==============================] - 0s 231ms/step - loss: 1.3943 - accuracy: 0.5000\n",
            "Epoch 16/100\n",
            "2/2 [==============================] - 0s 231ms/step - loss: 1.3305 - accuracy: 0.5000\n",
            "Epoch 17/100\n",
            "2/2 [==============================] - 0s 238ms/step - loss: 1.4633 - accuracy: 0.4219\n",
            "Epoch 18/100\n",
            "2/2 [==============================] - 0s 134ms/step - loss: 1.2938 - accuracy: 0.5000\n",
            "Epoch 19/100\n",
            "2/2 [==============================] - 0s 131ms/step - loss: 1.3391 - accuracy: 0.5000\n",
            "Epoch 20/100\n",
            "2/2 [==============================] - 0s 239ms/step - loss: 1.4269 - accuracy: 0.3958\n",
            "Epoch 21/100\n",
            "2/2 [==============================] - 0s 236ms/step - loss: 1.2853 - accuracy: 0.5625\n",
            "Epoch 22/100\n",
            "2/2 [==============================] - 0s 134ms/step - loss: 1.4078 - accuracy: 0.4792\n",
            "Epoch 23/100\n",
            "2/2 [==============================] - 0s 129ms/step - loss: 1.3090 - accuracy: 0.5000\n",
            "Epoch 24/100\n",
            "2/2 [==============================] - 0s 244ms/step - loss: 1.3374 - accuracy: 0.4219\n",
            "Epoch 25/100\n",
            "2/2 [==============================] - 0s 235ms/step - loss: 1.3978 - accuracy: 0.4167\n",
            "Epoch 26/100\n",
            "2/2 [==============================] - 0s 235ms/step - loss: 1.4137 - accuracy: 0.3125\n",
            "Epoch 27/100\n",
            "2/2 [==============================] - 0s 236ms/step - loss: 1.3347 - accuracy: 0.4219\n",
            "Epoch 28/100\n",
            "2/2 [==============================] - 0s 239ms/step - loss: 1.3217 - accuracy: 0.4375\n",
            "Epoch 29/100\n",
            "2/2 [==============================] - 0s 232ms/step - loss: 1.2602 - accuracy: 0.5625\n",
            "Epoch 30/100\n",
            "2/2 [==============================] - 0s 125ms/step - loss: 1.3404 - accuracy: 0.4583\n",
            "Epoch 31/100\n",
            "2/2 [==============================] - 0s 139ms/step - loss: 1.3253 - accuracy: 0.5000\n",
            "Epoch 32/100\n",
            "2/2 [==============================] - 0s 134ms/step - loss: 1.2566 - accuracy: 0.5833\n",
            "Epoch 33/100\n",
            "2/2 [==============================] - 0s 136ms/step - loss: 1.2814 - accuracy: 0.5417\n",
            "Epoch 34/100\n",
            "2/2 [==============================] - 0s 241ms/step - loss: 1.3491 - accuracy: 0.4583\n",
            "Epoch 35/100\n",
            "2/2 [==============================] - 0s 133ms/step - loss: 1.3130 - accuracy: 0.4792\n",
            "Epoch 36/100\n",
            "2/2 [==============================] - 0s 241ms/step - loss: 1.2932 - accuracy: 0.4583\n",
            "Epoch 37/100\n",
            "2/2 [==============================] - 0s 245ms/step - loss: 1.2566 - accuracy: 0.4844\n",
            "Epoch 38/100\n",
            "2/2 [==============================] - 0s 237ms/step - loss: 1.3359 - accuracy: 0.4792\n",
            "Epoch 39/100\n",
            "2/2 [==============================] - 0s 244ms/step - loss: 1.3562 - accuracy: 0.4375\n",
            "Epoch 40/100\n",
            "2/2 [==============================] - 0s 238ms/step - loss: 1.3591 - accuracy: 0.4167\n",
            "Epoch 41/100\n",
            "2/2 [==============================] - 0s 134ms/step - loss: 1.2879 - accuracy: 0.5000\n",
            "Epoch 42/100\n",
            "2/2 [==============================] - 0s 128ms/step - loss: 1.3309 - accuracy: 0.4583\n",
            "Epoch 43/100\n",
            "2/2 [==============================] - 0s 132ms/step - loss: 1.3367 - accuracy: 0.4167\n",
            "Epoch 44/100\n",
            "2/2 [==============================] - 0s 230ms/step - loss: 1.2921 - accuracy: 0.4531\n",
            "Epoch 45/100\n",
            "2/2 [==============================] - 0s 242ms/step - loss: 1.2737 - accuracy: 0.4583\n",
            "Epoch 46/100\n",
            "2/2 [==============================] - 0s 240ms/step - loss: 1.3158 - accuracy: 0.4844\n",
            "Epoch 47/100\n",
            "2/2 [==============================] - 0s 135ms/step - loss: 1.2376 - accuracy: 0.5208\n",
            "Epoch 48/100\n",
            "2/2 [==============================] - 0s 239ms/step - loss: 1.2570 - accuracy: 0.4688\n",
            "Epoch 49/100\n",
            "2/2 [==============================] - 0s 234ms/step - loss: 1.2525 - accuracy: 0.5156\n",
            "Epoch 50/100\n",
            "2/2 [==============================] - 0s 239ms/step - loss: 1.2553 - accuracy: 0.5000\n",
            "Epoch 51/100\n",
            "2/2 [==============================] - 0s 238ms/step - loss: 1.1675 - accuracy: 0.5833\n",
            "Epoch 52/100\n",
            "2/2 [==============================] - 0s 243ms/step - loss: 1.2550 - accuracy: 0.5000\n",
            "Epoch 53/100\n",
            "2/2 [==============================] - 0s 239ms/step - loss: 1.2587 - accuracy: 0.4688\n",
            "Epoch 54/100\n",
            "2/2 [==============================] - 0s 244ms/step - loss: 1.2586 - accuracy: 0.4844\n",
            "Epoch 55/100\n",
            "2/2 [==============================] - 0s 231ms/step - loss: 1.3249 - accuracy: 0.4375\n",
            "Epoch 56/100\n",
            "2/2 [==============================] - 0s 235ms/step - loss: 1.2855 - accuracy: 0.5000\n",
            "Epoch 57/100\n",
            "2/2 [==============================] - 0s 133ms/step - loss: 1.2774 - accuracy: 0.4583\n",
            "Epoch 58/100\n",
            "2/2 [==============================] - 0s 133ms/step - loss: 1.2515 - accuracy: 0.4583\n",
            "Epoch 59/100\n",
            "2/2 [==============================] - 0s 232ms/step - loss: 1.2216 - accuracy: 0.5000\n",
            "Epoch 60/100\n",
            "2/2 [==============================] - 0s 239ms/step - loss: 1.2721 - accuracy: 0.5208\n",
            "Epoch 61/100\n",
            "2/2 [==============================] - 0s 137ms/step - loss: 1.2436 - accuracy: 0.4792\n",
            "Epoch 62/100\n",
            "2/2 [==============================] - 0s 234ms/step - loss: 1.2357 - accuracy: 0.5000\n",
            "Epoch 63/100\n",
            "2/2 [==============================] - 0s 237ms/step - loss: 1.2404 - accuracy: 0.4792\n",
            "Epoch 64/100\n",
            "2/2 [==============================] - 0s 130ms/step - loss: 1.2609 - accuracy: 0.4375\n",
            "Epoch 65/100\n",
            "2/2 [==============================] - 0s 235ms/step - loss: 1.2583 - accuracy: 0.5000\n",
            "Epoch 66/100\n",
            "2/2 [==============================] - 0s 233ms/step - loss: 1.2164 - accuracy: 0.5156\n",
            "Epoch 67/100\n",
            "2/2 [==============================] - 0s 234ms/step - loss: 1.2646 - accuracy: 0.4531\n",
            "Epoch 68/100\n",
            "2/2 [==============================] - 0s 235ms/step - loss: 1.2540 - accuracy: 0.4844\n",
            "Epoch 69/100\n",
            "2/2 [==============================] - 0s 235ms/step - loss: 1.2643 - accuracy: 0.4792\n",
            "Epoch 70/100\n",
            "2/2 [==============================] - 0s 132ms/step - loss: 1.2572 - accuracy: 0.5000\n",
            "Epoch 71/100\n",
            "2/2 [==============================] - 0s 242ms/step - loss: 1.2325 - accuracy: 0.4531\n",
            "Epoch 72/100\n",
            "2/2 [==============================] - 0s 239ms/step - loss: 1.2722 - accuracy: 0.4167\n",
            "Epoch 73/100\n",
            "2/2 [==============================] - 0s 236ms/step - loss: 1.2524 - accuracy: 0.4688\n",
            "Epoch 74/100\n",
            "2/2 [==============================] - 0s 234ms/step - loss: 1.2337 - accuracy: 0.4583\n",
            "Epoch 75/100\n",
            "2/2 [==============================] - 0s 128ms/step - loss: 1.2185 - accuracy: 0.5000\n",
            "Epoch 76/100\n",
            "2/2 [==============================] - 0s 239ms/step - loss: 1.3037 - accuracy: 0.4583\n",
            "Epoch 77/100\n",
            "2/2 [==============================] - 0s 132ms/step - loss: 1.2249 - accuracy: 0.5208\n",
            "Epoch 78/100\n",
            "2/2 [==============================] - 0s 229ms/step - loss: 1.1717 - accuracy: 0.5625\n",
            "Epoch 79/100\n",
            "2/2 [==============================] - 0s 238ms/step - loss: 1.2451 - accuracy: 0.5000\n",
            "Epoch 80/100\n",
            "2/2 [==============================] - 0s 232ms/step - loss: 1.2073 - accuracy: 0.5208\n",
            "Epoch 81/100\n",
            "2/2 [==============================] - 0s 232ms/step - loss: 1.2266 - accuracy: 0.4792\n",
            "Epoch 82/100\n",
            "2/2 [==============================] - 0s 235ms/step - loss: 1.2072 - accuracy: 0.5312\n",
            "Epoch 83/100\n",
            "2/2 [==============================] - 0s 241ms/step - loss: 1.2370 - accuracy: 0.4792\n",
            "Epoch 84/100\n",
            "2/2 [==============================] - 0s 237ms/step - loss: 1.2010 - accuracy: 0.5417\n",
            "Epoch 85/100\n",
            "2/2 [==============================] - 0s 233ms/step - loss: 1.2507 - accuracy: 0.4688\n",
            "Epoch 86/100\n",
            "2/2 [==============================] - 0s 129ms/step - loss: 1.2115 - accuracy: 0.5625\n",
            "Epoch 87/100\n",
            "2/2 [==============================] - 0s 237ms/step - loss: 1.2301 - accuracy: 0.4844\n",
            "Epoch 88/100\n",
            "2/2 [==============================] - 0s 230ms/step - loss: 1.2145 - accuracy: 0.5156\n",
            "Epoch 89/100\n",
            "2/2 [==============================] - 0s 238ms/step - loss: 1.1932 - accuracy: 0.5208\n",
            "Epoch 90/100\n",
            "2/2 [==============================] - 0s 127ms/step - loss: 1.2508 - accuracy: 0.4583\n",
            "Epoch 91/100\n",
            "2/2 [==============================] - 0s 232ms/step - loss: 1.1752 - accuracy: 0.5417\n",
            "Epoch 92/100\n",
            "2/2 [==============================] - 0s 229ms/step - loss: 1.1792 - accuracy: 0.5417\n",
            "Epoch 93/100\n",
            "2/2 [==============================] - 0s 233ms/step - loss: 1.2217 - accuracy: 0.4844\n",
            "Epoch 94/100\n",
            "2/2 [==============================] - 0s 126ms/step - loss: 1.2071 - accuracy: 0.5000\n",
            "Epoch 95/100\n",
            "2/2 [==============================] - 0s 226ms/step - loss: 1.2282 - accuracy: 0.5000\n",
            "Epoch 96/100\n",
            "2/2 [==============================] - 0s 231ms/step - loss: 1.1774 - accuracy: 0.5417\n",
            "Epoch 97/100\n",
            "2/2 [==============================] - 0s 231ms/step - loss: 1.2537 - accuracy: 0.4531\n",
            "Epoch 98/100\n",
            "2/2 [==============================] - 0s 127ms/step - loss: 1.2156 - accuracy: 0.5208\n",
            "Epoch 99/100\n",
            "2/2 [==============================] - 0s 227ms/step - loss: 1.2483 - accuracy: 0.4583\n",
            "Epoch 100/100\n",
            "2/2 [==============================] - 0s 228ms/step - loss: 1.2007 - accuracy: 0.5469\n"
          ],
          "name": "stdout"
        },
        {
          "output_type": "execute_result",
          "data": {
            "text/plain": [
              "<tensorflow.python.keras.callbacks.History at 0x7f1ebc0c95f8>"
            ]
          },
          "metadata": {
            "tags": []
          },
          "execution_count": 43
        }
      ]
    },
    {
      "cell_type": "code",
      "metadata": {
        "id": "OHAob_P6qpO6",
        "outputId": "1458ac47-5900-4a2c-d419-b29b45247b6f",
        "colab": {
          "base_uri": "https://localhost:8080/",
          "height": 50
        }
      },
      "source": [
        "#Once the model is trained we can evaluate it on Test data.\n",
        "\n",
        "# Evaluating the model \n",
        "alexscore = model.evaluate(test_x, test_y, verbose=0)\n",
        "print('Test Loss:', alexscore[0])\n",
        "print('Test accuracy:', alexscore[1])"
      ],
      "execution_count": 184,
      "outputs": [
        {
          "output_type": "stream",
          "text": [
            "Test Loss: 0.43827977776527405\n",
            "Test accuracy: 0.800000011920929\n"
          ],
          "name": "stdout"
        }
      ]
    },
    {
      "cell_type": "code",
      "metadata": {
        "id": "dZAcXDv4qtnc",
        "outputId": "bdada288-f3e1-4e2c-ac53-7689ca7f9263",
        "colab": {
          "base_uri": "https://localhost:8080/",
          "height": 572
        }
      },
      "source": [
        "from sklearn.metrics import classification_report,confusion_matrix\n",
        "Y_pred = model.predict(test_x)\n",
        "y_pred = np.argmax(Y_pred, axis=1)\n",
        "target_names = ['class 0(car)', 'class 1(bike)','class 2(random)']\n",
        "                                               \n",
        "print(classification_report(np.argmax(test_y,axis=1), y_pred,target_names=target_names))\n",
        "\n",
        "print(confusion_matrix(np.argmax(test_y,axis=1), Y_pred))"
      ],
      "execution_count": 186,
      "outputs": [
        {
          "output_type": "stream",
          "text": [
            "WARNING:tensorflow:6 out of the last 10 calls to <function Model.make_predict_function.<locals>.predict_function at 0x7f4e20296620> triggered tf.function retracing. Tracing is expensive and the excessive number of tracings could be due to (1) creating @tf.function repeatedly in a loop, (2) passing tensors with different shapes, (3) passing Python objects instead of tensors. For (1), please define your @tf.function outside of the loop. For (2), @tf.function has experimental_relax_shapes=True option that relaxes argument shapes that can avoid unnecessary retracing. For (3), please refer to https://www.tensorflow.org/tutorials/customization/performance#python_or_tensor_args and https://www.tensorflow.org/api_docs/python/tf/function for  more details.\n",
            "                 precision    recall  f1-score   support\n",
            "\n",
            "   class 0(car)       0.00      0.00      0.00         2\n",
            "  class 1(bike)       1.00      1.00      1.00         3\n",
            "class 2(random)       0.71      1.00      0.83         5\n",
            "\n",
            "       accuracy                           0.80        10\n",
            "      macro avg       0.57      0.67      0.61        10\n",
            "   weighted avg       0.66      0.80      0.72        10\n",
            "\n"
          ],
          "name": "stdout"
        },
        {
          "output_type": "stream",
          "text": [
            "/usr/local/lib/python3.6/dist-packages/sklearn/metrics/_classification.py:1272: UndefinedMetricWarning: Precision and F-score are ill-defined and being set to 0.0 in labels with no predicted samples. Use `zero_division` parameter to control this behavior.\n",
            "  _warn_prf(average, modifier, msg_start, len(result))\n"
          ],
          "name": "stderr"
        },
        {
          "output_type": "error",
          "ename": "ValueError",
          "evalue": "ignored",
          "traceback": [
            "\u001b[0;31m---------------------------------------------------------------------------\u001b[0m",
            "\u001b[0;31mValueError\u001b[0m                                Traceback (most recent call last)",
            "\u001b[0;32m<ipython-input-186-4e7eae5765a1>\u001b[0m in \u001b[0;36m<module>\u001b[0;34m()\u001b[0m\n\u001b[1;32m      6\u001b[0m \u001b[0mprint\u001b[0m\u001b[0;34m(\u001b[0m\u001b[0mclassification_report\u001b[0m\u001b[0;34m(\u001b[0m\u001b[0mnp\u001b[0m\u001b[0;34m.\u001b[0m\u001b[0margmax\u001b[0m\u001b[0;34m(\u001b[0m\u001b[0mtest_y\u001b[0m\u001b[0;34m,\u001b[0m\u001b[0maxis\u001b[0m\u001b[0;34m=\u001b[0m\u001b[0;36m1\u001b[0m\u001b[0;34m)\u001b[0m\u001b[0;34m,\u001b[0m \u001b[0my_pred\u001b[0m\u001b[0;34m,\u001b[0m\u001b[0mtarget_names\u001b[0m\u001b[0;34m=\u001b[0m\u001b[0mtarget_names\u001b[0m\u001b[0;34m)\u001b[0m\u001b[0;34m)\u001b[0m\u001b[0;34m\u001b[0m\u001b[0;34m\u001b[0m\u001b[0m\n\u001b[1;32m      7\u001b[0m \u001b[0;34m\u001b[0m\u001b[0m\n\u001b[0;32m----> 8\u001b[0;31m \u001b[0mprint\u001b[0m\u001b[0;34m(\u001b[0m\u001b[0mconfusion_matrix\u001b[0m\u001b[0;34m(\u001b[0m\u001b[0mnp\u001b[0m\u001b[0;34m.\u001b[0m\u001b[0margmax\u001b[0m\u001b[0;34m(\u001b[0m\u001b[0mtest_y\u001b[0m\u001b[0;34m,\u001b[0m\u001b[0maxis\u001b[0m\u001b[0;34m=\u001b[0m\u001b[0;36m1\u001b[0m\u001b[0;34m)\u001b[0m\u001b[0;34m,\u001b[0m \u001b[0mY_pred\u001b[0m\u001b[0;34m)\u001b[0m\u001b[0;34m)\u001b[0m\u001b[0;34m\u001b[0m\u001b[0;34m\u001b[0m\u001b[0m\n\u001b[0m",
            "\u001b[0;32m/usr/local/lib/python3.6/dist-packages/sklearn/metrics/_classification.py\u001b[0m in \u001b[0;36mconfusion_matrix\u001b[0;34m(y_true, y_pred, labels, sample_weight, normalize)\u001b[0m\n\u001b[1;32m    266\u001b[0m \u001b[0;34m\u001b[0m\u001b[0m\n\u001b[1;32m    267\u001b[0m     \"\"\"\n\u001b[0;32m--> 268\u001b[0;31m     \u001b[0my_type\u001b[0m\u001b[0;34m,\u001b[0m \u001b[0my_true\u001b[0m\u001b[0;34m,\u001b[0m \u001b[0my_pred\u001b[0m \u001b[0;34m=\u001b[0m \u001b[0m_check_targets\u001b[0m\u001b[0;34m(\u001b[0m\u001b[0my_true\u001b[0m\u001b[0;34m,\u001b[0m \u001b[0my_pred\u001b[0m\u001b[0;34m)\u001b[0m\u001b[0;34m\u001b[0m\u001b[0;34m\u001b[0m\u001b[0m\n\u001b[0m\u001b[1;32m    269\u001b[0m     \u001b[0;32mif\u001b[0m \u001b[0my_type\u001b[0m \u001b[0;32mnot\u001b[0m \u001b[0;32min\u001b[0m \u001b[0;34m(\u001b[0m\u001b[0;34m\"binary\"\u001b[0m\u001b[0;34m,\u001b[0m \u001b[0;34m\"multiclass\"\u001b[0m\u001b[0;34m)\u001b[0m\u001b[0;34m:\u001b[0m\u001b[0;34m\u001b[0m\u001b[0;34m\u001b[0m\u001b[0m\n\u001b[1;32m    270\u001b[0m         \u001b[0;32mraise\u001b[0m \u001b[0mValueError\u001b[0m\u001b[0;34m(\u001b[0m\u001b[0;34m\"%s is not supported\"\u001b[0m \u001b[0;34m%\u001b[0m \u001b[0my_type\u001b[0m\u001b[0;34m)\u001b[0m\u001b[0;34m\u001b[0m\u001b[0;34m\u001b[0m\u001b[0m\n",
            "\u001b[0;32m/usr/local/lib/python3.6/dist-packages/sklearn/metrics/_classification.py\u001b[0m in \u001b[0;36m_check_targets\u001b[0;34m(y_true, y_pred)\u001b[0m\n\u001b[1;32m     88\u001b[0m     \u001b[0;32mif\u001b[0m \u001b[0mlen\u001b[0m\u001b[0;34m(\u001b[0m\u001b[0my_type\u001b[0m\u001b[0;34m)\u001b[0m \u001b[0;34m>\u001b[0m \u001b[0;36m1\u001b[0m\u001b[0;34m:\u001b[0m\u001b[0;34m\u001b[0m\u001b[0;34m\u001b[0m\u001b[0m\n\u001b[1;32m     89\u001b[0m         raise ValueError(\"Classification metrics can't handle a mix of {0} \"\n\u001b[0;32m---> 90\u001b[0;31m                          \"and {1} targets\".format(type_true, type_pred))\n\u001b[0m\u001b[1;32m     91\u001b[0m \u001b[0;34m\u001b[0m\u001b[0m\n\u001b[1;32m     92\u001b[0m     \u001b[0;31m# We can't have more than one value on y_type => The set is no more needed\u001b[0m\u001b[0;34m\u001b[0m\u001b[0;34m\u001b[0m\u001b[0;34m\u001b[0m\u001b[0m\n",
            "\u001b[0;31mValueError\u001b[0m: Classification metrics can't handle a mix of multiclass and continuous-multioutput targets"
          ]
        }
      ]
    },
    {
      "cell_type": "code",
      "metadata": {
        "id": "HH-ZuqHW2L3x"
      },
      "source": [
        "import keras,os\n",
        "from keras.models import Sequential\n",
        "from keras.layers import Dense, Conv2D, MaxPool2D , Flatten\n",
        "from keras.preprocessing.image import ImageDataGenerator\n",
        "import numpy as np"
      ],
      "execution_count": 187,
      "outputs": []
    },
    {
      "cell_type": "code",
      "metadata": {
        "id": "nA5xkUha1BUo"
      },
      "source": [
        "#vgg16\n",
        "vggmodel = Sequential()\n",
        "vggmodel.add(Conv2D(input_shape=(256,256,3),filters=64,kernel_size=(3,3),padding=\"same\", activation=\"relu\"))\n",
        "vggmodel.add(Conv2D(filters=64,kernel_size=(3,3),padding=\"same\", activation=\"relu\"))\n",
        "vggmodel.add(MaxPool2D(pool_size=(2,2),strides=(2,2)))\n",
        "vggmodel.add(Conv2D(filters=128, kernel_size=(3,3), padding=\"same\", activation=\"relu\"))\n",
        "vggmodel.add(Conv2D(filters=128, kernel_size=(3,3), padding=\"same\", activation=\"relu\"))\n",
        "vggmodel.add(MaxPool2D(pool_size=(2,2),strides=(2,2)))\n",
        "vggmodel.add(Conv2D(filters=256, kernel_size=(3,3), padding=\"same\", activation=\"relu\"))\n",
        "vggmodel.add(Conv2D(filters=256, kernel_size=(3,3), padding=\"same\", activation=\"relu\"))\n",
        "vggmodel.add(Conv2D(filters=256, kernel_size=(3,3), padding=\"same\", activation=\"relu\"))\n",
        "vggmodel.add(MaxPool2D(pool_size=(2,2),strides=(2,2)))\n",
        "vggmodel.add(Conv2D(filters=512, kernel_size=(3,3), padding=\"same\", activation=\"relu\"))\n",
        "vggmodel.add(Conv2D(filters=512, kernel_size=(3,3), padding=\"same\", activation=\"relu\"))\n",
        "vggmodel.add(Conv2D(filters=512, kernel_size=(3,3), padding=\"same\", activation=\"relu\"))\n",
        "vggmodel.add(MaxPool2D(pool_size=(2,2),strides=(2,2)))\n",
        "vggmodel.add(Conv2D(filters=512, kernel_size=(3,3), padding=\"same\", activation=\"relu\"))\n",
        "vggmodel.add(Conv2D(filters=512, kernel_size=(3,3), padding=\"same\", activation=\"relu\"))\n",
        "vggmodel.add(Conv2D(filters=512, kernel_size=(3,3), padding=\"same\", activation=\"relu\"))\n",
        "vggmodel.add(MaxPool2D(pool_size=(2,2),strides=(2,2)))"
      ],
      "execution_count": 188,
      "outputs": []
    },
    {
      "cell_type": "code",
      "metadata": {
        "id": "l-Oa35rl2Q5M"
      },
      "source": [
        "vggmodel.add(Flatten())\n",
        "vggmodel.add(Dense(units=500,activation=\"relu\"))\n",
        "keras.layers.Dropout(0.2)\n",
        "vggmodel.add(Dense(units=500,activation=\"relu\"))\n",
        "keras.layers.Dropout(0.2)\n",
        "vggmodel.add(Dense(units=3, activation=\"softmax\"))"
      ],
      "execution_count": 189,
      "outputs": []
    },
    {
      "cell_type": "code",
      "metadata": {
        "id": "vj3OkIly2xbF",
        "outputId": "e95a1700-76e1-4c14-cc75-560d6fd08bea",
        "colab": {
          "base_uri": "https://localhost:8080/",
          "height": 883
        }
      },
      "source": [
        "vggmodel.summary()"
      ],
      "execution_count": 190,
      "outputs": [
        {
          "output_type": "stream",
          "text": [
            "Model: \"sequential_20\"\n",
            "_________________________________________________________________\n",
            "Layer (type)                 Output Shape              Param #   \n",
            "=================================================================\n",
            "conv2d_88 (Conv2D)           (None, 256, 256, 64)      1792      \n",
            "_________________________________________________________________\n",
            "conv2d_89 (Conv2D)           (None, 256, 256, 64)      36928     \n",
            "_________________________________________________________________\n",
            "max_pooling2d_60 (MaxPooling (None, 128, 128, 64)      0         \n",
            "_________________________________________________________________\n",
            "conv2d_90 (Conv2D)           (None, 128, 128, 128)     73856     \n",
            "_________________________________________________________________\n",
            "conv2d_91 (Conv2D)           (None, 128, 128, 128)     147584    \n",
            "_________________________________________________________________\n",
            "max_pooling2d_61 (MaxPooling (None, 64, 64, 128)       0         \n",
            "_________________________________________________________________\n",
            "conv2d_92 (Conv2D)           (None, 64, 64, 256)       295168    \n",
            "_________________________________________________________________\n",
            "conv2d_93 (Conv2D)           (None, 64, 64, 256)       590080    \n",
            "_________________________________________________________________\n",
            "conv2d_94 (Conv2D)           (None, 64, 64, 256)       590080    \n",
            "_________________________________________________________________\n",
            "max_pooling2d_62 (MaxPooling (None, 32, 32, 256)       0         \n",
            "_________________________________________________________________\n",
            "conv2d_95 (Conv2D)           (None, 32, 32, 512)       1180160   \n",
            "_________________________________________________________________\n",
            "conv2d_96 (Conv2D)           (None, 32, 32, 512)       2359808   \n",
            "_________________________________________________________________\n",
            "conv2d_97 (Conv2D)           (None, 32, 32, 512)       2359808   \n",
            "_________________________________________________________________\n",
            "max_pooling2d_63 (MaxPooling (None, 16, 16, 512)       0         \n",
            "_________________________________________________________________\n",
            "conv2d_98 (Conv2D)           (None, 16, 16, 512)       2359808   \n",
            "_________________________________________________________________\n",
            "conv2d_99 (Conv2D)           (None, 16, 16, 512)       2359808   \n",
            "_________________________________________________________________\n",
            "conv2d_100 (Conv2D)          (None, 16, 16, 512)       2359808   \n",
            "_________________________________________________________________\n",
            "max_pooling2d_64 (MaxPooling (None, 8, 8, 512)         0         \n",
            "_________________________________________________________________\n",
            "flatten_19 (Flatten)         (None, 32768)             0         \n",
            "_________________________________________________________________\n",
            "dense_45 (Dense)             (None, 500)               16384500  \n",
            "_________________________________________________________________\n",
            "dense_46 (Dense)             (None, 500)               250500    \n",
            "_________________________________________________________________\n",
            "dense_47 (Dense)             (None, 3)                 1503      \n",
            "=================================================================\n",
            "Total params: 31,351,191\n",
            "Trainable params: 31,351,191\n",
            "Non-trainable params: 0\n",
            "_________________________________________________________________\n"
          ],
          "name": "stdout"
        }
      ]
    },
    {
      "cell_type": "code",
      "metadata": {
        "id": "-97kUBD_ZfaH"
      },
      "source": [
        "#from keras.optimizers import Adam\n",
        "#opt = Adam(lr=0.001)\n",
        "vggmodel.compile(optimizer=\"adam\", loss=keras.losses.categorical_crossentropy, metrics=['accuracy'])"
      ],
      "execution_count": 191,
      "outputs": []
    },
    {
      "cell_type": "code",
      "metadata": {
        "id": "fGczUBGS24ft",
        "outputId": "e492f124-8d5c-44cc-cd66-102076548e6f",
        "colab": {
          "base_uri": "https://localhost:8080/",
          "height": 889
        }
      },
      "source": [
        "from keras.callbacks import ModelCheckpoint, EarlyStopping\n",
        "#checkpoint = ModelCheckpoint(\"vgg16_1.h5\", monitor='val_accuracy', verbose=1, save_best_only=True, save_weights_only=False, mode='auto', period=1)\n",
        "#early = EarlyStopping(monitor='val_accuracy', min_delta=0, patience=20, verbose=1, mode='auto')\n",
        "\n",
        "vgg=vggmodel.fit(train_x,train_y,batch_size = 32,epochs=200,verbose=1,validation_data=(eval_x, eval_y))\n",
        "vgg"
      ],
      "execution_count": 193,
      "outputs": [
        {
          "output_type": "stream",
          "text": [
            "Epoch 1/200\n",
            "WARNING:tensorflow:Model was constructed with shape (None, 256, 256, 3) for input Tensor(\"conv2d_88_input:0\", shape=(None, 256, 256, 3), dtype=float32), but it was called on an input with incompatible shape (None, 128, 128, 3).\n"
          ],
          "name": "stdout"
        },
        {
          "output_type": "error",
          "ename": "ValueError",
          "evalue": "ignored",
          "traceback": [
            "\u001b[0;31m---------------------------------------------------------------------------\u001b[0m",
            "\u001b[0;31mValueError\u001b[0m                                Traceback (most recent call last)",
            "\u001b[0;32m<ipython-input-193-bf3dd55d5b72>\u001b[0m in \u001b[0;36m<module>\u001b[0;34m()\u001b[0m\n\u001b[1;32m      3\u001b[0m \u001b[0;31m#early = EarlyStopping(monitor='val_accuracy', min_delta=0, patience=20, verbose=1, mode='auto')\u001b[0m\u001b[0;34m\u001b[0m\u001b[0;34m\u001b[0m\u001b[0;34m\u001b[0m\u001b[0m\n\u001b[1;32m      4\u001b[0m \u001b[0;34m\u001b[0m\u001b[0m\n\u001b[0;32m----> 5\u001b[0;31m \u001b[0mvgg\u001b[0m\u001b[0;34m=\u001b[0m\u001b[0mvggmodel\u001b[0m\u001b[0;34m.\u001b[0m\u001b[0mfit\u001b[0m\u001b[0;34m(\u001b[0m\u001b[0mtrain_x\u001b[0m\u001b[0;34m,\u001b[0m\u001b[0mtrain_y\u001b[0m\u001b[0;34m,\u001b[0m\u001b[0mbatch_size\u001b[0m \u001b[0;34m=\u001b[0m \u001b[0;36m32\u001b[0m\u001b[0;34m,\u001b[0m\u001b[0mepochs\u001b[0m\u001b[0;34m=\u001b[0m\u001b[0;36m200\u001b[0m\u001b[0;34m,\u001b[0m\u001b[0mverbose\u001b[0m\u001b[0;34m=\u001b[0m\u001b[0;36m1\u001b[0m\u001b[0;34m,\u001b[0m\u001b[0mvalidation_data\u001b[0m\u001b[0;34m=\u001b[0m\u001b[0;34m(\u001b[0m\u001b[0meval_x\u001b[0m\u001b[0;34m,\u001b[0m \u001b[0meval_y\u001b[0m\u001b[0;34m)\u001b[0m\u001b[0;34m)\u001b[0m\u001b[0;34m\u001b[0m\u001b[0;34m\u001b[0m\u001b[0m\n\u001b[0m\u001b[1;32m      6\u001b[0m \u001b[0mvgg\u001b[0m\u001b[0;34m\u001b[0m\u001b[0;34m\u001b[0m\u001b[0m\n",
            "\u001b[0;32m/usr/local/lib/python3.6/dist-packages/tensorflow/python/keras/engine/training.py\u001b[0m in \u001b[0;36m_method_wrapper\u001b[0;34m(self, *args, **kwargs)\u001b[0m\n\u001b[1;32m    106\u001b[0m   \u001b[0;32mdef\u001b[0m \u001b[0m_method_wrapper\u001b[0m\u001b[0;34m(\u001b[0m\u001b[0mself\u001b[0m\u001b[0;34m,\u001b[0m \u001b[0;34m*\u001b[0m\u001b[0margs\u001b[0m\u001b[0;34m,\u001b[0m \u001b[0;34m**\u001b[0m\u001b[0mkwargs\u001b[0m\u001b[0;34m)\u001b[0m\u001b[0;34m:\u001b[0m\u001b[0;34m\u001b[0m\u001b[0;34m\u001b[0m\u001b[0m\n\u001b[1;32m    107\u001b[0m     \u001b[0;32mif\u001b[0m \u001b[0;32mnot\u001b[0m \u001b[0mself\u001b[0m\u001b[0;34m.\u001b[0m\u001b[0m_in_multi_worker_mode\u001b[0m\u001b[0;34m(\u001b[0m\u001b[0;34m)\u001b[0m\u001b[0;34m:\u001b[0m  \u001b[0;31m# pylint: disable=protected-access\u001b[0m\u001b[0;34m\u001b[0m\u001b[0;34m\u001b[0m\u001b[0m\n\u001b[0;32m--> 108\u001b[0;31m       \u001b[0;32mreturn\u001b[0m \u001b[0mmethod\u001b[0m\u001b[0;34m(\u001b[0m\u001b[0mself\u001b[0m\u001b[0;34m,\u001b[0m \u001b[0;34m*\u001b[0m\u001b[0margs\u001b[0m\u001b[0;34m,\u001b[0m \u001b[0;34m**\u001b[0m\u001b[0mkwargs\u001b[0m\u001b[0;34m)\u001b[0m\u001b[0;34m\u001b[0m\u001b[0;34m\u001b[0m\u001b[0m\n\u001b[0m\u001b[1;32m    109\u001b[0m \u001b[0;34m\u001b[0m\u001b[0m\n\u001b[1;32m    110\u001b[0m     \u001b[0;31m# Running inside `run_distribute_coordinator` already.\u001b[0m\u001b[0;34m\u001b[0m\u001b[0;34m\u001b[0m\u001b[0;34m\u001b[0m\u001b[0m\n",
            "\u001b[0;32m/usr/local/lib/python3.6/dist-packages/tensorflow/python/keras/engine/training.py\u001b[0m in \u001b[0;36mfit\u001b[0;34m(self, x, y, batch_size, epochs, verbose, callbacks, validation_split, validation_data, shuffle, class_weight, sample_weight, initial_epoch, steps_per_epoch, validation_steps, validation_batch_size, validation_freq, max_queue_size, workers, use_multiprocessing)\u001b[0m\n\u001b[1;32m   1096\u001b[0m                 batch_size=batch_size):\n\u001b[1;32m   1097\u001b[0m               \u001b[0mcallbacks\u001b[0m\u001b[0;34m.\u001b[0m\u001b[0mon_train_batch_begin\u001b[0m\u001b[0;34m(\u001b[0m\u001b[0mstep\u001b[0m\u001b[0;34m)\u001b[0m\u001b[0;34m\u001b[0m\u001b[0;34m\u001b[0m\u001b[0m\n\u001b[0;32m-> 1098\u001b[0;31m               \u001b[0mtmp_logs\u001b[0m \u001b[0;34m=\u001b[0m \u001b[0mtrain_function\u001b[0m\u001b[0;34m(\u001b[0m\u001b[0miterator\u001b[0m\u001b[0;34m)\u001b[0m\u001b[0;34m\u001b[0m\u001b[0;34m\u001b[0m\u001b[0m\n\u001b[0m\u001b[1;32m   1099\u001b[0m               \u001b[0;32mif\u001b[0m \u001b[0mdata_handler\u001b[0m\u001b[0;34m.\u001b[0m\u001b[0mshould_sync\u001b[0m\u001b[0;34m:\u001b[0m\u001b[0;34m\u001b[0m\u001b[0;34m\u001b[0m\u001b[0m\n\u001b[1;32m   1100\u001b[0m                 \u001b[0mcontext\u001b[0m\u001b[0;34m.\u001b[0m\u001b[0masync_wait\u001b[0m\u001b[0;34m(\u001b[0m\u001b[0;34m)\u001b[0m\u001b[0;34m\u001b[0m\u001b[0;34m\u001b[0m\u001b[0m\n",
            "\u001b[0;32m/usr/local/lib/python3.6/dist-packages/tensorflow/python/eager/def_function.py\u001b[0m in \u001b[0;36m__call__\u001b[0;34m(self, *args, **kwds)\u001b[0m\n\u001b[1;32m    778\u001b[0m       \u001b[0;32melse\u001b[0m\u001b[0;34m:\u001b[0m\u001b[0;34m\u001b[0m\u001b[0;34m\u001b[0m\u001b[0m\n\u001b[1;32m    779\u001b[0m         \u001b[0mcompiler\u001b[0m \u001b[0;34m=\u001b[0m \u001b[0;34m\"nonXla\"\u001b[0m\u001b[0;34m\u001b[0m\u001b[0;34m\u001b[0m\u001b[0m\n\u001b[0;32m--> 780\u001b[0;31m         \u001b[0mresult\u001b[0m \u001b[0;34m=\u001b[0m \u001b[0mself\u001b[0m\u001b[0;34m.\u001b[0m\u001b[0m_call\u001b[0m\u001b[0;34m(\u001b[0m\u001b[0;34m*\u001b[0m\u001b[0margs\u001b[0m\u001b[0;34m,\u001b[0m \u001b[0;34m**\u001b[0m\u001b[0mkwds\u001b[0m\u001b[0;34m)\u001b[0m\u001b[0;34m\u001b[0m\u001b[0;34m\u001b[0m\u001b[0m\n\u001b[0m\u001b[1;32m    781\u001b[0m \u001b[0;34m\u001b[0m\u001b[0m\n\u001b[1;32m    782\u001b[0m       \u001b[0mnew_tracing_count\u001b[0m \u001b[0;34m=\u001b[0m \u001b[0mself\u001b[0m\u001b[0;34m.\u001b[0m\u001b[0m_get_tracing_count\u001b[0m\u001b[0;34m(\u001b[0m\u001b[0;34m)\u001b[0m\u001b[0;34m\u001b[0m\u001b[0;34m\u001b[0m\u001b[0m\n",
            "\u001b[0;32m/usr/local/lib/python3.6/dist-packages/tensorflow/python/eager/def_function.py\u001b[0m in \u001b[0;36m_call\u001b[0;34m(self, *args, **kwds)\u001b[0m\n\u001b[1;32m    812\u001b[0m       \u001b[0;31m# In this case we have not created variables on the first call. So we can\u001b[0m\u001b[0;34m\u001b[0m\u001b[0;34m\u001b[0m\u001b[0;34m\u001b[0m\u001b[0m\n\u001b[1;32m    813\u001b[0m       \u001b[0;31m# run the first trace but we should fail if variables are created.\u001b[0m\u001b[0;34m\u001b[0m\u001b[0;34m\u001b[0m\u001b[0;34m\u001b[0m\u001b[0m\n\u001b[0;32m--> 814\u001b[0;31m       \u001b[0mresults\u001b[0m \u001b[0;34m=\u001b[0m \u001b[0mself\u001b[0m\u001b[0;34m.\u001b[0m\u001b[0m_stateful_fn\u001b[0m\u001b[0;34m(\u001b[0m\u001b[0;34m*\u001b[0m\u001b[0margs\u001b[0m\u001b[0;34m,\u001b[0m \u001b[0;34m**\u001b[0m\u001b[0mkwds\u001b[0m\u001b[0;34m)\u001b[0m\u001b[0;34m\u001b[0m\u001b[0;34m\u001b[0m\u001b[0m\n\u001b[0m\u001b[1;32m    815\u001b[0m       \u001b[0;32mif\u001b[0m \u001b[0mself\u001b[0m\u001b[0;34m.\u001b[0m\u001b[0m_created_variables\u001b[0m\u001b[0;34m:\u001b[0m\u001b[0;34m\u001b[0m\u001b[0;34m\u001b[0m\u001b[0m\n\u001b[1;32m    816\u001b[0m         raise ValueError(\"Creating variables on a non-first call to a function\"\n",
            "\u001b[0;32m/usr/local/lib/python3.6/dist-packages/tensorflow/python/eager/function.py\u001b[0m in \u001b[0;36m__call__\u001b[0;34m(self, *args, **kwargs)\u001b[0m\n\u001b[1;32m   2826\u001b[0m     \u001b[0;34m\"\"\"Calls a graph function specialized to the inputs.\"\"\"\u001b[0m\u001b[0;34m\u001b[0m\u001b[0;34m\u001b[0m\u001b[0m\n\u001b[1;32m   2827\u001b[0m     \u001b[0;32mwith\u001b[0m \u001b[0mself\u001b[0m\u001b[0;34m.\u001b[0m\u001b[0m_lock\u001b[0m\u001b[0;34m:\u001b[0m\u001b[0;34m\u001b[0m\u001b[0;34m\u001b[0m\u001b[0m\n\u001b[0;32m-> 2828\u001b[0;31m       \u001b[0mgraph_function\u001b[0m\u001b[0;34m,\u001b[0m \u001b[0margs\u001b[0m\u001b[0;34m,\u001b[0m \u001b[0mkwargs\u001b[0m \u001b[0;34m=\u001b[0m \u001b[0mself\u001b[0m\u001b[0;34m.\u001b[0m\u001b[0m_maybe_define_function\u001b[0m\u001b[0;34m(\u001b[0m\u001b[0margs\u001b[0m\u001b[0;34m,\u001b[0m \u001b[0mkwargs\u001b[0m\u001b[0;34m)\u001b[0m\u001b[0;34m\u001b[0m\u001b[0;34m\u001b[0m\u001b[0m\n\u001b[0m\u001b[1;32m   2829\u001b[0m     \u001b[0;32mreturn\u001b[0m \u001b[0mgraph_function\u001b[0m\u001b[0;34m.\u001b[0m\u001b[0m_filtered_call\u001b[0m\u001b[0;34m(\u001b[0m\u001b[0margs\u001b[0m\u001b[0;34m,\u001b[0m \u001b[0mkwargs\u001b[0m\u001b[0;34m)\u001b[0m  \u001b[0;31m# pylint: disable=protected-access\u001b[0m\u001b[0;34m\u001b[0m\u001b[0;34m\u001b[0m\u001b[0m\n\u001b[1;32m   2830\u001b[0m \u001b[0;34m\u001b[0m\u001b[0m\n",
            "\u001b[0;32m/usr/local/lib/python3.6/dist-packages/tensorflow/python/eager/function.py\u001b[0m in \u001b[0;36m_maybe_define_function\u001b[0;34m(self, args, kwargs)\u001b[0m\n\u001b[1;32m   3208\u001b[0m           \u001b[0;32mand\u001b[0m \u001b[0mself\u001b[0m\u001b[0;34m.\u001b[0m\u001b[0minput_signature\u001b[0m \u001b[0;32mis\u001b[0m \u001b[0;32mNone\u001b[0m\u001b[0;34m\u001b[0m\u001b[0;34m\u001b[0m\u001b[0m\n\u001b[1;32m   3209\u001b[0m           and call_context_key in self._function_cache.missed):\n\u001b[0;32m-> 3210\u001b[0;31m         \u001b[0;32mreturn\u001b[0m \u001b[0mself\u001b[0m\u001b[0;34m.\u001b[0m\u001b[0m_define_function_with_shape_relaxation\u001b[0m\u001b[0;34m(\u001b[0m\u001b[0margs\u001b[0m\u001b[0;34m,\u001b[0m \u001b[0mkwargs\u001b[0m\u001b[0;34m)\u001b[0m\u001b[0;34m\u001b[0m\u001b[0;34m\u001b[0m\u001b[0m\n\u001b[0m\u001b[1;32m   3211\u001b[0m \u001b[0;34m\u001b[0m\u001b[0m\n\u001b[1;32m   3212\u001b[0m       \u001b[0mself\u001b[0m\u001b[0;34m.\u001b[0m\u001b[0m_function_cache\u001b[0m\u001b[0;34m.\u001b[0m\u001b[0mmissed\u001b[0m\u001b[0;34m.\u001b[0m\u001b[0madd\u001b[0m\u001b[0;34m(\u001b[0m\u001b[0mcall_context_key\u001b[0m\u001b[0;34m)\u001b[0m\u001b[0;34m\u001b[0m\u001b[0;34m\u001b[0m\u001b[0m\n",
            "\u001b[0;32m/usr/local/lib/python3.6/dist-packages/tensorflow/python/eager/function.py\u001b[0m in \u001b[0;36m_define_function_with_shape_relaxation\u001b[0;34m(self, args, kwargs)\u001b[0m\n\u001b[1;32m   3140\u001b[0m \u001b[0;34m\u001b[0m\u001b[0m\n\u001b[1;32m   3141\u001b[0m     graph_function = self._create_graph_function(\n\u001b[0;32m-> 3142\u001b[0;31m         args, kwargs, override_flat_arg_shapes=relaxed_arg_shapes)\n\u001b[0m\u001b[1;32m   3143\u001b[0m     \u001b[0mself\u001b[0m\u001b[0;34m.\u001b[0m\u001b[0m_function_cache\u001b[0m\u001b[0;34m.\u001b[0m\u001b[0marg_relaxed\u001b[0m\u001b[0;34m[\u001b[0m\u001b[0mrank_only_cache_key\u001b[0m\u001b[0;34m]\u001b[0m \u001b[0;34m=\u001b[0m \u001b[0mgraph_function\u001b[0m\u001b[0;34m\u001b[0m\u001b[0;34m\u001b[0m\u001b[0m\n\u001b[1;32m   3144\u001b[0m \u001b[0;34m\u001b[0m\u001b[0m\n",
            "\u001b[0;32m/usr/local/lib/python3.6/dist-packages/tensorflow/python/eager/function.py\u001b[0m in \u001b[0;36m_create_graph_function\u001b[0;34m(self, args, kwargs, override_flat_arg_shapes)\u001b[0m\n\u001b[1;32m   3073\u001b[0m             \u001b[0marg_names\u001b[0m\u001b[0;34m=\u001b[0m\u001b[0marg_names\u001b[0m\u001b[0;34m,\u001b[0m\u001b[0;34m\u001b[0m\u001b[0;34m\u001b[0m\u001b[0m\n\u001b[1;32m   3074\u001b[0m             \u001b[0moverride_flat_arg_shapes\u001b[0m\u001b[0;34m=\u001b[0m\u001b[0moverride_flat_arg_shapes\u001b[0m\u001b[0;34m,\u001b[0m\u001b[0;34m\u001b[0m\u001b[0;34m\u001b[0m\u001b[0m\n\u001b[0;32m-> 3075\u001b[0;31m             capture_by_value=self._capture_by_value),\n\u001b[0m\u001b[1;32m   3076\u001b[0m         \u001b[0mself\u001b[0m\u001b[0;34m.\u001b[0m\u001b[0m_function_attributes\u001b[0m\u001b[0;34m,\u001b[0m\u001b[0;34m\u001b[0m\u001b[0;34m\u001b[0m\u001b[0m\n\u001b[1;32m   3077\u001b[0m         \u001b[0mfunction_spec\u001b[0m\u001b[0;34m=\u001b[0m\u001b[0mself\u001b[0m\u001b[0;34m.\u001b[0m\u001b[0mfunction_spec\u001b[0m\u001b[0;34m,\u001b[0m\u001b[0;34m\u001b[0m\u001b[0;34m\u001b[0m\u001b[0m\n",
            "\u001b[0;32m/usr/local/lib/python3.6/dist-packages/tensorflow/python/framework/func_graph.py\u001b[0m in \u001b[0;36mfunc_graph_from_py_func\u001b[0;34m(name, python_func, args, kwargs, signature, func_graph, autograph, autograph_options, add_control_dependencies, arg_names, op_return_value, collections, capture_by_value, override_flat_arg_shapes)\u001b[0m\n\u001b[1;32m    984\u001b[0m         \u001b[0m_\u001b[0m\u001b[0;34m,\u001b[0m \u001b[0moriginal_func\u001b[0m \u001b[0;34m=\u001b[0m \u001b[0mtf_decorator\u001b[0m\u001b[0;34m.\u001b[0m\u001b[0munwrap\u001b[0m\u001b[0;34m(\u001b[0m\u001b[0mpython_func\u001b[0m\u001b[0;34m)\u001b[0m\u001b[0;34m\u001b[0m\u001b[0;34m\u001b[0m\u001b[0m\n\u001b[1;32m    985\u001b[0m \u001b[0;34m\u001b[0m\u001b[0m\n\u001b[0;32m--> 986\u001b[0;31m       \u001b[0mfunc_outputs\u001b[0m \u001b[0;34m=\u001b[0m \u001b[0mpython_func\u001b[0m\u001b[0;34m(\u001b[0m\u001b[0;34m*\u001b[0m\u001b[0mfunc_args\u001b[0m\u001b[0;34m,\u001b[0m \u001b[0;34m**\u001b[0m\u001b[0mfunc_kwargs\u001b[0m\u001b[0;34m)\u001b[0m\u001b[0;34m\u001b[0m\u001b[0;34m\u001b[0m\u001b[0m\n\u001b[0m\u001b[1;32m    987\u001b[0m \u001b[0;34m\u001b[0m\u001b[0m\n\u001b[1;32m    988\u001b[0m       \u001b[0;31m# invariant: `func_outputs` contains only Tensors, CompositeTensors,\u001b[0m\u001b[0;34m\u001b[0m\u001b[0;34m\u001b[0m\u001b[0;34m\u001b[0m\u001b[0m\n",
            "\u001b[0;32m/usr/local/lib/python3.6/dist-packages/tensorflow/python/eager/def_function.py\u001b[0m in \u001b[0;36mwrapped_fn\u001b[0;34m(*args, **kwds)\u001b[0m\n\u001b[1;32m    598\u001b[0m         \u001b[0;31m# __wrapped__ allows AutoGraph to swap in a converted function. We give\u001b[0m\u001b[0;34m\u001b[0m\u001b[0;34m\u001b[0m\u001b[0;34m\u001b[0m\u001b[0m\n\u001b[1;32m    599\u001b[0m         \u001b[0;31m# the function a weak reference to itself to avoid a reference cycle.\u001b[0m\u001b[0;34m\u001b[0m\u001b[0;34m\u001b[0m\u001b[0;34m\u001b[0m\u001b[0m\n\u001b[0;32m--> 600\u001b[0;31m         \u001b[0;32mreturn\u001b[0m \u001b[0mweak_wrapped_fn\u001b[0m\u001b[0;34m(\u001b[0m\u001b[0;34m)\u001b[0m\u001b[0;34m.\u001b[0m\u001b[0m__wrapped__\u001b[0m\u001b[0;34m(\u001b[0m\u001b[0;34m*\u001b[0m\u001b[0margs\u001b[0m\u001b[0;34m,\u001b[0m \u001b[0;34m**\u001b[0m\u001b[0mkwds\u001b[0m\u001b[0;34m)\u001b[0m\u001b[0;34m\u001b[0m\u001b[0;34m\u001b[0m\u001b[0m\n\u001b[0m\u001b[1;32m    601\u001b[0m     \u001b[0mweak_wrapped_fn\u001b[0m \u001b[0;34m=\u001b[0m \u001b[0mweakref\u001b[0m\u001b[0;34m.\u001b[0m\u001b[0mref\u001b[0m\u001b[0;34m(\u001b[0m\u001b[0mwrapped_fn\u001b[0m\u001b[0;34m)\u001b[0m\u001b[0;34m\u001b[0m\u001b[0;34m\u001b[0m\u001b[0m\n\u001b[1;32m    602\u001b[0m \u001b[0;34m\u001b[0m\u001b[0m\n",
            "\u001b[0;32m/usr/local/lib/python3.6/dist-packages/tensorflow/python/framework/func_graph.py\u001b[0m in \u001b[0;36mwrapper\u001b[0;34m(*args, **kwargs)\u001b[0m\n\u001b[1;32m    971\u001b[0m           \u001b[0;32mexcept\u001b[0m \u001b[0mException\u001b[0m \u001b[0;32mas\u001b[0m \u001b[0me\u001b[0m\u001b[0;34m:\u001b[0m  \u001b[0;31m# pylint:disable=broad-except\u001b[0m\u001b[0;34m\u001b[0m\u001b[0;34m\u001b[0m\u001b[0m\n\u001b[1;32m    972\u001b[0m             \u001b[0;32mif\u001b[0m \u001b[0mhasattr\u001b[0m\u001b[0;34m(\u001b[0m\u001b[0me\u001b[0m\u001b[0;34m,\u001b[0m \u001b[0;34m\"ag_error_metadata\"\u001b[0m\u001b[0;34m)\u001b[0m\u001b[0;34m:\u001b[0m\u001b[0;34m\u001b[0m\u001b[0;34m\u001b[0m\u001b[0m\n\u001b[0;32m--> 973\u001b[0;31m               \u001b[0;32mraise\u001b[0m \u001b[0me\u001b[0m\u001b[0;34m.\u001b[0m\u001b[0mag_error_metadata\u001b[0m\u001b[0;34m.\u001b[0m\u001b[0mto_exception\u001b[0m\u001b[0;34m(\u001b[0m\u001b[0me\u001b[0m\u001b[0;34m)\u001b[0m\u001b[0;34m\u001b[0m\u001b[0;34m\u001b[0m\u001b[0m\n\u001b[0m\u001b[1;32m    974\u001b[0m             \u001b[0;32melse\u001b[0m\u001b[0;34m:\u001b[0m\u001b[0;34m\u001b[0m\u001b[0;34m\u001b[0m\u001b[0m\n\u001b[1;32m    975\u001b[0m               \u001b[0;32mraise\u001b[0m\u001b[0;34m\u001b[0m\u001b[0;34m\u001b[0m\u001b[0m\n",
            "\u001b[0;31mValueError\u001b[0m: in user code:\n\n    /usr/local/lib/python3.6/dist-packages/tensorflow/python/keras/engine/training.py:806 train_function  *\n        return step_function(self, iterator)\n    /usr/local/lib/python3.6/dist-packages/tensorflow/python/keras/engine/training.py:796 step_function  **\n        outputs = model.distribute_strategy.run(run_step, args=(data,))\n    /usr/local/lib/python3.6/dist-packages/tensorflow/python/distribute/distribute_lib.py:1211 run\n        return self._extended.call_for_each_replica(fn, args=args, kwargs=kwargs)\n    /usr/local/lib/python3.6/dist-packages/tensorflow/python/distribute/distribute_lib.py:2585 call_for_each_replica\n        return self._call_for_each_replica(fn, args, kwargs)\n    /usr/local/lib/python3.6/dist-packages/tensorflow/python/distribute/distribute_lib.py:2945 _call_for_each_replica\n        return fn(*args, **kwargs)\n    /usr/local/lib/python3.6/dist-packages/tensorflow/python/keras/engine/training.py:789 run_step  **\n        outputs = model.train_step(data)\n    /usr/local/lib/python3.6/dist-packages/tensorflow/python/keras/engine/training.py:747 train_step\n        y_pred = self(x, training=True)\n    /usr/local/lib/python3.6/dist-packages/tensorflow/python/keras/engine/base_layer.py:985 __call__\n        outputs = call_fn(inputs, *args, **kwargs)\n    /usr/local/lib/python3.6/dist-packages/tensorflow/python/keras/engine/sequential.py:372 call\n        return super(Sequential, self).call(inputs, training=training, mask=mask)\n    /usr/local/lib/python3.6/dist-packages/tensorflow/python/keras/engine/functional.py:386 call\n        inputs, training=training, mask=mask)\n    /usr/local/lib/python3.6/dist-packages/tensorflow/python/keras/engine/functional.py:508 _run_internal_graph\n        outputs = node.layer(*args, **kwargs)\n    /usr/local/lib/python3.6/dist-packages/tensorflow/python/keras/engine/base_layer.py:976 __call__\n        self.name)\n    /usr/local/lib/python3.6/dist-packages/tensorflow/python/keras/engine/input_spec.py:216 assert_input_compatibility\n        ' but received input with shape ' + str(shape))\n\n    ValueError: Input 0 of layer dense_45 is incompatible with the layer: expected axis -1 of input shape to have value 32768 but received input with shape [None, 8192]\n"
          ]
        }
      ]
    },
    {
      "cell_type": "code",
      "metadata": {
        "id": "U3VfSOlu5Fd_",
        "outputId": "c7e9742a-2213-45f0-8703-96836a75e412",
        "colab": {
          "base_uri": "https://localhost:8080/",
          "height": 50
        }
      },
      "source": [
        "#Once the model is trained we can evaluate it on Test data.\n",
        "\n",
        "# Evaluating the model \n",
        "vggscore = vggmodel.evaluate(test_x, test_y, verbose=0)\n",
        "print('Test Loss:', vggscore[0])\n",
        "print('Test accuracy:', vggscore[1])"
      ],
      "execution_count": 142,
      "outputs": [
        {
          "output_type": "stream",
          "text": [
            "Test Loss: 2.089756727218628\n",
            "Test accuracy: 0.8999999761581421\n"
          ],
          "name": "stdout"
        }
      ]
    },
    {
      "cell_type": "code",
      "metadata": {
        "id": "6xb0R3Ul5OzS",
        "outputId": "da427bc1-89f1-47de-9516-0944cdb43da6",
        "colab": {
          "base_uri": "https://localhost:8080/",
          "height": 233
        }
      },
      "source": [
        "from sklearn.metrics import classification_report,confusion_matrix\n",
        "Y_pred = vggmodel.predict(test_x)\n",
        "y_pred = np.argmax(Y_pred, axis=1)\n",
        "target_names = ['class 0(car)', 'class 1(bike)','class 2(random)']\n",
        "                                               \n",
        "print(classification_report(np.argmax(test_y,axis=1), y_pred,target_names=target_names))\n",
        "\n",
        "print(confusion_matrix(np.argmax(test_y,axis=1), y_pred))"
      ],
      "execution_count": 143,
      "outputs": [
        {
          "output_type": "stream",
          "text": [
            "                 precision    recall  f1-score   support\n",
            "\n",
            "   class 0(car)       0.67      1.00      0.80         2\n",
            "  class 1(bike)       1.00      1.00      1.00         2\n",
            "class 2(random)       1.00      0.83      0.91         6\n",
            "\n",
            "       accuracy                           0.90        10\n",
            "      macro avg       0.89      0.94      0.90        10\n",
            "   weighted avg       0.93      0.90      0.91        10\n",
            "\n",
            "[[2 0 0]\n",
            " [0 2 0]\n",
            " [1 0 5]]\n"
          ],
          "name": "stdout"
        }
      ]
    },
    {
      "cell_type": "code",
      "metadata": {
        "id": "DEu6Rpr-BrvZ",
        "outputId": "22222774-df71-4b81-ec8f-9dac557e417e",
        "colab": {
          "base_uri": "https://localhost:8080/",
          "height": 295
        }
      },
      "source": [
        "import matplotlib.pyplot as plt\n",
        "plt.plot(vgg.history[\"accuracy\"])\n",
        "plt.plot(vgg.history['val_accuracy'])\n",
        "plt.plot(vgg.history['loss'])\n",
        "plt.plot(vgg.history['val_loss'])\n",
        "plt.title(\"model accuracy\")\n",
        "plt.ylabel(\"Accuracy\")\n",
        "plt.xlabel(\"Epoch\")\n",
        "plt.legend([\"Accuracy\",\"Validation Accuracy\",\"loss\",\"Validation Loss\"])\n",
        "plt.show()"
      ],
      "execution_count": 144,
      "outputs": [
        {
          "output_type": "display_data",
          "data": {
            "image/png": "[encoded data removed]",
            "text/plain": [
              "<Figure size 432x288 with 1 Axes>"
            ]
          },
          "metadata": {
            "tags": [],
            "needs_background": "light"
          }
        }
      ]
    },
    {
      "cell_type": "code",
      "metadata": {
        "id": "0PA5jf1eNZUu"
      },
      "source": [
        "#lenet\n",
        "lenet_model = keras.models.Sequential([\n",
        "    keras.layers.Conv2D(6, kernel_size=5, strides=1,  activation='relu', input_shape=train_x[0].shape, padding='same'), #C1\n",
        "    keras.layers.AveragePooling2D(), #S2\n",
        "    keras.layers.Conv2D(16, kernel_size=5, strides=1, activation='relu', padding='same'), #C3\n",
        "    keras.layers.AveragePooling2D(), #S4\n",
        "    keras.layers.Flatten(), #Flatten\n",
        "    keras.layers.Dense(120, activation='relu'), #C5\n",
        "    keras.layers.Dense(84, activation='relu'), #F6\n",
        "    keras.layers.Dense(3, activation='softmax') #Output layer\n",
        "])"
      ],
      "execution_count": 194,
      "outputs": []
    },
    {
      "cell_type": "code",
      "metadata": {
        "id": "A09Ou3hIOEbV"
      },
      "source": [
        "from keras.optimizers import Adam\n",
        "opt = Adam(lr=0.001)\n",
        "lenet_model.compile(optimizer=opt, loss=keras.losses.categorical_crossentropy, metrics=['accuracy'])"
      ],
      "execution_count": 195,
      "outputs": []
    },
    {
      "cell_type": "code",
      "metadata": {
        "id": "VBlH2QRBOelA",
        "outputId": "e841ecb1-ea77-48c0-da5f-f6aaea45f1ba",
        "colab": {
          "base_uri": "https://localhost:8080/",
          "height": 1000
        }
      },
      "source": [
        "from keras.callbacks import ModelCheckpoint, EarlyStopping\n",
        "checkpoint = ModelCheckpoint(\"lenet_1.h5\", monitor='val_accuracy', verbose=1, save_best_only=True, save_weights_only=False, mode='auto', period=1)\n",
        "early = EarlyStopping(monitor='val_accuracy', min_delta=0, patience=20, verbose=1, mode='auto')\n",
        "\n",
        "lenet=lenet_model.fit(train_x,train_y,batch_size = 32,epochs=100,verbose=1,validation_data=(eval_x, eval_y),callbacks=[checkpoint,early])\n",
        "lenet"
      ],
      "execution_count": 196,
      "outputs": [
        {
          "output_type": "stream",
          "text": [
            "WARNING:tensorflow:`period` argument is deprecated. Please use `save_freq` to specify the frequency in number of batches seen.\n",
            "Epoch 1/100\n",
            "3/3 [==============================] - ETA: 0s - loss: 1.3111 - accuracy: 0.3500\n",
            "Epoch 00001: val_accuracy improved from -inf to 0.50000, saving model to lenet_1.h5\n",
            "3/3 [==============================] - 0s 104ms/step - loss: 1.3111 - accuracy: 0.3500 - val_loss: 0.8845 - val_accuracy: 0.5000\n",
            "Epoch 2/100\n",
            "1/3 [=========>....................] - ETA: 0s - loss: 0.9797 - accuracy: 0.5000\n",
            "Epoch 00002: val_accuracy did not improve from 0.50000\n",
            "3/3 [==============================] - 0s 11ms/step - loss: 0.9363 - accuracy: 0.5000 - val_loss: 0.8203 - val_accuracy: 0.5000\n",
            "Epoch 3/100\n",
            "1/3 [=========>....................] - ETA: 0s - loss: 0.8936 - accuracy: 0.4688\n",
            "Epoch 00003: val_accuracy did not improve from 0.50000\n",
            "3/3 [==============================] - 0s 11ms/step - loss: 0.8108 - accuracy: 0.6000 - val_loss: 0.9397 - val_accuracy: 0.5000\n",
            "Epoch 4/100\n",
            "1/3 [=========>....................] - ETA: 0s - loss: 0.7526 - accuracy: 0.5000\n",
            "Epoch 00004: val_accuracy improved from 0.50000 to 1.00000, saving model to lenet_1.h5\n",
            "3/3 [==============================] - 0s 34ms/step - loss: 0.7113 - accuracy: 0.6500 - val_loss: 0.6248 - val_accuracy: 1.0000\n",
            "Epoch 5/100\n",
            "1/3 [=========>....................] - ETA: 0s - loss: 0.5048 - accuracy: 1.0000\n",
            "Epoch 00005: val_accuracy did not improve from 1.00000\n",
            "3/3 [==============================] - 0s 11ms/step - loss: 0.4551 - accuracy: 0.9875 - val_loss: 0.3073 - val_accuracy: 1.0000\n",
            "Epoch 6/100\n",
            "1/3 [=========>....................] - ETA: 0s - loss: 0.3963 - accuracy: 0.8438\n",
            "Epoch 00006: val_accuracy did not improve from 1.00000\n",
            "3/3 [==============================] - 0s 11ms/step - loss: 0.2727 - accuracy: 0.9250 - val_loss: 0.0967 - val_accuracy: 1.0000\n",
            "Epoch 7/100\n",
            "1/3 [=========>....................] - ETA: 0s - loss: 0.1219 - accuracy: 1.0000\n",
            "Epoch 00007: val_accuracy did not improve from 1.00000\n",
            "3/3 [==============================] - 0s 12ms/step - loss: 0.1143 - accuracy: 0.9875 - val_loss: 0.0786 - val_accuracy: 1.0000\n",
            "Epoch 8/100\n",
            "1/3 [=========>....................] - ETA: 0s - loss: 0.0680 - accuracy: 1.0000\n",
            "Epoch 00008: val_accuracy did not improve from 1.00000\n",
            "3/3 [==============================] - 0s 11ms/step - loss: 0.0714 - accuracy: 0.9875 - val_loss: 0.1723 - val_accuracy: 0.9000\n",
            "Epoch 9/100\n",
            "1/3 [=========>....................] - ETA: 0s - loss: 0.0513 - accuracy: 1.0000\n",
            "Epoch 00009: val_accuracy did not improve from 1.00000\n",
            "3/3 [==============================] - 0s 11ms/step - loss: 0.0616 - accuracy: 0.9875 - val_loss: 0.0141 - val_accuracy: 1.0000\n",
            "Epoch 10/100\n",
            "1/3 [=========>....................] - ETA: 0s - loss: 0.0906 - accuracy: 0.9375\n",
            "Epoch 00010: val_accuracy did not improve from 1.00000\n",
            "3/3 [==============================] - 0s 11ms/step - loss: 0.0428 - accuracy: 0.9750 - val_loss: 0.0376 - val_accuracy: 1.0000\n",
            "Epoch 11/100\n",
            "1/3 [=========>....................] - ETA: 0s - loss: 0.0208 - accuracy: 1.0000\n",
            "Epoch 00011: val_accuracy did not improve from 1.00000\n",
            "3/3 [==============================] - 0s 11ms/step - loss: 0.0157 - accuracy: 1.0000 - val_loss: 0.0012 - val_accuracy: 1.0000\n",
            "Epoch 12/100\n",
            "1/3 [=========>....................] - ETA: 0s - loss: 0.0071 - accuracy: 1.0000\n",
            "Epoch 00012: val_accuracy did not improve from 1.00000\n",
            "3/3 [==============================] - 0s 11ms/step - loss: 0.0126 - accuracy: 1.0000 - val_loss: 0.0027 - val_accuracy: 1.0000\n",
            "Epoch 13/100\n",
            "1/3 [=========>....................] - ETA: 0s - loss: 0.0035 - accuracy: 1.0000\n",
            "Epoch 00013: val_accuracy did not improve from 1.00000\n",
            "3/3 [==============================] - 0s 11ms/step - loss: 0.0065 - accuracy: 1.0000 - val_loss: 0.0318 - val_accuracy: 1.0000\n",
            "Epoch 14/100\n",
            "1/3 [=========>....................] - ETA: 0s - loss: 0.0180 - accuracy: 1.0000\n",
            "Epoch 00014: val_accuracy did not improve from 1.00000\n",
            "3/3 [==============================] - 0s 11ms/step - loss: 0.0086 - accuracy: 1.0000 - val_loss: 0.0013 - val_accuracy: 1.0000\n",
            "Epoch 15/100\n",
            "1/3 [=========>....................] - ETA: 0s - loss: 0.0011 - accuracy: 1.0000\n",
            "Epoch 00015: val_accuracy did not improve from 1.00000\n",
            "3/3 [==============================] - 0s 11ms/step - loss: 0.0043 - accuracy: 1.0000 - val_loss: 4.4867e-04 - val_accuracy: 1.0000\n",
            "Epoch 16/100\n",
            "1/3 [=========>....................] - ETA: 0s - loss: 6.2729e-04 - accuracy: 1.0000\n",
            "Epoch 00016: val_accuracy did not improve from 1.00000\n",
            "3/3 [==============================] - 0s 11ms/step - loss: 0.0011 - accuracy: 1.0000 - val_loss: 8.4071e-04 - val_accuracy: 1.0000\n",
            "Epoch 17/100\n",
            "1/3 [=========>....................] - ETA: 0s - loss: 7.2863e-04 - accuracy: 1.0000\n",
            "Epoch 00017: val_accuracy did not improve from 1.00000\n",
            "3/3 [==============================] - 0s 11ms/step - loss: 5.5766e-04 - accuracy: 1.0000 - val_loss: 0.0043 - val_accuracy: 1.0000\n",
            "Epoch 18/100\n",
            "1/3 [=========>....................] - ETA: 0s - loss: 8.0877e-04 - accuracy: 1.0000\n",
            "Epoch 00018: val_accuracy did not improve from 1.00000\n",
            "3/3 [==============================] - 0s 13ms/step - loss: 0.0011 - accuracy: 1.0000 - val_loss: 0.0073 - val_accuracy: 1.0000\n",
            "Epoch 19/100\n",
            "1/3 [=========>....................] - ETA: 0s - loss: 0.0012 - accuracy: 1.0000\n",
            "Epoch 00019: val_accuracy did not improve from 1.00000\n",
            "3/3 [==============================] - 0s 11ms/step - loss: 0.0011 - accuracy: 1.0000 - val_loss: 0.0037 - val_accuracy: 1.0000\n",
            "Epoch 20/100\n",
            "1/3 [=========>....................] - ETA: 0s - loss: 3.5326e-04 - accuracy: 1.0000\n",
            "Epoch 00020: val_accuracy did not improve from 1.00000\n",
            "3/3 [==============================] - 0s 12ms/step - loss: 4.3780e-04 - accuracy: 1.0000 - val_loss: 8.1428e-04 - val_accuracy: 1.0000\n",
            "Epoch 21/100\n",
            "1/3 [=========>....................] - ETA: 0s - loss: 1.5441e-04 - accuracy: 1.0000\n",
            "Epoch 00021: val_accuracy did not improve from 1.00000\n",
            "3/3 [==============================] - 0s 11ms/step - loss: 3.6756e-04 - accuracy: 1.0000 - val_loss: 3.2885e-04 - val_accuracy: 1.0000\n",
            "Epoch 22/100\n",
            "1/3 [=========>....................] - ETA: 0s - loss: 7.2671e-04 - accuracy: 1.0000\n",
            "Epoch 00022: val_accuracy did not improve from 1.00000\n",
            "3/3 [==============================] - 0s 11ms/step - loss: 4.6135e-04 - accuracy: 1.0000 - val_loss: 2.4946e-04 - val_accuracy: 1.0000\n",
            "Epoch 23/100\n",
            "1/3 [=========>....................] - ETA: 0s - loss: 5.4252e-04 - accuracy: 1.0000\n",
            "Epoch 00023: val_accuracy did not improve from 1.00000\n",
            "3/3 [==============================] - 0s 11ms/step - loss: 5.2347e-04 - accuracy: 1.0000 - val_loss: 2.4324e-04 - val_accuracy: 1.0000\n",
            "Epoch 24/100\n",
            "1/3 [=========>....................] - ETA: 0s - loss: 2.6549e-04 - accuracy: 1.0000\n",
            "Epoch 00024: val_accuracy did not improve from 1.00000\n",
            "3/3 [==============================] - 0s 12ms/step - loss: 4.4818e-04 - accuracy: 1.0000 - val_loss: 2.6646e-04 - val_accuracy: 1.0000\n",
            "Epoch 00024: early stopping\n"
          ],
          "name": "stdout"
        },
        {
          "output_type": "execute_result",
          "data": {
            "text/plain": [
              "<tensorflow.python.keras.callbacks.History at 0x7f4e200e9c88>"
            ]
          },
          "metadata": {
            "tags": []
          },
          "execution_count": 196
        }
      ]
    },
    {
      "cell_type": "code",
      "metadata": {
        "id": "yd4Rz9K4O4_i",
        "outputId": "df8025f6-6275-4bd3-b530-271d08a39159",
        "colab": {
          "base_uri": "https://localhost:8080/",
          "height": 50
        }
      },
      "source": [
        "#Once the model is trained we can evaluate it on Test data.\n",
        "\n",
        "# Evaluating the model \n",
        "lenetscore = lenet_model.evaluate(test_x, test_y, verbose=0)\n",
        "print('Test Loss:', lenetscore[0])\n",
        "print('Test accuracy:', lenetscore[1])"
      ],
      "execution_count": 197,
      "outputs": [
        {
          "output_type": "stream",
          "text": [
            "Test Loss: 0.08363452553749084\n",
            "Test accuracy: 1.0\n"
          ],
          "name": "stdout"
        }
      ]
    },
    {
      "cell_type": "code",
      "metadata": {
        "id": "b4ymiRWGO-kY",
        "outputId": "9de6d6ea-a865-4a68-c078-45304f912eab",
        "colab": {
          "base_uri": "https://localhost:8080/",
          "height": 233
        }
      },
      "source": [
        "from sklearn.metrics import classification_report,confusion_matrix\n",
        "lenet_pred = classifier.predict(test_x)\n",
        "y_pred = np.argmax(lenet_pred, axis=1)\n",
        "target_names = ['class 0(car)', 'class 1(bike)','class 2(random)']\n",
        "                                               \n",
        "print(classification_report(np.argmax(test_y,axis=1), y_pred,target_names=target_names))\n",
        "\n",
        "print(confusion_matrix(np.argmax(test_y,axis=1), y_pred))"
      ],
      "execution_count": 198,
      "outputs": [
        {
          "output_type": "stream",
          "text": [
            "                 precision    recall  f1-score   support\n",
            "\n",
            "   class 0(car)       1.00      0.50      0.67         2\n",
            "  class 1(bike)       1.00      1.00      1.00         3\n",
            "class 2(random)       0.83      1.00      0.91         5\n",
            "\n",
            "       accuracy                           0.90        10\n",
            "      macro avg       0.94      0.83      0.86        10\n",
            "   weighted avg       0.92      0.90      0.89        10\n",
            "\n",
            "[[1 0 1]\n",
            " [0 3 0]\n",
            " [0 0 5]]\n"
          ],
          "name": "stdout"
        }
      ]
    },
    {
      "cell_type": "code",
      "metadata": {
        "id": "CiWvGyjTQKSz",
        "outputId": "e6beac88-1790-4b59-acad-9767c42f9474",
        "colab": {
          "base_uri": "https://localhost:8080/",
          "height": 295
        }
      },
      "source": [
        "import matplotlib.pyplot as plt\n",
        "plt.plot(lenet.history[\"accuracy\"])\n",
        "plt.plot(lenet.history['val_accuracy'])\n",
        "plt.plot(lenet.history['loss'])\n",
        "plt.plot(lenet.history['val_loss'])\n",
        "plt.title(\"model accuracy\")\n",
        "plt.ylabel(\"Loss/Accuracy\")\n",
        "plt.xlabel(\"Epoch\")\n",
        "plt.legend([\"Accuracy\",\"Validation Accuracy\",\"loss\",\"Validation Loss\"])\n",
        "plt.show()"
      ],
      "execution_count": 200,
      "outputs": [
        {
          "output_type": "display_data",
          "data": {
            "image/png": "[encoded data removed]",
            "text/plain": [
              "<Figure size 432x288 with 1 Axes>"
            ]
          },
          "metadata": {
            "tags": [],
            "needs_background": "light"
          }
        }
      ]
    }
  ]
}